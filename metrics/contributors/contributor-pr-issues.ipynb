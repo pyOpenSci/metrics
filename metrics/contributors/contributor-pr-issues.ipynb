{
 "cells": [
  {
   "cell_type": "markdown",
   "metadata": {
    "editable": true,
    "slideshow": {
     "slide_type": ""
    },
    "tags": []
   },
   "source": [
    "---\n",
    "title: pyOpenSci Contributor Metrics\n",
    "subtitle: Counts of issue and pull request activity on GitHub\n",
    "license:\n",
    "  code: BSD-3-Clause\n",
    "---"
   ]
  },
  {
   "cell_type": "code",
   "execution_count": 1,
   "metadata": {
    "editable": true,
    "slideshow": {
     "slide_type": ""
    },
    "tags": [
     "remove-input"
    ]
   },
   "outputs": [
    {
     "data": {
      "text/html": [
       "<link href=\"https://fonts.googleapis.com/css2?family=Poppins:wght@400;700&display=swap\" rel=\"stylesheet\">"
      ],
      "text/plain": [
       "<IPython.core.display.HTML object>"
      ]
     },
     "metadata": {},
     "output_type": "display_data"
    }
   ],
   "source": [
    "import warnings\n",
    "from pathlib import Path\n",
    "\n",
    "import altair as alt\n",
    "import pandas as pd\n",
    "\n",
    "# This is a local module that stores the plot theme\n",
    "from pyosmetrics.plot_theme import load_poppins_font, register_and_enable_poppins_theme\n",
    "\n",
    "pd.options.mode.chained_assignment = None\n",
    "pd.options.future.infer_string = True\n",
    "\n",
    "# Suppress all warnings\n",
    "warnings.filterwarnings(\"ignore\")\n",
    "\n",
    "# Load the & register Poppins theme\n",
    "load_poppins_font()\n",
    "register_and_enable_poppins_theme()"
   ]
  },
  {
   "cell_type": "code",
   "execution_count": 2,
   "metadata": {
    "editable": true,
    "slideshow": {
     "slide_type": ""
    },
    "tags": [
     "remove-input"
    ]
   },
   "outputs": [],
   "source": [
    "# Get the current notebook directory\n",
    "current_dir = Path.cwd()\n",
    "parent_dir = current_dir.parent.parent\n",
    "data_dir = parent_dir / \"_data\"\n",
    "all_files = list(data_dir.glob(\"20*\"))\n",
    "dfs = [pd.read_csv(file, parse_dates=[\"item_opened_by\"]) for file in all_files]\n",
    "df = pd.concat(dfs, ignore_index=True)"
   ]
  },
  {
   "cell_type": "markdown",
   "metadata": {},
   "source": [
    "## All contributions to date \n",
    "\n",
    "The plot below shows the total contributions to pyOpenSci. To create this plot we:\n",
    "\n",
    "1. Removed any contributions from bots\n",
    "2. Stratified the data to show both staff contributions vs. non-staff contributions. \n",
    "\n",
    "### Staff vs. volunteer pull request and issue contributions\n",
    "\n",
    "Non-staff contributions grow between May and August, covering Q3 and Q4 when we travel to meetings such as SciPy and PyCon and host events. Q4 is typically slower, given the holiday season.  "
   ]
  },
  {
   "cell_type": "code",
   "execution_count": 3,
   "metadata": {
    "editable": true,
    "slideshow": {
     "slide_type": ""
    },
    "tags": [
     "remove-input"
    ]
   },
   "outputs": [],
   "source": [
    "df[\"quarter\"] = df[\"item_opened_by\"].dt.to_period(\"Q\")\n",
    "\n",
    "# Group by quarter and contrib_type (staff vs non-staff)\n",
    "df_quarters = df.groupby([\"quarter\", \"contrib_type\"]).size().reset_index(name=\"count\")\n",
    "df_quarters[\"quarter\"] = df_quarters[\"quarter\"].astype(str)\n",
    "\n",
    "# Create a new column for filtered labels\n",
    "df_quarters[\"quarter_label\"] = df_quarters[\"quarter\"]\n",
    "df_quarters[\"year\"] = df_quarters[\"quarter\"].str[:4]\n",
    "df_quarters[\"qtr\"] = df_quarters[\"quarter\"].str[-2:]\n",
    "df_quarters.reset_index(inplace=True)\n",
    "\n",
    "# Function to insert newline before the \"Q\" character\n",
    "def insert_newline(s):\n",
    "    return s.replace('Q', ' Q')\n",
    "\n",
    "# Apply the function to the 'quarter' column\n",
    "df_quarters['quarter_label'] = df_quarters['quarter_label'].apply(insert_newline)\n",
    "\n"
   ]
  },
  {
   "cell_type": "code",
   "execution_count": 4,
   "metadata": {
    "editable": true,
    "scrolled": true,
    "slideshow": {
     "slide_type": ""
    },
    "tags": [
     "remove-input"
    ]
   },
   "outputs": [
    {
     "data": {
      "text/html": [
       "\n",
       "<style>\n",
       "  #altair-viz-2306fc3ffd1041e68171b1c8556b0544.vega-embed {\n",
       "    width: 100%;\n",
       "    display: flex;\n",
       "  }\n",
       "\n",
       "  #altair-viz-2306fc3ffd1041e68171b1c8556b0544.vega-embed details,\n",
       "  #altair-viz-2306fc3ffd1041e68171b1c8556b0544.vega-embed details summary {\n",
       "    position: relative;\n",
       "  }\n",
       "</style>\n",
       "<div id=\"altair-viz-2306fc3ffd1041e68171b1c8556b0544\"></div>\n",
       "<script type=\"text/javascript\">\n",
       "  var VEGA_DEBUG = (typeof VEGA_DEBUG == \"undefined\") ? {} : VEGA_DEBUG;\n",
       "  (function(spec, embedOpt){\n",
       "    let outputDiv = document.currentScript.previousElementSibling;\n",
       "    if (outputDiv.id !== \"altair-viz-2306fc3ffd1041e68171b1c8556b0544\") {\n",
       "      outputDiv = document.getElementById(\"altair-viz-2306fc3ffd1041e68171b1c8556b0544\");\n",
       "    }\n",
       "    const paths = {\n",
       "      \"vega\": \"https://cdn.jsdelivr.net/npm/vega@5?noext\",\n",
       "      \"vega-lib\": \"https://cdn.jsdelivr.net/npm/vega-lib?noext\",\n",
       "      \"vega-lite\": \"https://cdn.jsdelivr.net/npm/vega-lite@5.17.0?noext\",\n",
       "      \"vega-embed\": \"https://cdn.jsdelivr.net/npm/vega-embed@6?noext\",\n",
       "    };\n",
       "\n",
       "    function maybeLoadScript(lib, version) {\n",
       "      var key = `${lib.replace(\"-\", \"\")}_version`;\n",
       "      return (VEGA_DEBUG[key] == version) ?\n",
       "        Promise.resolve(paths[lib]) :\n",
       "        new Promise(function(resolve, reject) {\n",
       "          var s = document.createElement('script');\n",
       "          document.getElementsByTagName(\"head\")[0].appendChild(s);\n",
       "          s.async = true;\n",
       "          s.onload = () => {\n",
       "            VEGA_DEBUG[key] = version;\n",
       "            return resolve(paths[lib]);\n",
       "          };\n",
       "          s.onerror = () => reject(`Error loading script: ${paths[lib]}`);\n",
       "          s.src = paths[lib];\n",
       "        });\n",
       "    }\n",
       "\n",
       "    function showError(err) {\n",
       "      outputDiv.innerHTML = `<div class=\"error\" style=\"color:red;\">${err}</div>`;\n",
       "      throw err;\n",
       "    }\n",
       "\n",
       "    function displayChart(vegaEmbed) {\n",
       "      vegaEmbed(outputDiv, spec, embedOpt)\n",
       "        .catch(err => showError(`Javascript Error: ${err.message}<br>This usually means there's a typo in your chart specification. See the javascript console for the full traceback.`));\n",
       "    }\n",
       "\n",
       "    if(typeof define === \"function\" && define.amd) {\n",
       "      requirejs.config({paths});\n",
       "      require([\"vega-embed\"], displayChart, err => showError(`Error loading script: ${err.message}`));\n",
       "    } else {\n",
       "      maybeLoadScript(\"vega\", \"5\")\n",
       "        .then(() => maybeLoadScript(\"vega-lite\", \"5.17.0\"))\n",
       "        .then(() => maybeLoadScript(\"vega-embed\", \"6\"))\n",
       "        .catch(showError)\n",
       "        .then(() => displayChart(vegaEmbed));\n",
       "    }\n",
       "  })({\"config\": {\"title\": {\"fontSize\": 20, \"font\": \"Poppins\", \"anchor\": \"middle\", \"color\": \"black\", \"fontWeight\": 400, \"dy\": -20, \"dx\": 10}, \"axis\": {\"labelFontSize\": 14, \"titleFontSize\": 14, \"titleFont\": \"Poppins\", \"labelFont\": \"Poppins\"}, \"axisX\": {\"labelAngle\": 0}, \"legend\": {\"labelFontSize\": 12, \"titleFontSize\": 14, \"titleFont\": \"Poppins\", \"labelFont\": \"Poppins\", \"direction\": \"horizontal\", \"orient\": \"top\", \"padding\": 10, \"titleAnchor\": \"middle\"}, \"bar\": {\"color\": \"purple\", \"fill\": \"purple\"}, \"line\": {\"color\": \"purple\"}, \"view\": {\"height\": 300, \"width\": 600, \"padding\": {\"top\": 190, \"left\": 10, \"right\": 10, \"bottom\": 90}}}, \"data\": {\"name\": \"data-01b6b5af7dd884ec5dd8ce0859bab229\"}, \"mark\": {\"type\": \"bar\"}, \"encoding\": {\"color\": {\"field\": \"contrib_type\", \"scale\": {\"range\": [\"#81c0aa\", \"#735fab\"]}, \"title\": \"Contributor Type\", \"type\": \"nominal\"}, \"tooltip\": [{\"field\": \"quarter_label\", \"type\": \"nominal\"}, {\"field\": \"contrib_type\", \"type\": \"nominal\"}, {\"field\": \"count\", \"type\": \"quantitative\"}], \"x\": {\"axis\": {\"labelAngle\": 45}, \"field\": \"quarter_label\", \"title\": \"Quarter\", \"type\": \"ordinal\"}, \"y\": {\"field\": \"count\", \"stack\": true, \"type\": \"quantitative\"}}, \"params\": [{\"name\": \"param_1\", \"select\": {\"type\": \"interval\", \"encodings\": [\"x\", \"y\"]}, \"bind\": \"scales\"}], \"title\": \"Staff vs. Volunteer Contributor by Quarter\", \"$schema\": \"https://vega.github.io/schema/vega-lite/v5.17.0.json\", \"datasets\": {\"data-01b6b5af7dd884ec5dd8ce0859bab229\": [{\"index\": 0, \"quarter\": \"2018Q4\", \"contrib_type\": \"staff\", \"count\": 2, \"quarter_label\": \"2018 Q4\", \"year\": \"2018\", \"qtr\": \"Q4\"}, {\"index\": 1, \"quarter\": \"2019Q1\", \"contrib_type\": \"contributor\", \"count\": 54, \"quarter_label\": \"2019 Q1\", \"year\": \"2019\", \"qtr\": \"Q1\"}, {\"index\": 2, \"quarter\": \"2019Q1\", \"contrib_type\": \"staff\", \"count\": 1, \"quarter_label\": \"2019 Q1\", \"year\": \"2019\", \"qtr\": \"Q1\"}, {\"index\": 3, \"quarter\": \"2019Q2\", \"contrib_type\": \"contributor\", \"count\": 61, \"quarter_label\": \"2019 Q2\", \"year\": \"2019\", \"qtr\": \"Q2\"}, {\"index\": 4, \"quarter\": \"2019Q2\", \"contrib_type\": \"staff\", \"count\": 43, \"quarter_label\": \"2019 Q2\", \"year\": \"2019\", \"qtr\": \"Q2\"}, {\"index\": 5, \"quarter\": \"2019Q3\", \"contrib_type\": \"contributor\", \"count\": 30, \"quarter_label\": \"2019 Q3\", \"year\": \"2019\", \"qtr\": \"Q3\"}, {\"index\": 6, \"quarter\": \"2019Q3\", \"contrib_type\": \"staff\", \"count\": 12, \"quarter_label\": \"2019 Q3\", \"year\": \"2019\", \"qtr\": \"Q3\"}, {\"index\": 7, \"quarter\": \"2019Q4\", \"contrib_type\": \"contributor\", \"count\": 49, \"quarter_label\": \"2019 Q4\", \"year\": \"2019\", \"qtr\": \"Q4\"}, {\"index\": 8, \"quarter\": \"2019Q4\", \"contrib_type\": \"staff\", \"count\": 29, \"quarter_label\": \"2019 Q4\", \"year\": \"2019\", \"qtr\": \"Q4\"}, {\"index\": 9, \"quarter\": \"2020Q1\", \"contrib_type\": \"contributor\", \"count\": 25, \"quarter_label\": \"2020 Q1\", \"year\": \"2020\", \"qtr\": \"Q1\"}, {\"index\": 10, \"quarter\": \"2020Q2\", \"contrib_type\": \"contributor\", \"count\": 62, \"quarter_label\": \"2020 Q2\", \"year\": \"2020\", \"qtr\": \"Q2\"}, {\"index\": 11, \"quarter\": \"2020Q2\", \"contrib_type\": \"staff\", \"count\": 35, \"quarter_label\": \"2020 Q2\", \"year\": \"2020\", \"qtr\": \"Q2\"}, {\"index\": 12, \"quarter\": \"2020Q3\", \"contrib_type\": \"contributor\", \"count\": 7, \"quarter_label\": \"2020 Q3\", \"year\": \"2020\", \"qtr\": \"Q3\"}, {\"index\": 13, \"quarter\": \"2020Q4\", \"contrib_type\": \"contributor\", \"count\": 27, \"quarter_label\": \"2020 Q4\", \"year\": \"2020\", \"qtr\": \"Q4\"}, {\"index\": 14, \"quarter\": \"2021Q1\", \"contrib_type\": \"contributor\", \"count\": 15, \"quarter_label\": \"2021 Q1\", \"year\": \"2021\", \"qtr\": \"Q1\"}, {\"index\": 15, \"quarter\": \"2021Q2\", \"contrib_type\": \"contributor\", \"count\": 29, \"quarter_label\": \"2021 Q2\", \"year\": \"2021\", \"qtr\": \"Q2\"}, {\"index\": 16, \"quarter\": \"2021Q2\", \"contrib_type\": \"staff\", \"count\": 32, \"quarter_label\": \"2021 Q2\", \"year\": \"2021\", \"qtr\": \"Q2\"}, {\"index\": 17, \"quarter\": \"2021Q3\", \"contrib_type\": \"contributor\", \"count\": 38, \"quarter_label\": \"2021 Q3\", \"year\": \"2021\", \"qtr\": \"Q3\"}, {\"index\": 18, \"quarter\": \"2021Q3\", \"contrib_type\": \"staff\", \"count\": 5, \"quarter_label\": \"2021 Q3\", \"year\": \"2021\", \"qtr\": \"Q3\"}, {\"index\": 19, \"quarter\": \"2021Q4\", \"contrib_type\": \"contributor\", \"count\": 5, \"quarter_label\": \"2021 Q4\", \"year\": \"2021\", \"qtr\": \"Q4\"}, {\"index\": 20, \"quarter\": \"2021Q4\", \"contrib_type\": \"staff\", \"count\": 1, \"quarter_label\": \"2021 Q4\", \"year\": \"2021\", \"qtr\": \"Q4\"}, {\"index\": 21, \"quarter\": \"2022Q1\", \"contrib_type\": \"contributor\", \"count\": 17, \"quarter_label\": \"2022 Q1\", \"year\": \"2022\", \"qtr\": \"Q1\"}, {\"index\": 22, \"quarter\": \"2022Q2\", \"contrib_type\": \"contributor\", \"count\": 4, \"quarter_label\": \"2022 Q2\", \"year\": \"2022\", \"qtr\": \"Q2\"}, {\"index\": 23, \"quarter\": \"2022Q2\", \"contrib_type\": \"staff\", \"count\": 4, \"quarter_label\": \"2022 Q2\", \"year\": \"2022\", \"qtr\": \"Q2\"}, {\"index\": 24, \"quarter\": \"2022Q3\", \"contrib_type\": \"contributor\", \"count\": 30, \"quarter_label\": \"2022 Q3\", \"year\": \"2022\", \"qtr\": \"Q3\"}, {\"index\": 25, \"quarter\": \"2022Q3\", \"contrib_type\": \"staff\", \"count\": 106, \"quarter_label\": \"2022 Q3\", \"year\": \"2022\", \"qtr\": \"Q3\"}, {\"index\": 26, \"quarter\": \"2022Q4\", \"contrib_type\": \"contributor\", \"count\": 59, \"quarter_label\": \"2022 Q4\", \"year\": \"2022\", \"qtr\": \"Q4\"}, {\"index\": 27, \"quarter\": \"2022Q4\", \"contrib_type\": \"staff\", \"count\": 249, \"quarter_label\": \"2022 Q4\", \"year\": \"2022\", \"qtr\": \"Q4\"}, {\"index\": 28, \"quarter\": \"2023Q1\", \"contrib_type\": \"contributor\", \"count\": 113, \"quarter_label\": \"2023 Q1\", \"year\": \"2023\", \"qtr\": \"Q1\"}, {\"index\": 29, \"quarter\": \"2023Q1\", \"contrib_type\": \"staff\", \"count\": 213, \"quarter_label\": \"2023 Q1\", \"year\": \"2023\", \"qtr\": \"Q1\"}, {\"index\": 30, \"quarter\": \"2023Q2\", \"contrib_type\": \"contributor\", \"count\": 152, \"quarter_label\": \"2023 Q2\", \"year\": \"2023\", \"qtr\": \"Q2\"}, {\"index\": 31, \"quarter\": \"2023Q2\", \"contrib_type\": \"staff\", \"count\": 219, \"quarter_label\": \"2023 Q2\", \"year\": \"2023\", \"qtr\": \"Q2\"}, {\"index\": 32, \"quarter\": \"2023Q3\", \"contrib_type\": \"contributor\", \"count\": 243, \"quarter_label\": \"2023 Q3\", \"year\": \"2023\", \"qtr\": \"Q3\"}, {\"index\": 33, \"quarter\": \"2023Q3\", \"contrib_type\": \"staff\", \"count\": 197, \"quarter_label\": \"2023 Q3\", \"year\": \"2023\", \"qtr\": \"Q3\"}, {\"index\": 34, \"quarter\": \"2023Q4\", \"contrib_type\": \"contributor\", \"count\": 113, \"quarter_label\": \"2023 Q4\", \"year\": \"2023\", \"qtr\": \"Q4\"}, {\"index\": 35, \"quarter\": \"2023Q4\", \"contrib_type\": \"staff\", \"count\": 214, \"quarter_label\": \"2023 Q4\", \"year\": \"2023\", \"qtr\": \"Q4\"}, {\"index\": 36, \"quarter\": \"2024Q1\", \"contrib_type\": \"contributor\", \"count\": 145, \"quarter_label\": \"2024 Q1\", \"year\": \"2024\", \"qtr\": \"Q1\"}, {\"index\": 37, \"quarter\": \"2024Q1\", \"contrib_type\": \"staff\", \"count\": 333, \"quarter_label\": \"2024 Q1\", \"year\": \"2024\", \"qtr\": \"Q1\"}, {\"index\": 38, \"quarter\": \"2024Q2\", \"contrib_type\": \"contributor\", \"count\": 274, \"quarter_label\": \"2024 Q2\", \"year\": \"2024\", \"qtr\": \"Q2\"}, {\"index\": 39, \"quarter\": \"2024Q2\", \"contrib_type\": \"staff\", \"count\": 290, \"quarter_label\": \"2024 Q2\", \"year\": \"2024\", \"qtr\": \"Q2\"}, {\"index\": 40, \"quarter\": \"2024Q3\", \"contrib_type\": \"contributor\", \"count\": 397, \"quarter_label\": \"2024 Q3\", \"year\": \"2024\", \"qtr\": \"Q3\"}, {\"index\": 41, \"quarter\": \"2024Q3\", \"contrib_type\": \"staff\", \"count\": 307, \"quarter_label\": \"2024 Q3\", \"year\": \"2024\", \"qtr\": \"Q3\"}, {\"index\": 42, \"quarter\": \"2024Q4\", \"contrib_type\": \"contributor\", \"count\": 164, \"quarter_label\": \"2024 Q4\", \"year\": \"2024\", \"qtr\": \"Q4\"}, {\"index\": 43, \"quarter\": \"2024Q4\", \"contrib_type\": \"staff\", \"count\": 162, \"quarter_label\": \"2024 Q4\", \"year\": \"2024\", \"qtr\": \"Q4\"}, {\"index\": 44, \"quarter\": \"2025Q1\", \"contrib_type\": \"contributor\", \"count\": 25, \"quarter_label\": \"2025 Q1\", \"year\": \"2025\", \"qtr\": \"Q1\"}, {\"index\": 45, \"quarter\": \"2025Q1\", \"contrib_type\": \"staff\", \"count\": 12, \"quarter_label\": \"2025 Q1\", \"year\": \"2025\", \"qtr\": \"Q1\"}]}}, {\"mode\": \"vega-lite\"});\n",
       "</script>"
      ],
      "text/plain": [
       "alt.Chart(...)"
      ]
     },
     "execution_count": 4,
     "metadata": {},
     "output_type": "execute_result"
    }
   ],
   "source": [
    "# Create the Altair chart\n",
    "chart = (\n",
    "    alt.Chart(df_quarters)\n",
    "    .mark_bar()\n",
    "    .encode(\n",
    "        alt.X('quarter_label:O')\n",
    "            .title('Quarter')\n",
    "            .axis(labelAngle=45),\n",
    "        alt.Y('count:Q')\n",
    "            .stack(True),\n",
    "        alt.Color('contrib_type:N')\n",
    "            .title(\"Contributor Type\")\n",
    "            .scale(range=[\"#81c0aa\", \"#735fab\"]),\n",
    "        alt.Tooltip([\"quarter_label\", \"contrib_type\", \"count\"])\n",
    "    )\n",
    "    .properties(title=\"Staff vs. Volunteer Contributor by Quarter\")\n",
    "    .configure_legend(\n",
    "        orient='top',\n",
    "        titleAnchor='middle',\n",
    "        direction='horizontal',\n",
    "        padding=10,\n",
    "    )\n",
    "    .interactive()\n",
    ")\n",
    "\n",
    "chart"
   ]
  },
  {
   "cell_type": "code",
   "execution_count": 5,
   "metadata": {
    "editable": true,
    "slideshow": {
     "slide_type": ""
    },
    "tags": [
     "remove-input"
    ]
   },
   "outputs": [
    {
     "data": {
      "text/html": [
       "<div>\n",
       "<style scoped>\n",
       "    .dataframe tbody tr th:only-of-type {\n",
       "        vertical-align: middle;\n",
       "    }\n",
       "\n",
       "    .dataframe tbody tr th {\n",
       "        vertical-align: top;\n",
       "    }\n",
       "\n",
       "    .dataframe thead th {\n",
       "        text-align: right;\n",
       "    }\n",
       "</style>\n",
       "<table border=\"1\" class=\"dataframe\">\n",
       "  <thead>\n",
       "    <tr style=\"text-align: right;\">\n",
       "      <th></th>\n",
       "      <th>name</th>\n",
       "      <th>location</th>\n",
       "      <th>date_added</th>\n",
       "      <th>packages_reviewed</th>\n",
       "      <th>packages_eic</th>\n",
       "      <th>packages_editor</th>\n",
       "      <th>editor</th>\n",
       "      <th>maintainer</th>\n",
       "    </tr>\n",
       "  </thead>\n",
       "  <tbody>\n",
       "    <tr>\n",
       "      <th>0</th>\n",
       "      <td>lwasser</td>\n",
       "      <td>United States</td>\n",
       "      <td>2019-10-10</td>\n",
       "      <td>0</td>\n",
       "      <td>0</td>\n",
       "      <td>5</td>\n",
       "      <td>False</td>\n",
       "      <td>True</td>\n",
       "    </tr>\n",
       "    <tr>\n",
       "      <th>1</th>\n",
       "      <td>tracykteal</td>\n",
       "      <td>NaN</td>\n",
       "      <td>2022-11-09</td>\n",
       "      <td>0</td>\n",
       "      <td>0</td>\n",
       "      <td>0</td>\n",
       "      <td>False</td>\n",
       "      <td>False</td>\n",
       "    </tr>\n",
       "    <tr>\n",
       "      <th>2</th>\n",
       "      <td>kcranston</td>\n",
       "      <td>Ottawa, ON</td>\n",
       "      <td>2022-11-09</td>\n",
       "      <td>0</td>\n",
       "      <td>0</td>\n",
       "      <td>0</td>\n",
       "      <td>False</td>\n",
       "      <td>False</td>\n",
       "    </tr>\n",
       "    <tr>\n",
       "      <th>3</th>\n",
       "      <td>kierisi</td>\n",
       "      <td>NaN</td>\n",
       "      <td>2023-11-21</td>\n",
       "      <td>0</td>\n",
       "      <td>0</td>\n",
       "      <td>0</td>\n",
       "      <td>False</td>\n",
       "      <td>False</td>\n",
       "    </tr>\n",
       "    <tr>\n",
       "      <th>4</th>\n",
       "      <td>willingc</td>\n",
       "      <td>San Diego</td>\n",
       "      <td>2023-03-01</td>\n",
       "      <td>1</td>\n",
       "      <td>0</td>\n",
       "      <td>0</td>\n",
       "      <td>False</td>\n",
       "      <td>False</td>\n",
       "    </tr>\n",
       "  </tbody>\n",
       "</table>\n",
       "</div>"
      ],
      "text/plain": [
       "         name       location date_added  packages_reviewed  packages_eic  \\\n",
       "0     lwasser  United States 2019-10-10                  0             0   \n",
       "1  tracykteal            NaN 2022-11-09                  0             0   \n",
       "2   kcranston     Ottawa, ON 2022-11-09                  0             0   \n",
       "3     kierisi            NaN 2023-11-21                  0             0   \n",
       "4    willingc      San Diego 2023-03-01                  1             0   \n",
       "\n",
       "   packages_editor  editor  maintainer  \n",
       "0                5   False        True  \n",
       "1                0   False       False  \n",
       "2                0   False       False  \n",
       "3                0   False       False  \n",
       "4                0   False       False  "
      ]
     },
     "execution_count": 5,
     "metadata": {},
     "output_type": "execute_result"
    }
   ],
   "source": [
    "# Open the contrib data and count review metrics\n",
    "contribs_path = parent_dir / \"_data\" / \"review_contribs.csv\"\n",
    "contribs_data = pd.read_csv(contribs_path, parse_dates=[\"date_added\"])\n",
    "contribs_data.head()"
   ]
  },
  {
   "cell_type": "code",
   "execution_count": 6,
   "metadata": {
    "editable": true,
    "slideshow": {
     "slide_type": ""
    },
    "tags": [
     "remove-input"
    ]
   },
   "outputs": [
    {
     "name": "stdout",
     "output_type": "stream",
     "text": [
      "{'packages_reviewed': 87, 'packages_editor': 20, 'packages_eic': 4}\n"
     ]
    }
   ],
   "source": [
    "total_contribs = len(contribs_data)\n",
    "# Calculate reviewer types \n",
    "columns = [\"packages_reviewed\", \"packages_editor\", \"packages_eic\"]\n",
    "counts = {col: int((contribs_data[col] > 0).sum()) for col in columns}\n",
    "\n",
    "# Print results\n",
    "print(counts)"
   ]
  },
  {
   "cell_type": "markdown",
   "metadata": {
    "editable": true,
    "slideshow": {
     "slide_type": ""
    },
    "tags": [],
    "user_expressions": [
     {
      "expression": "counts[\"packages_reviewed\"]",
      "result": {
       "data": {
        "text/plain": "87"
       },
       "metadata": {},
       "status": "ok"
      }
     },
     {
      "expression": "counts[\"packages_editor\"]",
      "result": {
       "data": {
        "text/plain": "20"
       },
       "metadata": {},
       "status": "ok"
      }
     },
     {
      "expression": "counts[\"packages_eic\"]",
      "result": {
       "data": {
        "text/plain": "4"
       },
       "metadata": {},
       "status": "ok"
      }
     },
     {
      "expression": "total_contribs",
      "result": {
       "data": {
        "text/plain": "286"
       },
       "metadata": {},
       "status": "ok"
      }
     }
    ]
   },
   "source": [
    "\n",
    "* **{eval}`counts[\"packages_reviewed\"]`** People have served as a reviewer for pyOpenSci\n",
    "* **{eval}`counts[\"packages_editor\"]`** People have served as an editor for pyOpenSci\n",
    "* **{eval}`counts[\"packages_eic\"]`** People have served as eic for pyOpenSci\n",
    " \n",
    "Note: we are updating old reviews with eic information so this number is lower than it should be\n",
    "\n",
    "To date, **{eval}`total_contribs`** people have contributed to pyOpenSci\n",
    "\n",
    "## Contributors over time\n",
    "Above we calculate issues and prs to pyOpenSci over time. Here we look at new contributors over time"
   ]
  },
  {
   "cell_type": "code",
   "execution_count": 7,
   "metadata": {
    "editable": true,
    "slideshow": {
     "slide_type": ""
    },
    "tags": [
     "remove-input"
    ]
   },
   "outputs": [],
   "source": [
    "# Group by month and count new contributors\n",
    "monthly_counts = contribs_data.resample(\"M\", on=\"date_added\").count()[\"name\"]\n",
    "\n",
    "# Compute cumulative sum for growth over time\n",
    "cumulative_growth = monthly_counts.cumsum().reset_index()\n",
    "cumulative_growth.columns = [\"date\", \"cumulative_contributors\"]\n"
   ]
  },
  {
   "cell_type": "code",
   "execution_count": 8,
   "metadata": {
    "editable": true,
    "slideshow": {
     "slide_type": ""
    },
    "tags": [
     "remove-input"
    ]
   },
   "outputs": [
    {
     "data": {
      "text/html": [
       "\n",
       "<style>\n",
       "  #altair-viz-46d77565e325422ca31f3cb98ca9e611.vega-embed {\n",
       "    width: 100%;\n",
       "    display: flex;\n",
       "  }\n",
       "\n",
       "  #altair-viz-46d77565e325422ca31f3cb98ca9e611.vega-embed details,\n",
       "  #altair-viz-46d77565e325422ca31f3cb98ca9e611.vega-embed details summary {\n",
       "    position: relative;\n",
       "  }\n",
       "</style>\n",
       "<div id=\"altair-viz-46d77565e325422ca31f3cb98ca9e611\"></div>\n",
       "<script type=\"text/javascript\">\n",
       "  var VEGA_DEBUG = (typeof VEGA_DEBUG == \"undefined\") ? {} : VEGA_DEBUG;\n",
       "  (function(spec, embedOpt){\n",
       "    let outputDiv = document.currentScript.previousElementSibling;\n",
       "    if (outputDiv.id !== \"altair-viz-46d77565e325422ca31f3cb98ca9e611\") {\n",
       "      outputDiv = document.getElementById(\"altair-viz-46d77565e325422ca31f3cb98ca9e611\");\n",
       "    }\n",
       "    const paths = {\n",
       "      \"vega\": \"https://cdn.jsdelivr.net/npm/vega@5?noext\",\n",
       "      \"vega-lib\": \"https://cdn.jsdelivr.net/npm/vega-lib?noext\",\n",
       "      \"vega-lite\": \"https://cdn.jsdelivr.net/npm/vega-lite@5.17.0?noext\",\n",
       "      \"vega-embed\": \"https://cdn.jsdelivr.net/npm/vega-embed@6?noext\",\n",
       "    };\n",
       "\n",
       "    function maybeLoadScript(lib, version) {\n",
       "      var key = `${lib.replace(\"-\", \"\")}_version`;\n",
       "      return (VEGA_DEBUG[key] == version) ?\n",
       "        Promise.resolve(paths[lib]) :\n",
       "        new Promise(function(resolve, reject) {\n",
       "          var s = document.createElement('script');\n",
       "          document.getElementsByTagName(\"head\")[0].appendChild(s);\n",
       "          s.async = true;\n",
       "          s.onload = () => {\n",
       "            VEGA_DEBUG[key] = version;\n",
       "            return resolve(paths[lib]);\n",
       "          };\n",
       "          s.onerror = () => reject(`Error loading script: ${paths[lib]}`);\n",
       "          s.src = paths[lib];\n",
       "        });\n",
       "    }\n",
       "\n",
       "    function showError(err) {\n",
       "      outputDiv.innerHTML = `<div class=\"error\" style=\"color:red;\">${err}</div>`;\n",
       "      throw err;\n",
       "    }\n",
       "\n",
       "    function displayChart(vegaEmbed) {\n",
       "      vegaEmbed(outputDiv, spec, embedOpt)\n",
       "        .catch(err => showError(`Javascript Error: ${err.message}<br>This usually means there's a typo in your chart specification. See the javascript console for the full traceback.`));\n",
       "    }\n",
       "\n",
       "    if(typeof define === \"function\" && define.amd) {\n",
       "      requirejs.config({paths});\n",
       "      require([\"vega-embed\"], displayChart, err => showError(`Error loading script: ${err.message}`));\n",
       "    } else {\n",
       "      maybeLoadScript(\"vega\", \"5\")\n",
       "        .then(() => maybeLoadScript(\"vega-lite\", \"5.17.0\"))\n",
       "        .then(() => maybeLoadScript(\"vega-embed\", \"6\"))\n",
       "        .catch(showError)\n",
       "        .then(() => displayChart(vegaEmbed));\n",
       "    }\n",
       "  })({\"config\": {\"title\": {\"fontSize\": 20, \"font\": \"Poppins\", \"anchor\": \"middle\", \"color\": \"black\", \"fontWeight\": 400, \"dy\": -20, \"dx\": 10}, \"axis\": {\"labelFontSize\": 14, \"titleFontSize\": 14, \"titleFont\": \"Poppins\", \"labelFont\": \"Poppins\"}, \"axisX\": {\"labelAngle\": 0}, \"legend\": {\"labelFontSize\": 12, \"titleFontSize\": 14, \"titleFont\": \"Poppins\", \"labelFont\": \"Poppins\"}, \"bar\": {\"color\": \"purple\", \"fill\": \"purple\"}, \"line\": {\"color\": \"purple\"}, \"view\": {\"height\": 300, \"width\": 600, \"padding\": {\"top\": 190, \"left\": 10, \"right\": 10, \"bottom\": 90}}}, \"data\": {\"name\": \"data-d4bf0ee3efcadd134d85291d6c8017cc\"}, \"mark\": {\"type\": \"line\", \"point\": true}, \"encoding\": {\"tooltip\": [{\"field\": \"date\", \"type\": \"temporal\"}, {\"field\": \"cumulative_contributors\", \"type\": \"quantitative\"}], \"x\": {\"field\": \"date\", \"title\": \"Date\", \"type\": \"temporal\"}, \"y\": {\"field\": \"cumulative_contributors\", \"title\": \"Total Contributors\", \"type\": \"quantitative\"}}, \"height\": 400, \"params\": [{\"name\": \"param_2\", \"select\": {\"type\": \"interval\", \"encodings\": [\"x\", \"y\"]}, \"bind\": \"scales\"}], \"title\": \"Growth of Contributors Over Time\", \"width\": 700, \"$schema\": \"https://vega.github.io/schema/vega-lite/v5.17.0.json\", \"datasets\": {\"data-d4bf0ee3efcadd134d85291d6c8017cc\": [{\"date\": \"2019-10-31T00:00:00\", \"cumulative_contributors\": 7}, {\"date\": \"2019-11-30T00:00:00\", \"cumulative_contributors\": 7}, {\"date\": \"2019-12-31T00:00:00\", \"cumulative_contributors\": 12}, {\"date\": \"2020-01-31T00:00:00\", \"cumulative_contributors\": 12}, {\"date\": \"2020-02-29T00:00:00\", \"cumulative_contributors\": 12}, {\"date\": \"2020-03-31T00:00:00\", \"cumulative_contributors\": 13}, {\"date\": \"2020-04-30T00:00:00\", \"cumulative_contributors\": 14}, {\"date\": \"2020-05-31T00:00:00\", \"cumulative_contributors\": 14}, {\"date\": \"2020-06-30T00:00:00\", \"cumulative_contributors\": 15}, {\"date\": \"2020-07-31T00:00:00\", \"cumulative_contributors\": 15}, {\"date\": \"2020-08-31T00:00:00\", \"cumulative_contributors\": 15}, {\"date\": \"2020-09-30T00:00:00\", \"cumulative_contributors\": 17}, {\"date\": \"2020-10-31T00:00:00\", \"cumulative_contributors\": 19}, {\"date\": \"2020-11-30T00:00:00\", \"cumulative_contributors\": 19}, {\"date\": \"2020-12-31T00:00:00\", \"cumulative_contributors\": 19}, {\"date\": \"2021-01-31T00:00:00\", \"cumulative_contributors\": 19}, {\"date\": \"2021-02-28T00:00:00\", \"cumulative_contributors\": 20}, {\"date\": \"2021-03-31T00:00:00\", \"cumulative_contributors\": 23}, {\"date\": \"2021-04-30T00:00:00\", \"cumulative_contributors\": 24}, {\"date\": \"2021-05-31T00:00:00\", \"cumulative_contributors\": 26}, {\"date\": \"2021-06-30T00:00:00\", \"cumulative_contributors\": 26}, {\"date\": \"2021-07-31T00:00:00\", \"cumulative_contributors\": 26}, {\"date\": \"2021-08-31T00:00:00\", \"cumulative_contributors\": 27}, {\"date\": \"2021-09-30T00:00:00\", \"cumulative_contributors\": 29}, {\"date\": \"2021-10-31T00:00:00\", \"cumulative_contributors\": 29}, {\"date\": \"2021-11-30T00:00:00\", \"cumulative_contributors\": 29}, {\"date\": \"2021-12-31T00:00:00\", \"cumulative_contributors\": 29}, {\"date\": \"2022-01-31T00:00:00\", \"cumulative_contributors\": 31}, {\"date\": \"2022-02-28T00:00:00\", \"cumulative_contributors\": 31}, {\"date\": \"2022-03-31T00:00:00\", \"cumulative_contributors\": 31}, {\"date\": \"2022-04-30T00:00:00\", \"cumulative_contributors\": 31}, {\"date\": \"2022-05-31T00:00:00\", \"cumulative_contributors\": 31}, {\"date\": \"2022-06-30T00:00:00\", \"cumulative_contributors\": 31}, {\"date\": \"2022-07-31T00:00:00\", \"cumulative_contributors\": 31}, {\"date\": \"2022-08-31T00:00:00\", \"cumulative_contributors\": 31}, {\"date\": \"2022-09-30T00:00:00\", \"cumulative_contributors\": 33}, {\"date\": \"2022-10-31T00:00:00\", \"cumulative_contributors\": 33}, {\"date\": \"2022-11-30T00:00:00\", \"cumulative_contributors\": 35}, {\"date\": \"2022-12-31T00:00:00\", \"cumulative_contributors\": 35}, {\"date\": \"2023-01-31T00:00:00\", \"cumulative_contributors\": 38}, {\"date\": \"2023-02-28T00:00:00\", \"cumulative_contributors\": 46}, {\"date\": \"2023-03-31T00:00:00\", \"cumulative_contributors\": 70}, {\"date\": \"2023-04-30T00:00:00\", \"cumulative_contributors\": 106}, {\"date\": \"2023-05-31T00:00:00\", \"cumulative_contributors\": 112}, {\"date\": \"2023-06-30T00:00:00\", \"cumulative_contributors\": 117}, {\"date\": \"2023-07-31T00:00:00\", \"cumulative_contributors\": 139}, {\"date\": \"2023-08-31T00:00:00\", \"cumulative_contributors\": 140}, {\"date\": \"2023-09-30T00:00:00\", \"cumulative_contributors\": 149}, {\"date\": \"2023-10-31T00:00:00\", \"cumulative_contributors\": 164}, {\"date\": \"2023-11-30T00:00:00\", \"cumulative_contributors\": 166}, {\"date\": \"2023-12-31T00:00:00\", \"cumulative_contributors\": 177}, {\"date\": \"2024-01-31T00:00:00\", \"cumulative_contributors\": 190}, {\"date\": \"2024-02-29T00:00:00\", \"cumulative_contributors\": 196}, {\"date\": \"2024-03-31T00:00:00\", \"cumulative_contributors\": 200}, {\"date\": \"2024-04-30T00:00:00\", \"cumulative_contributors\": 200}, {\"date\": \"2024-05-31T00:00:00\", \"cumulative_contributors\": 215}, {\"date\": \"2024-06-30T00:00:00\", \"cumulative_contributors\": 230}, {\"date\": \"2024-07-31T00:00:00\", \"cumulative_contributors\": 245}, {\"date\": \"2024-08-31T00:00:00\", \"cumulative_contributors\": 256}, {\"date\": \"2024-09-30T00:00:00\", \"cumulative_contributors\": 259}, {\"date\": \"2024-10-31T00:00:00\", \"cumulative_contributors\": 262}, {\"date\": \"2024-11-30T00:00:00\", \"cumulative_contributors\": 264}, {\"date\": \"2024-12-31T00:00:00\", \"cumulative_contributors\": 274}, {\"date\": \"2025-01-31T00:00:00\", \"cumulative_contributors\": 279}, {\"date\": \"2025-02-28T00:00:00\", \"cumulative_contributors\": 282}]}}, {\"mode\": \"vega-lite\"});\n",
       "</script>"
      ],
      "text/plain": [
       "alt.Chart(...)"
      ]
     },
     "execution_count": 8,
     "metadata": {},
     "output_type": "execute_result"
    }
   ],
   "source": [
    "\n",
    "# Create an Altair line chart\n",
    "chart = alt.Chart(cumulative_growth).mark_line(point=True).encode(\n",
    "    x=alt.X(\"date:T\", title=\"Date\"),\n",
    "    y=alt.Y(\"cumulative_contributors:Q\", title=\"Total Contributors\"),\n",
    "    tooltip=[\"date:T\", \"cumulative_contributors:Q\"]\n",
    ").properties(\n",
    "    title=\"Growth of Contributors Over Time\",\n",
    "    width=700,\n",
    "    height=400\n",
    ").interactive()\n",
    "\n",
    "chart"
   ]
  }
 ],
 "metadata": {
  "kernelspec": {
   "display_name": "Python 3 (ipykernel)",
   "language": "python",
   "name": "python3"
  },
  "language_info": {
   "codemirror_mode": {
    "name": "ipython",
    "version": 3
   },
   "file_extension": ".py",
   "mimetype": "text/x-python",
   "name": "python",
   "nbconvert_exporter": "python",
   "pygments_lexer": "ipython3",
   "version": "3.11.9"
  },
  "vscode": {
   "interpreter": {
    "hash": "d7b89e158b719c02a21186c9646700ecf5a8cc5b1b6f738df9b6ffa75e5e74e4"
   }
  }
 },
 "nbformat": 4,
 "nbformat_minor": 4
}
