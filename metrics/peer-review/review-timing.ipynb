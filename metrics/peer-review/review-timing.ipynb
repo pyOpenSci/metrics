{
 "cells": [
  {
   "cell_type": "markdown",
   "metadata": {
    "editable": true,
    "slideshow": {
     "slide_type": ""
    },
    "tags": []
   },
   "source": [
    "---\n",
    "title: Software Review Timelines\n",
    "subtitle: pyOpenSci Peer Review Summary Stats\n",
    "license:\n",
    "  code: BSD-3-Clause\n",
    "---\n",
    "\n",
    "This is a workflow that colates all GitHub issues associated with our reviews. "
   ]
  },
  {
   "cell_type": "code",
   "execution_count": 4,
   "metadata": {
    "editable": true,
    "slideshow": {
     "slide_type": ""
    },
    "tags": [
     "remove-input"
    ]
   },
   "outputs": [
    {
     "data": {
      "text/html": [
       "<link href=\"https://fonts.googleapis.com/css2?family=Poppins:wght@400;700&display=swap\" rel=\"stylesheet\">"
      ],
      "text/plain": [
       "<IPython.core.display.HTML object>"
      ]
     },
     "metadata": {},
     "output_type": "display_data"
    }
   ],
   "source": [
    "# https://github.com/ryantam626/jupyterlab_code_formatter\n",
    "import warnings\n",
    "from datetime import datetime, timezone\n",
    "from pathlib import Path\n",
    "\n",
    "import altair as alt\n",
    "import pandas as pd\n",
    "import pytz\n",
    "\n",
    "from pyosmetrics.functions import count_edits_by_quarter\n",
    "from pyosmetrics.plot_theme import load_poppins_font, register_and_enable_poppins_theme\n",
    "\n",
    "\n",
    "# Suppress all warnings\n",
    "warnings.filterwarnings(\"ignore\")\n",
    "# Load & register Poppins font and theme for the page\n",
    "load_poppins_font()\n",
    "register_and_enable_poppins_theme()"
   ]
  },
  {
   "cell_type": "code",
   "execution_count": 7,
   "metadata": {
    "editable": true,
    "slideshow": {
     "slide_type": ""
    },
    "tags": [
     "remove-input"
    ]
   },
   "outputs": [],
   "source": [
    "# Get review data from .csv file\n",
    "current_dir = Path.cwd()\n",
    "parent_dir = current_dir.parent.parent\n",
    "data_dir = parent_dir / \"_data\"\n",
    "file_path = data_dir / \"review_submissions.csv\"\n",
    "reviews = pd.read_csv(file_path, parse_dates=[\"date_opened\", \"date_closed\"])\n",
    "total_submissions = len(reviews)"
   ]
  },
  {
   "cell_type": "code",
   "execution_count": 8,
   "metadata": {
    "editable": true,
    "slideshow": {
     "slide_type": ""
    },
    "tags": [
     "remove-input"
    ]
   },
   "outputs": [],
   "source": [
    "# calculate total time open for each review\n",
    "closed = reviews.dropna(subset=['date_closed'])\n",
    "closed['days_open'] = (closed['date_closed'] - closed['date_opened']).dt.days\n",
    "\n",
    "closed['quarter'] = closed['date_opened'].dt.to_period('Q')\n",
    "closed.head()\n",
    "summary_by_quarter = closed.groupby('quarter').agg({'days_open': 'mean', 'package_name': 'count'})\n",
    "summary_by_quarter = summary_by_quarter.rename(columns={'package_name': 'count'})\n",
    "summary_by_quarter = summary_by_quarter.reset_index() "
   ]
  },
  {
   "cell_type": "code",
   "execution_count": 11,
   "metadata": {
    "editable": true,
    "slideshow": {
     "slide_type": ""
    },
    "tags": [
     "remove-input"
    ]
   },
   "outputs": [
    {
     "data": {
      "text/html": [
       "\n",
       "<style>\n",
       "  #altair-viz-c9c4696452de4f4193b4c8e93ebd4fb4.vega-embed {\n",
       "    width: 100%;\n",
       "    display: flex;\n",
       "  }\n",
       "\n",
       "  #altair-viz-c9c4696452de4f4193b4c8e93ebd4fb4.vega-embed details,\n",
       "  #altair-viz-c9c4696452de4f4193b4c8e93ebd4fb4.vega-embed details summary {\n",
       "    position: relative;\n",
       "  }\n",
       "</style>\n",
       "<div id=\"altair-viz-c9c4696452de4f4193b4c8e93ebd4fb4\"></div>\n",
       "<script type=\"text/javascript\">\n",
       "  var VEGA_DEBUG = (typeof VEGA_DEBUG == \"undefined\") ? {} : VEGA_DEBUG;\n",
       "  (function(spec, embedOpt){\n",
       "    let outputDiv = document.currentScript.previousElementSibling;\n",
       "    if (outputDiv.id !== \"altair-viz-c9c4696452de4f4193b4c8e93ebd4fb4\") {\n",
       "      outputDiv = document.getElementById(\"altair-viz-c9c4696452de4f4193b4c8e93ebd4fb4\");\n",
       "    }\n",
       "    const paths = {\n",
       "      \"vega\": \"https://cdn.jsdelivr.net/npm/vega@5?noext\",\n",
       "      \"vega-lib\": \"https://cdn.jsdelivr.net/npm/vega-lib?noext\",\n",
       "      \"vega-lite\": \"https://cdn.jsdelivr.net/npm/vega-lite@5.17.0?noext\",\n",
       "      \"vega-embed\": \"https://cdn.jsdelivr.net/npm/vega-embed@6?noext\",\n",
       "    };\n",
       "\n",
       "    function maybeLoadScript(lib, version) {\n",
       "      var key = `${lib.replace(\"-\", \"\")}_version`;\n",
       "      return (VEGA_DEBUG[key] == version) ?\n",
       "        Promise.resolve(paths[lib]) :\n",
       "        new Promise(function(resolve, reject) {\n",
       "          var s = document.createElement('script');\n",
       "          document.getElementsByTagName(\"head\")[0].appendChild(s);\n",
       "          s.async = true;\n",
       "          s.onload = () => {\n",
       "            VEGA_DEBUG[key] = version;\n",
       "            return resolve(paths[lib]);\n",
       "          };\n",
       "          s.onerror = () => reject(`Error loading script: ${paths[lib]}`);\n",
       "          s.src = paths[lib];\n",
       "        });\n",
       "    }\n",
       "\n",
       "    function showError(err) {\n",
       "      outputDiv.innerHTML = `<div class=\"error\" style=\"color:red;\">${err}</div>`;\n",
       "      throw err;\n",
       "    }\n",
       "\n",
       "    function displayChart(vegaEmbed) {\n",
       "      vegaEmbed(outputDiv, spec, embedOpt)\n",
       "        .catch(err => showError(`Javascript Error: ${err.message}<br>This usually means there's a typo in your chart specification. See the javascript console for the full traceback.`));\n",
       "    }\n",
       "\n",
       "    if(typeof define === \"function\" && define.amd) {\n",
       "      requirejs.config({paths});\n",
       "      require([\"vega-embed\"], displayChart, err => showError(`Error loading script: ${err.message}`));\n",
       "    } else {\n",
       "      maybeLoadScript(\"vega\", \"5\")\n",
       "        .then(() => maybeLoadScript(\"vega-lite\", \"5.17.0\"))\n",
       "        .then(() => maybeLoadScript(\"vega-embed\", \"6\"))\n",
       "        .catch(showError)\n",
       "        .then(() => displayChart(vegaEmbed));\n",
       "    }\n",
       "  })({\"config\": {\"title\": {\"fontSize\": 20, \"font\": \"Poppins\", \"anchor\": \"middle\", \"color\": \"black\", \"fontWeight\": 400, \"dy\": -20, \"dx\": 10}, \"axis\": {\"labelFontSize\": 14, \"titleFontSize\": 14, \"titleFont\": \"Poppins\", \"labelFont\": \"Poppins\"}, \"axisX\": {\"labelAngle\": 0}, \"legend\": {\"labelFontSize\": 12, \"titleFontSize\": 14, \"titleFont\": \"Poppins\", \"labelFont\": \"Poppins\"}, \"bar\": {\"color\": \"purple\", \"fill\": \"purple\"}, \"line\": {\"color\": \"purple\"}, \"view\": {\"height\": 300, \"width\": 600, \"padding\": {\"top\": 190, \"left\": 10, \"right\": 10, \"bottom\": 90}}}, \"data\": {\"name\": \"data-138fa648f0669641a8e41131309b1364\"}, \"mark\": {\"type\": \"line\", \"point\": {\"filled\": true, \"size\": 100}, \"strokeWidth\": 1}, \"encoding\": {\"tooltip\": [{\"field\": \"days_open\", \"type\": \"quantitative\"}], \"x\": {\"axis\": {\"labelAngle\": -45}, \"field\": \"quarter\", \"type\": \"ordinal\"}, \"y\": {\"axis\": {\"format\": \"d\", \"tickMinStep\": 1}, \"field\": \"days_open\", \"type\": \"quantitative\"}}, \"params\": [{\"name\": \"param_2\", \"select\": {\"type\": \"interval\", \"encodings\": [\"x\", \"y\"]}, \"bind\": \"scales\"}], \"title\": \"Mean Review Open Duration (days)\", \"width\": \"container\", \"$schema\": \"https://vega.github.io/schema/vega-lite/v5.17.0.json\", \"datasets\": {\"data-138fa648f0669641a8e41131309b1364\": [{\"quarter\": \"2019Q1\", \"days_open\": 1259.0, \"count\": 0}, {\"quarter\": \"2019Q2\", \"days_open\": 128.0, \"count\": 2}, {\"quarter\": \"2019Q3\", \"days_open\": 854.0, \"count\": 1}, {\"quarter\": \"2019Q4\", \"days_open\": 994.0, \"count\": 1}, {\"quarter\": \"2020Q1\", \"days_open\": 102.0, \"count\": 2}, {\"quarter\": \"2020Q2\", \"days_open\": 378.0, \"count\": 1}, {\"quarter\": \"2020Q3\", \"days_open\": 266.5, \"count\": 2}, {\"quarter\": \"2021Q1\", \"days_open\": 128.0, \"count\": 1}, {\"quarter\": \"2021Q2\", \"days_open\": 521.0, \"count\": 1}, {\"quarter\": \"2021Q3\", \"days_open\": 411.5, \"count\": 2}, {\"quarter\": \"2021Q4\", \"days_open\": 167.0, \"count\": 2}, {\"quarter\": \"2022Q2\", \"days_open\": 103.5, \"count\": 2}, {\"quarter\": \"2022Q3\", \"days_open\": 73.0, \"count\": 1}, {\"quarter\": \"2022Q4\", \"days_open\": 116.0, \"count\": 1}, {\"quarter\": \"2023Q1\", \"days_open\": 151.66666666666666, \"count\": 6}, {\"quarter\": \"2023Q2\", \"days_open\": 119.25, \"count\": 4}, {\"quarter\": \"2023Q3\", \"days_open\": 231.75, \"count\": 4}, {\"quarter\": \"2023Q4\", \"days_open\": 184.25, \"count\": 4}, {\"quarter\": \"2024Q1\", \"days_open\": 99.0, \"count\": 3}]}}, {\"mode\": \"vega-lite\"});\n",
       "</script>"
      ],
      "text/plain": [
       "alt.Chart(...)"
      ]
     },
     "execution_count": 11,
     "metadata": {},
     "output_type": "execute_result"
    }
   ],
   "source": [
    "# Altair doesn't support pandas periods, convert to str\n",
    "summary_by_quarter['quarter'] = summary_by_quarter['quarter'].astype(str)\n",
    "# Create the Altair chart using object-oriented syntax\n",
    "chart = (\n",
    "    alt.Chart(summary_by_quarter)\n",
    "    .mark_line(point=alt.MarkConfig(filled=True, size=100), strokeWidth=1)\n",
    "    .encode(\n",
    "        x=alt.X('quarter:O', axis=alt.Axis(labelAngle=-45)), # Ordinal quarter on the x-axis\n",
    "        y=alt.Y('days_open:Q',axis=alt.Axis(format=\"d\", tickMinStep=1) ),  # Quantitative days_open on the y-axis\n",
    "        tooltip=['days_open']\n",
    "    )\n",
    "    .properties(title=\"Mean Review Open Duration (days)\", width=\"container\")\n",
    "    .interactive()\n",
    ")\n",
    "\n",
    "chart"
   ]
  },
  {
   "cell_type": "code",
   "execution_count": 22,
   "metadata": {
    "editable": true,
    "slideshow": {
     "slide_type": ""
    },
    "tags": [
     "remove-input"
    ]
   },
   "outputs": [
    {
     "data": {
      "text/plain": [
       "Unnamed: 0                    int64\n",
       "package_name                 object\n",
       "date_opened     datetime64[ns, UTC]\n",
       "labels                       object\n",
       "status                       object\n",
       "days_open                     int64\n",
       "dtype: object"
      ]
     },
     "execution_count": 22,
     "metadata": {},
     "output_type": "execute_result"
    }
   ],
   "source": [
    "# Get a list of reviews submitted to us\n",
    "# This potentially doesn't include issues that were deemed out of scope...\n",
    "\n",
    "open_reviews = reviews[reviews[\"date_closed\"].isna()]\n",
    "\n",
    "today = datetime.now(timezone.utc)\n",
    "open_reviews[\"days_open\"] = (today - open_reviews[\"date_opened\"]).dt.days\n",
    "open_reviews.drop(columns=[\"date_closed\"], inplace=True)\n",
    "total_open = len(open_reviews)"
   ]
  },
  {
   "cell_type": "code",
   "execution_count": 33,
   "metadata": {
    "editable": true,
    "slideshow": {
     "slide_type": ""
    },
    "tags": [
     "remove-input"
    ]
   },
   "outputs": [
    {
     "data": {
      "text/html": [
       "<div>\n",
       "<style scoped>\n",
       "    .dataframe tbody tr th:only-of-type {\n",
       "        vertical-align: middle;\n",
       "    }\n",
       "\n",
       "    .dataframe tbody tr th {\n",
       "        vertical-align: top;\n",
       "    }\n",
       "\n",
       "    .dataframe thead th {\n",
       "        text-align: right;\n",
       "    }\n",
       "</style>\n",
       "<table border=\"1\" class=\"dataframe\">\n",
       "  <thead>\n",
       "    <tr style=\"text-align: right;\">\n",
       "      <th></th>\n",
       "      <th>Unnamed: 0</th>\n",
       "      <th>package_name</th>\n",
       "      <th>date_opened</th>\n",
       "      <th>labels</th>\n",
       "      <th>status</th>\n",
       "      <th>days_open</th>\n",
       "    </tr>\n",
       "  </thead>\n",
       "  <tbody>\n",
       "    <tr>\n",
       "      <th>0</th>\n",
       "      <td>0</td>\n",
       "      <td>FElupe</td>\n",
       "      <td>2024-09-14 22:37:44+00:00</td>\n",
       "      <td>['0/pre-review-checks', 'New Submission!']</td>\n",
       "      <td>pre-review</td>\n",
       "      <td>11</td>\n",
       "    </tr>\n",
       "    <tr>\n",
       "      <th>1</th>\n",
       "      <td>1</td>\n",
       "      <td>Solar Data Tools</td>\n",
       "      <td>2024-08-17 06:30:02+00:00</td>\n",
       "      <td>['2/seeking-reviewers']</td>\n",
       "      <td>under-review</td>\n",
       "      <td>39</td>\n",
       "    </tr>\n",
       "    <tr>\n",
       "      <th>2</th>\n",
       "      <td>2</td>\n",
       "      <td>THzTools</td>\n",
       "      <td>2024-08-01 11:54:53+00:00</td>\n",
       "      <td>['0/seeking-editor']</td>\n",
       "      <td>seeking editor</td>\n",
       "      <td>55</td>\n",
       "    </tr>\n",
       "    <tr>\n",
       "      <th>3</th>\n",
       "      <td>3</td>\n",
       "      <td>BlackMarblePy</td>\n",
       "      <td>2024-07-18 14:15:11+00:00</td>\n",
       "      <td>['1/editor-assigned']</td>\n",
       "      <td>under-review</td>\n",
       "      <td>69</td>\n",
       "    </tr>\n",
       "    <tr>\n",
       "      <th>4</th>\n",
       "      <td>4</td>\n",
       "      <td>MontePy</td>\n",
       "      <td>2024-07-01 21:04:05+00:00</td>\n",
       "      <td>['3/reviewers-assigned']</td>\n",
       "      <td>under-review</td>\n",
       "      <td>86</td>\n",
       "    </tr>\n",
       "  </tbody>\n",
       "</table>\n",
       "</div>"
      ],
      "text/plain": [
       "   Unnamed: 0      package_name               date_opened  \\\n",
       "0           0            FElupe 2024-09-14 22:37:44+00:00   \n",
       "1           1  Solar Data Tools 2024-08-17 06:30:02+00:00   \n",
       "2           2          THzTools 2024-08-01 11:54:53+00:00   \n",
       "3           3     BlackMarblePy 2024-07-18 14:15:11+00:00   \n",
       "4           4           MontePy 2024-07-01 21:04:05+00:00   \n",
       "\n",
       "                                       labels          status  days_open  \n",
       "0  ['0/pre-review-checks', 'New Submission!']      pre-review         11  \n",
       "1                     ['2/seeking-reviewers']    under-review         39  \n",
       "2                        ['0/seeking-editor']  seeking editor         55  \n",
       "3                       ['1/editor-assigned']    under-review         69  \n",
       "4                    ['3/reviewers-assigned']    under-review         86  "
      ]
     },
     "execution_count": 33,
     "metadata": {},
     "output_type": "execute_result"
    }
   ],
   "source": [
    "# The plot below isn't super useful .\n",
    "# open_reviews.head()"
   ]
  },
  {
   "cell_type": "code",
   "execution_count": 39,
   "metadata": {
    "editable": true,
    "slideshow": {
     "slide_type": ""
    },
    "tags": [
     "remove-input"
    ]
   },
   "outputs": [
    {
     "data": {
      "text/html": [
       "\n",
       "<style>\n",
       "  #altair-viz-d310c0697d7f46e295341c175f430002.vega-embed {\n",
       "    width: 100%;\n",
       "    display: flex;\n",
       "  }\n",
       "\n",
       "  #altair-viz-d310c0697d7f46e295341c175f430002.vega-embed details,\n",
       "  #altair-viz-d310c0697d7f46e295341c175f430002.vega-embed details summary {\n",
       "    position: relative;\n",
       "  }\n",
       "</style>\n",
       "<div id=\"altair-viz-d310c0697d7f46e295341c175f430002\"></div>\n",
       "<script type=\"text/javascript\">\n",
       "  var VEGA_DEBUG = (typeof VEGA_DEBUG == \"undefined\") ? {} : VEGA_DEBUG;\n",
       "  (function(spec, embedOpt){\n",
       "    let outputDiv = document.currentScript.previousElementSibling;\n",
       "    if (outputDiv.id !== \"altair-viz-d310c0697d7f46e295341c175f430002\") {\n",
       "      outputDiv = document.getElementById(\"altair-viz-d310c0697d7f46e295341c175f430002\");\n",
       "    }\n",
       "    const paths = {\n",
       "      \"vega\": \"https://cdn.jsdelivr.net/npm/vega@5?noext\",\n",
       "      \"vega-lib\": \"https://cdn.jsdelivr.net/npm/vega-lib?noext\",\n",
       "      \"vega-lite\": \"https://cdn.jsdelivr.net/npm/vega-lite@5.17.0?noext\",\n",
       "      \"vega-embed\": \"https://cdn.jsdelivr.net/npm/vega-embed@6?noext\",\n",
       "    };\n",
       "\n",
       "    function maybeLoadScript(lib, version) {\n",
       "      var key = `${lib.replace(\"-\", \"\")}_version`;\n",
       "      return (VEGA_DEBUG[key] == version) ?\n",
       "        Promise.resolve(paths[lib]) :\n",
       "        new Promise(function(resolve, reject) {\n",
       "          var s = document.createElement('script');\n",
       "          document.getElementsByTagName(\"head\")[0].appendChild(s);\n",
       "          s.async = true;\n",
       "          s.onload = () => {\n",
       "            VEGA_DEBUG[key] = version;\n",
       "            return resolve(paths[lib]);\n",
       "          };\n",
       "          s.onerror = () => reject(`Error loading script: ${paths[lib]}`);\n",
       "          s.src = paths[lib];\n",
       "        });\n",
       "    }\n",
       "\n",
       "    function showError(err) {\n",
       "      outputDiv.innerHTML = `<div class=\"error\" style=\"color:red;\">${err}</div>`;\n",
       "      throw err;\n",
       "    }\n",
       "\n",
       "    function displayChart(vegaEmbed) {\n",
       "      vegaEmbed(outputDiv, spec, embedOpt)\n",
       "        .catch(err => showError(`Javascript Error: ${err.message}<br>This usually means there's a typo in your chart specification. See the javascript console for the full traceback.`));\n",
       "    }\n",
       "\n",
       "    if(typeof define === \"function\" && define.amd) {\n",
       "      requirejs.config({paths});\n",
       "      require([\"vega-embed\"], displayChart, err => showError(`Error loading script: ${err.message}`));\n",
       "    } else {\n",
       "      maybeLoadScript(\"vega\", \"5\")\n",
       "        .then(() => maybeLoadScript(\"vega-lite\", \"5.17.0\"))\n",
       "        .then(() => maybeLoadScript(\"vega-embed\", \"6\"))\n",
       "        .catch(showError)\n",
       "        .then(() => displayChart(vegaEmbed));\n",
       "    }\n",
       "  })({\"config\": {\"title\": {\"fontSize\": 20, \"font\": \"Poppins\", \"anchor\": \"middle\", \"color\": \"black\", \"fontWeight\": 400, \"dy\": -20, \"dx\": 10}, \"axis\": {\"labelFontSize\": 14, \"titleFontSize\": 14, \"titleFont\": \"Poppins\", \"labelFont\": \"Poppins\"}, \"axisX\": {\"labelAngle\": 0}, \"legend\": {\"labelFontSize\": 12, \"titleFontSize\": 14, \"titleFont\": \"Poppins\", \"labelFont\": \"Poppins\"}, \"bar\": {\"color\": \"purple\", \"fill\": \"purple\"}, \"line\": {\"color\": \"purple\"}, \"view\": {\"height\": 300, \"width\": 600, \"padding\": {\"top\": 190, \"left\": 10, \"right\": 10, \"bottom\": 90}}}, \"data\": {\"name\": \"data-d1a5840642ac00bf9d1c30b83d702ebe\"}, \"mark\": {\"type\": \"line\", \"point\": {\"filled\": true, \"size\": 100}, \"strokeWidth\": 0}, \"encoding\": {\"tooltip\": [{\"field\": \"package_name\", \"type\": \"nominal\"}, {\"field\": \"status\", \"type\": \"nominal\"}, {\"field\": \"days_open\", \"type\": \"quantitative\"}, {\"field\": \"date_opened\", \"type\": \"temporal\"}], \"x\": {\"axis\": {\"format\": \"%Y-%m-%d\", \"labelAngle\": -45}, \"field\": \"date_opened\", \"type\": \"temporal\"}, \"y\": {\"field\": \"days_open\", \"type\": \"quantitative\"}}, \"params\": [{\"name\": \"param_15\", \"select\": {\"type\": \"interval\", \"encodings\": [\"x\", \"y\"]}, \"bind\": \"scales\"}], \"title\": \"Open Reviews - Days Open\", \"width\": \"container\", \"$schema\": \"https://vega.github.io/schema/vega-lite/v5.17.0.json\", \"datasets\": {\"data-d1a5840642ac00bf9d1c30b83d702ebe\": [{\"Unnamed: 0\": 0, \"package_name\": \"FElupe\", \"date_opened\": \"2024-09-14T22:37:44+00:00\", \"labels\": \"['0/pre-review-checks', 'New Submission!']\", \"status\": \"pre-review\", \"days_open\": 11}, {\"Unnamed: 0\": 1, \"package_name\": \"Solar Data Tools\", \"date_opened\": \"2024-08-17T06:30:02+00:00\", \"labels\": \"['2/seeking-reviewers']\", \"status\": \"under-review\", \"days_open\": 39}, {\"Unnamed: 0\": 2, \"package_name\": \"THzTools\", \"date_opened\": \"2024-08-01T11:54:53+00:00\", \"labels\": \"['0/seeking-editor']\", \"status\": \"seeking editor\", \"days_open\": 55}, {\"Unnamed: 0\": 3, \"package_name\": \"BlackMarblePy\", \"date_opened\": \"2024-07-18T14:15:11+00:00\", \"labels\": \"['1/editor-assigned']\", \"status\": \"under-review\", \"days_open\": 69}, {\"Unnamed: 0\": 4, \"package_name\": \"MontePy\", \"date_opened\": \"2024-07-01T21:04:05+00:00\", \"labels\": \"['3/reviewers-assigned']\", \"status\": \"under-review\", \"days_open\": 86}, {\"Unnamed: 0\": 5, \"package_name\": \"Great Tables\", \"date_opened\": \"2024-06-14T19:55:59+00:00\", \"labels\": \"['1/editor-assigned']\", \"status\": \"under-review\", \"days_open\": 103}, {\"Unnamed: 0\": 6, \"package_name\": \"Stingray\", \"date_opened\": \"2024-06-14T12:59:47+00:00\", \"labels\": \"['3/reviewers-assigned', 'astropy']\", \"status\": \"under-review\", \"days_open\": 103}, {\"Unnamed: 0\": 7, \"package_name\": \"Fluidimage\", \"date_opened\": \"2024-05-30T12:53:48+00:00\", \"labels\": \"['0/seeking-editor']\", \"status\": \"seeking editor\", \"days_open\": 118}, {\"Unnamed: 0\": 8, \"package_name\": \"astrodata\", \"date_opened\": \"2024-05-13T23:48:03+00:00\", \"labels\": \"['4/reviews-in-awaiting-changes', 'astropy']\", \"status\": \"under-review\", \"days_open\": 135}, {\"Unnamed: 0\": 9, \"package_name\": \"QuadratiK\", \"date_opened\": \"2024-05-13T21:23:44+00:00\", \"labels\": \"['4/reviews-in-awaiting-changes']\", \"status\": \"under-review\", \"days_open\": 135}, {\"Unnamed: 0\": 10, \"package_name\": \"PyPartMC\", \"date_opened\": \"2024-05-03T18:22:59+00:00\", \"labels\": \"['2/seeking-reviewers', '1/editor-assigned']\", \"status\": \"under-review\", \"days_open\": 145}, {\"Unnamed: 0\": 11, \"package_name\": \"Dolphot-LC\", \"date_opened\": \"2024-05-01T02:37:44+00:00\", \"labels\": \"['0/pre-review-checks', '\\u231b pending-maintainer-response']\", \"status\": \"on hold\", \"days_open\": 147}, {\"Unnamed: 0\": 12, \"package_name\": \"ANDES\", \"date_opened\": \"2024-04-22T15:24:10+00:00\", \"labels\": \"['0/pre-review-checks', 'New Submission!', 'on-hold']\", \"status\": \"on hold\", \"days_open\": 156}, {\"Unnamed: 0\": 13, \"package_name\": \"CyNetDiff\", \"date_opened\": \"2024-04-22T03:28:38+00:00\", \"labels\": \"['1/editor-assigned']\", \"status\": \"under-review\", \"days_open\": 156}, {\"Unnamed: 0\": 14, \"package_name\": \"AMS\", \"date_opened\": \"2024-04-22T01:37:56+00:00\", \"labels\": \"['3/reviewers-assigned']\", \"status\": \"under-review\", \"days_open\": 156}, {\"Unnamed: 0\": 15, \"package_name\": \"pooltool\", \"date_opened\": \"2024-04-15T21:44:43+00:00\", \"labels\": \"['6/pyOS-approved']\", \"status\": \"pyos-accepted\", \"days_open\": 163}, {\"Unnamed: 0\": 16, \"package_name\": \"CovPlan\", \"date_opened\": \"2024-03-25T17:06:21+00:00\", \"labels\": \"['0/pre-review-checks', '\\u231b pending-maintainer-response', 'New Submission!']\", \"status\": \"on hold\", \"days_open\": 184}, {\"Unnamed: 0\": 19, \"package_name\": \"plot_phylo\", \"date_opened\": \"2024-02-22T11:55:59+00:00\", \"labels\": \"['4/reviews-in-awaiting-changes']\", \"status\": \"under-review\", \"days_open\": 216}, {\"Unnamed: 0\": 20, \"package_name\": \"PetroFit\", \"date_opened\": \"2024-02-16T22:46:47+00:00\", \"labels\": \"['2/seeking-reviewers', 'astropy']\", \"status\": \"under-review\", \"days_open\": 222}, {\"Unnamed: 0\": 21, \"package_name\": \"harmonize-wq\", \"date_opened\": \"2024-02-08T19:43:03+00:00\", \"labels\": \"['6/pyOS-approved']\", \"status\": \"pyos-accepted\", \"days_open\": 230}, {\"Unnamed: 0\": 22, \"package_name\": \"disdrodb\", \"date_opened\": \"2024-01-18T17:25:28+00:00\", \"labels\": \"['1/editor-assigned']\", \"status\": \"under-review\", \"days_open\": 251}, {\"Unnamed: 0\": 25, \"package_name\": \"Plenoptic\", \"date_opened\": \"2023-11-17T20:39:40+00:00\", \"labels\": \"['3/reviewers-assigned', '\\u231b pending-maintainer-response']\", \"status\": \"on hold\", \"days_open\": 313}, {\"Unnamed: 0\": 29, \"package_name\": \"rdata\", \"date_opened\": \"2023-10-20T08:26:10+00:00\", \"labels\": \"['6/pyOS-approved']\", \"status\": \"pyos-accepted\", \"days_open\": 341}, {\"Unnamed: 0\": 32, \"package_name\": \"GemGIS\", \"date_opened\": \"2023-08-08T07:11:59+00:00\", \"labels\": \"['4/reviews-in-awaiting-changes', '\\u231b pending-maintainer-response', 'on-hold']\", \"status\": \"on hold\", \"days_open\": 414}, {\"Unnamed: 0\": 33, \"package_name\": \"psychoanalyze\", \"date_opened\": \"2023-08-04T19:38:38+00:00\", \"labels\": \"['0/pre-review-checks', '\\u231b pending-maintainer-response', 'on-hold']\", \"status\": \"on hold\", \"days_open\": 418}, {\"Unnamed: 0\": 37, \"package_name\": \"climate_indices\", \"date_opened\": \"2023-05-12T19:51:24+00:00\", \"labels\": \"['0/pre-review-checks', '\\u231b pending-maintainer-response']\", \"status\": \"on hold\", \"days_open\": 502}, {\"Unnamed: 0\": 45, \"package_name\": \"Hamilton (sf-hamilton on pypi)\", \"date_opened\": \"2023-02-01T20:37:10+00:00\", \"labels\": \"['0/pre-review-checks', 'on-hold']\", \"status\": \"on hold\", \"days_open\": 602}]}}, {\"mode\": \"vega-lite\"});\n",
       "</script>"
      ],
      "text/plain": [
       "alt.Chart(...)"
      ]
     },
     "execution_count": 39,
     "metadata": {},
     "output_type": "execute_result"
    }
   ],
   "source": [
    "\n",
    "# Create the Altair chart using object-oriented syntax\n",
    "chart = (\n",
    "    alt.Chart(open_reviews)\n",
    "    .mark_line(point=alt.MarkConfig(filled=True, size=100), strokeWidth=0)\n",
    "    .encode(\n",
    "        x=alt.X('date_opened:T', axis=alt.Axis(labelAngle=-45, format='%Y-%m-%d')), # Ordinal quarter on the x-axis\n",
    "        y=alt.Y('days_open:Q'),  # Quantitative days_open on the y-axis\n",
    "        tooltip=['package_name', 'status', 'days_open', 'date_opened']\n",
    "    )\n",
    "    .properties(title=\"Open Reviews - Days Open\", width=\"container\")\n",
    "    .interactive()\n",
    ")\n",
    "\n",
    "chart"
   ]
  }
 ],
 "metadata": {
  "kernelspec": {
   "display_name": "Python 3 (ipykernel)",
   "language": "python",
   "name": "python3"
  },
  "language_info": {
   "codemirror_mode": {
    "name": "ipython",
    "version": 3
   },
   "file_extension": ".py",
   "mimetype": "text/x-python",
   "name": "python",
   "nbconvert_exporter": "python",
   "pygments_lexer": "ipython3",
   "version": "3.11.9"
  },
  "vscode": {
   "interpreter": {
    "hash": "d7b89e158b719c02a21186c9646700ecf5a8cc5b1b6f738df9b6ffa75e5e74e4"
   }
  }
 },
 "nbformat": 4,
 "nbformat_minor": 4
}
