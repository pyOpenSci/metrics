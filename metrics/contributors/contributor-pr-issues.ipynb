{
 "cells": [
  {
   "cell_type": "markdown",
   "metadata": {
    "editable": true,
    "slideshow": {
     "slide_type": ""
    },
    "tags": []
   },
   "source": [
    "---\n",
    "title: Contributor Metrics -- pyOpenSci\n",
    "subtitle: Counts of issue and pull request activity on GitHub\n",
    "license:\n",
    "  code: BSD-3-Clause\n",
    "---"
   ]
  },
  {
   "cell_type": "code",
   "execution_count": 3,
   "metadata": {
    "editable": true,
    "slideshow": {
     "slide_type": ""
    },
    "tags": [
     "remove-input"
    ]
   },
   "outputs": [
    {
     "data": {
      "text/html": [
       "<link href=\"https://fonts.googleapis.com/css2?family=Poppins:wght@400;700&display=swap\" rel=\"stylesheet\">"
      ],
      "text/plain": [
       "<IPython.core.display.HTML object>"
      ]
     },
     "metadata": {},
     "output_type": "display_data"
    }
   ],
   "source": [
    "import warnings\n",
    "from pathlib import Path\n",
    "\n",
    "import altair as alt\n",
    "import pandas as pd\n",
    "\n",
    "# This is a local module that stores the plot theme\n",
    "from pyosmetrics.plot_theme import load_poppins_font, register_and_enable_poppins_theme\n",
    "\n",
    "pd.options.mode.chained_assignment = None\n",
    "pd.options.future.infer_string = True\n",
    "\n",
    "# Suppress all warnings\n",
    "warnings.filterwarnings(\"ignore\")\n",
    "\n",
    "# Load the & register Poppins theme\n",
    "load_poppins_font()\n",
    "register_and_enable_poppins_theme()"
   ]
  },
  {
   "cell_type": "code",
   "execution_count": 4,
   "metadata": {
    "editable": true,
    "slideshow": {
     "slide_type": ""
    },
    "tags": [
     "remove-input"
    ]
   },
   "outputs": [],
   "source": [
    "# Get the current notebook directory\n",
    "current_dir = Path.cwd()\n",
    "parent_dir = current_dir.parent.parent\n",
    "data_dir = parent_dir / \"_data\"\n",
    "all_files = list(data_dir.glob(\"*\"))\n",
    "dfs = [pd.read_csv(file, parse_dates=[\"item_opened_by\"]) for file in all_files]\n",
    "df = pd.concat(dfs, ignore_index=True)"
   ]
  },
  {
   "cell_type": "markdown",
   "metadata": {},
   "source": [
    "## All contributions to date \n",
    "\n",
    "The plot below shows total contributions to pyOpenSci. To create this plot we:\n",
    "\n",
    "1. Removed any contributions from bots\n",
    "2. Stratified the data to show both core staff contributions vs. non-staff contributions. \n",
    "\n",
    "\n",
    "### Staff vs. volunteer contributions\n",
    "\n",
    "Non-staff contributions tend to grow between May and August which cover Q3 and Q4 when we travel to meetings such as SciPy and PyCon and host sprint and other events. Q4 is typically slower given the holiday season.  "
   ]
  },
  {
   "cell_type": "code",
   "execution_count": 5,
   "metadata": {
    "editable": true,
    "slideshow": {
     "slide_type": ""
    },
    "tags": [
     "remove-input"
    ]
   },
   "outputs": [],
   "source": [
    "df[\"quarter\"] = df[\"item_opened_by\"].dt.to_period(\"Q\")\n",
    "\n",
    "# Group by quarter and contrib_type (staff vs non-staff)\n",
    "df_quarters = df.groupby([\"quarter\", \"contrib_type\"]).size().reset_index(name=\"count\")\n",
    "df_quarters[\"quarter\"] = df_quarters[\"quarter\"].astype(str)\n",
    "\n",
    "# Create a new column for filtered labels\n",
    "df_quarters[\"quarter_label\"] = df_quarters[\"quarter\"]\n",
    "df_quarters[\"year\"] = df_quarters[\"quarter\"].str[:4]\n",
    "df_quarters[\"qtr\"] = df_quarters[\"quarter\"].str[-2:]\n",
    "df_quarters.reset_index(inplace=True)"
   ]
  },
  {
   "cell_type": "code",
   "execution_count": 6,
   "metadata": {
    "editable": true,
    "scrolled": true,
    "slideshow": {
     "slide_type": ""
    },
    "tags": [
     "remove-input"
    ]
   },
   "outputs": [
    {
     "data": {
      "text/html": [
       "\n",
       "<style>\n",
       "  #altair-viz-fa1b7716547a418486a22591d0ba71a7.vega-embed {\n",
       "    width: 100%;\n",
       "    display: flex;\n",
       "  }\n",
       "\n",
       "  #altair-viz-fa1b7716547a418486a22591d0ba71a7.vega-embed details,\n",
       "  #altair-viz-fa1b7716547a418486a22591d0ba71a7.vega-embed details summary {\n",
       "    position: relative;\n",
       "  }\n",
       "</style>\n",
       "<div id=\"altair-viz-fa1b7716547a418486a22591d0ba71a7\"></div>\n",
       "<script type=\"text/javascript\">\n",
       "  var VEGA_DEBUG = (typeof VEGA_DEBUG == \"undefined\") ? {} : VEGA_DEBUG;\n",
       "  (function(spec, embedOpt){\n",
       "    let outputDiv = document.currentScript.previousElementSibling;\n",
       "    if (outputDiv.id !== \"altair-viz-fa1b7716547a418486a22591d0ba71a7\") {\n",
       "      outputDiv = document.getElementById(\"altair-viz-fa1b7716547a418486a22591d0ba71a7\");\n",
       "    }\n",
       "    const paths = {\n",
       "      \"vega\": \"https://cdn.jsdelivr.net/npm/vega@5?noext\",\n",
       "      \"vega-lib\": \"https://cdn.jsdelivr.net/npm/vega-lib?noext\",\n",
       "      \"vega-lite\": \"https://cdn.jsdelivr.net/npm/vega-lite@5.17.0?noext\",\n",
       "      \"vega-embed\": \"https://cdn.jsdelivr.net/npm/vega-embed@6?noext\",\n",
       "    };\n",
       "\n",
       "    function maybeLoadScript(lib, version) {\n",
       "      var key = `${lib.replace(\"-\", \"\")}_version`;\n",
       "      return (VEGA_DEBUG[key] == version) ?\n",
       "        Promise.resolve(paths[lib]) :\n",
       "        new Promise(function(resolve, reject) {\n",
       "          var s = document.createElement('script');\n",
       "          document.getElementsByTagName(\"head\")[0].appendChild(s);\n",
       "          s.async = true;\n",
       "          s.onload = () => {\n",
       "            VEGA_DEBUG[key] = version;\n",
       "            return resolve(paths[lib]);\n",
       "          };\n",
       "          s.onerror = () => reject(`Error loading script: ${paths[lib]}`);\n",
       "          s.src = paths[lib];\n",
       "        });\n",
       "    }\n",
       "\n",
       "    function showError(err) {\n",
       "      outputDiv.innerHTML = `<div class=\"error\" style=\"color:red;\">${err}</div>`;\n",
       "      throw err;\n",
       "    }\n",
       "\n",
       "    function displayChart(vegaEmbed) {\n",
       "      vegaEmbed(outputDiv, spec, embedOpt)\n",
       "        .catch(err => showError(`Javascript Error: ${err.message}<br>This usually means there's a typo in your chart specification. See the javascript console for the full traceback.`));\n",
       "    }\n",
       "\n",
       "    if(typeof define === \"function\" && define.amd) {\n",
       "      requirejs.config({paths});\n",
       "      require([\"vega-embed\"], displayChart, err => showError(`Error loading script: ${err.message}`));\n",
       "    } else {\n",
       "      maybeLoadScript(\"vega\", \"5\")\n",
       "        .then(() => maybeLoadScript(\"vega-lite\", \"5.17.0\"))\n",
       "        .then(() => maybeLoadScript(\"vega-embed\", \"6\"))\n",
       "        .catch(showError)\n",
       "        .then(() => displayChart(vegaEmbed));\n",
       "    }\n",
       "  })({\"config\": {\"title\": {\"fontSize\": 20, \"font\": \"Poppins\", \"anchor\": \"middle\", \"color\": \"black\", \"fontWeight\": 400, \"dy\": -20, \"dx\": 10}, \"axis\": {\"labelFontSize\": 14, \"titleFontSize\": 14, \"titleFont\": \"Poppins\", \"labelFont\": \"Poppins\"}, \"axisX\": {\"labelAngle\": 0}, \"legend\": {\"labelFontSize\": 12, \"titleFontSize\": 14, \"titleFont\": \"Poppins\", \"labelFont\": \"Poppins\", \"legendX\": -550, \"legendY\": -30, \"orient\": \"top\", \"title\": null}, \"bar\": {\"color\": \"purple\", \"fill\": \"purple\"}, \"line\": {\"color\": \"purple\"}, \"view\": {\"height\": 300, \"width\": 600, \"padding\": {\"top\": 190, \"left\": 10, \"right\": 10, \"bottom\": 90}}}, \"data\": {\"name\": \"data-a38b32270c469d94309ffe17adb62bf7\"}, \"mark\": {\"type\": \"bar\"}, \"encoding\": {\"color\": {\"field\": \"contrib_type\", \"scale\": {\"range\": [\"#81c0aa\", \"#735fab\"]}, \"title\": \"Contributor Type (Staff vs Non-Staff)\", \"type\": \"nominal\"}, \"tooltip\": [{\"field\": \"quarter\", \"type\": \"nominal\"}, {\"field\": \"contrib_type\", \"type\": \"nominal\"}, {\"field\": \"count\", \"type\": \"quantitative\"}], \"x\": {\"axis\": {\"labelExpr\": \"datum.index % 3 == 0 ? datum.label : \\\"\\\"\"}, \"field\": \"quarter\", \"title\": \"Quarter\", \"type\": \"ordinal\"}, \"y\": {\"field\": \"count\", \"stack\": true, \"title\": \"Count\", \"type\": \"quantitative\"}}, \"params\": [{\"name\": \"param_1\", \"select\": {\"type\": \"interval\", \"encodings\": [\"x\", \"y\"]}, \"bind\": \"scales\"}], \"title\": \"Staff vs. Non Staff Contributor by Quarter\", \"$schema\": \"https://vega.github.io/schema/vega-lite/v5.17.0.json\", \"datasets\": {\"data-a38b32270c469d94309ffe17adb62bf7\": [{\"index\": 0, \"quarter\": \"2018Q4\", \"contrib_type\": \"staff\", \"count\": 2, \"quarter_label\": \"2018Q4\", \"year\": \"2018\", \"qtr\": \"Q4\"}, {\"index\": 1, \"quarter\": \"2019Q1\", \"contrib_type\": \"contributor\", \"count\": 42, \"quarter_label\": \"2019Q1\", \"year\": \"2019\", \"qtr\": \"Q1\"}, {\"index\": 2, \"quarter\": \"2019Q1\", \"contrib_type\": \"staff\", \"count\": 1, \"quarter_label\": \"2019Q1\", \"year\": \"2019\", \"qtr\": \"Q1\"}, {\"index\": 3, \"quarter\": \"2019Q2\", \"contrib_type\": \"contributor\", \"count\": 47, \"quarter_label\": \"2019Q2\", \"year\": \"2019\", \"qtr\": \"Q2\"}, {\"index\": 4, \"quarter\": \"2019Q2\", \"contrib_type\": \"staff\", \"count\": 34, \"quarter_label\": \"2019Q2\", \"year\": \"2019\", \"qtr\": \"Q2\"}, {\"index\": 5, \"quarter\": \"2019Q3\", \"contrib_type\": \"contributor\", \"count\": 24, \"quarter_label\": \"2019Q3\", \"year\": \"2019\", \"qtr\": \"Q3\"}, {\"index\": 6, \"quarter\": \"2019Q3\", \"contrib_type\": \"staff\", \"count\": 10, \"quarter_label\": \"2019Q3\", \"year\": \"2019\", \"qtr\": \"Q3\"}, {\"index\": 7, \"quarter\": \"2019Q4\", \"contrib_type\": \"contributor\", \"count\": 39, \"quarter_label\": \"2019Q4\", \"year\": \"2019\", \"qtr\": \"Q4\"}, {\"index\": 8, \"quarter\": \"2019Q4\", \"contrib_type\": \"staff\", \"count\": 22, \"quarter_label\": \"2019Q4\", \"year\": \"2019\", \"qtr\": \"Q4\"}, {\"index\": 9, \"quarter\": \"2020Q1\", \"contrib_type\": \"contributor\", \"count\": 20, \"quarter_label\": \"2020Q1\", \"year\": \"2020\", \"qtr\": \"Q1\"}, {\"index\": 10, \"quarter\": \"2020Q2\", \"contrib_type\": \"contributor\", \"count\": 49, \"quarter_label\": \"2020Q2\", \"year\": \"2020\", \"qtr\": \"Q2\"}, {\"index\": 11, \"quarter\": \"2020Q2\", \"contrib_type\": \"staff\", \"count\": 30, \"quarter_label\": \"2020Q2\", \"year\": \"2020\", \"qtr\": \"Q2\"}, {\"index\": 12, \"quarter\": \"2020Q3\", \"contrib_type\": \"contributor\", \"count\": 7, \"quarter_label\": \"2020Q3\", \"year\": \"2020\", \"qtr\": \"Q3\"}, {\"index\": 13, \"quarter\": \"2020Q4\", \"contrib_type\": \"contributor\", \"count\": 22, \"quarter_label\": \"2020Q4\", \"year\": \"2020\", \"qtr\": \"Q4\"}, {\"index\": 14, \"quarter\": \"2021Q1\", \"contrib_type\": \"contributor\", \"count\": 13, \"quarter_label\": \"2021Q1\", \"year\": \"2021\", \"qtr\": \"Q1\"}, {\"index\": 15, \"quarter\": \"2021Q2\", \"contrib_type\": \"contributor\", \"count\": 23, \"quarter_label\": \"2021Q2\", \"year\": \"2021\", \"qtr\": \"Q2\"}, {\"index\": 16, \"quarter\": \"2021Q2\", \"contrib_type\": \"staff\", \"count\": 25, \"quarter_label\": \"2021Q2\", \"year\": \"2021\", \"qtr\": \"Q2\"}, {\"index\": 17, \"quarter\": \"2021Q3\", \"contrib_type\": \"contributor\", \"count\": 29, \"quarter_label\": \"2021Q3\", \"year\": \"2021\", \"qtr\": \"Q3\"}, {\"index\": 18, \"quarter\": \"2021Q3\", \"contrib_type\": \"staff\", \"count\": 5, \"quarter_label\": \"2021Q3\", \"year\": \"2021\", \"qtr\": \"Q3\"}, {\"index\": 19, \"quarter\": \"2021Q4\", \"contrib_type\": \"contributor\", \"count\": 5, \"quarter_label\": \"2021Q4\", \"year\": \"2021\", \"qtr\": \"Q4\"}, {\"index\": 20, \"quarter\": \"2021Q4\", \"contrib_type\": \"staff\", \"count\": 1, \"quarter_label\": \"2021Q4\", \"year\": \"2021\", \"qtr\": \"Q4\"}, {\"index\": 21, \"quarter\": \"2022Q1\", \"contrib_type\": \"contributor\", \"count\": 13, \"quarter_label\": \"2022Q1\", \"year\": \"2022\", \"qtr\": \"Q1\"}, {\"index\": 22, \"quarter\": \"2022Q2\", \"contrib_type\": \"contributor\", \"count\": 4, \"quarter_label\": \"2022Q2\", \"year\": \"2022\", \"qtr\": \"Q2\"}, {\"index\": 23, \"quarter\": \"2022Q2\", \"contrib_type\": \"staff\", \"count\": 3, \"quarter_label\": \"2022Q2\", \"year\": \"2022\", \"qtr\": \"Q2\"}, {\"index\": 24, \"quarter\": \"2022Q3\", \"contrib_type\": \"contributor\", \"count\": 24, \"quarter_label\": \"2022Q3\", \"year\": \"2022\", \"qtr\": \"Q3\"}, {\"index\": 25, \"quarter\": \"2022Q3\", \"contrib_type\": \"staff\", \"count\": 83, \"quarter_label\": \"2022Q3\", \"year\": \"2022\", \"qtr\": \"Q3\"}, {\"index\": 26, \"quarter\": \"2022Q4\", \"contrib_type\": \"contributor\", \"count\": 48, \"quarter_label\": \"2022Q4\", \"year\": \"2022\", \"qtr\": \"Q4\"}, {\"index\": 27, \"quarter\": \"2022Q4\", \"contrib_type\": \"staff\", \"count\": 194, \"quarter_label\": \"2022Q4\", \"year\": \"2022\", \"qtr\": \"Q4\"}, {\"index\": 28, \"quarter\": \"2023Q1\", \"contrib_type\": \"contributor\", \"count\": 89, \"quarter_label\": \"2023Q1\", \"year\": \"2023\", \"qtr\": \"Q1\"}, {\"index\": 29, \"quarter\": \"2023Q1\", \"contrib_type\": \"staff\", \"count\": 164, \"quarter_label\": \"2023Q1\", \"year\": \"2023\", \"qtr\": \"Q1\"}, {\"index\": 30, \"quarter\": \"2023Q2\", \"contrib_type\": \"contributor\", \"count\": 118, \"quarter_label\": \"2023Q2\", \"year\": \"2023\", \"qtr\": \"Q2\"}, {\"index\": 31, \"quarter\": \"2023Q2\", \"contrib_type\": \"staff\", \"count\": 168, \"quarter_label\": \"2023Q2\", \"year\": \"2023\", \"qtr\": \"Q2\"}, {\"index\": 32, \"quarter\": \"2023Q3\", \"contrib_type\": \"contributor\", \"count\": 191, \"quarter_label\": \"2023Q3\", \"year\": \"2023\", \"qtr\": \"Q3\"}, {\"index\": 33, \"quarter\": \"2023Q3\", \"contrib_type\": \"staff\", \"count\": 156, \"quarter_label\": \"2023Q3\", \"year\": \"2023\", \"qtr\": \"Q3\"}, {\"index\": 34, \"quarter\": \"2023Q4\", \"contrib_type\": \"contributor\", \"count\": 91, \"quarter_label\": \"2023Q4\", \"year\": \"2023\", \"qtr\": \"Q4\"}, {\"index\": 35, \"quarter\": \"2023Q4\", \"contrib_type\": \"staff\", \"count\": 169, \"quarter_label\": \"2023Q4\", \"year\": \"2023\", \"qtr\": \"Q4\"}, {\"index\": 36, \"quarter\": \"2024Q1\", \"contrib_type\": \"contributor\", \"count\": 102, \"quarter_label\": \"2024Q1\", \"year\": \"2024\", \"qtr\": \"Q1\"}, {\"index\": 37, \"quarter\": \"2024Q1\", \"contrib_type\": \"staff\", \"count\": 232, \"quarter_label\": \"2024Q1\", \"year\": \"2024\", \"qtr\": \"Q1\"}, {\"index\": 38, \"quarter\": \"2024Q2\", \"contrib_type\": \"contributor\", \"count\": 198, \"quarter_label\": \"2024Q2\", \"year\": \"2024\", \"qtr\": \"Q2\"}, {\"index\": 39, \"quarter\": \"2024Q2\", \"contrib_type\": \"staff\", \"count\": 202, \"quarter_label\": \"2024Q2\", \"year\": \"2024\", \"qtr\": \"Q2\"}, {\"index\": 40, \"quarter\": \"2024Q3\", \"contrib_type\": \"contributor\", \"count\": 214, \"quarter_label\": \"2024Q3\", \"year\": \"2024\", \"qtr\": \"Q3\"}, {\"index\": 41, \"quarter\": \"2024Q3\", \"contrib_type\": \"staff\", \"count\": 162, \"quarter_label\": \"2024Q3\", \"year\": \"2024\", \"qtr\": \"Q3\"}]}}, {\"mode\": \"vega-lite\"});\n",
       "</script>"
      ],
      "text/plain": [
       "alt.Chart(...)"
      ]
     },
     "execution_count": 6,
     "metadata": {},
     "output_type": "execute_result"
    }
   ],
   "source": [
    "# Create the Altair chart\n",
    "chart = (\n",
    "    alt.Chart(df_quarters)\n",
    "    .mark_bar()\n",
    "    .encode(\n",
    "        x=alt.X(\n",
    "            \"quarter:O\",\n",
    "            title=\"Quarter\",\n",
    "            axis=alt.Axis(labelExpr='datum.index % 3 == 0 ? datum.label : \"\"')),\n",
    "        y=alt.Y(\"count:Q\", stack=True, title=\"Count\"),\n",
    "        color=alt.Color(\n",
    "            \"contrib_type:N\",\n",
    "            title=\"Contributor Type (Staff vs Non-Staff)\",\n",
    "            scale=alt.Scale(range=[\"#81c0aa\", \"#735fab\"]),\n",
    "        ),\n",
    "        tooltip=[\"quarter\", \"contrib_type\", \"count\"],\n",
    "    )\n",
    "    .properties(title=\"Staff vs. Non Staff Contributor by Quarter\")\n",
    "    .configure_legend(\n",
    "        orient=\"top\",\n",
    "        title=None,\n",
    "        legendX=-550,\n",
    "        legendY=-30,\n",
    "    )\n",
    "    .interactive()\n",
    ")\n",
    "\n",
    "chart"
   ]
  },
  {
   "cell_type": "code",
   "execution_count": null,
   "metadata": {},
   "outputs": [],
   "source": []
  }
 ],
 "metadata": {
  "kernelspec": {
   "display_name": "Python 3 (ipykernel)",
   "language": "python",
   "name": "python3"
  },
  "language_info": {
   "codemirror_mode": {
    "name": "ipython",
    "version": 3
   },
   "file_extension": ".py",
   "mimetype": "text/x-python",
   "name": "python",
   "nbconvert_exporter": "python",
   "pygments_lexer": "ipython3",
   "version": "3.11.9"
  },
  "vscode": {
   "interpreter": {
    "hash": "d7b89e158b719c02a21186c9646700ecf5a8cc5b1b6f738df9b6ffa75e5e74e4"
   }
  }
 },
 "nbformat": 4,
 "nbformat_minor": 4
}
