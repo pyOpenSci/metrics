{
 "cells": [
  {
   "cell_type": "markdown",
   "metadata": {
    "editable": true,
    "slideshow": {
     "slide_type": ""
    },
    "tags": []
   },
   "source": [
    "---\n",
    "title: Current Software Review Stats\n",
    "subtitle: pyOpenSci Peer Review Summary Stats\n",
    "license:\n",
    "  code: BSD-3-Clause\n",
    "---\n",
    "\n",
    "This is a workflow that collects all GitHub issues associated with our reviews."
   ]
  },
  {
   "cell_type": "code",
   "execution_count": 1,
   "metadata": {
    "editable": true,
    "slideshow": {
     "slide_type": ""
    },
    "tags": [
     "remove-input"
    ]
   },
   "outputs": [],
   "source": [
    "# https://github.com/ryantam626/jupyterlab_code_formatter\n",
    "# TODO: calculate days open in the script that grabs the data!!\n",
    "import os\n",
    "import warnings\n",
    "from datetime import datetime, timezone\n",
    "\n",
    "import altair as alt\n",
    "import pandas as pd\n",
    "import pytz\n",
    "from pyosmeta import ProcessIssues\n",
    "from pyosmeta.github_api import GitHubAPI\n",
    "\n",
    "from pyosmetrics.functions import count_edits_by_quarter\n",
    "\n",
    "# Suppress all warnings\n",
    "warnings.filterwarnings(\"ignore\")\n",
    "# Make tables nicer\n",
    "pd.set_option(\"display.max_colwidth\", None)\n",
    "today = datetime.now(timezone.utc)"
   ]
  },
  {
   "cell_type": "code",
   "execution_count": 2,
   "metadata": {
    "editable": true,
    "lines_to_next_cell": 2,
    "slideshow": {
     "slide_type": ""
    },
    "tags": [
     "remove-input"
    ]
   },
   "outputs": [],
   "source": [
    "# Get all current reviews\n",
    "reviews = pd.read_csv(\n",
    "    \"../../_data/review_submissions.csv\",\n",
    "    parse_dates=[\"date_opened\", \"date_closed\", \"last_comment_date\"],\n",
    ")\n",
    "reviews[\"date_opened\"] = reviews[\"date_opened\"]\n",
    "reviews[\"last_comment_date\"] = reviews[\"last_comment_date\"]\n",
    "reviews = reviews.rename(\n",
    "    columns={\n",
    "        \"package_name\": \"Name\",\n",
    "        \"date_opened\": \"Date Opened\",\n",
    "        \"date_closed\": \"Date Closed\",\n",
    "        \"issue_num\": \"Issue\",\n",
    "        \"description\": \"Description\",\n",
    "        \"categories\": \"Categories\",\n",
    "        \"last_comment_date\": \"Last Comment\",\n",
    "        \"last_comment_user\": \"Last User to Comment\",\n",
    "    }\n",
    ")"
   ]
  },
  {
   "cell_type": "code",
   "execution_count": 3,
   "metadata": {
    "editable": true,
    "slideshow": {
     "slide_type": ""
    },
    "tags": [
     "remove-input"
    ]
   },
   "outputs": [],
   "source": [
    "open_reviews = reviews[reviews[\"Date Closed\"].isna()]\n",
    "open_reviews.drop(columns=[\"Date Closed\",\"Unnamed: 0\"], inplace=True)\n",
    "total_open = len(open_reviews)"
   ]
  },
  {
   "cell_type": "code",
   "execution_count": 4,
   "metadata": {
    "editable": true,
    "slideshow": {
     "slide_type": ""
    },
    "tags": [
     "remove-input"
    ]
   },
   "outputs": [],
   "source": [
    "open_reviews[\"Days Open\"] = (today - open_reviews[\"Date Opened\"]).dt.days\n",
    "open_reviews[\"Date Opened\"] = open_reviews[\"Date Opened\"].dt.date\n",
    "open_reviews[\"Last Comment\"] = open_reviews[\"Last Comment\"].dt.date"
   ]
  },
  {
   "cell_type": "markdown",
   "metadata": {
    "editable": true,
    "slideshow": {
     "slide_type": ""
    },
    "tags": [],
    "user_expressions": [
     {
      "expression": "total_open",
      "result": {
       "data": {
        "text/plain": "3"
       },
       "metadata": {},
       "status": "ok"
      }
     }
    ]
   },
   "source": [
    "## Current open reviews & total days open\n",
    "\n",
    "pyOpenSci currently has **{eval}`total_open`** total open submissions."
   ]
  },
  {
   "cell_type": "markdown",
   "metadata": {
    "editable": true,
    "slideshow": {
     "slide_type": ""
    },
    "tags": []
   },
   "source": [
    "## Packages that need editors\n",
    "\n",
    "The packages below need an editor before the review can begin."
   ]
  },
  {
   "cell_type": "code",
   "execution_count": 5,
   "metadata": {
    "editable": true,
    "lines_to_next_cell": 2,
    "slideshow": {
     "slide_type": ""
    },
    "tags": [
     "remove-input"
    ]
   },
   "outputs": [],
   "source": [
    "seeking_editor = open_reviews[\n",
    "    open_reviews[\"labels\"].str.contains(\"0/seeking-editor\", na=False)\n",
    "].copy()\n",
    "seeking_editor.drop(\n",
    "    columns=[ \"labels\", \"status\"], inplace=True\n",
    ")\n",
    "seeking_editor.reset_index(drop=True, inplace=True)"
   ]
  },
  {
   "cell_type": "code",
   "execution_count": 6,
   "metadata": {
    "editable": true,
    "slideshow": {
     "slide_type": ""
    },
    "tags": [
     "remove-input"
    ]
   },
   "outputs": [
    {
     "data": {
      "text/html": [
       "<style type=\"text/css\">\n",
       "#T_11201_row0_col0, #T_11201_row0_col1, #T_11201_row0_col2, #T_11201_row0_col3, #T_11201_row0_col4, #T_11201_row0_col5, #T_11201_row0_col6, #T_11201_row0_col7, #T_11201_row0_col8, #T_11201_row0_col9, #T_11201_row1_col0, #T_11201_row1_col1, #T_11201_row1_col2, #T_11201_row1_col3, #T_11201_row1_col4, #T_11201_row1_col5, #T_11201_row1_col6, #T_11201_row1_col7, #T_11201_row1_col8, #T_11201_row1_col9, #T_11201_row2_col0, #T_11201_row2_col1, #T_11201_row2_col2, #T_11201_row2_col3, #T_11201_row2_col4, #T_11201_row2_col5, #T_11201_row2_col6, #T_11201_row2_col7, #T_11201_row2_col8, #T_11201_row2_col9, #T_11201_row3_col0, #T_11201_row3_col1, #T_11201_row3_col2, #T_11201_row3_col3, #T_11201_row3_col4, #T_11201_row3_col5, #T_11201_row3_col6, #T_11201_row3_col7, #T_11201_row3_col8, #T_11201_row3_col9, #T_11201_row4_col0, #T_11201_row4_col1, #T_11201_row4_col2, #T_11201_row4_col3, #T_11201_row4_col4, #T_11201_row4_col5, #T_11201_row4_col6, #T_11201_row4_col7, #T_11201_row4_col8, #T_11201_row4_col9, #T_11201_row5_col0, #T_11201_row5_col1, #T_11201_row5_col2, #T_11201_row5_col3, #T_11201_row5_col4, #T_11201_row5_col5, #T_11201_row5_col6, #T_11201_row5_col7, #T_11201_row5_col8, #T_11201_row5_col9, #T_11201_row6_col0, #T_11201_row6_col1, #T_11201_row6_col2, #T_11201_row6_col3, #T_11201_row6_col4, #T_11201_row6_col5, #T_11201_row6_col6, #T_11201_row6_col7, #T_11201_row6_col8, #T_11201_row6_col9 {\n",
       "  text-align: left;\n",
       "  white-space: normal;\n",
       "}\n",
       "</style>\n",
       "<table id=\"T_11201\">\n",
       "  <thead>\n",
       "    <tr>\n",
       "      <th class=\"blank level0\" >&nbsp;</th>\n",
       "      <th id=\"T_11201_level0_col0\" class=\"col_heading level0 col0\" >Name</th>\n",
       "      <th id=\"T_11201_level0_col1\" class=\"col_heading level0 col1\" >editor</th>\n",
       "      <th id=\"T_11201_level0_col2\" class=\"col_heading level0 col2\" >eic</th>\n",
       "      <th id=\"T_11201_level0_col3\" class=\"col_heading level0 col3\" >Date Opened</th>\n",
       "      <th id=\"T_11201_level0_col4\" class=\"col_heading level0 col4\" >Issue</th>\n",
       "      <th id=\"T_11201_level0_col5\" class=\"col_heading level0 col5\" >Description</th>\n",
       "      <th id=\"T_11201_level0_col6\" class=\"col_heading level0 col6\" >Categories</th>\n",
       "      <th id=\"T_11201_level0_col7\" class=\"col_heading level0 col7\" >Last Comment</th>\n",
       "      <th id=\"T_11201_level0_col8\" class=\"col_heading level0 col8\" >Last User to Comment</th>\n",
       "      <th id=\"T_11201_level0_col9\" class=\"col_heading level0 col9\" >Days Open</th>\n",
       "    </tr>\n",
       "  </thead>\n",
       "  <tbody>\n",
       "    <tr>\n",
       "      <th id=\"T_11201_level0_row0\" class=\"row_heading level0 row0\" >0</th>\n",
       "      <td id=\"T_11201_row0_col0\" class=\"data row0 col0\" >pymultifit</td>\n",
       "      <td id=\"T_11201_row0_col1\" class=\"data row0 col1\" >TBD</td>\n",
       "      <td id=\"T_11201_row0_col2\" class=\"data row0 col2\" >coatless</td>\n",
       "      <td id=\"T_11201_row0_col3\" class=\"data row0 col3\" >2025-01-21</td>\n",
       "      <td id=\"T_11201_row0_col4\" class=\"data row0 col4\" >233</td>\n",
       "      <td id=\"T_11201_row0_col5\" class=\"data row0 col5\" >A python library for fitting data with multiple models.</td>\n",
       "      <td id=\"T_11201_row0_col6\" class=\"data row0 col6\" >['data-processing-munging']</td>\n",
       "      <td id=\"T_11201_row0_col7\" class=\"data row0 col7\" >2025-01-31</td>\n",
       "      <td id=\"T_11201_row0_col8\" class=\"data row0 col8\" >syedalimohsinbukhari</td>\n",
       "      <td id=\"T_11201_row0_col9\" class=\"data row0 col9\" >16</td>\n",
       "    </tr>\n",
       "    <tr>\n",
       "      <th id=\"T_11201_level0_row1\" class=\"row_heading level0 row1\" >1</th>\n",
       "      <td id=\"T_11201_row1_col0\" class=\"data row1 col0\" >BlockingPy</td>\n",
       "      <td id=\"T_11201_row1_col1\" class=\"data row1 col1\" >TBD</td>\n",
       "      <td id=\"T_11201_row1_col2\" class=\"data row1 col2\" >coatless</td>\n",
       "      <td id=\"T_11201_row1_col3\" class=\"data row1 col3\" >2025-01-09</td>\n",
       "      <td id=\"T_11201_row1_col4\" class=\"data row1 col4\" >232</td>\n",
       "      <td id=\"T_11201_row1_col5\" class=\"data row1 col5\" >Blocking records for record linkage and deduplication with Approximate Nearest Neighbor algorithms.;</td>\n",
       "      <td id=\"T_11201_row1_col6\" class=\"data row1 col6\" >['data-processing-munging']</td>\n",
       "      <td id=\"T_11201_row1_col7\" class=\"data row1 col7\" >2025-01-21</td>\n",
       "      <td id=\"T_11201_row1_col8\" class=\"data row1 col8\" >T-Strojny</td>\n",
       "      <td id=\"T_11201_row1_col9\" class=\"data row1 col9\" >28</td>\n",
       "    </tr>\n",
       "    <tr>\n",
       "      <th id=\"T_11201_level0_row2\" class=\"row_heading level0 row2\" >2</th>\n",
       "      <td id=\"T_11201_row2_col0\" class=\"data row2 col0\" >PIVA</td>\n",
       "      <td id=\"T_11201_row2_col1\" class=\"data row2 col1\" >TBD</td>\n",
       "      <td id=\"T_11201_row2_col2\" class=\"data row2 col2\" >coatless</td>\n",
       "      <td id=\"T_11201_row2_col3\" class=\"data row2 col3\" >2025-01-04</td>\n",
       "      <td id=\"T_11201_row2_col4\" class=\"data row2 col4\" >231</td>\n",
       "      <td id=\"T_11201_row2_col5\" class=\"data row2 col5\" >Visualization and analysis toolkit for experimental data from Angle-Resolved Photoemission Spectroscopy (ARPES)</td>\n",
       "      <td id=\"T_11201_row2_col6\" class=\"data row2 col6\" >['data-extraction', 'data-visualization']</td>\n",
       "      <td id=\"T_11201_row2_col7\" class=\"data row2 col7\" >2025-01-23</td>\n",
       "      <td id=\"T_11201_row2_col8\" class=\"data row2 col8\" >coatless</td>\n",
       "      <td id=\"T_11201_row2_col9\" class=\"data row2 col9\" >33</td>\n",
       "    </tr>\n",
       "    <tr>\n",
       "      <th id=\"T_11201_level0_row3\" class=\"row_heading level0 row3\" >3</th>\n",
       "      <td id=\"T_11201_row3_col0\" class=\"data row3 col0\" >GREOPy</td>\n",
       "      <td id=\"T_11201_row3_col1\" class=\"data row3 col1\" >TBD</td>\n",
       "      <td id=\"T_11201_row3_col2\" class=\"data row3 col2\" >coatless</td>\n",
       "      <td id=\"T_11201_row3_col3\" class=\"data row3 col3\" >2024-12-21</td>\n",
       "      <td id=\"T_11201_row3_col4\" class=\"data row3 col4\" >227</td>\n",
       "      <td id=\"T_11201_row3_col5\" class=\"data row3 col5\" >Calculate relativistic light rays sent by an emitter to a receiver in the presence of a gravitational field.</td>\n",
       "      <td id=\"T_11201_row3_col6\" class=\"data row3 col6\" >['data-processing-munging']</td>\n",
       "      <td id=\"T_11201_row3_col7\" class=\"data row3 col7\" >2025-01-31</td>\n",
       "      <td id=\"T_11201_row3_col8\" class=\"data row3 col8\" >coatless</td>\n",
       "      <td id=\"T_11201_row3_col9\" class=\"data row3 col9\" >47</td>\n",
       "    </tr>\n",
       "    <tr>\n",
       "      <th id=\"T_11201_level0_row4\" class=\"row_heading level0 row4\" >4</th>\n",
       "      <td id=\"T_11201_row4_col0\" class=\"data row4 col0\" >GALAssify</td>\n",
       "      <td id=\"T_11201_row4_col1\" class=\"data row4 col1\" >TBD</td>\n",
       "      <td id=\"T_11201_row4_col2\" class=\"data row4 col2\" >SimonMolinsky</td>\n",
       "      <td id=\"T_11201_row4_col3\" class=\"data row4 col3\" >2024-09-30</td>\n",
       "      <td id=\"T_11201_row4_col4\" class=\"data row4 col4\" >214</td>\n",
       "      <td id=\"T_11201_row4_col5\" class=\"data row4 col5\" >A Python package for visually classifying astronomical objects</td>\n",
       "      <td id=\"T_11201_row4_col6\" class=\"data row4 col6\" >['data-validation-testing', 'data-visualization']</td>\n",
       "      <td id=\"T_11201_row4_col7\" class=\"data row4 col7\" >2024-12-02</td>\n",
       "      <td id=\"T_11201_row4_col8\" class=\"data row4 col8\" >SimonMolinsky</td>\n",
       "      <td id=\"T_11201_row4_col9\" class=\"data row4 col9\" >129</td>\n",
       "    </tr>\n",
       "    <tr>\n",
       "      <th id=\"T_11201_level0_row5\" class=\"row_heading level0 row5\" >5</th>\n",
       "      <td id=\"T_11201_row5_col0\" class=\"data row5 col0\" >neonutilities</td>\n",
       "      <td id=\"T_11201_row5_col1\" class=\"data row5 col1\" >TBD</td>\n",
       "      <td id=\"T_11201_row5_col2\" class=\"data row5 col2\" >cmarmo</td>\n",
       "      <td id=\"T_11201_row5_col3\" class=\"data row5 col3\" >2024-09-25</td>\n",
       "      <td id=\"T_11201_row5_col4\" class=\"data row5 col4\" >213</td>\n",
       "      <td id=\"T_11201_row5_col5\" class=\"data row5 col5\" >neonutilities is a package for accessing and wrangling data generated and published by the National Ecological Observatory Network.</td>\n",
       "      <td id=\"T_11201_row5_col6\" class=\"data row5 col6\" >['data-retrieval', 'data-processing-munging']</td>\n",
       "      <td id=\"T_11201_row5_col7\" class=\"data row5 col7\" >2024-12-09</td>\n",
       "      <td id=\"T_11201_row5_col8\" class=\"data row5 col8\" >cklunch</td>\n",
       "      <td id=\"T_11201_row5_col9\" class=\"data row5 col9\" >134</td>\n",
       "    </tr>\n",
       "    <tr>\n",
       "      <th id=\"T_11201_level0_row6\" class=\"row_heading level0 row6\" >6</th>\n",
       "      <td id=\"T_11201_row6_col0\" class=\"data row6 col0\" >disdrodb</td>\n",
       "      <td id=\"T_11201_row6_col1\" class=\"data row6 col1\" >zeitsperre</td>\n",
       "      <td id=\"T_11201_row6_col2\" class=\"data row6 col2\" >isabelizimm</td>\n",
       "      <td id=\"T_11201_row6_col3\" class=\"data row6 col3\" >2024-01-18</td>\n",
       "      <td id=\"T_11201_row6_col4\" class=\"data row6 col4\" >156</td>\n",
       "      <td id=\"T_11201_row6_col5\" class=\"data row6 col5\" >disdrodb -  A software for the decentralized archiving and standardization of global disdrometer data</td>\n",
       "      <td id=\"T_11201_row6_col6\" class=\"data row6 col6\" >['data-retrieval', 'data-processing-munging', 'data-deposition']</td>\n",
       "      <td id=\"T_11201_row6_col7\" class=\"data row6 col7\" >2025-02-06</td>\n",
       "      <td id=\"T_11201_row6_col8\" class=\"data row6 col8\" >lwasser</td>\n",
       "      <td id=\"T_11201_row6_col9\" class=\"data row6 col9\" >385</td>\n",
       "    </tr>\n",
       "  </tbody>\n",
       "</table>\n"
      ],
      "text/plain": [
       "<pandas.io.formats.style.Styler at 0x11089d4d0>"
      ]
     },
     "execution_count": 6,
     "metadata": {},
     "output_type": "execute_result"
    }
   ],
   "source": [
    "seeking_editor.style.set_properties(\n",
    "    **{\"text-align\": \"left\", \"white-space\": \"normal\"}\n",
    ")"
   ]
  },
  {
   "cell_type": "markdown",
   "metadata": {
    "editable": true,
    "slideshow": {
     "slide_type": ""
    },
    "tags": []
   },
   "source": [
    "## Packages that need reviewers\n",
    "\n",
    "These are reviews that are paused because we are searching for reviewers. "
   ]
  },
  {
   "cell_type": "code",
   "execution_count": 7,
   "metadata": {
    "editable": true,
    "slideshow": {
     "slide_type": ""
    },
    "tags": [
     "remove-input"
    ]
   },
   "outputs": [
    {
     "data": {
      "text/html": [
       "<div>\n",
       "<style scoped>\n",
       "    .dataframe tbody tr th:only-of-type {\n",
       "        vertical-align: middle;\n",
       "    }\n",
       "\n",
       "    .dataframe tbody tr th {\n",
       "        vertical-align: top;\n",
       "    }\n",
       "\n",
       "    .dataframe thead th {\n",
       "        text-align: right;\n",
       "    }\n",
       "</style>\n",
       "<table border=\"1\" class=\"dataframe\">\n",
       "  <thead>\n",
       "    <tr style=\"text-align: right;\">\n",
       "      <th></th>\n",
       "      <th>Name</th>\n",
       "      <th>editor</th>\n",
       "      <th>eic</th>\n",
       "      <th>Date Opened</th>\n",
       "      <th>labels</th>\n",
       "      <th>Issue</th>\n",
       "      <th>Description</th>\n",
       "      <th>Categories</th>\n",
       "      <th>status</th>\n",
       "      <th>Last Comment</th>\n",
       "      <th>Last User to Comment</th>\n",
       "      <th>Days Open</th>\n",
       "    </tr>\n",
       "  </thead>\n",
       "  <tbody>\n",
       "    <tr>\n",
       "      <th>10</th>\n",
       "      <td>Solar Data Tools</td>\n",
       "      <td>cmarmo</td>\n",
       "      <td>cmarmo</td>\n",
       "      <td>2024-08-17</td>\n",
       "      <td>['2/seeking-reviewers']</td>\n",
       "      <td>210</td>\n",
       "      <td>Library of tools for analyzing photovoltaic power time-series data.</td>\n",
       "      <td>['data-retrieval', 'data-extraction', 'data-processing-munging', 'data-visualization']</td>\n",
       "      <td>under-review</td>\n",
       "      <td>2025-02-04</td>\n",
       "      <td>cmarmo</td>\n",
       "      <td>173</td>\n",
       "    </tr>\n",
       "  </tbody>\n",
       "</table>\n",
       "</div>"
      ],
      "text/plain": [
       "                Name  editor     eic Date Opened                   labels  \\\n",
       "10  Solar Data Tools  cmarmo  cmarmo  2024-08-17  ['2/seeking-reviewers']   \n",
       "\n",
       "    Issue  \\\n",
       "10    210   \n",
       "\n",
       "                                                            Description  \\\n",
       "10  Library of tools for analyzing photovoltaic power time-series data.   \n",
       "\n",
       "                                                                                Categories  \\\n",
       "10  ['data-retrieval', 'data-extraction', 'data-processing-munging', 'data-visualization']   \n",
       "\n",
       "          status Last Comment Last User to Comment  Days Open  \n",
       "10  under-review   2025-02-04               cmarmo        173  "
      ]
     },
     "execution_count": 7,
     "metadata": {},
     "output_type": "execute_result"
    }
   ],
   "source": [
    "seeking_reviewers = open_reviews[\n",
    "    open_reviews[\"labels\"].str.contains(\"2/seeking-reviewers\", na=False)\n",
    "].copy()\n",
    "seeking_reviewers"
   ]
  },
  {
   "cell_type": "code",
   "execution_count": 8,
   "metadata": {
    "editable": true,
    "slideshow": {
     "slide_type": ""
    },
    "tags": [
     "remove-input"
    ]
   },
   "outputs": [],
   "source": [
    "presubmissions = pd.read_csv(\n",
    "    \"../../_data/review_presubmissions.csv\",\n",
    "    parse_dates=[\"date_opened\", \"date_closed\", \"last_comment_date\"],\n",
    ")\n",
    "presubmissions[\"date_opened\"] = presubmissions[\"date_opened\"]\n",
    "presubmissions[\"last_comment_date\"] = presubmissions[\"last_comment_date\"]\n",
    "presubmissions = presubmissions.rename(\n",
    "    columns={\n",
    "        \"package_name\": \"Name\",\n",
    "        \"date_opened\": \"Date Opened\",\n",
    "        \"date_closed\": \"Date Closed\",\n",
    "        \"issue_num\": \"Issue\",\n",
    "        \"description\": \"Description\",\n",
    "        \"categories\": \"Categories\",\n",
    "        \"last_comment_date\": \"Last Comment\",\n",
    "        \"last_comment_user\": \"Last User to Comment\",\n",
    "    }\n",
    ")\n",
    "\n",
    "all_presubmissions = len(presubmissions)"
   ]
  },
  {
   "cell_type": "code",
   "execution_count": 9,
   "metadata": {
    "editable": true,
    "slideshow": {
     "slide_type": ""
    },
    "tags": [
     "remove-input"
    ]
   },
   "outputs": [],
   "source": [
    "# Get all currently open presubmissions\n",
    "open_presubmissions = presubmissions[presubmissions[\"Date Closed\"].isna()]\n",
    "today = datetime.now(timezone.utc)\n",
    "open_presubmissions[\"days_open\"] = (\n",
    "    today - open_presubmissions[\"Date Opened\"]\n",
    ").dt.days\n",
    "open_presubmissions[\"Date Opened\"] = open_presubmissions[\"Date Opened\"].dt.date\n",
    "open_presubmissions[\"Date Opened\"] = open_presubmissions[\"Last Comment\"].dt.date\n",
    "open_presubmissions.reset_index(drop=True, inplace=True)\n",
    "\n",
    "total_open = len(open_presubmissions)\n",
    "\n",
    "# Cleanup\n",
    "open_presubmissions.sort_values(by=\"Date Opened\", ascending=False, inplace=True)\n",
    "open_presubmissions.drop(columns=[\"Date Closed\", \"Unnamed: 0\", \"editor\"], inplace=True)"
   ]
  },
  {
   "cell_type": "markdown",
   "metadata": {
    "editable": true,
    "slideshow": {
     "slide_type": ""
    },
    "tags": [],
    "user_expressions": [
     {
      "expression": "all_presubmissions",
      "result": {
       "data": {
        "text/plain": "61"
       },
       "metadata": {},
       "status": "ok"
      }
     }
    ]
   },
   "source": [
    "## All presubmissions\n",
    "\n",
    "There are **{eval}`all_presubmissions`** total presubmissions to date, including closed presubmissions."
   ]
  },
  {
   "cell_type": "markdown",
   "metadata": {
    "editable": true,
    "slideshow": {
     "slide_type": ""
    },
    "tags": [],
    "user_expressions": [
     {
      "expression": "len(open_presubmissions)",
      "result": {
       "data": {
        "text/plain": "3"
       },
       "metadata": {},
       "status": "ok"
      }
     }
    ]
   },
   "source": [
    "## Currently open software presubmission inquiries\n",
    "\n",
    "* It could be useful to grab the most recent comments on each\n",
    "* It would also be useful to grab the gh usernames of all people involved in the discussion and credit them. So for one i see astropy editors + alex being involved.\n",
    "\n",
    "There are **{eval}`len(open_presubmissions)` presubmission requests** currently open.\n"
   ]
  },
  {
   "cell_type": "code",
   "execution_count": 10,
   "metadata": {
    "editable": true,
    "slideshow": {
     "slide_type": ""
    },
    "tags": [
     "remove-input"
    ]
   },
   "outputs": [
    {
     "data": {
      "text/html": [
       "<div>\n",
       "<style scoped>\n",
       "    .dataframe tbody tr th:only-of-type {\n",
       "        vertical-align: middle;\n",
       "    }\n",
       "\n",
       "    .dataframe tbody tr th {\n",
       "        vertical-align: top;\n",
       "    }\n",
       "\n",
       "    .dataframe thead th {\n",
       "        text-align: right;\n",
       "    }\n",
       "</style>\n",
       "<table border=\"1\" class=\"dataframe\">\n",
       "  <thead>\n",
       "    <tr style=\"text-align: right;\">\n",
       "      <th></th>\n",
       "      <th>Name</th>\n",
       "      <th>eic</th>\n",
       "      <th>Date Opened</th>\n",
       "      <th>labels</th>\n",
       "      <th>Issue</th>\n",
       "      <th>Description</th>\n",
       "      <th>Categories</th>\n",
       "      <th>status</th>\n",
       "      <th>Last Comment</th>\n",
       "      <th>Last User to Comment</th>\n",
       "      <th>days_open</th>\n",
       "    </tr>\n",
       "  </thead>\n",
       "  <tbody>\n",
       "    <tr>\n",
       "      <th>1</th>\n",
       "      <td>VARGRAM</td>\n",
       "      <td>coatless</td>\n",
       "      <td>2025-02-06</td>\n",
       "      <td>['presubmission', '⌛ pending-maintainer-response']</td>\n",
       "      <td>225</td>\n",
       "      <td>A Python visualization tool for genomic surveillance</td>\n",
       "      <td>['data-processing-munging', 'data-visualization']</td>\n",
       "      <td>presubmission</td>\n",
       "      <td>2025-02-06 09:22:06+00:00</td>\n",
       "      <td>cjpalpallatoc</td>\n",
       "      <td>51</td>\n",
       "    </tr>\n",
       "    <tr>\n",
       "      <th>0</th>\n",
       "      <td>Litrepl</td>\n",
       "      <td>coatless</td>\n",
       "      <td>2025-02-05</td>\n",
       "      <td>['presubmission', 'currently-out-of-scope']</td>\n",
       "      <td>226</td>\n",
       "      <td>A tool for code snippet evaluation in Markdown/LaTeX documents.</td>\n",
       "      <td>['workflow-automation']</td>\n",
       "      <td>presubmission</td>\n",
       "      <td>2025-02-05 08:00:21+00:00</td>\n",
       "      <td>coatless</td>\n",
       "      <td>50</td>\n",
       "    </tr>\n",
       "    <tr>\n",
       "      <th>2</th>\n",
       "      <td>c4dynamics</td>\n",
       "      <td>coatless</td>\n",
       "      <td>2025-02-05</td>\n",
       "      <td>['presubmission', '⌛ pending-maintainer-response']</td>\n",
       "      <td>224</td>\n",
       "      <td>Python framework for algorithms of dynamic systems</td>\n",
       "      <td>[]</td>\n",
       "      <td>presubmission</td>\n",
       "      <td>2025-02-05 07:38:25+00:00</td>\n",
       "      <td>coatless</td>\n",
       "      <td>52</td>\n",
       "    </tr>\n",
       "  </tbody>\n",
       "</table>\n",
       "</div>"
      ],
      "text/plain": [
       "         Name       eic Date Opened  \\\n",
       "1     VARGRAM  coatless  2025-02-06   \n",
       "0     Litrepl  coatless  2025-02-05   \n",
       "2  c4dynamics  coatless  2025-02-05   \n",
       "\n",
       "                                               labels  Issue  \\\n",
       "1  ['presubmission', '⌛ pending-maintainer-response']    225   \n",
       "0         ['presubmission', 'currently-out-of-scope']    226   \n",
       "2  ['presubmission', '⌛ pending-maintainer-response']    224   \n",
       "\n",
       "                                                       Description  \\\n",
       "1             A Python visualization tool for genomic surveillance   \n",
       "0  A tool for code snippet evaluation in Markdown/LaTeX documents.   \n",
       "2               Python framework for algorithms of dynamic systems   \n",
       "\n",
       "                                          Categories         status  \\\n",
       "1  ['data-processing-munging', 'data-visualization']  presubmission   \n",
       "0                            ['workflow-automation']  presubmission   \n",
       "2                                                 []  presubmission   \n",
       "\n",
       "               Last Comment Last User to Comment  days_open  \n",
       "1 2025-02-06 09:22:06+00:00        cjpalpallatoc         51  \n",
       "0 2025-02-05 08:00:21+00:00             coatless         50  \n",
       "2 2025-02-05 07:38:25+00:00             coatless         52  "
      ]
     },
     "execution_count": 10,
     "metadata": {},
     "output_type": "execute_result"
    }
   ],
   "source": [
    "open_presubmissions"
   ]
  },
  {
   "cell_type": "markdown",
   "metadata": {},
   "source": [
    "## Editorial team status"
   ]
  },
  {
   "cell_type": "code",
   "execution_count": 11,
   "metadata": {
    "editable": true,
    "slideshow": {
     "slide_type": ""
    },
    "tags": [
     "remove-input"
    ]
   },
   "outputs": [],
   "source": [
    "# Static list of all editors, updated 7/13/2024\n",
    "# Let's pull this list from unique people above who are active. \n",
    "# TODO: get this list of current editors dynamically\n",
    "all_editors = [\n",
    "    \"cmarmo\",\n",
    "    \"dhomeier\",\n",
    "    \"ocefpaf\",\n",
    "    \"NikleDave\",\n",
    "    \"SimonMolinsky\",\n",
    "    \"Batalex\",\n",
    "    \"sneakers-the-rat\",\n",
    "    \"tomalrussel\",\n",
    "    \"ctb\",\n",
    "    \"mjhajharia\",\n",
    "    \"hamogu\",\n",
    "    \"isabelizimm\",\n",
    "    \"yeelauren\",\n",
    "    \"banesullivan\",\n",
    "]\n",
    "all_editors_df = pd.DataFrame({\"editor\": all_editors})"
   ]
  },
  {
   "cell_type": "code",
   "execution_count": 12,
   "metadata": {
    "editable": true,
    "slideshow": {
     "slide_type": ""
    },
    "tags": []
   },
   "outputs": [
    {
     "data": {
      "text/html": [
       "<div>\n",
       "<style scoped>\n",
       "    .dataframe tbody tr th:only-of-type {\n",
       "        vertical-align: middle;\n",
       "    }\n",
       "\n",
       "    .dataframe tbody tr th {\n",
       "        vertical-align: top;\n",
       "    }\n",
       "\n",
       "    .dataframe thead th {\n",
       "        text-align: right;\n",
       "    }\n",
       "</style>\n",
       "<table border=\"1\" class=\"dataframe\">\n",
       "  <thead>\n",
       "    <tr style=\"text-align: right;\">\n",
       "      <th></th>\n",
       "      <th>editor</th>\n",
       "      <th>count</th>\n",
       "    </tr>\n",
       "  </thead>\n",
       "  <tbody>\n",
       "    <tr>\n",
       "      <th>0</th>\n",
       "      <td>cmarmo</td>\n",
       "      <td>3</td>\n",
       "    </tr>\n",
       "    <tr>\n",
       "      <th>1</th>\n",
       "      <td>isabelizimm</td>\n",
       "      <td>2</td>\n",
       "    </tr>\n",
       "    <tr>\n",
       "      <th>2</th>\n",
       "      <td>yeelauren</td>\n",
       "      <td>2</td>\n",
       "    </tr>\n",
       "    <tr>\n",
       "      <th>3</th>\n",
       "      <td>Batalex</td>\n",
       "      <td>1</td>\n",
       "    </tr>\n",
       "    <tr>\n",
       "      <th>4</th>\n",
       "      <td>NimaSarajpoor</td>\n",
       "      <td>1</td>\n",
       "    </tr>\n",
       "    <tr>\n",
       "      <th>5</th>\n",
       "      <td>ctb</td>\n",
       "      <td>1</td>\n",
       "    </tr>\n",
       "    <tr>\n",
       "      <th>6</th>\n",
       "      <td>dhomeier</td>\n",
       "      <td>1</td>\n",
       "    </tr>\n",
       "    <tr>\n",
       "      <th>7</th>\n",
       "      <td>hamogu</td>\n",
       "      <td>1</td>\n",
       "    </tr>\n",
       "    <tr>\n",
       "      <th>8</th>\n",
       "      <td>kellyrowland</td>\n",
       "      <td>1</td>\n",
       "    </tr>\n",
       "    <tr>\n",
       "      <th>9</th>\n",
       "      <td>sneakers-the-rat</td>\n",
       "      <td>1</td>\n",
       "    </tr>\n",
       "    <tr>\n",
       "      <th>10</th>\n",
       "      <td>tkoyama010</td>\n",
       "      <td>1</td>\n",
       "    </tr>\n",
       "    <tr>\n",
       "      <th>11</th>\n",
       "      <td>zeitsperre</td>\n",
       "      <td>1</td>\n",
       "    </tr>\n",
       "  </tbody>\n",
       "</table>\n",
       "</div>"
      ],
      "text/plain": [
       "              editor  count\n",
       "0             cmarmo      3\n",
       "1        isabelizimm      2\n",
       "2          yeelauren      2\n",
       "3            Batalex      1\n",
       "4      NimaSarajpoor      1\n",
       "5                ctb      1\n",
       "6           dhomeier      1\n",
       "7             hamogu      1\n",
       "8       kellyrowland      1\n",
       "9   sneakers-the-rat      1\n",
       "10        tkoyama010      1\n",
       "11        zeitsperre      1"
      ]
     },
     "execution_count": 12,
     "metadata": {},
     "output_type": "execute_result"
    }
   ],
   "source": [
    "# Create table of editors who are currently assigned to an open submission\n",
    "busy_editors = open_reviews.loc[open_reviews.editor != \"TBD\", [\"editor\"]].value_counts().reset_index()\n",
    "busy_editors"
   ]
  },
  {
   "cell_type": "code",
   "execution_count": 13,
   "metadata": {
    "editable": true,
    "slideshow": {
     "slide_type": ""
    },
    "tags": [
     "remove-input"
    ]
   },
   "outputs": [],
   "source": [
    "all_editor_activity = all_editors_df.merge(busy_editors, on=\"editor\", how=\"outer\").fillna(0)\n",
    "\n",
    "all_editor_activity[\"count\"]= all_editor_activity[\"count\"].astype(int)\n",
    "all_editor_activity.sort_values(by=\"count\", inplace=True)\n",
    "all_editor_activity = all_editor_activity.reset_index(drop=True)"
   ]
  },
  {
   "cell_type": "markdown",
   "metadata": {},
   "source": [
    "### Who is currently available? \n",
    "\n",
    "Below are editors that currently do not have submissions assigned to them."
   ]
  },
  {
   "cell_type": "code",
   "execution_count": 14,
   "metadata": {
    "editable": true,
    "slideshow": {
     "slide_type": ""
    },
    "tags": [
     "remove-input"
    ]
   },
   "outputs": [
    {
     "data": {
      "text/html": [
       "<div>\n",
       "<style scoped>\n",
       "    .dataframe tbody tr th:only-of-type {\n",
       "        vertical-align: middle;\n",
       "    }\n",
       "\n",
       "    .dataframe tbody tr th {\n",
       "        vertical-align: top;\n",
       "    }\n",
       "\n",
       "    .dataframe thead th {\n",
       "        text-align: right;\n",
       "    }\n",
       "</style>\n",
       "<table border=\"1\" class=\"dataframe\">\n",
       "  <thead>\n",
       "    <tr style=\"text-align: right;\">\n",
       "      <th></th>\n",
       "      <th>editor</th>\n",
       "      <th>count</th>\n",
       "    </tr>\n",
       "  </thead>\n",
       "  <tbody>\n",
       "    <tr>\n",
       "      <th>0</th>\n",
       "      <td>NikleDave</td>\n",
       "      <td>0</td>\n",
       "    </tr>\n",
       "    <tr>\n",
       "      <th>1</th>\n",
       "      <td>tomalrussel</td>\n",
       "      <td>0</td>\n",
       "    </tr>\n",
       "    <tr>\n",
       "      <th>2</th>\n",
       "      <td>SimonMolinsky</td>\n",
       "      <td>0</td>\n",
       "    </tr>\n",
       "    <tr>\n",
       "      <th>3</th>\n",
       "      <td>banesullivan</td>\n",
       "      <td>0</td>\n",
       "    </tr>\n",
       "    <tr>\n",
       "      <th>4</th>\n",
       "      <td>ocefpaf</td>\n",
       "      <td>0</td>\n",
       "    </tr>\n",
       "    <tr>\n",
       "      <th>5</th>\n",
       "      <td>mjhajharia</td>\n",
       "      <td>0</td>\n",
       "    </tr>\n",
       "  </tbody>\n",
       "</table>\n",
       "</div>"
      ],
      "text/plain": [
       "          editor  count\n",
       "0      NikleDave      0\n",
       "1    tomalrussel      0\n",
       "2  SimonMolinsky      0\n",
       "3   banesullivan      0\n",
       "4        ocefpaf      0\n",
       "5     mjhajharia      0"
      ]
     },
     "execution_count": 14,
     "metadata": {},
     "output_type": "execute_result"
    }
   ],
   "source": [
    "# Get counts of available and unavailable editors\n",
    "available_editors = all_editor_activity[all_editor_activity[\"count\"] == 0]\n",
    "all_busy_editors = all_editor_activity[all_editor_activity[\"count\"] != 0]\n",
    "\n",
    "num_available_editors = len(available_editors)\n",
    "available_editors"
   ]
  },
  {
   "cell_type": "markdown",
   "metadata": {
    "editable": true,
    "slideshow": {
     "slide_type": ""
    },
    "tags": [],
    "user_expressions": [
     {
      "expression": "len(available_editors)",
      "result": {
       "data": {
        "text/plain": "6"
       },
       "metadata": {},
       "status": "ok"
      }
     },
     {
      "expression": "len(all_busy_editors)",
      "result": {
       "data": {
        "text/plain": "12"
       },
       "metadata": {},
       "status": "ok"
      }
     }
    ]
   },
   "source": [
    "## Available editors\n",
    "\n",
    "There are currently **{eval}`len(available_editors)` available editors** and **{eval}`len(all_busy_editors)` editors who are assigned to atleast one software review**."
   ]
  },
  {
   "cell_type": "code",
   "execution_count": 15,
   "metadata": {
    "editable": true,
    "slideshow": {
     "slide_type": ""
    },
    "tags": [
     "remove-input"
    ]
   },
   "outputs": [
    {
     "data": {
      "text/html": [
       "<div>\n",
       "<style scoped>\n",
       "    .dataframe tbody tr th:only-of-type {\n",
       "        vertical-align: middle;\n",
       "    }\n",
       "\n",
       "    .dataframe tbody tr th {\n",
       "        vertical-align: top;\n",
       "    }\n",
       "\n",
       "    .dataframe thead th {\n",
       "        text-align: right;\n",
       "    }\n",
       "</style>\n",
       "<table border=\"1\" class=\"dataframe\">\n",
       "  <thead>\n",
       "    <tr style=\"text-align: right;\">\n",
       "      <th></th>\n",
       "      <th>editor</th>\n",
       "      <th>count</th>\n",
       "    </tr>\n",
       "  </thead>\n",
       "  <tbody>\n",
       "    <tr>\n",
       "      <th>0</th>\n",
       "      <td>NikleDave</td>\n",
       "      <td>0</td>\n",
       "    </tr>\n",
       "    <tr>\n",
       "      <th>1</th>\n",
       "      <td>tomalrussel</td>\n",
       "      <td>0</td>\n",
       "    </tr>\n",
       "    <tr>\n",
       "      <th>2</th>\n",
       "      <td>SimonMolinsky</td>\n",
       "      <td>0</td>\n",
       "    </tr>\n",
       "    <tr>\n",
       "      <th>3</th>\n",
       "      <td>banesullivan</td>\n",
       "      <td>0</td>\n",
       "    </tr>\n",
       "    <tr>\n",
       "      <th>4</th>\n",
       "      <td>ocefpaf</td>\n",
       "      <td>0</td>\n",
       "    </tr>\n",
       "    <tr>\n",
       "      <th>5</th>\n",
       "      <td>mjhajharia</td>\n",
       "      <td>0</td>\n",
       "    </tr>\n",
       "    <tr>\n",
       "      <th>6</th>\n",
       "      <td>Batalex</td>\n",
       "      <td>1</td>\n",
       "    </tr>\n",
       "    <tr>\n",
       "      <th>7</th>\n",
       "      <td>tkoyama010</td>\n",
       "      <td>1</td>\n",
       "    </tr>\n",
       "    <tr>\n",
       "      <th>8</th>\n",
       "      <td>sneakers-the-rat</td>\n",
       "      <td>1</td>\n",
       "    </tr>\n",
       "    <tr>\n",
       "      <th>9</th>\n",
       "      <td>kellyrowland</td>\n",
       "      <td>1</td>\n",
       "    </tr>\n",
       "    <tr>\n",
       "      <th>10</th>\n",
       "      <td>hamogu</td>\n",
       "      <td>1</td>\n",
       "    </tr>\n",
       "    <tr>\n",
       "      <th>11</th>\n",
       "      <td>dhomeier</td>\n",
       "      <td>1</td>\n",
       "    </tr>\n",
       "    <tr>\n",
       "      <th>12</th>\n",
       "      <td>ctb</td>\n",
       "      <td>1</td>\n",
       "    </tr>\n",
       "    <tr>\n",
       "      <th>13</th>\n",
       "      <td>NimaSarajpoor</td>\n",
       "      <td>1</td>\n",
       "    </tr>\n",
       "    <tr>\n",
       "      <th>14</th>\n",
       "      <td>zeitsperre</td>\n",
       "      <td>1</td>\n",
       "    </tr>\n",
       "    <tr>\n",
       "      <th>15</th>\n",
       "      <td>yeelauren</td>\n",
       "      <td>2</td>\n",
       "    </tr>\n",
       "    <tr>\n",
       "      <th>16</th>\n",
       "      <td>isabelizimm</td>\n",
       "      <td>2</td>\n",
       "    </tr>\n",
       "    <tr>\n",
       "      <th>17</th>\n",
       "      <td>cmarmo</td>\n",
       "      <td>3</td>\n",
       "    </tr>\n",
       "  </tbody>\n",
       "</table>\n",
       "</div>"
      ],
      "text/plain": [
       "              editor  count\n",
       "0          NikleDave      0\n",
       "1        tomalrussel      0\n",
       "2      SimonMolinsky      0\n",
       "3       banesullivan      0\n",
       "4            ocefpaf      0\n",
       "5         mjhajharia      0\n",
       "6            Batalex      1\n",
       "7         tkoyama010      1\n",
       "8   sneakers-the-rat      1\n",
       "9       kellyrowland      1\n",
       "10            hamogu      1\n",
       "11          dhomeier      1\n",
       "12               ctb      1\n",
       "13     NimaSarajpoor      1\n",
       "14        zeitsperre      1\n",
       "15         yeelauren      2\n",
       "16       isabelizimm      2\n",
       "17            cmarmo      3"
      ]
     },
     "execution_count": 15,
     "metadata": {},
     "output_type": "execute_result"
    }
   ],
   "source": [
    "# Display editor table\n",
    "all_editor_activity"
   ]
  },
  {
   "cell_type": "code",
   "execution_count": 16,
   "metadata": {
    "editable": true,
    "slideshow": {
     "slide_type": ""
    },
    "tags": [
     "remove-input"
    ]
   },
   "outputs": [],
   "source": [
    "# TODO: calculate time that they were in review."
   ]
  },
  {
   "cell_type": "markdown",
   "metadata": {
    "editable": true,
    "slideshow": {
     "slide_type": ""
    },
    "tags": []
   },
   "source": [
    "## Editors load\n",
    "\n",
    "Next, we look at the load of each editor over time to get a sense of their time demands. \n",
    "\n",
    "NOTE: The data below represents all editors over time, not just currently active editors"
   ]
  },
  {
   "cell_type": "code",
   "execution_count": 17,
   "metadata": {
    "editable": true,
    "slideshow": {
     "slide_type": ""
    },
    "tags": [
     "remove-input"
    ]
   },
   "outputs": [],
   "source": [
    "# Get a list of all editors over time that have supported pyOpenSci\n",
    "ignore_editors = [\"TBD\"]\n",
    "# ignore lwasser and xmnlab to bring min date to a more recent date\n",
    "ignore_editors += [\"lwasser\", \"xmnlab\"]\n",
    "editors = [\n",
    "    editor\n",
    "    for editor in pd.unique(reviews.editor)\n",
    "    if editor not in ignore_editors\n",
    "]\n"
   ]
  },
  {
   "cell_type": "code",
   "execution_count": 18,
   "metadata": {
    "editable": true,
    "slideshow": {
     "slide_type": ""
    },
    "tags": [
     "remove-input"
    ]
   },
   "outputs": [],
   "source": [
    "n_edits = (\n",
    "    reviews.groupby([reviews[\"editor\"], reviews[\"Date Opened\"].dt.to_period(\"Q\")])\n",
    "    .size()\n",
    "    .reset_index(name=\"n_edits\")  # Ensures a DataFrame with column name\n",
    ")"
   ]
  },
  {
   "cell_type": "code",
   "execution_count": 19,
   "metadata": {
    "editable": true,
    "slideshow": {
     "slide_type": ""
    },
    "tags": [
     "remove-input"
    ]
   },
   "outputs": [
    {
     "data": {
      "text/html": [
       "<div>\n",
       "<style scoped>\n",
       "    .dataframe tbody tr th:only-of-type {\n",
       "        vertical-align: middle;\n",
       "    }\n",
       "\n",
       "    .dataframe tbody tr th {\n",
       "        vertical-align: top;\n",
       "    }\n",
       "\n",
       "    .dataframe thead th {\n",
       "        text-align: right;\n",
       "    }\n",
       "</style>\n",
       "<table border=\"1\" class=\"dataframe\">\n",
       "  <thead>\n",
       "    <tr style=\"text-align: right;\">\n",
       "      <th></th>\n",
       "      <th>editor</th>\n",
       "      <th>Date</th>\n",
       "      <th>count</th>\n",
       "      <th>Year</th>\n",
       "      <th>Quarter</th>\n",
       "    </tr>\n",
       "  </thead>\n",
       "  <tbody>\n",
       "    <tr>\n",
       "      <th>0</th>\n",
       "      <td>Batalex</td>\n",
       "      <td>2023-01-01</td>\n",
       "      <td>1</td>\n",
       "      <td>2023</td>\n",
       "      <td>1</td>\n",
       "    </tr>\n",
       "    <tr>\n",
       "      <th>1</th>\n",
       "      <td>Batalex</td>\n",
       "      <td>2023-04-01</td>\n",
       "      <td>1</td>\n",
       "      <td>2023</td>\n",
       "      <td>2</td>\n",
       "    </tr>\n",
       "    <tr>\n",
       "      <th>2</th>\n",
       "      <td>Batalex</td>\n",
       "      <td>2023-07-01</td>\n",
       "      <td>1</td>\n",
       "      <td>2023</td>\n",
       "      <td>3</td>\n",
       "    </tr>\n",
       "    <tr>\n",
       "      <th>3</th>\n",
       "      <td>Batalex</td>\n",
       "      <td>2024-01-01</td>\n",
       "      <td>1</td>\n",
       "      <td>2024</td>\n",
       "      <td>1</td>\n",
       "    </tr>\n",
       "    <tr>\n",
       "      <th>4</th>\n",
       "      <td>Batalex</td>\n",
       "      <td>2024-04-01</td>\n",
       "      <td>1</td>\n",
       "      <td>2024</td>\n",
       "      <td>2</td>\n",
       "    </tr>\n",
       "    <tr>\n",
       "      <th>5</th>\n",
       "      <td>NickleDave</td>\n",
       "      <td>2020-07-01</td>\n",
       "      <td>2</td>\n",
       "      <td>2020</td>\n",
       "      <td>3</td>\n",
       "    </tr>\n",
       "    <tr>\n",
       "      <th>6</th>\n",
       "      <td>NickleDave</td>\n",
       "      <td>2021-01-01</td>\n",
       "      <td>1</td>\n",
       "      <td>2021</td>\n",
       "      <td>1</td>\n",
       "    </tr>\n",
       "    <tr>\n",
       "      <th>7</th>\n",
       "      <td>NimaSarajpoor</td>\n",
       "      <td>2024-04-01</td>\n",
       "      <td>1</td>\n",
       "      <td>2024</td>\n",
       "      <td>2</td>\n",
       "    </tr>\n",
       "    <tr>\n",
       "      <th>8</th>\n",
       "      <td>SimonMolinsky</td>\n",
       "      <td>2023-04-01</td>\n",
       "      <td>1</td>\n",
       "      <td>2023</td>\n",
       "      <td>2</td>\n",
       "    </tr>\n",
       "    <tr>\n",
       "      <th>9</th>\n",
       "      <td>SimonMolinsky</td>\n",
       "      <td>2023-10-01</td>\n",
       "      <td>1</td>\n",
       "      <td>2023</td>\n",
       "      <td>4</td>\n",
       "    </tr>\n",
       "    <tr>\n",
       "      <th>21</th>\n",
       "      <td>arianesasso</td>\n",
       "      <td>2022-10-01</td>\n",
       "      <td>1</td>\n",
       "      <td>2022</td>\n",
       "      <td>4</td>\n",
       "    </tr>\n",
       "    <tr>\n",
       "      <th>22</th>\n",
       "      <td>arianesasso</td>\n",
       "      <td>2023-04-01</td>\n",
       "      <td>1</td>\n",
       "      <td>2023</td>\n",
       "      <td>2</td>\n",
       "    </tr>\n",
       "    <tr>\n",
       "      <th>23</th>\n",
       "      <td>banesullivan</td>\n",
       "      <td>2023-07-01</td>\n",
       "      <td>1</td>\n",
       "      <td>2023</td>\n",
       "      <td>3</td>\n",
       "    </tr>\n",
       "    <tr>\n",
       "      <th>24</th>\n",
       "      <td>banesullivan</td>\n",
       "      <td>2024-07-01</td>\n",
       "      <td>1</td>\n",
       "      <td>2024</td>\n",
       "      <td>3</td>\n",
       "    </tr>\n",
       "    <tr>\n",
       "      <th>25</th>\n",
       "      <td>cmarmo</td>\n",
       "      <td>2023-01-01</td>\n",
       "      <td>1</td>\n",
       "      <td>2023</td>\n",
       "      <td>1</td>\n",
       "    </tr>\n",
       "    <tr>\n",
       "      <th>26</th>\n",
       "      <td>cmarmo</td>\n",
       "      <td>2023-07-01</td>\n",
       "      <td>1</td>\n",
       "      <td>2023</td>\n",
       "      <td>3</td>\n",
       "    </tr>\n",
       "    <tr>\n",
       "      <th>27</th>\n",
       "      <td>cmarmo</td>\n",
       "      <td>2023-10-01</td>\n",
       "      <td>1</td>\n",
       "      <td>2023</td>\n",
       "      <td>4</td>\n",
       "    </tr>\n",
       "    <tr>\n",
       "      <th>28</th>\n",
       "      <td>cmarmo</td>\n",
       "      <td>2024-04-01</td>\n",
       "      <td>3</td>\n",
       "      <td>2024</td>\n",
       "      <td>2</td>\n",
       "    </tr>\n",
       "    <tr>\n",
       "      <th>29</th>\n",
       "      <td>cmarmo</td>\n",
       "      <td>2024-07-01</td>\n",
       "      <td>1</td>\n",
       "      <td>2024</td>\n",
       "      <td>3</td>\n",
       "    </tr>\n",
       "    <tr>\n",
       "      <th>30</th>\n",
       "      <td>ctb</td>\n",
       "      <td>2023-01-01</td>\n",
       "      <td>1</td>\n",
       "      <td>2023</td>\n",
       "      <td>1</td>\n",
       "    </tr>\n",
       "    <tr>\n",
       "      <th>31</th>\n",
       "      <td>ctb</td>\n",
       "      <td>2024-01-01</td>\n",
       "      <td>1</td>\n",
       "      <td>2024</td>\n",
       "      <td>1</td>\n",
       "    </tr>\n",
       "    <tr>\n",
       "      <th>32</th>\n",
       "      <td>dhomeier</td>\n",
       "      <td>2024-01-01</td>\n",
       "      <td>2</td>\n",
       "      <td>2024</td>\n",
       "      <td>1</td>\n",
       "    </tr>\n",
       "    <tr>\n",
       "      <th>33</th>\n",
       "      <td>hamogu</td>\n",
       "      <td>2024-01-01</td>\n",
       "      <td>1</td>\n",
       "      <td>2024</td>\n",
       "      <td>1</td>\n",
       "    </tr>\n",
       "    <tr>\n",
       "      <th>34</th>\n",
       "      <td>hamogu</td>\n",
       "      <td>2024-04-01</td>\n",
       "      <td>2</td>\n",
       "      <td>2024</td>\n",
       "      <td>2</td>\n",
       "    </tr>\n",
       "    <tr>\n",
       "      <th>35</th>\n",
       "      <td>isabelizimm</td>\n",
       "      <td>2023-10-01</td>\n",
       "      <td>1</td>\n",
       "      <td>2023</td>\n",
       "      <td>4</td>\n",
       "    </tr>\n",
       "    <tr>\n",
       "      <th>36</th>\n",
       "      <td>isabelizimm</td>\n",
       "      <td>2024-04-01</td>\n",
       "      <td>1</td>\n",
       "      <td>2024</td>\n",
       "      <td>2</td>\n",
       "    </tr>\n",
       "    <tr>\n",
       "      <th>37</th>\n",
       "      <td>jbencook</td>\n",
       "      <td>2020-04-01</td>\n",
       "      <td>1</td>\n",
       "      <td>2020</td>\n",
       "      <td>2</td>\n",
       "    </tr>\n",
       "    <tr>\n",
       "      <th>38</th>\n",
       "      <td>jlpalomino</td>\n",
       "      <td>2020-01-01</td>\n",
       "      <td>1</td>\n",
       "      <td>2020</td>\n",
       "      <td>1</td>\n",
       "    </tr>\n",
       "    <tr>\n",
       "      <th>39</th>\n",
       "      <td>kellyrowland</td>\n",
       "      <td>2024-07-01</td>\n",
       "      <td>1</td>\n",
       "      <td>2024</td>\n",
       "      <td>3</td>\n",
       "    </tr>\n",
       "    <tr>\n",
       "      <th>40</th>\n",
       "      <td>luizirber</td>\n",
       "      <td>2019-04-01</td>\n",
       "      <td>1</td>\n",
       "      <td>2019</td>\n",
       "      <td>2</td>\n",
       "    </tr>\n",
       "    <tr>\n",
       "      <th>47</th>\n",
       "      <td>mjhajharia</td>\n",
       "      <td>2023-01-01</td>\n",
       "      <td>1</td>\n",
       "      <td>2023</td>\n",
       "      <td>1</td>\n",
       "    </tr>\n",
       "    <tr>\n",
       "      <th>48</th>\n",
       "      <td>ocefpaf</td>\n",
       "      <td>2023-01-01</td>\n",
       "      <td>1</td>\n",
       "      <td>2023</td>\n",
       "      <td>1</td>\n",
       "    </tr>\n",
       "    <tr>\n",
       "      <th>49</th>\n",
       "      <td>ocefpaf</td>\n",
       "      <td>2024-01-01</td>\n",
       "      <td>1</td>\n",
       "      <td>2024</td>\n",
       "      <td>1</td>\n",
       "    </tr>\n",
       "    <tr>\n",
       "      <th>50</th>\n",
       "      <td>snacktavish</td>\n",
       "      <td>2023-07-01</td>\n",
       "      <td>1</td>\n",
       "      <td>2023</td>\n",
       "      <td>3</td>\n",
       "    </tr>\n",
       "    <tr>\n",
       "      <th>51</th>\n",
       "      <td>sneakers-the-rat</td>\n",
       "      <td>2023-10-01</td>\n",
       "      <td>2</td>\n",
       "      <td>2023</td>\n",
       "      <td>4</td>\n",
       "    </tr>\n",
       "    <tr>\n",
       "      <th>52</th>\n",
       "      <td>tkoyama010</td>\n",
       "      <td>2024-07-01</td>\n",
       "      <td>1</td>\n",
       "      <td>2024</td>\n",
       "      <td>3</td>\n",
       "    </tr>\n",
       "    <tr>\n",
       "      <th>53</th>\n",
       "      <td>tomalrussell</td>\n",
       "      <td>2023-01-01</td>\n",
       "      <td>1</td>\n",
       "      <td>2023</td>\n",
       "      <td>1</td>\n",
       "    </tr>\n",
       "    <tr>\n",
       "      <th>54</th>\n",
       "      <td>tomalrussell</td>\n",
       "      <td>2023-10-01</td>\n",
       "      <td>1</td>\n",
       "      <td>2023</td>\n",
       "      <td>4</td>\n",
       "    </tr>\n",
       "    <tr>\n",
       "      <th>58</th>\n",
       "      <td>yeelauren</td>\n",
       "      <td>2023-07-01</td>\n",
       "      <td>1</td>\n",
       "      <td>2023</td>\n",
       "      <td>3</td>\n",
       "    </tr>\n",
       "    <tr>\n",
       "      <th>59</th>\n",
       "      <td>yeelauren</td>\n",
       "      <td>2024-07-01</td>\n",
       "      <td>1</td>\n",
       "      <td>2024</td>\n",
       "      <td>3</td>\n",
       "    </tr>\n",
       "    <tr>\n",
       "      <th>60</th>\n",
       "      <td>zeitsperre</td>\n",
       "      <td>2024-01-01</td>\n",
       "      <td>1</td>\n",
       "      <td>2024</td>\n",
       "      <td>1</td>\n",
       "    </tr>\n",
       "  </tbody>\n",
       "</table>\n",
       "</div>"
      ],
      "text/plain": [
       "              editor       Date  count  Year  Quarter\n",
       "0            Batalex 2023-01-01      1  2023        1\n",
       "1            Batalex 2023-04-01      1  2023        2\n",
       "2            Batalex 2023-07-01      1  2023        3\n",
       "3            Batalex 2024-01-01      1  2024        1\n",
       "4            Batalex 2024-04-01      1  2024        2\n",
       "5         NickleDave 2020-07-01      2  2020        3\n",
       "6         NickleDave 2021-01-01      1  2021        1\n",
       "7      NimaSarajpoor 2024-04-01      1  2024        2\n",
       "8      SimonMolinsky 2023-04-01      1  2023        2\n",
       "9      SimonMolinsky 2023-10-01      1  2023        4\n",
       "21       arianesasso 2022-10-01      1  2022        4\n",
       "22       arianesasso 2023-04-01      1  2023        2\n",
       "23      banesullivan 2023-07-01      1  2023        3\n",
       "24      banesullivan 2024-07-01      1  2024        3\n",
       "25            cmarmo 2023-01-01      1  2023        1\n",
       "26            cmarmo 2023-07-01      1  2023        3\n",
       "27            cmarmo 2023-10-01      1  2023        4\n",
       "28            cmarmo 2024-04-01      3  2024        2\n",
       "29            cmarmo 2024-07-01      1  2024        3\n",
       "30               ctb 2023-01-01      1  2023        1\n",
       "31               ctb 2024-01-01      1  2024        1\n",
       "32          dhomeier 2024-01-01      2  2024        1\n",
       "33            hamogu 2024-01-01      1  2024        1\n",
       "34            hamogu 2024-04-01      2  2024        2\n",
       "35       isabelizimm 2023-10-01      1  2023        4\n",
       "36       isabelizimm 2024-04-01      1  2024        2\n",
       "37          jbencook 2020-04-01      1  2020        2\n",
       "38        jlpalomino 2020-01-01      1  2020        1\n",
       "39      kellyrowland 2024-07-01      1  2024        3\n",
       "40         luizirber 2019-04-01      1  2019        2\n",
       "47        mjhajharia 2023-01-01      1  2023        1\n",
       "48           ocefpaf 2023-01-01      1  2023        1\n",
       "49           ocefpaf 2024-01-01      1  2024        1\n",
       "50       snacktavish 2023-07-01      1  2023        3\n",
       "51  sneakers-the-rat 2023-10-01      2  2023        4\n",
       "52        tkoyama010 2024-07-01      1  2024        3\n",
       "53      tomalrussell 2023-01-01      1  2023        1\n",
       "54      tomalrussell 2023-10-01      1  2023        4\n",
       "58         yeelauren 2023-07-01      1  2023        3\n",
       "59         yeelauren 2024-07-01      1  2024        3\n",
       "60        zeitsperre 2024-01-01      1  2024        1"
      ]
     },
     "execution_count": 19,
     "metadata": {},
     "output_type": "execute_result"
    }
   ],
   "source": [
    "n_edits_filtered = n_edits[~n_edits[\"editor\"].isin(ignore_editors)]\n",
    "n_edits_filtered = n_edits_filtered.rename(columns={\"Date Opened\": \"Date\", \"n_edits\": \"count\"})\n",
    "# Date should be a standard date time\n",
    "df = n_edits_filtered.copy()\n",
    "df[[\"Year\", \"Quarter\"]] = df[\"Date\"].astype(str).str.extract(r\"(\\d{4})Q(\\d)\").astype(int)\n",
    "df[\"Date\"] = pd.to_datetime(df[\"Year\"].astype(str) + \"-\" + (3 * (df[\"Quarter\"].astype(int) - 1) + 1).astype(str) + \"-01\")\n",
    "df"
   ]
  },
  {
   "cell_type": "code",
   "execution_count": 20,
   "metadata": {
    "editable": true,
    "slideshow": {
     "slide_type": ""
    },
    "tags": [
     "remove-input"
    ]
   },
   "outputs": [
    {
     "data": {
      "text/html": [
       "<div>\n",
       "<style scoped>\n",
       "    .dataframe tbody tr th:only-of-type {\n",
       "        vertical-align: middle;\n",
       "    }\n",
       "\n",
       "    .dataframe tbody tr th {\n",
       "        vertical-align: top;\n",
       "    }\n",
       "\n",
       "    .dataframe thead th {\n",
       "        text-align: right;\n",
       "    }\n",
       "</style>\n",
       "<table border=\"1\" class=\"dataframe\">\n",
       "  <thead>\n",
       "    <tr style=\"text-align: right;\">\n",
       "      <th></th>\n",
       "      <th>Unnamed: 0</th>\n",
       "      <th>Name</th>\n",
       "      <th>editor</th>\n",
       "      <th>eic</th>\n",
       "      <th>Date</th>\n",
       "      <th>Date Closed</th>\n",
       "      <th>labels</th>\n",
       "      <th>Issue</th>\n",
       "      <th>Description</th>\n",
       "      <th>Categories</th>\n",
       "      <th>status</th>\n",
       "      <th>Last Comment</th>\n",
       "      <th>Last User to Comment</th>\n",
       "    </tr>\n",
       "  </thead>\n",
       "  <tbody>\n",
       "    <tr>\n",
       "      <th>0</th>\n",
       "      <td>0</td>\n",
       "      <td>pymultifit</td>\n",
       "      <td>TBD</td>\n",
       "      <td>coatless</td>\n",
       "      <td>2025-01-21 07:30:12+00:00</td>\n",
       "      <td>NaT</td>\n",
       "      <td>['0/seeking-editor']</td>\n",
       "      <td>233</td>\n",
       "      <td>A python library for fitting data with multiple models.</td>\n",
       "      <td>['data-processing-munging']</td>\n",
       "      <td>seeking editor</td>\n",
       "      <td>2025-01-31 06:46:15+00:00</td>\n",
       "      <td>syedalimohsinbukhari</td>\n",
       "    </tr>\n",
       "    <tr>\n",
       "      <th>1</th>\n",
       "      <td>1</td>\n",
       "      <td>BlockingPy</td>\n",
       "      <td>TBD</td>\n",
       "      <td>coatless</td>\n",
       "      <td>2025-01-09 18:13:33+00:00</td>\n",
       "      <td>NaT</td>\n",
       "      <td>['0/seeking-editor']</td>\n",
       "      <td>232</td>\n",
       "      <td>Blocking records for record linkage and deduplication with Approximate Nearest Neighbor algorithms.;</td>\n",
       "      <td>['data-processing-munging']</td>\n",
       "      <td>seeking editor</td>\n",
       "      <td>2025-01-21 08:56:28+00:00</td>\n",
       "      <td>T-Strojny</td>\n",
       "    </tr>\n",
       "  </tbody>\n",
       "</table>\n",
       "</div>"
      ],
      "text/plain": [
       "   Unnamed: 0        Name editor       eic                      Date  \\\n",
       "0           0  pymultifit    TBD  coatless 2025-01-21 07:30:12+00:00   \n",
       "1           1  BlockingPy    TBD  coatless 2025-01-09 18:13:33+00:00   \n",
       "\n",
       "  Date Closed                labels  Issue  \\\n",
       "0         NaT  ['0/seeking-editor']    233   \n",
       "1         NaT  ['0/seeking-editor']    232   \n",
       "\n",
       "                                                                                            Description  \\\n",
       "0                                               A python library for fitting data with multiple models.   \n",
       "1  Blocking records for record linkage and deduplication with Approximate Nearest Neighbor algorithms.;   \n",
       "\n",
       "                    Categories          status              Last Comment  \\\n",
       "0  ['data-processing-munging']  seeking editor 2025-01-31 06:46:15+00:00   \n",
       "1  ['data-processing-munging']  seeking editor 2025-01-21 08:56:28+00:00   \n",
       "\n",
       "   Last User to Comment  \n",
       "0  syedalimohsinbukhari  \n",
       "1             T-Strojny  "
      ]
     },
     "execution_count": 20,
     "metadata": {},
     "output_type": "execute_result"
    }
   ],
   "source": [
    "# This likely should be active edits?\n",
    "edits = reviews.rename(columns={\"Date Opened\": \"Date\"}).copy()"
   ]
  },
  {
   "cell_type": "code",
   "execution_count": 21,
   "metadata": {
    "editable": true,
    "slideshow": {
     "slide_type": ""
    },
    "tags": [
     "remove-input"
    ]
   },
   "outputs": [],
   "source": [
    "edits = reviews[[\"editor\", \"Name\", \"Date Opened\"]]\n",
    "edits = edits.rename(columns={\"Date Opened\": \"Date\", \"Name\":\"package_name\"})\n",
    "edits = edits[edits[\"editor\"] != \"TBD\"]"
   ]
  },
  {
   "cell_type": "code",
   "execution_count": 23,
   "metadata": {
    "editable": true,
    "slideshow": {
     "slide_type": ""
    },
    "tags": [
     "remove-input"
    ]
   },
   "outputs": [
    {
     "data": {
      "text/html": [
       "\n",
       "<style>\n",
       "  #altair-viz-3c327dd966c745eb8750c56e7b4f00b1.vega-embed {\n",
       "    width: 100%;\n",
       "    display: flex;\n",
       "  }\n",
       "\n",
       "  #altair-viz-3c327dd966c745eb8750c56e7b4f00b1.vega-embed details,\n",
       "  #altair-viz-3c327dd966c745eb8750c56e7b4f00b1.vega-embed details summary {\n",
       "    position: relative;\n",
       "  }\n",
       "</style>\n",
       "<div id=\"altair-viz-3c327dd966c745eb8750c56e7b4f00b1\"></div>\n",
       "<script type=\"text/javascript\">\n",
       "  var VEGA_DEBUG = (typeof VEGA_DEBUG == \"undefined\") ? {} : VEGA_DEBUG;\n",
       "  (function(spec, embedOpt){\n",
       "    let outputDiv = document.currentScript.previousElementSibling;\n",
       "    if (outputDiv.id !== \"altair-viz-3c327dd966c745eb8750c56e7b4f00b1\") {\n",
       "      outputDiv = document.getElementById(\"altair-viz-3c327dd966c745eb8750c56e7b4f00b1\");\n",
       "    }\n",
       "    const paths = {\n",
       "      \"vega\": \"https://cdn.jsdelivr.net/npm/vega@5?noext\",\n",
       "      \"vega-lib\": \"https://cdn.jsdelivr.net/npm/vega-lib?noext\",\n",
       "      \"vega-lite\": \"https://cdn.jsdelivr.net/npm/vega-lite@5.17.0?noext\",\n",
       "      \"vega-embed\": \"https://cdn.jsdelivr.net/npm/vega-embed@6?noext\",\n",
       "    };\n",
       "\n",
       "    function maybeLoadScript(lib, version) {\n",
       "      var key = `${lib.replace(\"-\", \"\")}_version`;\n",
       "      return (VEGA_DEBUG[key] == version) ?\n",
       "        Promise.resolve(paths[lib]) :\n",
       "        new Promise(function(resolve, reject) {\n",
       "          var s = document.createElement('script');\n",
       "          document.getElementsByTagName(\"head\")[0].appendChild(s);\n",
       "          s.async = true;\n",
       "          s.onload = () => {\n",
       "            VEGA_DEBUG[key] = version;\n",
       "            return resolve(paths[lib]);\n",
       "          };\n",
       "          s.onerror = () => reject(`Error loading script: ${paths[lib]}`);\n",
       "          s.src = paths[lib];\n",
       "        });\n",
       "    }\n",
       "\n",
       "    function showError(err) {\n",
       "      outputDiv.innerHTML = `<div class=\"error\" style=\"color:red;\">${err}</div>`;\n",
       "      throw err;\n",
       "    }\n",
       "\n",
       "    function displayChart(vegaEmbed) {\n",
       "      vegaEmbed(outputDiv, spec, embedOpt)\n",
       "        .catch(err => showError(`Javascript Error: ${err.message}<br>This usually means there's a typo in your chart specification. See the javascript console for the full traceback.`));\n",
       "    }\n",
       "\n",
       "    if(typeof define === \"function\" && define.amd) {\n",
       "      requirejs.config({paths});\n",
       "      require([\"vega-embed\"], displayChart, err => showError(`Error loading script: ${err.message}`));\n",
       "    } else {\n",
       "      maybeLoadScript(\"vega\", \"5\")\n",
       "        .then(() => maybeLoadScript(\"vega-lite\", \"5.17.0\"))\n",
       "        .then(() => maybeLoadScript(\"vega-embed\", \"6\"))\n",
       "        .catch(showError)\n",
       "        .then(() => displayChart(vegaEmbed));\n",
       "    }\n",
       "  })({\"config\": {\"view\": {\"continuousWidth\": 300, \"continuousHeight\": 300}}, \"vconcat\": [{\"data\": {\"name\": \"data-b883b0534496c04b5c80d8ccf0831372\"}, \"mark\": {\"type\": \"bar\", \"color\": \"purple\"}, \"encoding\": {\"tooltip\": [{\"field\": \"Date\", \"timeUnit\": \"yearquarter\", \"type\": \"temporal\"}, {\"aggregate\": \"count\", \"field\": \"package_name\", \"type\": \"nominal\"}], \"x\": {\"field\": \"Date\", \"timeUnit\": \"yearquarter\", \"type\": \"temporal\"}, \"y\": {\"aggregate\": \"count\", \"field\": \"package_name\", \"title\": \"Number of edits per quarter\", \"type\": \"nominal\"}}, \"height\": 200, \"title\": {\"text\": \"tkoyama010\", \"align\": \"right\", \"angle\": 0, \"fontSize\": 18, \"orient\": \"right\"}, \"width\": 600}, {\"data\": {\"name\": \"data-c2099f7ec768b7ea8cda330329af2677\"}, \"mark\": {\"type\": \"bar\", \"color\": \"purple\"}, \"encoding\": {\"tooltip\": [{\"field\": \"Date\", \"timeUnit\": \"yearquarter\", \"type\": \"temporal\"}, {\"aggregate\": \"count\", \"field\": \"package_name\", \"type\": \"nominal\"}], \"x\": {\"field\": \"Date\", \"timeUnit\": \"yearquarter\", \"type\": \"temporal\"}, \"y\": {\"aggregate\": \"count\", \"field\": \"package_name\", \"title\": \"Number of edits per quarter\", \"type\": \"nominal\"}}, \"height\": 200, \"title\": {\"text\": \"cmarmo\", \"align\": \"right\", \"angle\": 0, \"fontSize\": 18, \"orient\": \"right\"}, \"width\": 600}, {\"data\": {\"name\": \"data-47a8684b4ce33daa5c5874efa409ea8a\"}, \"mark\": {\"type\": \"bar\", \"color\": \"purple\"}, \"encoding\": {\"tooltip\": [{\"field\": \"Date\", \"timeUnit\": \"yearquarter\", \"type\": \"temporal\"}, {\"aggregate\": \"count\", \"field\": \"package_name\", \"type\": \"nominal\"}], \"x\": {\"field\": \"Date\", \"timeUnit\": \"yearquarter\", \"type\": \"temporal\"}, \"y\": {\"aggregate\": \"count\", \"field\": \"package_name\", \"title\": \"Number of edits per quarter\", \"type\": \"nominal\"}}, \"height\": 200, \"title\": {\"text\": \"banesullivan\", \"align\": \"right\", \"angle\": 0, \"fontSize\": 18, \"orient\": \"right\"}, \"width\": 600}, {\"data\": {\"name\": \"data-815cf763db469b4d210cecc45f19bf0a\"}, \"mark\": {\"type\": \"bar\", \"color\": \"purple\"}, \"encoding\": {\"tooltip\": [{\"field\": \"Date\", \"timeUnit\": \"yearquarter\", \"type\": \"temporal\"}, {\"aggregate\": \"count\", \"field\": \"package_name\", \"type\": \"nominal\"}], \"x\": {\"field\": \"Date\", \"timeUnit\": \"yearquarter\", \"type\": \"temporal\"}, \"y\": {\"aggregate\": \"count\", \"field\": \"package_name\", \"title\": \"Number of edits per quarter\", \"type\": \"nominal\"}}, \"height\": 200, \"title\": {\"text\": \"yeelauren\", \"align\": \"right\", \"angle\": 0, \"fontSize\": 18, \"orient\": \"right\"}, \"width\": 600}, {\"data\": {\"name\": \"data-5aece1fed5ade238c80c1e8f3902dbbf\"}, \"mark\": {\"type\": \"bar\", \"color\": \"purple\"}, \"encoding\": {\"tooltip\": [{\"field\": \"Date\", \"timeUnit\": \"yearquarter\", \"type\": \"temporal\"}, {\"aggregate\": \"count\", \"field\": \"package_name\", \"type\": \"nominal\"}], \"x\": {\"field\": \"Date\", \"timeUnit\": \"yearquarter\", \"type\": \"temporal\"}, \"y\": {\"aggregate\": \"count\", \"field\": \"package_name\", \"title\": \"Number of edits per quarter\", \"type\": \"nominal\"}}, \"height\": 200, \"title\": {\"text\": \"kellyrowland\", \"align\": \"right\", \"angle\": 0, \"fontSize\": 18, \"orient\": \"right\"}, \"width\": 600}, {\"data\": {\"name\": \"data-2d100e2dc05baf6fcbd4fe52d6d2b426\"}, \"mark\": {\"type\": \"bar\", \"color\": \"purple\"}, \"encoding\": {\"tooltip\": [{\"field\": \"Date\", \"timeUnit\": \"yearquarter\", \"type\": \"temporal\"}, {\"aggregate\": \"count\", \"field\": \"package_name\", \"type\": \"nominal\"}], \"x\": {\"field\": \"Date\", \"timeUnit\": \"yearquarter\", \"type\": \"temporal\"}, \"y\": {\"aggregate\": \"count\", \"field\": \"package_name\", \"title\": \"Number of edits per quarter\", \"type\": \"nominal\"}}, \"height\": 200, \"title\": {\"text\": \"Batalex\", \"align\": \"right\", \"angle\": 0, \"fontSize\": 18, \"orient\": \"right\"}, \"width\": 600}, {\"data\": {\"name\": \"data-46ca07c6d3751a8175e87cd6bff08d49\"}, \"mark\": {\"type\": \"bar\", \"color\": \"purple\"}, \"encoding\": {\"tooltip\": [{\"field\": \"Date\", \"timeUnit\": \"yearquarter\", \"type\": \"temporal\"}, {\"aggregate\": \"count\", \"field\": \"package_name\", \"type\": \"nominal\"}], \"x\": {\"field\": \"Date\", \"timeUnit\": \"yearquarter\", \"type\": \"temporal\"}, \"y\": {\"aggregate\": \"count\", \"field\": \"package_name\", \"title\": \"Number of edits per quarter\", \"type\": \"nominal\"}}, \"height\": 200, \"title\": {\"text\": \"hamogu\", \"align\": \"right\", \"angle\": 0, \"fontSize\": 18, \"orient\": \"right\"}, \"width\": 600}, {\"data\": {\"name\": \"data-2422f41369d8a3f6b2c43ab2f7e57bb9\"}, \"mark\": {\"type\": \"bar\", \"color\": \"purple\"}, \"encoding\": {\"tooltip\": [{\"field\": \"Date\", \"timeUnit\": \"yearquarter\", \"type\": \"temporal\"}, {\"aggregate\": \"count\", \"field\": \"package_name\", \"type\": \"nominal\"}], \"x\": {\"field\": \"Date\", \"timeUnit\": \"yearquarter\", \"type\": \"temporal\"}, \"y\": {\"aggregate\": \"count\", \"field\": \"package_name\", \"title\": \"Number of edits per quarter\", \"type\": \"nominal\"}}, \"height\": 200, \"title\": {\"text\": \"isabelizimm\", \"align\": \"right\", \"angle\": 0, \"fontSize\": 18, \"orient\": \"right\"}, \"width\": 600}, {\"data\": {\"name\": \"data-f5bedf40d6fb504aff16746492d8a50b\"}, \"mark\": {\"type\": \"bar\", \"color\": \"purple\"}, \"encoding\": {\"tooltip\": [{\"field\": \"Date\", \"timeUnit\": \"yearquarter\", \"type\": \"temporal\"}, {\"aggregate\": \"count\", \"field\": \"package_name\", \"type\": \"nominal\"}], \"x\": {\"field\": \"Date\", \"timeUnit\": \"yearquarter\", \"type\": \"temporal\"}, \"y\": {\"aggregate\": \"count\", \"field\": \"package_name\", \"title\": \"Number of edits per quarter\", \"type\": \"nominal\"}}, \"height\": 200, \"title\": {\"text\": \"NimaSarajpoor\", \"align\": \"right\", \"angle\": 0, \"fontSize\": 18, \"orient\": \"right\"}, \"width\": 600}, {\"data\": {\"name\": \"data-ce5982f43fec0cfe513e3c8a245e2b57\"}, \"mark\": {\"type\": \"bar\", \"color\": \"purple\"}, \"encoding\": {\"tooltip\": [{\"field\": \"Date\", \"timeUnit\": \"yearquarter\", \"type\": \"temporal\"}, {\"aggregate\": \"count\", \"field\": \"package_name\", \"type\": \"nominal\"}], \"x\": {\"field\": \"Date\", \"timeUnit\": \"yearquarter\", \"type\": \"temporal\"}, \"y\": {\"aggregate\": \"count\", \"field\": \"package_name\", \"title\": \"Number of edits per quarter\", \"type\": \"nominal\"}}, \"height\": 200, \"title\": {\"text\": \"dhomeier\", \"align\": \"right\", \"angle\": 0, \"fontSize\": 18, \"orient\": \"right\"}, \"width\": 600}, {\"data\": {\"name\": \"data-261352303f1b6dcf333d31f351c5eb4e\"}, \"mark\": {\"type\": \"bar\", \"color\": \"purple\"}, \"encoding\": {\"tooltip\": [{\"field\": \"Date\", \"timeUnit\": \"yearquarter\", \"type\": \"temporal\"}, {\"aggregate\": \"count\", \"field\": \"package_name\", \"type\": \"nominal\"}], \"x\": {\"field\": \"Date\", \"timeUnit\": \"yearquarter\", \"type\": \"temporal\"}, \"y\": {\"aggregate\": \"count\", \"field\": \"package_name\", \"title\": \"Number of edits per quarter\", \"type\": \"nominal\"}}, \"height\": 200, \"title\": {\"text\": \"ctb\", \"align\": \"right\", \"angle\": 0, \"fontSize\": 18, \"orient\": \"right\"}, \"width\": 600}, {\"data\": {\"name\": \"data-2963e075bdfa0ea84b43fa4570c0c59d\"}, \"mark\": {\"type\": \"bar\", \"color\": \"purple\"}, \"encoding\": {\"tooltip\": [{\"field\": \"Date\", \"timeUnit\": \"yearquarter\", \"type\": \"temporal\"}, {\"aggregate\": \"count\", \"field\": \"package_name\", \"type\": \"nominal\"}], \"x\": {\"field\": \"Date\", \"timeUnit\": \"yearquarter\", \"type\": \"temporal\"}, \"y\": {\"aggregate\": \"count\", \"field\": \"package_name\", \"title\": \"Number of edits per quarter\", \"type\": \"nominal\"}}, \"height\": 200, \"title\": {\"text\": \"zeitsperre\", \"align\": \"right\", \"angle\": 0, \"fontSize\": 18, \"orient\": \"right\"}, \"width\": 600}, {\"data\": {\"name\": \"data-d8886d51ff3db57d59898b91459e5222\"}, \"mark\": {\"type\": \"bar\", \"color\": \"purple\"}, \"encoding\": {\"tooltip\": [{\"field\": \"Date\", \"timeUnit\": \"yearquarter\", \"type\": \"temporal\"}, {\"aggregate\": \"count\", \"field\": \"package_name\", \"type\": \"nominal\"}], \"x\": {\"field\": \"Date\", \"timeUnit\": \"yearquarter\", \"type\": \"temporal\"}, \"y\": {\"aggregate\": \"count\", \"field\": \"package_name\", \"title\": \"Number of edits per quarter\", \"type\": \"nominal\"}}, \"height\": 200, \"title\": {\"text\": \"ocefpaf\", \"align\": \"right\", \"angle\": 0, \"fontSize\": 18, \"orient\": \"right\"}, \"width\": 600}, {\"data\": {\"name\": \"data-7d19588d26aab1d2832ee58b39666cfc\"}, \"mark\": {\"type\": \"bar\", \"color\": \"purple\"}, \"encoding\": {\"tooltip\": [{\"field\": \"Date\", \"timeUnit\": \"yearquarter\", \"type\": \"temporal\"}, {\"aggregate\": \"count\", \"field\": \"package_name\", \"type\": \"nominal\"}], \"x\": {\"field\": \"Date\", \"timeUnit\": \"yearquarter\", \"type\": \"temporal\"}, \"y\": {\"aggregate\": \"count\", \"field\": \"package_name\", \"title\": \"Number of edits per quarter\", \"type\": \"nominal\"}}, \"height\": 200, \"title\": {\"text\": \"sneakers-the-rat\", \"align\": \"right\", \"angle\": 0, \"fontSize\": 18, \"orient\": \"right\"}, \"width\": 600}, {\"data\": {\"name\": \"data-2e0bc08030d95800a5b7cc7d52d888d4\"}, \"mark\": {\"type\": \"bar\", \"color\": \"purple\"}, \"encoding\": {\"tooltip\": [{\"field\": \"Date\", \"timeUnit\": \"yearquarter\", \"type\": \"temporal\"}, {\"aggregate\": \"count\", \"field\": \"package_name\", \"type\": \"nominal\"}], \"x\": {\"field\": \"Date\", \"timeUnit\": \"yearquarter\", \"type\": \"temporal\"}, \"y\": {\"aggregate\": \"count\", \"field\": \"package_name\", \"title\": \"Number of edits per quarter\", \"type\": \"nominal\"}}, \"height\": 200, \"title\": {\"text\": \"SimonMolinsky\", \"align\": \"right\", \"angle\": 0, \"fontSize\": 18, \"orient\": \"right\"}, \"width\": 600}, {\"data\": {\"name\": \"data-c6004a134945330fe76cf00eaed20b78\"}, \"mark\": {\"type\": \"bar\", \"color\": \"purple\"}, \"encoding\": {\"tooltip\": [{\"field\": \"Date\", \"timeUnit\": \"yearquarter\", \"type\": \"temporal\"}, {\"aggregate\": \"count\", \"field\": \"package_name\", \"type\": \"nominal\"}], \"x\": {\"field\": \"Date\", \"timeUnit\": \"yearquarter\", \"type\": \"temporal\"}, \"y\": {\"aggregate\": \"count\", \"field\": \"package_name\", \"title\": \"Number of edits per quarter\", \"type\": \"nominal\"}}, \"height\": 200, \"title\": {\"text\": \"tomalrussell\", \"align\": \"right\", \"angle\": 0, \"fontSize\": 18, \"orient\": \"right\"}, \"width\": 600}, {\"data\": {\"name\": \"data-4373ffdd6a22b7d46ee7b7e74fdfb554\"}, \"mark\": {\"type\": \"bar\", \"color\": \"purple\"}, \"encoding\": {\"tooltip\": [{\"field\": \"Date\", \"timeUnit\": \"yearquarter\", \"type\": \"temporal\"}, {\"aggregate\": \"count\", \"field\": \"package_name\", \"type\": \"nominal\"}], \"x\": {\"field\": \"Date\", \"timeUnit\": \"yearquarter\", \"type\": \"temporal\"}, \"y\": {\"aggregate\": \"count\", \"field\": \"package_name\", \"title\": \"Number of edits per quarter\", \"type\": \"nominal\"}}, \"height\": 200, \"title\": {\"text\": \"snacktavish\", \"align\": \"right\", \"angle\": 0, \"fontSize\": 18, \"orient\": \"right\"}, \"width\": 600}, {\"data\": {\"name\": \"data-346d05a2074f6aeb65345ae7b32327a5\"}, \"mark\": {\"type\": \"bar\", \"color\": \"purple\"}, \"encoding\": {\"tooltip\": [{\"field\": \"Date\", \"timeUnit\": \"yearquarter\", \"type\": \"temporal\"}, {\"aggregate\": \"count\", \"field\": \"package_name\", \"type\": \"nominal\"}], \"x\": {\"field\": \"Date\", \"timeUnit\": \"yearquarter\", \"type\": \"temporal\"}, \"y\": {\"aggregate\": \"count\", \"field\": \"package_name\", \"title\": \"Number of edits per quarter\", \"type\": \"nominal\"}}, \"height\": 200, \"title\": {\"text\": \"arianesasso\", \"align\": \"right\", \"angle\": 0, \"fontSize\": 18, \"orient\": \"right\"}, \"width\": 600}, {\"data\": {\"name\": \"data-d998707d62359382e8a98e76b4696ef9\"}, \"mark\": {\"type\": \"bar\", \"color\": \"purple\"}, \"encoding\": {\"tooltip\": [{\"field\": \"Date\", \"timeUnit\": \"yearquarter\", \"type\": \"temporal\"}, {\"aggregate\": \"count\", \"field\": \"package_name\", \"type\": \"nominal\"}], \"x\": {\"field\": \"Date\", \"timeUnit\": \"yearquarter\", \"type\": \"temporal\"}, \"y\": {\"aggregate\": \"count\", \"field\": \"package_name\", \"title\": \"Number of edits per quarter\", \"type\": \"nominal\"}}, \"height\": 200, \"title\": {\"text\": \"mjhajharia\", \"align\": \"right\", \"angle\": 0, \"fontSize\": 18, \"orient\": \"right\"}, \"width\": 600}, {\"data\": {\"name\": \"data-0bff1bddb48b44a0a49356f0d5385317\"}, \"mark\": {\"type\": \"bar\", \"color\": \"purple\"}, \"encoding\": {\"tooltip\": [{\"field\": \"Date\", \"timeUnit\": \"yearquarter\", \"type\": \"temporal\"}, {\"aggregate\": \"count\", \"field\": \"package_name\", \"type\": \"nominal\"}], \"x\": {\"field\": \"Date\", \"timeUnit\": \"yearquarter\", \"type\": \"temporal\"}, \"y\": {\"aggregate\": \"count\", \"field\": \"package_name\", \"title\": \"Number of edits per quarter\", \"type\": \"nominal\"}}, \"height\": 200, \"title\": {\"text\": \"NickleDave\", \"align\": \"right\", \"angle\": 0, \"fontSize\": 18, \"orient\": \"right\"}, \"width\": 600}, {\"data\": {\"name\": \"data-fa5a0771cec8d9fa2174bf14ff5c9331\"}, \"mark\": {\"type\": \"bar\", \"color\": \"purple\"}, \"encoding\": {\"tooltip\": [{\"field\": \"Date\", \"timeUnit\": \"yearquarter\", \"type\": \"temporal\"}, {\"aggregate\": \"count\", \"field\": \"package_name\", \"type\": \"nominal\"}], \"x\": {\"field\": \"Date\", \"timeUnit\": \"yearquarter\", \"type\": \"temporal\"}, \"y\": {\"aggregate\": \"count\", \"field\": \"package_name\", \"title\": \"Number of edits per quarter\", \"type\": \"nominal\"}}, \"height\": 200, \"title\": {\"text\": \"jbencook\", \"align\": \"right\", \"angle\": 0, \"fontSize\": 18, \"orient\": \"right\"}, \"width\": 600}, {\"data\": {\"name\": \"data-c1a6650420c5db22b8b4200c5db33b03\"}, \"mark\": {\"type\": \"bar\", \"color\": \"purple\"}, \"encoding\": {\"tooltip\": [{\"field\": \"Date\", \"timeUnit\": \"yearquarter\", \"type\": \"temporal\"}, {\"aggregate\": \"count\", \"field\": \"package_name\", \"type\": \"nominal\"}], \"x\": {\"field\": \"Date\", \"timeUnit\": \"yearquarter\", \"type\": \"temporal\"}, \"y\": {\"aggregate\": \"count\", \"field\": \"package_name\", \"title\": \"Number of edits per quarter\", \"type\": \"nominal\"}}, \"height\": 200, \"title\": {\"text\": \"jlpalomino\", \"align\": \"right\", \"angle\": 0, \"fontSize\": 18, \"orient\": \"right\"}, \"width\": 600}, {\"data\": {\"name\": \"data-ebc88746db533f6583762a249a9b14ad\"}, \"mark\": {\"type\": \"bar\", \"color\": \"purple\"}, \"encoding\": {\"tooltip\": [{\"field\": \"Date\", \"timeUnit\": \"yearquarter\", \"type\": \"temporal\"}, {\"aggregate\": \"count\", \"field\": \"package_name\", \"type\": \"nominal\"}], \"x\": {\"field\": \"Date\", \"timeUnit\": \"yearquarter\", \"type\": \"temporal\"}, \"y\": {\"aggregate\": \"count\", \"field\": \"package_name\", \"title\": \"Number of edits per quarter\", \"type\": \"nominal\"}}, \"height\": 200, \"title\": {\"text\": \"luizirber\", \"align\": \"right\", \"angle\": 0, \"fontSize\": 18, \"orient\": \"right\"}, \"width\": 600}], \"resolve\": {\"scale\": {\"x\": \"shared\", \"y\": \"shared\"}}, \"$schema\": \"https://vega.github.io/schema/vega-lite/v5.17.0.json\", \"datasets\": {\"data-b883b0534496c04b5c80d8ccf0831372\": [{\"editor\": \"tkoyama010\", \"package_name\": \"FElupe\", \"Date\": \"2024-09-14T22:37:44+00:00\"}], \"data-c2099f7ec768b7ea8cda330329af2677\": [{\"editor\": \"cmarmo\", \"package_name\": \"Solar Data Tools\", \"Date\": \"2024-08-17T06:30:02+00:00\"}, {\"editor\": \"cmarmo\", \"package_name\": \"Fluidimage\", \"Date\": \"2024-05-30T12:53:48+00:00\"}, {\"editor\": \"cmarmo\", \"package_name\": \"PyPartMC\", \"Date\": \"2024-05-03T18:22:59+00:00\"}, {\"editor\": \"cmarmo\", \"package_name\": \"pooltool\", \"Date\": \"2024-04-15T21:44:43+00:00\"}, {\"editor\": \"cmarmo\", \"package_name\": \"sunpy\", \"Date\": \"2023-10-30T18:45:06+00:00\"}, {\"editor\": \"cmarmo\", \"package_name\": \"astartes\", \"Date\": \"2023-07-10T22:12:51+00:00\"}, {\"editor\": \"cmarmo\", \"package_name\": \"crowsetta\", \"Date\": \"2023-01-03T19:39:16+00:00\"}], \"data-47a8684b4ce33daa5c5874efa409ea8a\": [{\"editor\": \"banesullivan\", \"package_name\": \"THzTools\", \"Date\": \"2024-08-01T11:54:53+00:00\"}, {\"editor\": \"banesullivan\", \"package_name\": \"EOmaps\", \"Date\": \"2023-09-26T12:14:47+00:00\"}], \"data-815cf763db469b4d210cecc45f19bf0a\": [{\"editor\": \"yeelauren\", \"package_name\": \"BlackMarblePy\", \"Date\": \"2024-07-18T14:15:11+00:00\"}, {\"editor\": \"yeelauren\", \"package_name\": \"GemGIS\", \"Date\": \"2023-08-08T07:11:59+00:00\"}], \"data-5aece1fed5ade238c80c1e8f3902dbbf\": [{\"editor\": \"kellyrowland\", \"package_name\": \"MontePy\", \"Date\": \"2024-07-01T21:04:05+00:00\"}], \"data-2d100e2dc05baf6fcbd4fe52d6d2b426\": [{\"editor\": \"Batalex\", \"package_name\": \"Great Tables\", \"Date\": \"2024-06-14T19:55:59+00:00\"}, {\"editor\": \"Batalex\", \"package_name\": \"harmonize-wq\", \"Date\": \"2024-02-08T19:43:03+00:00\"}, {\"editor\": \"Batalex\", \"package_name\": \"Sciform\", \"Date\": \"2023-07-21T04:41:08+00:00\"}, {\"editor\": \"Batalex\", \"package_name\": \"cardsort\", \"Date\": \"2023-04-20T11:29:27+00:00\"}, {\"editor\": \"Batalex\", \"package_name\": \"xclim\", \"Date\": \"2023-01-16T16:59:20+00:00\"}], \"data-46ca07c6d3751a8175e87cd6bff08d49\": [{\"editor\": \"hamogu\", \"package_name\": \"Stingray\", \"Date\": \"2024-06-14T12:59:47+00:00\"}, {\"editor\": \"hamogu\", \"package_name\": \"astrodata\", \"Date\": \"2024-05-13T23:48:03+00:00\"}, {\"editor\": \"hamogu\", \"package_name\": \"martini\", \"Date\": \"2024-03-06T17:08:29+00:00\"}], \"data-2422f41369d8a3f6b2c43ab2f7e57bb9\": [{\"editor\": \"isabelizimm\", \"package_name\": \"QuadratiK\", \"Date\": \"2024-05-13T21:23:44+00:00\"}, {\"editor\": \"isabelizimm\", \"package_name\": \"rdata\", \"Date\": \"2023-10-20T08:26:10+00:00\"}], \"data-f5bedf40d6fb504aff16746492d8a50b\": [{\"editor\": \"NimaSarajpoor\", \"package_name\": \"AMS\", \"Date\": \"2024-04-22T01:37:56+00:00\"}], \"data-ce5982f43fec0cfe513e3c8a245e2b57\": [{\"editor\": \"dhomeier\", \"package_name\": \"ZodiPy\", \"Date\": \"2024-02-24T12:28:07+00:00\"}, {\"editor\": \"dhomeier\", \"package_name\": \"PetroFit\", \"Date\": \"2024-02-16T22:46:47+00:00\"}], \"data-261352303f1b6dcf333d31f351c5eb4e\": [{\"editor\": \"ctb\", \"package_name\": \"plot_phylo\", \"Date\": \"2024-02-22T11:55:59+00:00\"}, {\"editor\": \"ctb\", \"package_name\": \"taxpasta\", \"Date\": \"2023-03-02T16:50:50+00:00\"}], \"data-2963e075bdfa0ea84b43fa4570c0c59d\": [{\"editor\": \"zeitsperre\", \"package_name\": \"disdrodb\", \"Date\": \"2024-01-18T17:25:28+00:00\"}], \"data-d8886d51ff3db57d59898b91459e5222\": [{\"editor\": \"ocefpaf\", \"package_name\": \"xnemogcm\", \"Date\": \"2024-01-06T12:33:45+00:00\"}, {\"editor\": \"ocefpaf\", \"package_name\": \"afscgap\", \"Date\": \"2023-03-25T00:27:27+00:00\"}], \"data-7d19588d26aab1d2832ee58b39666cfc\": [{\"editor\": \"sneakers-the-rat\", \"package_name\": \"automata\", \"Date\": \"2023-12-31T02:23:34+00:00\"}, {\"editor\": \"sneakers-the-rat\", \"package_name\": \"Plenoptic\", \"Date\": \"2023-11-17T20:39:40+00:00\"}], \"data-2e0bc08030d95800a5b7cc7d52d888d4\": [{\"editor\": \"SimonMolinsky\", \"package_name\": \"SLEPLET\", \"Date\": \"2023-11-16T01:32:15+00:00\"}, {\"editor\": \"SimonMolinsky\", \"package_name\": \"XGI\", \"Date\": \"2023-06-08T16:15:32+00:00\"}], \"data-c6004a134945330fe76cf00eaed20b78\": [{\"editor\": \"tomalrussell\", \"package_name\": \"ncompare\", \"Date\": \"2023-10-25T13:12:48+00:00\"}, {\"editor\": \"tomalrussell\", \"package_name\": \"Python-graphblas\", \"Date\": \"2023-02-04T23:07:20+00:00\"}], \"data-4373ffdd6a22b7d46ee7b7e74fdfb554\": [{\"editor\": \"snacktavish\", \"package_name\": \"sourmash\", \"Date\": \"2023-08-14T21:02:57+00:00\"}], \"data-346d05a2074f6aeb65345ae7b32327a5\": [{\"editor\": \"arianesasso\", \"package_name\": \"biocypher\", \"Date\": \"2023-05-04T18:08:32+00:00\"}, {\"editor\": \"arianesasso\", \"package_name\": \"Pynteny\", \"Date\": \"2022-12-16T22:02:53+00:00\"}], \"data-d998707d62359382e8a98e76b4696ef9\": [{\"editor\": \"mjhajharia\", \"package_name\": \"bibat\", \"Date\": \"2023-03-01T14:16:51+00:00\"}], \"data-0bff1bddb48b44a0a49356f0d5385317\": [{\"editor\": \"NickleDave\", \"package_name\": \"openomics\", \"Date\": \"2021-01-01T19:54:20+00:00\"}, {\"editor\": \"NickleDave\", \"package_name\": \"Physcraper\", \"Date\": \"2020-07-15T22:31:52+00:00\"}, {\"editor\": \"NickleDave\", \"package_name\": \"pystiche\", \"Date\": \"2020-07-02T12:57:08+00:00\"}], \"data-fa5a0771cec8d9fa2174bf14ff5c9331\": [{\"editor\": \"jbencook\", \"package_name\": \"phenopype\", \"Date\": \"2020-05-04T16:51:36+00:00\"}], \"data-c1a6650420c5db22b8b4200c5db33b03\": [{\"editor\": \"jlpalomino\", \"package_name\": \"MovingPandas\", \"Date\": \"2020-01-06T17:13:27+00:00\"}], \"data-ebc88746db533f6583762a249a9b14ad\": [{\"editor\": \"luizirber\", \"package_name\": \"earthpy\", \"Date\": \"2019-05-08T15:02:14+00:00\"}]}}, {\"mode\": \"vega-lite\"});\n",
       "</script>"
      ],
      "text/plain": [
       "alt.VConcatChart(...)"
      ]
     },
     "metadata": {},
     "output_type": "display_data"
    }
   ],
   "source": [
    "charts = [\n",
    "    alt.Chart(edits.loc[edits.editor == editor])\n",
    "    .mark_bar(color=\"purple\")\n",
    "    .encode(\n",
    "        x=alt.X(\"yearquarter(Date):T\"),\n",
    "        y=alt.Y(\"count(package_name)\", title=\"Number of edits per quarter\"),\n",
    "        tooltip=[\"yearquarter(Date)\", \"count(package_name)\"],\n",
    "    )\n",
    "    .properties(\n",
    "        title=alt.TitleParams(\n",
    "            text=f\"{editor}\",\n",
    "            fontSize=18,\n",
    "            orient=\"right\",\n",
    "            angle=0,\n",
    "            align=\"right\",\n",
    "        ),\n",
    "        width=600,\n",
    "        height=200,\n",
    "    )\n",
    "    for editor in editors\n",
    "]\n",
    "\n",
    "full_chart = alt.vconcat(*charts).resolve_scale(x=\"shared\", y=\"shared\")\n",
    "full_chart.show()"
   ]
  }
 ],
 "metadata": {
  "jupytext": {
   "formats": "ipynb,py:percent"
  },
  "kernelspec": {
   "display_name": "Python 3 (ipykernel)",
   "language": "python",
   "name": "python3"
  },
  "language_info": {
   "codemirror_mode": {
    "name": "ipython",
    "version": 3
   },
   "file_extension": ".py",
   "mimetype": "text/x-python",
   "name": "python",
   "nbconvert_exporter": "python",
   "pygments_lexer": "ipython3",
   "version": "3.11.9"
  }
 },
 "nbformat": 4,
 "nbformat_minor": 4
}
