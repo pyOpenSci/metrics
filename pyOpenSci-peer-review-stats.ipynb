{
 "cells": [
  {
   "cell_type": "markdown",
   "metadata": {
    "editable": true,
    "slideshow": {
     "slide_type": ""
    },
    "tags": []
   },
   "source": [
    "---\n",
    "title: Software Peer Review Over Time -- pyOpenSci\n",
    "subtitle: pyOpenSci Peer Review Summary Stats\n",
    "license:\n",
    "  code: MIT\n",
    "---\n",
    "\n"
   ]
  },
  {
   "cell_type": "code",
   "execution_count": 9,
   "metadata": {
    "editable": true,
    "slideshow": {
     "slide_type": ""
    },
    "tags": [
     "remove-input"
    ]
   },
   "outputs": [],
   "source": [
    "import os\n",
    "import warnings\n",
    "from datetime import datetime\n",
    "\n",
    "import altair as alt\n",
    "import pandas as pd\n",
    "from IPython.display import display, HTML\n",
    "\n",
    "from pyosmeta import ProcessIssues\n",
    "from pyosmeta.github_api import GitHubAPI\n",
    "\n",
    "pd.options.mode.chained_assignment = None\n",
    "# pyArrow needs to be installed\n",
    "pd.options.future.infer_string = True\n",
    "\n",
    "# Suppress all warnings\n",
    "warnings.filterwarnings('ignore')\n",
    "\n",
    "# https://github.com/ryantam626/jupyterlab_code_formatter"
   ]
  },
  {
   "cell_type": "code",
   "execution_count": 10,
   "metadata": {
    "editable": true,
    "slideshow": {
     "slide_type": ""
    },
    "tags": [
     "remove-input",
     "remove-output"
    ]
   },
   "outputs": [
    {
     "data": {
      "text/html": [
       "<link href=\"https://fonts.googleapis.com/css2?family=Poppins:wght@400;700&display=swap\" rel=\"stylesheet\">"
      ],
      "text/plain": [
       "<IPython.core.display.HTML object>"
      ]
     },
     "metadata": {},
     "output_type": "display_data"
    },
    {
     "data": {
      "text/html": [
       "<link href=\"https://fonts.googleapis.com/css2?family=Poppins:wght@400;700&display=swap\" rel=\"stylesheet\">"
      ],
      "text/plain": [
       "<IPython.core.display.HTML object>"
      ]
     },
     "metadata": {},
     "output_type": "display_data"
    },
    {
     "data": {
      "text/plain": [
       "ThemeRegistry.enable('poppins_theme')"
      ]
     },
     "execution_count": 10,
     "metadata": {},
     "output_type": "execute_result"
    }
   ],
   "source": [
    "# Load the Poppins font from Google Fonts\n",
    "display(HTML('<link href=\"https://fonts.googleapis.com/css2?family=Poppins:wght@400;700&display=swap\" rel=\"stylesheet\">'))\n",
    "\n",
    "today = datetime.today().date().strftime(\"%d %B %Y\")\n",
    "\n",
    "# Load the Poppins font from Google Fonts\n",
    "display(HTML('<link href=\"https://fonts.googleapis.com/css2?family=Poppins:wght@400;700&display=swap\" rel=\"stylesheet\">'))\n",
    "\n",
    "# Define the custom theme\n",
    "def poppins_theme():\n",
    "    return {\n",
    "        'config': {\n",
    "            # https://altair-viz.github.io/user_guide/configuration.html#config-title\n",
    "            'title': {\n",
    "                'fontSize': 20,\n",
    "                'font': 'Poppins',\n",
    "                'anchor': 'start',\n",
    "                'color': 'black',\n",
    "                'anchor': 'middle', # centered\n",
    "                'fontWeight': 400,\n",
    "                'dy': -20,\n",
    "                'dx': 10\n",
    "            },\n",
    "            'axis': {\n",
    "                'labelFontSize': 12,\n",
    "                'titleFontSize': 14,\n",
    "                'titleFont': 'Poppins',\n",
    "                'labelFont': 'Poppins',\n",
    "                'labelFontSize': 14, \n",
    "            },\n",
    "            'legend': {\n",
    "                'labelFontSize': 12,\n",
    "                'titleFontSize': 14,\n",
    "                'titleFont': 'Poppins',\n",
    "                'labelFont': 'Poppins'\n",
    "            },\n",
    "            'bar': {\n",
    "                'color': 'purple',\n",
    "                'fill': 'purple'\n",
    "            },\n",
    "            'line': {\n",
    "                'color': 'purple'\n",
    "                },\n",
    "            'view': {\n",
    "                'height': 300,\n",
    "                'width': 600,  # Default chart width\n",
    "                'padding': {\"top\": 190, \"left\": 10, \"right\": 10, \"bottom\": 90}\n",
    "            }\n",
    "        }\n",
    "    }\n",
    "\n",
    "# Register the custom theme under a chosen name\n",
    "alt.themes.register('poppins_theme', poppins_theme)\n",
    "\n",
    "# Enable the newly registered theme\n",
    "alt.themes.enable('poppins_theme')"
   ]
  },
  {
   "cell_type": "markdown",
   "metadata": {
    "editable": true,
    "slideshow": {
     "slide_type": ""
    },
    "tags": [],
    "user_expressions": [
     {
      "expression": "today",
      "result": {
       "data": {
        "text/plain": "'09 August 2024'"
       },
       "metadata": {},
       "status": "ok"
      }
     }
    ]
   },
   "source": [
    "Last updated: **{eval}`today`**"
   ]
  },
  {
   "cell_type": "code",
   "execution_count": 12,
   "metadata": {
    "editable": true,
    "slideshow": {
     "slide_type": ""
    },
    "tags": [
     "remove-input"
    ]
   },
   "outputs": [],
   "source": [
    "# Get a list of reviews submitted to us\n",
    "# This potentially doesn't include issues that were deemed out of scope...\n",
    "github_api = GitHubAPI(\n",
    "    org=\"pyopensci\",\n",
    "    repo=\"software-submission\",\n",
    "    labels=[\n",
    "        \"0/seeking-editor\",\n",
    "        \"0/pre-review-checks\",\n",
    "        \"1/editor-assigned\",\n",
    "        \"2/seeking-reviewers\",\n",
    "        \"3/reviewers-assigned\",\n",
    "        \"4/reviews-in-awaiting-changes\",\n",
    "        \"5/awaiting-reviewer-response\",\n",
    "        \"6/pyOS-approved\",\n",
    "        \"7/under-joss-review\",\n",
    "        \"8/joss-review-complete\",\n",
    "        \"9/joss-approved\",\n",
    "        \"New Submission!\",\n",
    "    ],\n",
    ")\n",
    "process_review = ProcessIssues(github_api)\n",
    "issues = process_review.get_issues()\n",
    "reviews, errors = process_review.parse_issues(issues)"
   ]
  },
  {
   "cell_type": "code",
   "execution_count": 13,
   "metadata": {
    "editable": true,
    "slideshow": {
     "slide_type": ""
    },
    "tags": [
     "remove-input"
    ]
   },
   "outputs": [],
   "source": [
    "# Get presubmissions\n",
    "github_api_pre = GitHubAPI(\n",
    "    org=\"pyopensci\",\n",
    "    repo=\"software-submission\",\n",
    "    labels=[\n",
    "        \"presubmission\",\n",
    "    ],\n",
    ")\n",
    "process_review_pre = ProcessIssues(github_api_pre)\n",
    "issues_pre = process_review_pre.get_issues()\n",
    "reviews_pre, errors = process_review_pre.parse_issues(issues_pre)"
   ]
  },
  {
   "cell_type": "code",
   "execution_count": 14,
   "metadata": {
    "editable": true,
    "slideshow": {
     "slide_type": ""
    },
    "tags": [
     "remove-input"
    ]
   },
   "outputs": [],
   "source": [
    "# All presubmissions over time\n",
    "pre_submission_table = [{\"package_name\": name,\n",
    "                \"date_opened\": review.created_at,\n",
    "                \"date_closed\": review.closed_at,\n",
    "                \"labels\": review.labels} \n",
    "                 for name, review in reviews_pre.items()]\n",
    "\n",
    "pre_submission_reviews_df = pd.DataFrame(pre_submission_table)\n",
    "total_presubmissions = len(pre_submission_reviews_df)"
   ]
  },
  {
   "cell_type": "code",
   "execution_count": 15,
   "metadata": {
    "editable": true,
    "slideshow": {
     "slide_type": ""
    },
    "tags": [
     "remove-input"
    ]
   },
   "outputs": [],
   "source": [
    "# Full reviews\n",
    "review_table = [{\"package_name\": name,\n",
    "                \"date_opened\": review.created_at,\n",
    "                \"date_closed\": review.closed_at,\n",
    "                \"labels\": review.labels} \n",
    "                 for name, review in reviews.items()]\n",
    "\n",
    "reviews_df = pd.DataFrame(review_table)\n",
    "total_submissions = len(reviews_df)"
   ]
  },
  {
   "cell_type": "code",
   "execution_count": 16,
   "metadata": {
    "editable": true,
    "slideshow": {
     "slide_type": ""
    },
    "tags": [
     "remove-input"
    ]
   },
   "outputs": [],
   "source": [
    "presub_count = pre_submission_reviews_df[pre_submission_reviews_df['date_closed'].isna()]\n",
    "presub_open_count = len(presub_count)\n",
    "\n",
    "open_reviews = reviews_df[reviews_df['date_closed'].isna()]\n",
    "open_count = len(open_reviews)"
   ]
  },
  {
   "cell_type": "code",
   "execution_count": 17,
   "metadata": {
    "editable": true,
    "slideshow": {
     "slide_type": ""
    },
    "tags": [
     "remove-input"
    ]
   },
   "outputs": [
    {
     "data": {
      "text/html": [
       "\n",
       "<style>\n",
       "  #altair-viz-a7b30735e587465f833115e47f49558b.vega-embed {\n",
       "    width: 100%;\n",
       "    display: flex;\n",
       "  }\n",
       "\n",
       "  #altair-viz-a7b30735e587465f833115e47f49558b.vega-embed details,\n",
       "  #altair-viz-a7b30735e587465f833115e47f49558b.vega-embed details summary {\n",
       "    position: relative;\n",
       "  }\n",
       "</style>\n",
       "<div id=\"altair-viz-a7b30735e587465f833115e47f49558b\"></div>\n",
       "<script type=\"text/javascript\">\n",
       "  var VEGA_DEBUG = (typeof VEGA_DEBUG == \"undefined\") ? {} : VEGA_DEBUG;\n",
       "  (function(spec, embedOpt){\n",
       "    let outputDiv = document.currentScript.previousElementSibling;\n",
       "    if (outputDiv.id !== \"altair-viz-a7b30735e587465f833115e47f49558b\") {\n",
       "      outputDiv = document.getElementById(\"altair-viz-a7b30735e587465f833115e47f49558b\");\n",
       "    }\n",
       "    const paths = {\n",
       "      \"vega\": \"https://cdn.jsdelivr.net/npm/vega@5?noext\",\n",
       "      \"vega-lib\": \"https://cdn.jsdelivr.net/npm/vega-lib?noext\",\n",
       "      \"vega-lite\": \"https://cdn.jsdelivr.net/npm/vega-lite@5.17.0?noext\",\n",
       "      \"vega-embed\": \"https://cdn.jsdelivr.net/npm/vega-embed@6?noext\",\n",
       "    };\n",
       "\n",
       "    function maybeLoadScript(lib, version) {\n",
       "      var key = `${lib.replace(\"-\", \"\")}_version`;\n",
       "      return (VEGA_DEBUG[key] == version) ?\n",
       "        Promise.resolve(paths[lib]) :\n",
       "        new Promise(function(resolve, reject) {\n",
       "          var s = document.createElement('script');\n",
       "          document.getElementsByTagName(\"head\")[0].appendChild(s);\n",
       "          s.async = true;\n",
       "          s.onload = () => {\n",
       "            VEGA_DEBUG[key] = version;\n",
       "            return resolve(paths[lib]);\n",
       "          };\n",
       "          s.onerror = () => reject(`Error loading script: ${paths[lib]}`);\n",
       "          s.src = paths[lib];\n",
       "        });\n",
       "    }\n",
       "\n",
       "    function showError(err) {\n",
       "      outputDiv.innerHTML = `<div class=\"error\" style=\"color:red;\">${err}</div>`;\n",
       "      throw err;\n",
       "    }\n",
       "\n",
       "    function displayChart(vegaEmbed) {\n",
       "      vegaEmbed(outputDiv, spec, embedOpt)\n",
       "        .catch(err => showError(`Javascript Error: ${err.message}<br>This usually means there's a typo in your chart specification. See the javascript console for the full traceback.`));\n",
       "    }\n",
       "\n",
       "    if(typeof define === \"function\" && define.amd) {\n",
       "      requirejs.config({paths});\n",
       "      require([\"vega-embed\"], displayChart, err => showError(`Error loading script: ${err.message}`));\n",
       "    } else {\n",
       "      maybeLoadScript(\"vega\", \"5\")\n",
       "        .then(() => maybeLoadScript(\"vega-lite\", \"5.17.0\"))\n",
       "        .then(() => maybeLoadScript(\"vega-embed\", \"6\"))\n",
       "        .catch(showError)\n",
       "        .then(() => displayChart(vegaEmbed));\n",
       "    }\n",
       "  })({\"config\": {\"title\": {\"fontSize\": 20, \"font\": \"Poppins\", \"anchor\": \"middle\", \"color\": \"black\", \"fontWeight\": 400, \"dy\": -20, \"dx\": 10}, \"axis\": {\"labelFontSize\": 14, \"titleFontSize\": 14, \"titleFont\": \"Poppins\", \"labelFont\": \"Poppins\"}, \"legend\": {\"labelFontSize\": 12, \"titleFontSize\": 14, \"titleFont\": \"Poppins\", \"labelFont\": \"Poppins\"}, \"bar\": {\"color\": \"purple\", \"fill\": \"purple\"}, \"line\": {\"color\": \"purple\"}, \"view\": {\"height\": 300, \"width\": 600, \"padding\": {\"top\": 190, \"left\": 10, \"right\": 10, \"bottom\": 90}}}, \"data\": {\"name\": \"data-c7b99667ba8c724d1a77672423ecb2f1\"}, \"mark\": {\"type\": \"bar\", \"color\": \"purple\"}, \"encoding\": {\"tooltip\": [{\"field\": \"Category\", \"type\": \"nominal\"}, {\"field\": \"Count\", \"type\": \"quantitative\"}], \"x\": {\"axis\": {\"labelAngle\": 0}, \"field\": \"Category\", \"title\": \"Category\", \"type\": \"nominal\"}, \"y\": {\"field\": \"Count\", \"title\": \"Count\", \"type\": \"quantitative\"}}, \"params\": [{\"name\": \"param_1\", \"select\": {\"type\": \"interval\", \"encodings\": [\"x\", \"y\"]}, \"bind\": \"scales\"}], \"title\": {\"text\": \"Overview of Issues and Submissions\"}, \"width\": 600, \"$schema\": \"https://vega.github.io/schema/vega-lite/v5.17.0.json\", \"datasets\": {\"data-c7b99667ba8c724d1a77672423ecb2f1\": [{\"Category\": \"Open Reviews\", \"Count\": 25}, {\"Category\": \"Pre-submission Inquiries\", \"Count\": 3}]}}, {\"mode\": \"vega-lite\"});\n",
       "</script>"
      ],
      "text/plain": [
       "alt.Chart(...)"
      ]
     },
     "metadata": {},
     "output_type": "display_data"
    }
   ],
   "source": [
    "# This should be 3 not 2\n",
    "seeking_editor = open_reviews[open_reviews['labels'].apply(lambda x: \"0/seeking-editor\" in x)]\n",
    "seeking_editor_count = len(seeking_editor)\n",
    "\n",
    "# Create a current submissions bar plot\n",
    "data = pd.DataFrame({\n",
    "    'Category': ['Open Reviews', 'Pre-submission Inquiries'],\n",
    "    'Count': [open_count, presub_open_count]\n",
    "})\n",
    "\n",
    "# Step 2: Create the bar plot\n",
    "bar_chart = alt.Chart(data).mark_bar(color='purple').encode(\n",
    "    x=alt.X('Category:N', title='Category', axis=alt.Axis(labelAngle=0)),\n",
    "    y=alt.Y('Count:Q', title='Count'),\n",
    "    tooltip=['Category', 'Count']\n",
    ").properties(\n",
    "    title=alt.TitleParams(text='Overview of Issues and Submissions'),\n",
    "    width=600\n",
    ").interactive()  # Makes the chart interactive\n",
    "\n",
    "# Step 3: Display the chart\n",
    "bar_chart.show()"
   ]
  },
  {
   "cell_type": "markdown",
   "metadata": {
    "editable": true,
    "slideshow": {
     "slide_type": ""
    },
    "tags": [],
    "user_expressions": [
     {
      "expression": "seeking_editor_count",
      "result": {
       "data": {
        "text/plain": "3"
       },
       "metadata": {},
       "status": "ok"
      }
     },
     {
      "expression": "presub_open_count",
      "result": {
       "data": {
        "text/plain": "3"
       },
       "metadata": {},
       "status": "ok"
      }
     },
     {
      "expression": "open_count",
      "result": {
       "data": {
        "text/plain": "25"
       },
       "metadata": {},
       "status": "ok"
      }
     }
    ]
   },
   "source": [
    "We currently have {eval}`open_count` open reviews underway and {eval}`presub_open_count` open presubmissions.\n",
    "\n",
    "## Other stats\n",
    "\n",
    "* {eval}`seeking_editor_count` reviews are currently seeking an editor. This means that these Python packages have passed preliminary pre-review checks and are moving on to the review process. Finding an editor can sometimes take time when our editorial team is busy. \n",
    "* Of these XXX are on-hold <- query this next"
   ]
  },
  {
   "cell_type": "code",
   "execution_count": 18,
   "metadata": {
    "editable": true,
    "slideshow": {
     "slide_type": ""
    },
    "tags": [
     "remove-input"
    ]
   },
   "outputs": [],
   "source": [
    "# Should be 71 reviews and 56 presubmissions?\n",
    "# Total presubmissions - get the total number of pre-submission inquiries (all time)\n",
    "#Get presubmissions separately\n"
   ]
  },
  {
   "cell_type": "markdown",
   "metadata": {
    "editable": true,
    "slideshow": {
     "slide_type": ""
    },
    "tags": [],
    "user_expressions": [
     {
      "expression": "total_submissions",
      "result": {
       "data": {
        "text/plain": "68"
       },
       "metadata": {},
       "status": "ok"
      }
     }
    ]
   },
   "source": [
    "# Total Presubmissions\n",
    "\n",
    "Here we removed all issues that were help-wanted or issus with our templates that were not related to a software-review submission. As of today we have had \n",
    "\n",
    "* pyOpenSci has had **{eval}`total_submissions` total review submissions**\n"
   ]
  },
  {
   "cell_type": "markdown",
   "metadata": {
    "editable": true,
    "slideshow": {
     "slide_type": ""
    },
    "tags": []
   },
   "source": [
    "Below is a summary of total submissions per month since pyOpenSci started it's \n",
    "peer review process in 2019. We halted peer review in the fall 2022 given our \n",
    "executive director had funding to spend full time effort on the organization!\n",
    "\n",
    "We reopened in the winter of 2023. That is where you see the increase in new \n",
    "submissions begin.\n"
   ]
  },
  {
   "cell_type": "code",
   "execution_count": 19,
   "metadata": {
    "editable": true,
    "slideshow": {
     "slide_type": ""
    },
    "tags": [
     "remove-input"
    ]
   },
   "outputs": [],
   "source": [
    "# Extract year and quarter from the 'date_opened' column\n",
    "reviews_df.loc[:, \"year_quarter\"] = reviews_df[\"date_opened\"].dt.to_period(\"Q\")\n",
    "quarterly_counts = (\n",
    "    reviews_df[\"year_quarter\"].value_counts().sort_index().reset_index()\n",
    ")\n",
    "\n",
    "quarterly_counts[\"year_quarter\"] = quarterly_counts[\"year_quarter\"].astype(str)"
   ]
  },
  {
   "cell_type": "code",
   "execution_count": 20,
   "metadata": {
    "editable": true,
    "slideshow": {
     "slide_type": ""
    },
    "tags": [
     "remove-input"
    ]
   },
   "outputs": [
    {
     "data": {
      "text/html": [
       "\n",
       "<style>\n",
       "  #altair-viz-916abec78eeb4852a05bf01b17652798.vega-embed {\n",
       "    width: 100%;\n",
       "    display: flex;\n",
       "  }\n",
       "\n",
       "  #altair-viz-916abec78eeb4852a05bf01b17652798.vega-embed details,\n",
       "  #altair-viz-916abec78eeb4852a05bf01b17652798.vega-embed details summary {\n",
       "    position: relative;\n",
       "  }\n",
       "</style>\n",
       "<div id=\"altair-viz-916abec78eeb4852a05bf01b17652798\"></div>\n",
       "<script type=\"text/javascript\">\n",
       "  var VEGA_DEBUG = (typeof VEGA_DEBUG == \"undefined\") ? {} : VEGA_DEBUG;\n",
       "  (function(spec, embedOpt){\n",
       "    let outputDiv = document.currentScript.previousElementSibling;\n",
       "    if (outputDiv.id !== \"altair-viz-916abec78eeb4852a05bf01b17652798\") {\n",
       "      outputDiv = document.getElementById(\"altair-viz-916abec78eeb4852a05bf01b17652798\");\n",
       "    }\n",
       "    const paths = {\n",
       "      \"vega\": \"https://cdn.jsdelivr.net/npm/vega@5?noext\",\n",
       "      \"vega-lib\": \"https://cdn.jsdelivr.net/npm/vega-lib?noext\",\n",
       "      \"vega-lite\": \"https://cdn.jsdelivr.net/npm/vega-lite@5.17.0?noext\",\n",
       "      \"vega-embed\": \"https://cdn.jsdelivr.net/npm/vega-embed@6?noext\",\n",
       "    };\n",
       "\n",
       "    function maybeLoadScript(lib, version) {\n",
       "      var key = `${lib.replace(\"-\", \"\")}_version`;\n",
       "      return (VEGA_DEBUG[key] == version) ?\n",
       "        Promise.resolve(paths[lib]) :\n",
       "        new Promise(function(resolve, reject) {\n",
       "          var s = document.createElement('script');\n",
       "          document.getElementsByTagName(\"head\")[0].appendChild(s);\n",
       "          s.async = true;\n",
       "          s.onload = () => {\n",
       "            VEGA_DEBUG[key] = version;\n",
       "            return resolve(paths[lib]);\n",
       "          };\n",
       "          s.onerror = () => reject(`Error loading script: ${paths[lib]}`);\n",
       "          s.src = paths[lib];\n",
       "        });\n",
       "    }\n",
       "\n",
       "    function showError(err) {\n",
       "      outputDiv.innerHTML = `<div class=\"error\" style=\"color:red;\">${err}</div>`;\n",
       "      throw err;\n",
       "    }\n",
       "\n",
       "    function displayChart(vegaEmbed) {\n",
       "      vegaEmbed(outputDiv, spec, embedOpt)\n",
       "        .catch(err => showError(`Javascript Error: ${err.message}<br>This usually means there's a typo in your chart specification. See the javascript console for the full traceback.`));\n",
       "    }\n",
       "\n",
       "    if(typeof define === \"function\" && define.amd) {\n",
       "      requirejs.config({paths});\n",
       "      require([\"vega-embed\"], displayChart, err => showError(`Error loading script: ${err.message}`));\n",
       "    } else {\n",
       "      maybeLoadScript(\"vega\", \"5\")\n",
       "        .then(() => maybeLoadScript(\"vega-lite\", \"5.17.0\"))\n",
       "        .then(() => maybeLoadScript(\"vega-embed\", \"6\"))\n",
       "        .catch(showError)\n",
       "        .then(() => displayChart(vegaEmbed));\n",
       "    }\n",
       "  })({\"config\": {\"title\": {\"fontSize\": 20, \"font\": \"Poppins\", \"anchor\": \"middle\", \"color\": \"black\", \"fontWeight\": 400, \"dy\": -20, \"dx\": 10}, \"axis\": {\"labelFontSize\": 14, \"titleFontSize\": 14, \"titleFont\": \"Poppins\", \"labelFont\": \"Poppins\"}, \"legend\": {\"labelFontSize\": 12, \"titleFontSize\": 14, \"titleFont\": \"Poppins\", \"labelFont\": \"Poppins\"}, \"bar\": {\"color\": \"purple\", \"fill\": \"purple\"}, \"line\": {\"color\": \"purple\"}, \"view\": {\"height\": 300, \"width\": 600, \"padding\": {\"top\": 190, \"left\": 10, \"right\": 10, \"bottom\": 90}}}, \"data\": {\"name\": \"data-79bcb96424eed99472e8814e7c48c098\"}, \"mark\": {\"type\": \"bar\", \"color\": \"purple\"}, \"encoding\": {\"tooltip\": [{\"field\": \"year_quarter\", \"title\": \"Quarter\", \"type\": \"ordinal\"}, {\"field\": \"count\", \"title\": \"Number of Issues\", \"type\": \"quantitative\"}], \"x\": {\"axis\": {\"labelAngle\": 0, \"labelExpr\": \"datum.label == '2019Q1' ? '2019 Q1' : \\n                datum.label == '2020Q1' ? '2020 Q1' : \\n                datum.label == '2021Q1' ? '2021 Q1' : \\n                datum.label == '2022Q1' ? '2022 Q1' :\\n                datum.label == '2023Q1' ? '2023 Q1' :\\n                datum.label == '2024Q1' ? '2024 Q1' :\\n                '' \"}, \"field\": \"year_quarter\", \"title\": \"Year-Quarter\", \"type\": \"ordinal\"}, \"y\": {\"axis\": {\"tickCount\": 5}, \"field\": \"count\", \"title\": \"Number of Submissions\", \"type\": \"quantitative\"}}, \"height\": 400, \"title\": \"Number of Submissions by Quarter per Year\", \"width\": 600, \"$schema\": \"https://vega.github.io/schema/vega-lite/v5.17.0.json\", \"datasets\": {\"data-79bcb96424eed99472e8814e7c48c098\": [{\"year_quarter\": \"2019Q1\", \"count\": 1}, {\"year_quarter\": \"2019Q2\", \"count\": 2}, {\"year_quarter\": \"2019Q3\", \"count\": 1}, {\"year_quarter\": \"2019Q4\", \"count\": 1}, {\"year_quarter\": \"2020Q1\", \"count\": 2}, {\"year_quarter\": \"2020Q2\", \"count\": 1}, {\"year_quarter\": \"2020Q3\", \"count\": 2}, {\"year_quarter\": \"2021Q1\", \"count\": 2}, {\"year_quarter\": \"2021Q2\", \"count\": 1}, {\"year_quarter\": \"2021Q3\", \"count\": 2}, {\"year_quarter\": \"2021Q4\", \"count\": 2}, {\"year_quarter\": \"2022Q2\", \"count\": 2}, {\"year_quarter\": \"2022Q3\", \"count\": 1}, {\"year_quarter\": \"2022Q4\", \"count\": 1}, {\"year_quarter\": \"2023Q1\", \"count\": 7}, {\"year_quarter\": \"2023Q2\", \"count\": 5}, {\"year_quarter\": \"2023Q3\", \"count\": 6}, {\"year_quarter\": \"2023Q4\", \"count\": 6}, {\"year_quarter\": \"2024Q1\", \"count\": 8}, {\"year_quarter\": \"2024Q2\", \"count\": 12}, {\"year_quarter\": \"2024Q3\", \"count\": 3}]}}, {\"mode\": \"vega-lite\"});\n",
       "</script>"
      ],
      "text/plain": [
       "alt.Chart(...)"
      ]
     },
     "metadata": {},
     "output_type": "display_data"
    }
   ],
   "source": [
    "axis_labels = \"\"\"datum.label == '2019Q1' ? '2019 Q1' : \n",
    "                datum.label == '2020Q1' ? '2020 Q1' : \n",
    "                datum.label == '2021Q1' ? '2021 Q1' : \n",
    "                datum.label == '2022Q1' ? '2022 Q1' :\n",
    "                datum.label == '2023Q1' ? '2023 Q1' :\n",
    "                datum.label == '2024Q1' ? '2024 Q1' :\n",
    "                '' \"\"\"\n",
    "chart = (\n",
    "    alt.Chart(quarterly_counts)\n",
    "    .mark_bar(color=\"purple\")\n",
    "    .encode(\n",
    "        x=alt.X(\n",
    "            \"year_quarter:O\",\n",
    "            title=\"Year-Quarter\",\n",
    "            axis=alt.Axis(\n",
    "                labelAngle=0,\n",
    "                labelExpr=axis_labels,\n",
    "            ),\n",
    "        ),\n",
    "        y=alt.Y(\n",
    "            \"count:Q\",\n",
    "            title=\"Number of Submissions\",\n",
    "            axis=alt.Axis(tickCount=5),\n",
    "        ),\n",
    "        tooltip=[\n",
    "            alt.Tooltip(\"year_quarter:O\", title=\"Quarter\"),\n",
    "            alt.Tooltip(\"count:Q\", title=\"Number of Issues\"),\n",
    "        ],\n",
    "    )\n",
    "    .properties(\n",
    "        title=\"Number of Submissions by Quarter per Year\",\n",
    "        width=600,\n",
    "        height=400,\n",
    "    )\n",
    ")\n",
    "\n",
    "chart.show()"
   ]
  },
  {
   "cell_type": "code",
   "execution_count": 21,
   "metadata": {
    "editable": true,
    "slideshow": {
     "slide_type": ""
    },
    "tags": [
     "remove-input"
    ]
   },
   "outputs": [],
   "source": [
    "# Group issues by year and get counts\n",
    "annual_issues = reviews_df.copy()\n",
    "\n",
    "# Create a new column 'year' by extracting the year from the 'date_opened' column\n",
    "annual_issues.loc[:, \"year\"] = annual_issues[\"date_opened\"].dt.year"
   ]
  },
  {
   "cell_type": "code",
   "execution_count": 22,
   "metadata": {
    "editable": true,
    "slideshow": {
     "slide_type": ""
    },
    "tags": [
     "remove-input"
    ]
   },
   "outputs": [],
   "source": [
    "# Add year / month\n",
    "annual_issues[\"year_month\"] = annual_issues[\"date_opened\"].dt.to_period(\"M\")\n",
    "counts_month_year = annual_issues.groupby(\"year_month\").size().reset_index(name=\"count\")"
   ]
  },
  {
   "cell_type": "code",
   "execution_count": 23,
   "metadata": {
    "editable": true,
    "slideshow": {
     "slide_type": ""
    },
    "tags": [
     "remove-input"
    ]
   },
   "outputs": [],
   "source": [
    "# Create a complete range of year_month periods\n",
    "# Note i use this below - don't have to recalculate\n",
    "all_month_years = pd.period_range(\n",
    "    start=counts_month_year[\"year_month\"].min(),\n",
    "    end=counts_month_year[\"year_month\"].max(),\n",
    "    freq=\"M\",\n",
    ")\n",
    "\n",
    "issues_by_year = (\n",
    "    annual_issues.groupby(\"year\")\n",
    "    .size()\n",
    "    .reset_index(name=\"count\")\n",
    "    .sort_values(by=\"year\", ascending=False)\n",
    "    .reset_index(drop=True)\n",
    ")"
   ]
  },
  {
   "cell_type": "markdown",
   "metadata": {},
   "source": [
    "Similarly you can see the growth in issues submitted to pyOpenSci thanks to \n",
    "both Sloan and CZI funding in the chart below. As of August 2024, we have \n",
    "almost surpassed total peer review submissions submitted in 2023. "
   ]
  },
  {
   "cell_type": "code",
   "execution_count": 24,
   "metadata": {
    "editable": true,
    "slideshow": {
     "slide_type": ""
    },
    "tags": [
     "remove-input"
    ]
   },
   "outputs": [
    {
     "data": {
      "text/html": [
       "\n",
       "<style>\n",
       "  #altair-viz-0563c13bf125440cb19458d3092cf6d4.vega-embed {\n",
       "    width: 100%;\n",
       "    display: flex;\n",
       "  }\n",
       "\n",
       "  #altair-viz-0563c13bf125440cb19458d3092cf6d4.vega-embed details,\n",
       "  #altair-viz-0563c13bf125440cb19458d3092cf6d4.vega-embed details summary {\n",
       "    position: relative;\n",
       "  }\n",
       "</style>\n",
       "<div id=\"altair-viz-0563c13bf125440cb19458d3092cf6d4\"></div>\n",
       "<script type=\"text/javascript\">\n",
       "  var VEGA_DEBUG = (typeof VEGA_DEBUG == \"undefined\") ? {} : VEGA_DEBUG;\n",
       "  (function(spec, embedOpt){\n",
       "    let outputDiv = document.currentScript.previousElementSibling;\n",
       "    if (outputDiv.id !== \"altair-viz-0563c13bf125440cb19458d3092cf6d4\") {\n",
       "      outputDiv = document.getElementById(\"altair-viz-0563c13bf125440cb19458d3092cf6d4\");\n",
       "    }\n",
       "    const paths = {\n",
       "      \"vega\": \"https://cdn.jsdelivr.net/npm/vega@5?noext\",\n",
       "      \"vega-lib\": \"https://cdn.jsdelivr.net/npm/vega-lib?noext\",\n",
       "      \"vega-lite\": \"https://cdn.jsdelivr.net/npm/vega-lite@5.17.0?noext\",\n",
       "      \"vega-embed\": \"https://cdn.jsdelivr.net/npm/vega-embed@6?noext\",\n",
       "    };\n",
       "\n",
       "    function maybeLoadScript(lib, version) {\n",
       "      var key = `${lib.replace(\"-\", \"\")}_version`;\n",
       "      return (VEGA_DEBUG[key] == version) ?\n",
       "        Promise.resolve(paths[lib]) :\n",
       "        new Promise(function(resolve, reject) {\n",
       "          var s = document.createElement('script');\n",
       "          document.getElementsByTagName(\"head\")[0].appendChild(s);\n",
       "          s.async = true;\n",
       "          s.onload = () => {\n",
       "            VEGA_DEBUG[key] = version;\n",
       "            return resolve(paths[lib]);\n",
       "          };\n",
       "          s.onerror = () => reject(`Error loading script: ${paths[lib]}`);\n",
       "          s.src = paths[lib];\n",
       "        });\n",
       "    }\n",
       "\n",
       "    function showError(err) {\n",
       "      outputDiv.innerHTML = `<div class=\"error\" style=\"color:red;\">${err}</div>`;\n",
       "      throw err;\n",
       "    }\n",
       "\n",
       "    function displayChart(vegaEmbed) {\n",
       "      vegaEmbed(outputDiv, spec, embedOpt)\n",
       "        .catch(err => showError(`Javascript Error: ${err.message}<br>This usually means there's a typo in your chart specification. See the javascript console for the full traceback.`));\n",
       "    }\n",
       "\n",
       "    if(typeof define === \"function\" && define.amd) {\n",
       "      requirejs.config({paths});\n",
       "      require([\"vega-embed\"], displayChart, err => showError(`Error loading script: ${err.message}`));\n",
       "    } else {\n",
       "      maybeLoadScript(\"vega\", \"5\")\n",
       "        .then(() => maybeLoadScript(\"vega-lite\", \"5.17.0\"))\n",
       "        .then(() => maybeLoadScript(\"vega-embed\", \"6\"))\n",
       "        .catch(showError)\n",
       "        .then(() => displayChart(vegaEmbed));\n",
       "    }\n",
       "  })({\"config\": {\"title\": {\"fontSize\": 20, \"font\": \"Poppins\", \"anchor\": \"middle\", \"color\": \"black\", \"fontWeight\": 400, \"dy\": -20, \"dx\": 10}, \"axis\": {\"labelFontSize\": 14, \"titleFontSize\": 14, \"titleFont\": \"Poppins\", \"labelFont\": \"Poppins\"}, \"legend\": {\"labelFontSize\": 12, \"titleFontSize\": 14, \"titleFont\": \"Poppins\", \"labelFont\": \"Poppins\"}, \"bar\": {\"color\": \"purple\", \"fill\": \"purple\"}, \"line\": {\"color\": \"purple\"}, \"view\": {\"height\": 300, \"width\": 600, \"padding\": {\"top\": 190, \"left\": 10, \"right\": 10, \"bottom\": 90}}}, \"data\": {\"name\": \"data-dffac2298128077fd56caed3f4e23de8\"}, \"mark\": {\"type\": \"bar\", \"color\": \"purple\"}, \"encoding\": {\"tooltip\": [{\"field\": \"year\", \"type\": \"quantitative\"}, {\"field\": \"count\", \"type\": \"quantitative\"}], \"x\": {\"axis\": {\"labelAngle\": 0, \"labelFontSize\": 14, \"titleFontSize\": 18}, \"field\": \"year\", \"sort\": {\"field\": \"year\", \"order\": \"ascending\"}, \"type\": \"ordinal\"}, \"y\": {\"axis\": {\"labelFontSize\": 14, \"titleFontSize\": 18}, \"field\": \"count\", \"type\": \"quantitative\"}}, \"title\": {\"text\": \"pyOpenSci -- Number of Issues by Year\", \"fontSize\": 24}, \"width\": 600, \"$schema\": \"https://vega.github.io/schema/vega-lite/v5.17.0.json\", \"datasets\": {\"data-dffac2298128077fd56caed3f4e23de8\": [{\"year\": 2024, \"count\": 23}, {\"year\": 2023, \"count\": 24}, {\"year\": 2022, \"count\": 4}, {\"year\": 2021, \"count\": 7}, {\"year\": 2020, \"count\": 5}, {\"year\": 2019, \"count\": 5}]}}, {\"mode\": \"vega-lite\"});\n",
       "</script>"
      ],
      "text/plain": [
       "alt.Chart(...)"
      ]
     },
     "metadata": {},
     "output_type": "display_data"
    }
   ],
   "source": [
    "# Create an Altair bar chart\n",
    "chart = (\n",
    "    alt.Chart(issues_by_year)\n",
    "    .mark_bar(color=\"purple\")\n",
    "    .encode(\n",
    "        x=alt.X(\n",
    "            \"year:O\",\n",
    "            axis=alt.Axis(labelAngle=0, labelFontSize=14, titleFontSize=18),\n",
    "            sort=alt.EncodingSortField(field=\"year\", order=\"ascending\"),\n",
    "        ),\n",
    "        y=alt.Y(\n",
    "            \"count:Q\",\n",
    "            axis=alt.Axis(labelFontSize=14, titleFontSize=18),\n",
    "        ),\n",
    "        tooltip=[\"year\", \"count\"],\n",
    "    )\n",
    "    .properties(\n",
    "        title=alt.TitleParams(\n",
    "            text=\"pyOpenSci -- Number of Issues by Year\", fontSize=24\n",
    "        ),\n",
    "        width=600,\n",
    "    )\n",
    ")\n",
    "\n",
    "chart.show()"
   ]
  },
  {
   "cell_type": "code",
   "execution_count": 25,
   "metadata": {
    "editable": true,
    "jupyter": {
     "source_hidden": true
    },
    "slideshow": {
     "slide_type": ""
    },
    "tags": [
     "remove-input"
    ]
   },
   "outputs": [],
   "source": [
    "# Get fill in months with no issues with a value of 0\n",
    "month_year_counts = (\n",
    "    counts_month_year.set_index(\"year_month\")\n",
    "    .reindex(all_month_years, fill_value=0)\n",
    "    .rename_axis(\"year_month\")\n",
    "    .reset_index()\n",
    ")"
   ]
  },
  {
   "cell_type": "markdown",
   "metadata": {
    "editable": true,
    "slideshow": {
     "slide_type": ""
    },
    "tags": []
   },
   "source": [
    "# Summary: issues by month / year\n",
    "\n",
    "Below you can see scientific Python peer review issues submitted by month since 2019. "
   ]
  },
  {
   "cell_type": "code",
   "execution_count": 26,
   "metadata": {
    "editable": true,
    "slideshow": {
     "slide_type": ""
    },
    "tags": [
     "remove-input"
    ]
   },
   "outputs": [],
   "source": [
    "# Split year_month into separate year and month columns\n",
    "month_year_counts[\"year\"] = month_year_counts[\"year_month\"].dt.year\n",
    "month_year_counts[\"month\"] = month_year_counts[\"year_month\"].dt.strftime(\"%b\")\n",
    "month_year_counts[\"month_cat\"] = pd.Categorical(\n",
    "    month_year_counts[\"month\"],\n",
    "    categories=[\n",
    "        \"Jan\",\n",
    "        \"Feb\",\n",
    "        \"Mar\",\n",
    "        \"Apr\",\n",
    "        \"May\",\n",
    "        \"Jun\",\n",
    "        \"Jul\",\n",
    "        \"Aug\",\n",
    "        \"Sep\",\n",
    "        \"Oct\",\n",
    "        \"Nov\",\n",
    "        \"Dec\",\n",
    "    ],\n",
    "    ordered=True,\n",
    ")\n",
    "month_year_counts = month_year_counts.drop(columns=[\"year_month\"])"
   ]
  },
  {
   "cell_type": "markdown",
   "metadata": {},
   "source": [
    "## Peer review cadence -- slower months \n",
    "\n",
    "Historically since 2019 July and December  have been slower months. These could be ideal times for us to take a peer review breather, not accept new reviews, and catch up on business and documentation items. "
   ]
  },
  {
   "cell_type": "code",
   "execution_count": 27,
   "metadata": {
    "editable": true,
    "slideshow": {
     "slide_type": ""
    },
    "tags": [
     "remove-input"
    ]
   },
   "outputs": [
    {
     "data": {
      "text/html": [
       "\n",
       "<style>\n",
       "  #altair-viz-c7a676bd3dde411390619924380cb81a.vega-embed {\n",
       "    width: 100%;\n",
       "    display: flex;\n",
       "  }\n",
       "\n",
       "  #altair-viz-c7a676bd3dde411390619924380cb81a.vega-embed details,\n",
       "  #altair-viz-c7a676bd3dde411390619924380cb81a.vega-embed details summary {\n",
       "    position: relative;\n",
       "  }\n",
       "</style>\n",
       "<div id=\"altair-viz-c7a676bd3dde411390619924380cb81a\"></div>\n",
       "<script type=\"text/javascript\">\n",
       "  var VEGA_DEBUG = (typeof VEGA_DEBUG == \"undefined\") ? {} : VEGA_DEBUG;\n",
       "  (function(spec, embedOpt){\n",
       "    let outputDiv = document.currentScript.previousElementSibling;\n",
       "    if (outputDiv.id !== \"altair-viz-c7a676bd3dde411390619924380cb81a\") {\n",
       "      outputDiv = document.getElementById(\"altair-viz-c7a676bd3dde411390619924380cb81a\");\n",
       "    }\n",
       "    const paths = {\n",
       "      \"vega\": \"https://cdn.jsdelivr.net/npm/vega@5?noext\",\n",
       "      \"vega-lib\": \"https://cdn.jsdelivr.net/npm/vega-lib?noext\",\n",
       "      \"vega-lite\": \"https://cdn.jsdelivr.net/npm/vega-lite@5.17.0?noext\",\n",
       "      \"vega-embed\": \"https://cdn.jsdelivr.net/npm/vega-embed@6?noext\",\n",
       "    };\n",
       "\n",
       "    function maybeLoadScript(lib, version) {\n",
       "      var key = `${lib.replace(\"-\", \"\")}_version`;\n",
       "      return (VEGA_DEBUG[key] == version) ?\n",
       "        Promise.resolve(paths[lib]) :\n",
       "        new Promise(function(resolve, reject) {\n",
       "          var s = document.createElement('script');\n",
       "          document.getElementsByTagName(\"head\")[0].appendChild(s);\n",
       "          s.async = true;\n",
       "          s.onload = () => {\n",
       "            VEGA_DEBUG[key] = version;\n",
       "            return resolve(paths[lib]);\n",
       "          };\n",
       "          s.onerror = () => reject(`Error loading script: ${paths[lib]}`);\n",
       "          s.src = paths[lib];\n",
       "        });\n",
       "    }\n",
       "\n",
       "    function showError(err) {\n",
       "      outputDiv.innerHTML = `<div class=\"error\" style=\"color:red;\">${err}</div>`;\n",
       "      throw err;\n",
       "    }\n",
       "\n",
       "    function displayChart(vegaEmbed) {\n",
       "      vegaEmbed(outputDiv, spec, embedOpt)\n",
       "        .catch(err => showError(`Javascript Error: ${err.message}<br>This usually means there's a typo in your chart specification. See the javascript console for the full traceback.`));\n",
       "    }\n",
       "\n",
       "    if(typeof define === \"function\" && define.amd) {\n",
       "      requirejs.config({paths});\n",
       "      require([\"vega-embed\"], displayChart, err => showError(`Error loading script: ${err.message}`));\n",
       "    } else {\n",
       "      maybeLoadScript(\"vega\", \"5\")\n",
       "        .then(() => maybeLoadScript(\"vega-lite\", \"5.17.0\"))\n",
       "        .then(() => maybeLoadScript(\"vega-embed\", \"6\"))\n",
       "        .catch(showError)\n",
       "        .then(() => displayChart(vegaEmbed));\n",
       "    }\n",
       "  })({\"config\": {\"title\": {\"fontSize\": 20, \"font\": \"Poppins\", \"anchor\": \"middle\", \"color\": \"black\", \"fontWeight\": 400, \"dy\": -20, \"dx\": 10}, \"axis\": {\"labelFontSize\": 14, \"titleFontSize\": 14, \"titleFont\": \"Poppins\", \"labelFont\": \"Poppins\", \"labelAngle\": 0}, \"legend\": {\"labelFontSize\": 12, \"titleFontSize\": 14, \"titleFont\": \"Poppins\", \"labelFont\": \"Poppins\"}, \"bar\": {\"color\": \"purple\", \"fill\": \"purple\"}, \"line\": {\"color\": \"purple\"}, \"view\": {\"height\": 300, \"width\": 600, \"padding\": {\"top\": 190, \"left\": 10, \"right\": 10, \"bottom\": 90}}}, \"data\": {\"name\": \"data-3e2ce6bca7bdb6ca1e3c5fc73dee3067\"}, \"mark\": {\"type\": \"bar\", \"color\": \"purple\"}, \"encoding\": {\"tooltip\": [{\"field\": \"month\", \"type\": \"nominal\"}, {\"field\": \"count\", \"type\": \"quantitative\"}], \"x\": {\"field\": \"month\", \"sort\": [\"Jan\", \"Feb\", \"Mar\", \"Apr\", \"May\", \"Jun\", \"Jul\", \"Aug\", \"Sep\", \"Oct\", \"Nov\", \"Dec\"], \"type\": \"nominal\"}, \"y\": {\"field\": \"count\", \"type\": \"quantitative\"}}, \"height\": 400, \"title\": \"Total Counts per Month (2019-2024)\", \"width\": 600, \"$schema\": \"https://vega.github.io/schema/vega-lite/v5.17.0.json\", \"datasets\": {\"data-3e2ce6bca7bdb6ca1e3c5fc73dee3067\": [{\"month\": \"Jan\", \"count\": 6}, {\"month\": \"Feb\", \"count\": 7}, {\"month\": \"Mar\", \"count\": 7}, {\"month\": \"Apr\", \"count\": 9}, {\"month\": \"May\", \"count\": 10}, {\"month\": \"Jun\", \"count\": 4}, {\"month\": \"Jul\", \"count\": 7}, {\"month\": \"Aug\", \"count\": 6}, {\"month\": \"Sep\", \"count\": 2}, {\"month\": \"Oct\", \"count\": 3}, {\"month\": \"Nov\", \"count\": 3}, {\"month\": \"Dec\", \"count\": 4}]}}, {\"mode\": \"vega-lite\"});\n",
       "</script>"
      ],
      "text/plain": [
       "alt.Chart(...)"
      ]
     },
     "metadata": {},
     "output_type": "display_data"
    }
   ],
   "source": [
    "month_year_counts\n",
    "\n",
    "# Summarize total counts per month\n",
    "monthly_counts = (\n",
    "    month_year_counts.groupby(\"month\")[\"count\"]\n",
    "    .sum()\n",
    "    .reindex(\n",
    "        [\n",
    "            \"Jan\",\n",
    "            \"Feb\",\n",
    "            \"Mar\",\n",
    "            \"Apr\",\n",
    "            \"May\",\n",
    "            \"Jun\",\n",
    "            \"Jul\",\n",
    "            \"Aug\",\n",
    "            \"Sep\",\n",
    "            \"Oct\",\n",
    "            \"Nov\",\n",
    "            \"Dec\",\n",
    "        ],\n",
    "        fill_value=0,\n",
    "    )\n",
    "    .reset_index()\n",
    ")\n",
    "\n",
    "# Create the Altair plot\n",
    "chart = (\n",
    "    alt.Chart(monthly_counts)\n",
    "    .mark_bar(color=\"purple\")\n",
    "    .encode(\n",
    "        x=alt.X(\n",
    "            \"month\",\n",
    "            sort=[\n",
    "                \"Jan\",\n",
    "                \"Feb\",\n",
    "                \"Mar\",\n",
    "                \"Apr\",\n",
    "                \"May\",\n",
    "                \"Jun\",\n",
    "                \"Jul\",\n",
    "                \"Aug\",\n",
    "                \"Sep\",\n",
    "                \"Oct\",\n",
    "                \"Nov\",\n",
    "                \"Dec\",\n",
    "            ],\n",
    "        ),\n",
    "        y=\"count\",\n",
    "        tooltip=[\"month\", \"count\"],\n",
    "    )\n",
    "    .properties(title=\"Total Counts per Month (2019-2024)\", width=600, height=400)\n",
    "    .configure_axis(labelAngle=0)\n",
    ")\n",
    "\n",
    "chart.show()"
   ]
  },
  {
   "cell_type": "markdown",
   "metadata": {},
   "source": [
    "# Issues opened by month / year"
   ]
  },
  {
   "cell_type": "markdown",
   "metadata": {
    "editable": true,
    "slideshow": {
     "slide_type": ""
    },
    "tags": []
   },
   "source": [
    "# Number of Issues per Month Since 2019\n",
    "\n",
    "Below is a cumulative sum representation of all of our peer review issues submitted to date. You can see that there is a significant uptick of issues submitted that began when we were able to utilize our funding and have a full time staff person (the Executive Director) onboard. "
   ]
  },
  {
   "cell_type": "code",
   "execution_count": 28,
   "metadata": {
    "editable": true,
    "slideshow": {
     "slide_type": ""
    },
    "tags": [
     "remove-input"
    ]
   },
   "outputs": [],
   "source": [
    "# Set 'date_opened' column as index / add month and year cols for grouping\n",
    "monthly_issues = reviews_df.copy()\n",
    "monthly_issues[\"month\"] = monthly_issues[\"date_opened\"].dt.month\n",
    "monthly_issues[\"year\"] = monthly_issues[\"date_opened\"].dt.year\n",
    "# Get monthly counts\n",
    "monthly_issues_index = monthly_issues.copy()\n",
    "\n",
    "monthly_issues_index.set_index(\n",
    "    monthly_issues_index[\"date_opened\"].dt.to_period(\"M\").dt.strftime(\"%Y-%m\"),\n",
    "    inplace=True,\n",
    ")\n",
    "\n",
    "# Group by the new index (month-year) and count the number of issues for each month-year\n",
    "monthly_counts = monthly_issues_index.groupby(level=0).size()"
   ]
  },
  {
   "cell_type": "code",
   "execution_count": 29,
   "metadata": {
    "editable": true,
    "slideshow": {
     "slide_type": ""
    },
    "tags": [
     "remove-input"
    ]
   },
   "outputs": [],
   "source": [
    "# Create a df for every month/year combo in our dataset - this ensures a date for every\n",
    "# month even if some months are missing\n",
    "all_month_years = pd.date_range(\n",
    "    start=monthly_issues.date_opened.min().strftime(\"%Y-%m\"),\n",
    "    end=monthly_issues.date_opened.max().strftime(\"%Y-%m\"),\n",
    "    freq=\"MS\",\n",
    ").to_period(\"M\")"
   ]
  },
  {
   "cell_type": "code",
   "execution_count": 30,
   "metadata": {
    "editable": true,
    "slideshow": {
     "slide_type": ""
    },
    "tags": [
     "remove-input"
    ]
   },
   "outputs": [],
   "source": [
    "final_monthly = monthly_counts.copy()\n",
    "# Ensure the index is of type periodIndex to support reindexing\n",
    "final_monthly.index = pd.PeriodIndex(final_monthly.index, freq=\"M\")\n",
    "final_monthly = final_monthly.reindex(all_month_years, fill_value=0).to_frame(\n",
    "    name=\"issue_count\"\n",
    ")\n",
    "\n",
    "# Calculate cumulative sum of issue count\n",
    "final_monthly[\"cumulative_count\"] = final_monthly[\"issue_count\"].cumsum()\n",
    "final_monthly.reset_index(inplace=True, names=\"date\")\n",
    "final_monthly[\"date\"] = final_monthly[\"date\"].dt.to_timestamp()"
   ]
  },
  {
   "cell_type": "code",
   "execution_count": 41,
   "metadata": {
    "editable": true,
    "slideshow": {
     "slide_type": ""
    },
    "tags": [
     "remove-input"
    ]
   },
   "outputs": [
    {
     "data": {
      "text/html": [
       "\n",
       "<style>\n",
       "  #altair-viz-f779c66f7099491093b972efd4c71105.vega-embed {\n",
       "    width: 100%;\n",
       "    display: flex;\n",
       "  }\n",
       "\n",
       "  #altair-viz-f779c66f7099491093b972efd4c71105.vega-embed details,\n",
       "  #altair-viz-f779c66f7099491093b972efd4c71105.vega-embed details summary {\n",
       "    position: relative;\n",
       "  }\n",
       "</style>\n",
       "<div id=\"altair-viz-f779c66f7099491093b972efd4c71105\"></div>\n",
       "<script type=\"text/javascript\">\n",
       "  var VEGA_DEBUG = (typeof VEGA_DEBUG == \"undefined\") ? {} : VEGA_DEBUG;\n",
       "  (function(spec, embedOpt){\n",
       "    let outputDiv = document.currentScript.previousElementSibling;\n",
       "    if (outputDiv.id !== \"altair-viz-f779c66f7099491093b972efd4c71105\") {\n",
       "      outputDiv = document.getElementById(\"altair-viz-f779c66f7099491093b972efd4c71105\");\n",
       "    }\n",
       "    const paths = {\n",
       "      \"vega\": \"https://cdn.jsdelivr.net/npm/vega@5?noext\",\n",
       "      \"vega-lib\": \"https://cdn.jsdelivr.net/npm/vega-lib?noext\",\n",
       "      \"vega-lite\": \"https://cdn.jsdelivr.net/npm/vega-lite@5.17.0?noext\",\n",
       "      \"vega-embed\": \"https://cdn.jsdelivr.net/npm/vega-embed@6?noext\",\n",
       "    };\n",
       "\n",
       "    function maybeLoadScript(lib, version) {\n",
       "      var key = `${lib.replace(\"-\", \"\")}_version`;\n",
       "      return (VEGA_DEBUG[key] == version) ?\n",
       "        Promise.resolve(paths[lib]) :\n",
       "        new Promise(function(resolve, reject) {\n",
       "          var s = document.createElement('script');\n",
       "          document.getElementsByTagName(\"head\")[0].appendChild(s);\n",
       "          s.async = true;\n",
       "          s.onload = () => {\n",
       "            VEGA_DEBUG[key] = version;\n",
       "            return resolve(paths[lib]);\n",
       "          };\n",
       "          s.onerror = () => reject(`Error loading script: ${paths[lib]}`);\n",
       "          s.src = paths[lib];\n",
       "        });\n",
       "    }\n",
       "\n",
       "    function showError(err) {\n",
       "      outputDiv.innerHTML = `<div class=\"error\" style=\"color:red;\">${err}</div>`;\n",
       "      throw err;\n",
       "    }\n",
       "\n",
       "    function displayChart(vegaEmbed) {\n",
       "      vegaEmbed(outputDiv, spec, embedOpt)\n",
       "        .catch(err => showError(`Javascript Error: ${err.message}<br>This usually means there's a typo in your chart specification. See the javascript console for the full traceback.`));\n",
       "    }\n",
       "\n",
       "    if(typeof define === \"function\" && define.amd) {\n",
       "      requirejs.config({paths});\n",
       "      require([\"vega-embed\"], displayChart, err => showError(`Error loading script: ${err.message}`));\n",
       "    } else {\n",
       "      maybeLoadScript(\"vega\", \"5\")\n",
       "        .then(() => maybeLoadScript(\"vega-lite\", \"5.17.0\"))\n",
       "        .then(() => maybeLoadScript(\"vega-embed\", \"6\"))\n",
       "        .catch(showError)\n",
       "        .then(() => displayChart(vegaEmbed));\n",
       "    }\n",
       "  })({\"config\": {\"title\": {\"fontSize\": 20, \"font\": \"Poppins\", \"anchor\": \"middle\", \"color\": \"black\", \"fontWeight\": 400, \"dy\": -20, \"dx\": 10}, \"axis\": {\"labelFontSize\": 14, \"titleFontSize\": 14, \"titleFont\": \"Poppins\", \"labelFont\": \"Poppins\"}, \"legend\": {\"labelFontSize\": 12, \"titleFontSize\": 14, \"titleFont\": \"Poppins\", \"labelFont\": \"Poppins\"}, \"bar\": {\"color\": \"purple\", \"fill\": \"purple\"}, \"line\": {\"color\": \"purple\"}, \"view\": {\"height\": 300, \"width\": 600, \"padding\": {\"top\": 190, \"left\": 10, \"right\": 10, \"bottom\": 90}}}, \"layer\": [{\"data\": {\"name\": \"data-566605590f70d5cb08562c47ac14e3b6\"}, \"mark\": {\"type\": \"line\", \"color\": \"purple\", \"strokeWidth\": 8}, \"encoding\": {\"tooltip\": [{\"field\": \"date\", \"title\": \"Month\", \"type\": \"temporal\"}, {\"field\": \"cumulative_count\", \"title\": \"Number of Issues\", \"type\": \"quantitative\"}], \"x\": {\"axis\": {\"format\": \"%b-%Y\", \"tickCount\": \"year\", \"title\": \"Month\"}, \"field\": \"date\", \"type\": \"temporal\"}, \"y\": {\"axis\": {\"tickMinStep\": 50, \"title\": \"Number of Issues\"}, \"field\": \"cumulative_count\", \"type\": \"quantitative\"}}, \"title\": {\"text\": \"Cumulative Review Submissions Over Time\"}}, {\"data\": {\"name\": \"data-885435433e90c9e36bd36f19a234dabd\"}, \"mark\": {\"type\": \"text\", \"align\": \"left\", \"color\": \"black\", \"dx\": 5, \"dy\": -10, \"font\": \"Poppins\", \"fontSize\": 12}, \"encoding\": {\"text\": {\"field\": \"label\", \"type\": \"nominal\"}, \"x\": {\"field\": \"date\", \"type\": \"temporal\"}, \"y\": {\"field\": \"cumulative_count\", \"type\": \"quantitative\"}}}, {\"data\": {\"name\": \"data-967c9fd2600aa1f4ef471e2361e60d17\"}, \"mark\": {\"type\": \"point\", \"angle\": 0, \"color\": \"black\", \"shape\": \"triangle\", \"size\": 50}, \"encoding\": {\"x\": {\"field\": \"date\", \"type\": \"temporal\"}, \"y\": {\"field\": \"cumulative_count\", \"type\": \"quantitative\"}}}], \"height\": 400, \"width\": 600, \"$schema\": \"https://vega.github.io/schema/vega-lite/v5.17.0.json\", \"datasets\": {\"data-566605590f70d5cb08562c47ac14e3b6\": [{\"date\": \"2019-03-01T00:00:00\", \"issue_count\": 1, \"cumulative_count\": 1}, {\"date\": \"2019-04-01T00:00:00\", \"issue_count\": 0, \"cumulative_count\": 1}, {\"date\": \"2019-05-01T00:00:00\", \"issue_count\": 2, \"cumulative_count\": 3}, {\"date\": \"2019-06-01T00:00:00\", \"issue_count\": 0, \"cumulative_count\": 3}, {\"date\": \"2019-07-01T00:00:00\", \"issue_count\": 0, \"cumulative_count\": 3}, {\"date\": \"2019-08-01T00:00:00\", \"issue_count\": 1, \"cumulative_count\": 4}, {\"date\": \"2019-09-01T00:00:00\", \"issue_count\": 0, \"cumulative_count\": 4}, {\"date\": \"2019-10-01T00:00:00\", \"issue_count\": 0, \"cumulative_count\": 4}, {\"date\": \"2019-11-01T00:00:00\", \"issue_count\": 0, \"cumulative_count\": 4}, {\"date\": \"2019-12-01T00:00:00\", \"issue_count\": 1, \"cumulative_count\": 5}, {\"date\": \"2020-01-01T00:00:00\", \"issue_count\": 1, \"cumulative_count\": 6}, {\"date\": \"2020-02-01T00:00:00\", \"issue_count\": 1, \"cumulative_count\": 7}, {\"date\": \"2020-03-01T00:00:00\", \"issue_count\": 0, \"cumulative_count\": 7}, {\"date\": \"2020-04-01T00:00:00\", \"issue_count\": 0, \"cumulative_count\": 7}, {\"date\": \"2020-05-01T00:00:00\", \"issue_count\": 1, \"cumulative_count\": 8}, {\"date\": \"2020-06-01T00:00:00\", \"issue_count\": 0, \"cumulative_count\": 8}, {\"date\": \"2020-07-01T00:00:00\", \"issue_count\": 2, \"cumulative_count\": 10}, {\"date\": \"2020-08-01T00:00:00\", \"issue_count\": 0, \"cumulative_count\": 10}, {\"date\": \"2020-09-01T00:00:00\", \"issue_count\": 0, \"cumulative_count\": 10}, {\"date\": \"2020-10-01T00:00:00\", \"issue_count\": 0, \"cumulative_count\": 10}, {\"date\": \"2020-11-01T00:00:00\", \"issue_count\": 0, \"cumulative_count\": 10}, {\"date\": \"2020-12-01T00:00:00\", \"issue_count\": 0, \"cumulative_count\": 10}, {\"date\": \"2021-01-01T00:00:00\", \"issue_count\": 1, \"cumulative_count\": 11}, {\"date\": \"2021-02-01T00:00:00\", \"issue_count\": 0, \"cumulative_count\": 11}, {\"date\": \"2021-03-01T00:00:00\", \"issue_count\": 1, \"cumulative_count\": 12}, {\"date\": \"2021-04-01T00:00:00\", \"issue_count\": 1, \"cumulative_count\": 13}, {\"date\": \"2021-05-01T00:00:00\", \"issue_count\": 0, \"cumulative_count\": 13}, {\"date\": \"2021-06-01T00:00:00\", \"issue_count\": 0, \"cumulative_count\": 13}, {\"date\": \"2021-07-01T00:00:00\", \"issue_count\": 1, \"cumulative_count\": 14}, {\"date\": \"2021-08-01T00:00:00\", \"issue_count\": 1, \"cumulative_count\": 15}, {\"date\": \"2021-09-01T00:00:00\", \"issue_count\": 0, \"cumulative_count\": 15}, {\"date\": \"2021-10-01T00:00:00\", \"issue_count\": 0, \"cumulative_count\": 15}, {\"date\": \"2021-11-01T00:00:00\", \"issue_count\": 1, \"cumulative_count\": 16}, {\"date\": \"2021-12-01T00:00:00\", \"issue_count\": 1, \"cumulative_count\": 17}, {\"date\": \"2022-01-01T00:00:00\", \"issue_count\": 0, \"cumulative_count\": 17}, {\"date\": \"2022-02-01T00:00:00\", \"issue_count\": 0, \"cumulative_count\": 17}, {\"date\": \"2022-03-01T00:00:00\", \"issue_count\": 0, \"cumulative_count\": 17}, {\"date\": \"2022-04-01T00:00:00\", \"issue_count\": 1, \"cumulative_count\": 18}, {\"date\": \"2022-05-01T00:00:00\", \"issue_count\": 0, \"cumulative_count\": 18}, {\"date\": \"2022-06-01T00:00:00\", \"issue_count\": 1, \"cumulative_count\": 19}, {\"date\": \"2022-07-01T00:00:00\", \"issue_count\": 0, \"cumulative_count\": 19}, {\"date\": \"2022-08-01T00:00:00\", \"issue_count\": 0, \"cumulative_count\": 19}, {\"date\": \"2022-09-01T00:00:00\", \"issue_count\": 1, \"cumulative_count\": 20}, {\"date\": \"2022-10-01T00:00:00\", \"issue_count\": 0, \"cumulative_count\": 20}, {\"date\": \"2022-11-01T00:00:00\", \"issue_count\": 0, \"cumulative_count\": 20}, {\"date\": \"2022-12-01T00:00:00\", \"issue_count\": 1, \"cumulative_count\": 21}, {\"date\": \"2023-01-01T00:00:00\", \"issue_count\": 2, \"cumulative_count\": 23}, {\"date\": \"2023-02-01T00:00:00\", \"issue_count\": 2, \"cumulative_count\": 25}, {\"date\": \"2023-03-01T00:00:00\", \"issue_count\": 3, \"cumulative_count\": 28}, {\"date\": \"2023-04-01T00:00:00\", \"issue_count\": 2, \"cumulative_count\": 30}, {\"date\": \"2023-05-01T00:00:00\", \"issue_count\": 2, \"cumulative_count\": 32}, {\"date\": \"2023-06-01T00:00:00\", \"issue_count\": 1, \"cumulative_count\": 33}, {\"date\": \"2023-07-01T00:00:00\", \"issue_count\": 2, \"cumulative_count\": 35}, {\"date\": \"2023-08-01T00:00:00\", \"issue_count\": 3, \"cumulative_count\": 38}, {\"date\": \"2023-09-01T00:00:00\", \"issue_count\": 1, \"cumulative_count\": 39}, {\"date\": \"2023-10-01T00:00:00\", \"issue_count\": 3, \"cumulative_count\": 42}, {\"date\": \"2023-11-01T00:00:00\", \"issue_count\": 2, \"cumulative_count\": 44}, {\"date\": \"2023-12-01T00:00:00\", \"issue_count\": 1, \"cumulative_count\": 45}, {\"date\": \"2024-01-01T00:00:00\", \"issue_count\": 2, \"cumulative_count\": 47}, {\"date\": \"2024-02-01T00:00:00\", \"issue_count\": 4, \"cumulative_count\": 51}, {\"date\": \"2024-03-01T00:00:00\", \"issue_count\": 2, \"cumulative_count\": 53}, {\"date\": \"2024-04-01T00:00:00\", \"issue_count\": 5, \"cumulative_count\": 58}, {\"date\": \"2024-05-01T00:00:00\", \"issue_count\": 5, \"cumulative_count\": 63}, {\"date\": \"2024-06-01T00:00:00\", \"issue_count\": 2, \"cumulative_count\": 65}, {\"date\": \"2024-07-01T00:00:00\", \"issue_count\": 2, \"cumulative_count\": 67}, {\"date\": \"2024-08-01T00:00:00\", \"issue_count\": 1, \"cumulative_count\": 68}], \"data-885435433e90c9e36bd36f19a234dabd\": [{\"date\": \"2023-01-01T00:00:00\", \"cumulative_count\": 16, \"label\": \"Full Time Funding\"}], \"data-967c9fd2600aa1f4ef471e2361e60d17\": [{\"date\": \"2023-01-01T00:00:00\", \"cumulative_count\": 20}]}}, {\"mode\": \"vega-lite\"});\n",
       "</script>"
      ],
      "text/plain": [
       "alt.LayerChart(...)"
      ]
     },
     "metadata": {},
     "output_type": "display_data"
    }
   ],
   "source": [
    "# Create an Altair line plot\n",
    "chart = (\n",
    "    alt.Chart(final_monthly)\n",
    "    .mark_line(color=\"purple\", strokeWidth=8)\n",
    "    .encode(\n",
    "        x=alt.X(\n",
    "            \"date:T\",\n",
    "            axis=alt.Axis(\n",
    "                title=\"Month\",\n",
    "                format=\"%b-%Y\",\n",
    "                tickCount=\"year\",\n",
    "            ),\n",
    "        ),\n",
    "        y=alt.Y(\n",
    "            \"cumulative_count:Q\",\n",
    "            axis=alt.Axis(\n",
    "                title=\"Number of Issues\",\n",
    "                tickMinStep=50,\n",
    "            ),\n",
    "        ),\n",
    "        tooltip=[\n",
    "            alt.Tooltip(\"date:T\", title=\"Month\"),\n",
    "            alt.Tooltip(\"cumulative_count:Q\", title=\"Number of Issues\"),\n",
    "        ],\n",
    "    )\n",
    "    .properties(\n",
    "        title=alt.TitleParams(\n",
    "            text=\"Cumulative Review Submissions Over Time\",\n",
    "        ),\n",
    "        width=600,\n",
    "        height=400,\n",
    "    )\n",
    ")\n",
    "\n",
    "label = (\n",
    "    alt.Chart(pd.DataFrame({\n",
    "        'date': [pd.Timestamp(\"2023-01-01\")],  # Specific x-axis location (January 2023)\n",
    "        'cumulative_count': [16], \n",
    "        'label': [\"Full Time Funding\"]\n",
    "    }))\n",
    "    .mark_text(align='left', dx=5, dy=-10, color='black', fontSize=12, font='Poppins')\n",
    "    .encode(\n",
    "        x='date:T',\n",
    "        y='cumulative_count:Q',\n",
    "        text='label:N'\n",
    "    )\n",
    ")\n",
    "\n",
    "# Adding an arrow using mark_rule and mark_point\n",
    "arrow = (\n",
    "    alt.Chart(pd.DataFrame({\n",
    "        'date': [pd.Timestamp(\"2023-01-01\")],\n",
    "        'cumulative_count': [20],  # Adjust y-axis location to position the arrow\n",
    "    }))\n",
    "    .mark_point(shape='triangle', angle=0, size=50, color='black')\n",
    "    .encode(\n",
    "        x='date:T',\n",
    "        y='cumulative_count:Q'\n",
    "    )\n",
    ")\n",
    "\n",
    "# Combine the chart and the label\n",
    "final_chart = chart + label + arrow\n",
    "\n",
    "# Show the final chart\n",
    "final_chart.show()\n",
    "\n",
    "# Show the chart\n",
    "#chart.show()"
   ]
  },
  {
   "cell_type": "code",
   "execution_count": null,
   "metadata": {
    "editable": true,
    "slideshow": {
     "slide_type": ""
    },
    "tags": []
   },
   "outputs": [],
   "source": []
  }
 ],
 "metadata": {
  "kernelspec": {
   "display_name": "Python 3 (ipykernel)",
   "language": "python",
   "name": "python3"
  },
  "language_info": {
   "codemirror_mode": {
    "name": "ipython",
    "version": 3
   },
   "file_extension": ".py",
   "mimetype": "text/x-python",
   "name": "python",
   "nbconvert_exporter": "python",
   "pygments_lexer": "ipython3",
   "version": "3.11.9"
  },
  "vscode": {
   "interpreter": {
    "hash": "d7b89e158b719c02a21186c9646700ecf5a8cc5b1b6f738df9b6ffa75e5e74e4"
   }
  }
 },
 "nbformat": 4,
 "nbformat_minor": 4
}
