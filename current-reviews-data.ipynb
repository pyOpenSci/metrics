{
 "cells": [
  {
   "cell_type": "markdown",
   "metadata": {
    "editable": true,
    "slideshow": {
     "slide_type": ""
    },
    "tags": []
   },
   "source": [
    "---\n",
    "title: pyOpenSci Current Software Review Stats\n",
    "subtitle: pyOpenSci Peer Review Summary Stats\n",
    "author:\n",
    "  - name: Leah Wasser\n",
    "    affiliations: pyOpenSci\n",
    "    orcid: 0000-0002-7859-8394\n",
    "    email: leah@pyopensci.org\n",
    "license:\n",
    "  code: MIT\n",
    "date: 2024/06/20\n",
    "---\n",
    "\n",
    "\n",
    "* https://github.com/ryantam626/jupyterlab_code_formatter\n",
    "\n",
    "This is a workflow that colates all GitHub issues associated with our reviews. "
   ]
  },
  {
   "cell_type": "markdown",
   "metadata": {
    "editable": true,
    "slideshow": {
     "slide_type": ""
    },
    "tags": []
   },
   "source": [
    "Questions i have\n",
    "\n",
    "* How to add figure captions and alt text\n",
    "* "
   ]
  },
  {
   "cell_type": "code",
   "execution_count": null,
   "metadata": {
    "editable": true,
    "slideshow": {
     "slide_type": ""
    },
    "tags": [
     "remove-input"
    ]
   },
   "outputs": [],
   "source": [
    "import warnings\n",
    "from datetime import datetime, timezone\n",
    "\n",
    "import altair as alt\n",
    "import pandas as pd\n",
    "import pytz\n",
    "from pyosmeta import ProcessIssues\n",
    "from pyosmeta.github_api import GitHubAPI\n",
    "\n",
    "# Suppress all warnings\n",
    "warnings.filterwarnings(\"ignore\")"
   ]
  },
  {
   "cell_type": "code",
   "execution_count": null,
   "metadata": {
    "editable": true,
    "slideshow": {
     "slide_type": ""
    },
    "tags": [
     "remove-input"
    ]
   },
   "outputs": [],
   "source": [
    "# Open Reviews"
   ]
  },
  {
   "cell_type": "code",
   "execution_count": null,
   "metadata": {
    "editable": true,
    "slideshow": {
     "slide_type": ""
    },
    "tags": [
     "remove-input"
    ]
   },
   "outputs": [],
   "source": [
    "# Get a list of reviews submitted to us\n",
    "# This potentially doesn't include issues that were deemed out of scope...\n",
    "github_api = GitHubAPI(\n",
    "    org=\"pyopensci\",\n",
    "    repo=\"software-submission\",\n",
    "    labels=[\n",
    "        \"0/seeking-editor\",\n",
    "        \"1/editor-assigned\",\n",
    "        \"2/seeking-reviewers\",\n",
    "        \"3/reviewers-assigned\",\n",
    "        \"4/reviews-in-awaiting-changes\",\n",
    "        \"5/awaiting-reviewer-response\",\n",
    "        \"7/under-joss-review\",\n",
    "        \"8/joss-review-complete\",\n",
    "        \"New Submission!\",\n",
    "    ],\n",
    ")\n",
    "process_review = ProcessIssues(github_api)\n",
    "issues = process_review.get_issues()\n",
    "reviews, errors = process_review.parse_issues(issues)\n",
    "review_table = [\n",
    "    {\n",
    "        \"package_name\": name,\n",
    "        \"created_at\": review.created_at,\n",
    "        \"date_closed\": review.closed_at,\n",
    "        \"editor\": review.editor.github_username,\n",
    "        # \"editor\": review.editor.name,\n",
    "        \"labels\": review.labels,\n",
    "    }\n",
    "    for name, review in reviews.items()\n",
    "]"
   ]
  },
  {
   "cell_type": "markdown",
   "metadata": {
    "editable": true,
    "slideshow": {
     "slide_type": ""
    },
    "tags": []
   },
   "source": [
    "### Summary -- TODO: calculate reviews in active review, reviews in pre-review, reviews in JOSS\n",
    "pyOpenSci currently has **{eval}`total_open`** total open submissions.\n",
    "\n",
    "* x of these are in active review\n",
    "* x of these are in pre-review\n",
    "* x of these are being submitted to JOSS\n",
    "* x of these have been approvved and are a part of our ecosystem \n",
    "\n",
    "\n",
    "## Current open reviews & total days open\n"
   ]
  },
  {
   "cell_type": "code",
   "execution_count": null,
   "metadata": {
    "editable": true,
    "slideshow": {
     "slide_type": ""
    },
    "tags": [
     "remove-input"
    ]
   },
   "outputs": [],
   "source": [
    "reviews_df = pd.DataFrame(review_table)\n",
    "open_reviews = reviews_df[reviews_df[\"date_closed\"].isna()]\n",
    "\n",
    "today = datetime.now(timezone.utc)\n",
    "open_reviews[\"days_open\"] = (today - open_reviews[\"created_at\"]).dt.days\n",
    "open_reviews.drop(columns=[\"date_closed\"], inplace=True)\n",
    "open_reviews[\"created_at\"] = open_reviews[\"created_at\"].dt.date\n",
    "open_reviews"
   ]
  },
  {
   "cell_type": "code",
   "execution_count": null,
   "metadata": {
    "editable": true,
    "slideshow": {
     "slide_type": ""
    },
    "tags": [
     "remove-input"
    ]
   },
   "outputs": [],
   "source": [
    "# Get Presubmission inquiries\n",
    "gh_presubmissions = GitHubAPI(\n",
    "    org=\"pyopensci\", repo=\"software-submission\", labels=[\"presubmission\"]\n",
    ")\n",
    "process_review = ProcessIssues(gh_presubmissions)\n",
    "pre_issues = process_review.get_issues()\n",
    "pre_submissions, errors = process_review.parse_issues(pre_issues)\n",
    "pre_submission_table = [\n",
    "    {\n",
    "        \"package_name\": name,\n",
    "        \"created_at\": review.created_at,\n",
    "        \"date_closed\": review.closed_at,\n",
    "        \"labels\": review.labels,\n",
    "    }\n",
    "    for name, review in pre_submissions.items()\n",
    "]"
   ]
  },
  {
   "cell_type": "code",
   "execution_count": null,
   "metadata": {
    "editable": true,
    "slideshow": {
     "slide_type": ""
    },
    "tags": [
     "remove-input"
    ]
   },
   "outputs": [],
   "source": [
    "presubmission_df = pd.DataFrame(pre_submission_table)\n",
    "all_presubmissions = len(presubmission_df)"
   ]
  },
  {
   "cell_type": "markdown",
   "metadata": {
    "user_expressions": [
     {
      "expression": "all_presubmissions",
      "result": {
       "data": {
        "text/plain": "52"
       },
       "metadata": {},
       "status": "ok"
      }
     }
    ]
   },
   "source": [
    "## All presubmissions\n",
    "\n",
    "There are **{eval}`all_presubmissions`** total presubmissions to date, including closed presubmissions. "
   ]
  },
  {
   "cell_type": "code",
   "execution_count": null,
   "metadata": {
    "editable": true,
    "slideshow": {
     "slide_type": ""
    },
    "tags": [
     "remove-input"
    ]
   },
   "outputs": [],
   "source": [
    "# Get all currently open presubmissions\n",
    "open_presubmissions = presubmission_df[presubmission_df[\"date_closed\"].isna()]\n",
    "today = datetime.now(timezone.utc)\n",
    "open_presubmissions[\"days_open\"] = (today - open_presubmissions[\"created_at\"]).dt.days\n",
    "open_presubmissions[\"created_at\"] = open_presubmissions[\"created_at\"].dt.date\n",
    "open_presubmissions.reset_index(drop=True, inplace=True)\n",
    "\n",
    "total_open = len(open_presubmissions)\n",
    "\n",
    "# Stylize table columns\n",
    "open_presubmissions.sort_values(by=\"created_at\", ascending=False, inplace=True)\n",
    "open_presubmissions.drop(columns=[\"date_closed\"], inplace=True)"
   ]
  },
  {
   "cell_type": "markdown",
   "metadata": {
    "editable": true,
    "slideshow": {
     "slide_type": ""
    },
    "tags": [],
    "user_expressions": [
     {
      "expression": "total_open",
      "result": {
       "data": {
        "text/plain": "3"
       },
       "metadata": {},
       "status": "ok"
      }
     }
    ]
   },
   "source": [
    "## Currently open software presubmission inquiries\n",
    "\n",
    "* It could be useful to grab the most recent comments on each\n",
    "* It would also be useful to grab the gh usernames of all people involved in the discussion and credit them. So for one i see astropy editors + alex being involved.\n",
    "\n",
    "There are **{eval}`total_open` presubmission requests** currently open. "
   ]
  },
  {
   "cell_type": "code",
   "execution_count": null,
   "metadata": {
    "tags": [
     "remove-input"
    ]
   },
   "outputs": [],
   "source": [
    "# Render table of strictly open presubmissions\n",
    "open_presubmissions"
   ]
  },
  {
   "cell_type": "markdown",
   "metadata": {
    "editable": true,
    "slideshow": {
     "slide_type": ""
    },
    "tags": [],
    "user_expressions": [
     {
      "expression": "total_open",
      "result": {
       "ename": "NameError",
       "evalue": "name 'total_open' is not defined",
       "status": "error",
       "traceback": [
        "\u001b[0;31mNameError\u001b[0m\u001b[0;31m:\u001b[0m name 'total_open' is not defined\n"
       ]
      }
     }
    ]
   },
   "source": [
    "## Current open software review submissions \n",
    "\n",
    "Next we explore the currently open issues.\n",
    "\n"
   ]
  },
  {
   "cell_type": "markdown",
   "metadata": {},
   "source": [
    "## Available editors"
   ]
  },
  {
   "cell_type": "code",
   "execution_count": null,
   "metadata": {
    "editable": true,
    "slideshow": {
     "slide_type": ""
    },
    "tags": [
     "remove-input"
    ]
   },
   "outputs": [],
   "source": [
    "# Static list of all editors, updated 7/13/2024\n",
    "# TODO: get this list of current editors dynamically\n",
    "all_editors = [\n",
    "    \"cmarmo\",\n",
    "    \"dhomeier\",\n",
    "    \"ocefpaf\",\n",
    "    \"NikleDave\",\n",
    "    \"SimonMolinsky\",\n",
    "    \"Batalex\",\n",
    "    \"sneakers-the-rat\",\n",
    "    \"tomalrussel\",\n",
    "    \"ctb\",\n",
    "    \"mjhajharia\",\n",
    "    \"hamogu\",\n",
    "    \"isabelizimm\",\n",
    "    \"yeelauren\",\n",
    "    \"banesullivan\",\n",
    "]\n",
    "submissions_per_editor = {}\n",
    "for editor in all_editors:\n",
    "    submissions_per_editor[editor] = 0\n",
    "\n",
    "# Get table of editors who are currently assigned to an open submission\n",
    "busy_editors = open_reviews.drop(open_reviews[open_reviews.editor == \"TBD\"].index)\n",
    "busy_editors = busy_editors[\"editor\"]\n",
    "\n",
    "# Populate dictionary of number of open submissions per editor\n",
    "for editor in busy_editors:\n",
    "    if not (editor in submissions_per_editor):\n",
    "        submissions_per_editor[editor] = 0\n",
    "        # Add new editor to current editor list\n",
    "        # for debugging only, TODO: output to error log\n",
    "        # print(\"Editor\", editor, \"has an assigned project but is not in master list of editors\")\n",
    "\n",
    "    submissions_per_editor[editor] = submissions_per_editor[editor] + 1\n",
    "\n",
    "# Render table of all editors and their number of open submissions\n",
    "editor_activity_df = pd.DataFrame(\n",
    "    list(submissions_per_editor.items()), columns=[\"editor\", \"num_submissions\"]\n",
    ")\n",
    "editor_activity_df = editor_activity_df.sort_values(by=\"num_submissions\")\n",
    "editor_activity_df.reset_index(drop=True, inplace=True)\n",
    "\n",
    "# Get counts of available and unavailable editors\n",
    "num_busy_editors = editor_activity_df[editor_activity_df[\"num_submissions\"] > 0].shape[\n",
    "    0\n",
    "]\n",
    "num_available_editors = len(editor_activity_df) - num_busy_editors"
   ]
  },
  {
   "cell_type": "markdown",
   "metadata": {
    "user_expressions": [
     {
      "expression": "num_available_editors",
      "result": {
       "data": {
        "text/plain": "6"
       },
       "metadata": {},
       "status": "ok"
      }
     },
     {
      "expression": "num_busy_editors",
      "result": {
       "data": {
        "text/plain": "10"
       },
       "metadata": {},
       "status": "ok"
      }
     }
    ]
   },
   "source": [
    "There are currently **{eval}`num_available_editors` available editors** and **{eval}`num_busy_editors` editors who are assigned to a submission**.\n"
   ]
  },
  {
   "cell_type": "code",
   "execution_count": null,
   "metadata": {
    "tags": [
     "remove-input"
    ]
   },
   "outputs": [],
   "source": [
    "# Display editor table\n",
    "editor_activity_df"
   ]
  },
  {
   "cell_type": "code",
   "execution_count": null,
   "metadata": {
    "editable": true,
    "slideshow": {
     "slide_type": ""
    },
    "tags": []
   },
   "outputs": [],
   "source": [
    "# Get all currently closed / approved issues\n",
    "\n",
    "# calculate time that they were in review."
   ]
  }
 ],
 "metadata": {
  "kernelspec": {
   "display_name": "Python 3 (ipykernel)",
   "language": "python",
   "name": "python3"
  },
  "language_info": {
   "codemirror_mode": {
    "name": "ipython",
    "version": 3
   },
   "file_extension": ".py",
   "mimetype": "text/x-python",
   "name": "python",
   "nbconvert_exporter": "python",
   "pygments_lexer": "ipython3",
   "version": "3.11.9"
  },
  "vscode": {
   "interpreter": {
    "hash": "d7b89e158b719c02a21186c9646700ecf5a8cc5b1b6f738df9b6ffa75e5e74e4"
   }
  }
 },
 "nbformat": 4,
 "nbformat_minor": 4
}
