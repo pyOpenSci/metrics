{
 "cells": [
  {
   "cell_type": "markdown",
   "metadata": {
    "editable": true,
    "slideshow": {
     "slide_type": ""
    },
    "tags": []
   },
   "source": [
    "---\n",
    "title: Current Software Review Stats\n",
    "subtitle: pyOpenSci Peer Review Summary Stats\n",
    "license:\n",
    "  code: BSD-3-Clause\n",
    "---\n",
    "\n",
    "This is a workflow that colates all GitHub issues associated with our reviews. "
   ]
  },
  {
   "cell_type": "code",
   "execution_count": 1,
   "metadata": {
    "editable": true,
    "execution": {
     "iopub.execute_input": "2024-07-14T23:34:10.191082Z",
     "iopub.status.busy": "2024-07-14T23:34:10.190783Z",
     "iopub.status.idle": "2024-07-14T23:34:10.876773Z",
     "shell.execute_reply": "2024-07-14T23:34:10.876121Z",
     "shell.execute_reply.started": "2024-07-14T23:34:10.191060Z"
    },
    "slideshow": {
     "slide_type": ""
    },
    "tags": [
     "remove-input"
    ]
   },
   "outputs": [],
   "source": [
    "# https://github.com/ryantam626/jupyterlab_code_formatter\n",
    "import warnings\n",
    "from datetime import datetime, timezone\n",
    "\n",
    "import altair as alt\n",
    "import pandas as pd\n",
    "import pytz\n",
    "from pyosmeta import ProcessIssues\n",
    "from pyosmeta.github_api import GitHubAPI\n",
    "\n",
    "from pyosmetrics.functions import count_edits_by_quarter\n",
    "\n",
    "# Suppress all warnings\n",
    "warnings.filterwarnings(\"ignore\")"
   ]
  },
  {
   "cell_type": "code",
   "execution_count": 2,
   "metadata": {
    "editable": true,
    "execution": {
     "iopub.execute_input": "2024-07-14T23:34:10.877669Z",
     "iopub.status.busy": "2024-07-14T23:34:10.877389Z",
     "iopub.status.idle": "2024-07-14T23:34:10.880885Z",
     "shell.execute_reply": "2024-07-14T23:34:10.880180Z",
     "shell.execute_reply.started": "2024-07-14T23:34:10.877653Z"
    },
    "slideshow": {
     "slide_type": ""
    },
    "tags": [
     "remove-input"
    ]
   },
   "outputs": [],
   "source": [
    "# Open Reviews"
   ]
  },
  {
   "cell_type": "code",
   "execution_count": 3,
   "metadata": {
    "editable": true,
    "execution": {
     "iopub.execute_input": "2024-07-14T23:34:10.883058Z",
     "iopub.status.busy": "2024-07-14T23:34:10.882733Z",
     "iopub.status.idle": "2024-07-14T23:34:16.788696Z",
     "shell.execute_reply": "2024-07-14T23:34:16.788050Z",
     "shell.execute_reply.started": "2024-07-14T23:34:10.883042Z"
    },
    "slideshow": {
     "slide_type": ""
    },
    "tags": [
     "remove-input"
    ]
   },
   "outputs": [],
   "source": [
    "# Get a list of reviews submitted to us\n",
    "# This potentially doesn't include issues that were deemed out of scope...\n",
    "github_api = GitHubAPI(\n",
    "    org=\"pyopensci\",\n",
    "    repo=\"software-submission\",\n",
    "    labels=[\n",
    "        \"0/seeking-editor\",\n",
    "        \"1/editor-assigned\",\n",
    "        \"2/seeking-reviewers\",\n",
    "        \"3/reviewers-assigned\",\n",
    "        \"4/reviews-in-awaiting-changes\",\n",
    "        \"5/awaiting-reviewer-response\",\n",
    "        \"7/under-joss-review\",\n",
    "        \"8/joss-review-complete\",\n",
    "        \"New Submission!\",\n",
    "    ],\n",
    ")\n",
    "process_review = ProcessIssues(github_api)\n",
    "issues = process_review.get_issues()\n",
    "reviews, errors = process_review.parse_issues(issues)\n",
    "review_table = [\n",
    "    {\n",
    "        \"package_name\": name,\n",
    "        \"created_at\": review.created_at,\n",
    "        \"date_closed\": review.closed_at,\n",
    "        \"editor\": review.editor.github_username,\n",
    "        # \"editor\": review.editor.name,\n",
    "        \"labels\": review.labels,\n",
    "    }\n",
    "    for name, review in reviews.items()\n",
    "]\n",
    "\n",
    "reviews_df = pd.DataFrame(review_table)\n",
    "open_reviews = reviews_df[reviews_df[\"date_closed\"].isna()]\n",
    "\n",
    "today = datetime.now(timezone.utc)\n",
    "open_reviews[\"days_open\"] = (today - open_reviews[\"created_at\"]).dt.days\n",
    "open_reviews.drop(columns=[\"date_closed\"], inplace=True)\n",
    "open_reviews[\"created_at\"] = open_reviews[\"created_at\"].dt.date\n",
    "total_open = len(open_reviews)"
   ]
  },
  {
   "cell_type": "markdown",
   "metadata": {
    "editable": true,
    "slideshow": {
     "slide_type": ""
    },
    "tags": [],
    "user_expressions": [
     {
      "expression": "total_open",
      "result": {
       "data": {
        "text/plain": "3"
       },
       "metadata": {},
       "status": "ok"
      }
     }
    ]
   },
   "source": [
    "## Current open reviews & total days open\n",
    "\n",
    "pyOpenSci currently has **{eval}`total_open`** total open submissions."
   ]
  },
  {
   "cell_type": "code",
   "execution_count": 4,
   "metadata": {
    "editable": true,
    "execution": {
     "iopub.execute_input": "2024-07-14T23:34:16.789992Z",
     "iopub.status.busy": "2024-07-14T23:34:16.789650Z",
     "iopub.status.idle": "2024-07-14T23:34:16.808232Z",
     "shell.execute_reply": "2024-07-14T23:34:16.807314Z",
     "shell.execute_reply.started": "2024-07-14T23:34:16.789958Z"
    },
    "slideshow": {
     "slide_type": ""
    },
    "tags": [
     "remove-input"
    ]
   },
   "outputs": [
    {
     "data": {
      "text/html": [
       "<div>\n",
       "<style scoped>\n",
       "    .dataframe tbody tr th:only-of-type {\n",
       "        vertical-align: middle;\n",
       "    }\n",
       "\n",
       "    .dataframe tbody tr th {\n",
       "        vertical-align: top;\n",
       "    }\n",
       "\n",
       "    .dataframe thead th {\n",
       "        text-align: right;\n",
       "    }\n",
       "</style>\n",
       "<table border=\"1\" class=\"dataframe\">\n",
       "  <thead>\n",
       "    <tr style=\"text-align: right;\">\n",
       "      <th></th>\n",
       "      <th>package_name</th>\n",
       "      <th>created_at</th>\n",
       "      <th>editor</th>\n",
       "      <th>labels</th>\n",
       "      <th>days_open</th>\n",
       "    </tr>\n",
       "  </thead>\n",
       "  <tbody>\n",
       "    <tr>\n",
       "      <th>0</th>\n",
       "      <td>Solar Data Tools</td>\n",
       "      <td>2024-08-17</td>\n",
       "      <td>TBD</td>\n",
       "      <td>[0/seeking-editor]</td>\n",
       "      <td>11</td>\n",
       "    </tr>\n",
       "    <tr>\n",
       "      <th>1</th>\n",
       "      <td>THzTools</td>\n",
       "      <td>2024-08-01</td>\n",
       "      <td>TBD</td>\n",
       "      <td>[0/seeking-editor]</td>\n",
       "      <td>27</td>\n",
       "    </tr>\n",
       "    <tr>\n",
       "      <th>2</th>\n",
       "      <td>BlackMarblePy</td>\n",
       "      <td>2024-07-18</td>\n",
       "      <td>yeelauren</td>\n",
       "      <td>[1/editor-assigned]</td>\n",
       "      <td>41</td>\n",
       "    </tr>\n",
       "    <tr>\n",
       "      <th>3</th>\n",
       "      <td>MontePy</td>\n",
       "      <td>2024-07-01</td>\n",
       "      <td>kellyrowland</td>\n",
       "      <td>[3/reviewers-assigned]</td>\n",
       "      <td>58</td>\n",
       "    </tr>\n",
       "    <tr>\n",
       "      <th>4</th>\n",
       "      <td>Great Tables</td>\n",
       "      <td>2024-06-14</td>\n",
       "      <td>Batalex</td>\n",
       "      <td>[1/editor-assigned]</td>\n",
       "      <td>75</td>\n",
       "    </tr>\n",
       "    <tr>\n",
       "      <th>5</th>\n",
       "      <td>Stingray</td>\n",
       "      <td>2024-06-14</td>\n",
       "      <td>hamogu</td>\n",
       "      <td>[2/seeking-reviewers, astropy]</td>\n",
       "      <td>75</td>\n",
       "    </tr>\n",
       "    <tr>\n",
       "      <th>6</th>\n",
       "      <td>Fluidimage</td>\n",
       "      <td>2024-05-30</td>\n",
       "      <td>TBD</td>\n",
       "      <td>[0/seeking-editor]</td>\n",
       "      <td>90</td>\n",
       "    </tr>\n",
       "    <tr>\n",
       "      <th>7</th>\n",
       "      <td>astrodata</td>\n",
       "      <td>2024-05-13</td>\n",
       "      <td>hamogu</td>\n",
       "      <td>[3/reviewers-assigned, astropy]</td>\n",
       "      <td>106</td>\n",
       "    </tr>\n",
       "    <tr>\n",
       "      <th>8</th>\n",
       "      <td>QuadratiK</td>\n",
       "      <td>2024-05-13</td>\n",
       "      <td>isabelizimm</td>\n",
       "      <td>[4/reviews-in-awaiting-changes]</td>\n",
       "      <td>107</td>\n",
       "    </tr>\n",
       "    <tr>\n",
       "      <th>9</th>\n",
       "      <td>PyPartMC</td>\n",
       "      <td>2024-05-03</td>\n",
       "      <td>russbiggs</td>\n",
       "      <td>[1/editor-assigned]</td>\n",
       "      <td>117</td>\n",
       "    </tr>\n",
       "    <tr>\n",
       "      <th>10</th>\n",
       "      <td>ANDES</td>\n",
       "      <td>2024-04-22</td>\n",
       "      <td>TBD</td>\n",
       "      <td>[0/pre-review-checks, New Submission!, on-hold]</td>\n",
       "      <td>128</td>\n",
       "    </tr>\n",
       "    <tr>\n",
       "      <th>11</th>\n",
       "      <td>CyNetDiff</td>\n",
       "      <td>2024-04-22</td>\n",
       "      <td>sneakers-the-rat</td>\n",
       "      <td>[1/editor-assigned]</td>\n",
       "      <td>128</td>\n",
       "    </tr>\n",
       "    <tr>\n",
       "      <th>12</th>\n",
       "      <td>AMS</td>\n",
       "      <td>2024-04-22</td>\n",
       "      <td>NimaSarajpoor</td>\n",
       "      <td>[3/reviewers-assigned]</td>\n",
       "      <td>128</td>\n",
       "    </tr>\n",
       "    <tr>\n",
       "      <th>13</th>\n",
       "      <td>pooltool</td>\n",
       "      <td>2024-04-15</td>\n",
       "      <td>cmarmo</td>\n",
       "      <td>[4/reviews-in-awaiting-changes]</td>\n",
       "      <td>135</td>\n",
       "    </tr>\n",
       "    <tr>\n",
       "      <th>14</th>\n",
       "      <td>CovPlan</td>\n",
       "      <td>2024-03-25</td>\n",
       "      <td>TBD</td>\n",
       "      <td>[0/pre-review-checks, ⌛ pending-maintainer-res...</td>\n",
       "      <td>156</td>\n",
       "    </tr>\n",
       "    <tr>\n",
       "      <th>15</th>\n",
       "      <td>plot_phylo</td>\n",
       "      <td>2024-02-22</td>\n",
       "      <td>ctb</td>\n",
       "      <td>[4/reviews-in-awaiting-changes]</td>\n",
       "      <td>188</td>\n",
       "    </tr>\n",
       "    <tr>\n",
       "      <th>16</th>\n",
       "      <td>PetroFit</td>\n",
       "      <td>2024-02-16</td>\n",
       "      <td>dhomeier</td>\n",
       "      <td>[2/seeking-reviewers, astropy]</td>\n",
       "      <td>193</td>\n",
       "    </tr>\n",
       "    <tr>\n",
       "      <th>17</th>\n",
       "      <td>disdrodb</td>\n",
       "      <td>2024-01-18</td>\n",
       "      <td>zeitsperre</td>\n",
       "      <td>[1/editor-assigned]</td>\n",
       "      <td>223</td>\n",
       "    </tr>\n",
       "    <tr>\n",
       "      <th>18</th>\n",
       "      <td>Plenoptic</td>\n",
       "      <td>2023-11-17</td>\n",
       "      <td>sneakers-the-rat</td>\n",
       "      <td>[3/reviewers-assigned, ⌛ pending-maintainer-re...</td>\n",
       "      <td>285</td>\n",
       "    </tr>\n",
       "    <tr>\n",
       "      <th>19</th>\n",
       "      <td>GemGIS</td>\n",
       "      <td>2023-08-08</td>\n",
       "      <td>yeelauren</td>\n",
       "      <td>[4/reviews-in-awaiting-changes, ⌛ pending-main...</td>\n",
       "      <td>386</td>\n",
       "    </tr>\n",
       "  </tbody>\n",
       "</table>\n",
       "</div>"
      ],
      "text/plain": [
       "        package_name  created_at            editor  \\\n",
       "0   Solar Data Tools  2024-08-17               TBD   \n",
       "1           THzTools  2024-08-01               TBD   \n",
       "2      BlackMarblePy  2024-07-18         yeelauren   \n",
       "3            MontePy  2024-07-01      kellyrowland   \n",
       "4       Great Tables  2024-06-14           Batalex   \n",
       "5           Stingray  2024-06-14            hamogu   \n",
       "6         Fluidimage  2024-05-30               TBD   \n",
       "7          astrodata  2024-05-13            hamogu   \n",
       "8          QuadratiK  2024-05-13       isabelizimm   \n",
       "9           PyPartMC  2024-05-03         russbiggs   \n",
       "10             ANDES  2024-04-22               TBD   \n",
       "11         CyNetDiff  2024-04-22  sneakers-the-rat   \n",
       "12               AMS  2024-04-22     NimaSarajpoor   \n",
       "13          pooltool  2024-04-15            cmarmo   \n",
       "14           CovPlan  2024-03-25               TBD   \n",
       "15        plot_phylo  2024-02-22               ctb   \n",
       "16          PetroFit  2024-02-16          dhomeier   \n",
       "17          disdrodb  2024-01-18        zeitsperre   \n",
       "18         Plenoptic  2023-11-17  sneakers-the-rat   \n",
       "19            GemGIS  2023-08-08         yeelauren   \n",
       "\n",
       "                                               labels  days_open  \n",
       "0                                  [0/seeking-editor]         11  \n",
       "1                                  [0/seeking-editor]         27  \n",
       "2                                 [1/editor-assigned]         41  \n",
       "3                              [3/reviewers-assigned]         58  \n",
       "4                                 [1/editor-assigned]         75  \n",
       "5                      [2/seeking-reviewers, astropy]         75  \n",
       "6                                  [0/seeking-editor]         90  \n",
       "7                     [3/reviewers-assigned, astropy]        106  \n",
       "8                     [4/reviews-in-awaiting-changes]        107  \n",
       "9                                 [1/editor-assigned]        117  \n",
       "10    [0/pre-review-checks, New Submission!, on-hold]        128  \n",
       "11                                [1/editor-assigned]        128  \n",
       "12                             [3/reviewers-assigned]        128  \n",
       "13                    [4/reviews-in-awaiting-changes]        135  \n",
       "14  [0/pre-review-checks, ⌛ pending-maintainer-res...        156  \n",
       "15                    [4/reviews-in-awaiting-changes]        188  \n",
       "16                     [2/seeking-reviewers, astropy]        193  \n",
       "17                                [1/editor-assigned]        223  \n",
       "18  [3/reviewers-assigned, ⌛ pending-maintainer-re...        285  \n",
       "19  [4/reviews-in-awaiting-changes, ⌛ pending-main...        386  "
      ]
     },
     "execution_count": 4,
     "metadata": {},
     "output_type": "execute_result"
    }
   ],
   "source": [
    "open_reviews"
   ]
  },
  {
   "cell_type": "code",
   "execution_count": 5,
   "metadata": {
    "editable": true,
    "execution": {
     "iopub.execute_input": "2024-07-14T23:34:16.809533Z",
     "iopub.status.busy": "2024-07-14T23:34:16.809292Z",
     "iopub.status.idle": "2024-07-14T23:34:19.281599Z",
     "shell.execute_reply": "2024-07-14T23:34:19.281047Z",
     "shell.execute_reply.started": "2024-07-14T23:34:16.809511Z"
    },
    "slideshow": {
     "slide_type": ""
    },
    "tags": [
     "remove-input"
    ]
   },
   "outputs": [],
   "source": [
    "# Get Presubmission inquiries\n",
    "gh_presubmissions = GitHubAPI(\n",
    "    org=\"pyopensci\", repo=\"software-submission\", labels=[\"presubmission\"]\n",
    ")\n",
    "process_review = ProcessIssues(gh_presubmissions)\n",
    "pre_issues = process_review.get_issues()\n",
    "pre_submissions, errors = process_review.parse_issues(pre_issues)\n",
    "pre_submission_table = [\n",
    "    {\n",
    "        \"package_name\": name,\n",
    "        \"created_at\": review.created_at,\n",
    "        \"date_closed\": review.closed_at,\n",
    "        \"labels\": review.labels,\n",
    "    }\n",
    "    for name, review in pre_submissions.items()\n",
    "]"
   ]
  },
  {
   "cell_type": "code",
   "execution_count": 6,
   "metadata": {
    "editable": true,
    "execution": {
     "iopub.execute_input": "2024-07-14T23:34:19.282338Z",
     "iopub.status.busy": "2024-07-14T23:34:19.282188Z",
     "iopub.status.idle": "2024-07-14T23:34:19.286901Z",
     "shell.execute_reply": "2024-07-14T23:34:19.286122Z",
     "shell.execute_reply.started": "2024-07-14T23:34:19.282323Z"
    },
    "slideshow": {
     "slide_type": ""
    },
    "tags": []
   },
   "outputs": [],
   "source": [
    "presubmission_df = pd.DataFrame(pre_submission_table)\n",
    "all_presubmissions = len(presubmission_df)"
   ]
  },
  {
   "cell_type": "code",
   "execution_count": 7,
   "metadata": {
    "editable": true,
    "execution": {
     "iopub.execute_input": "2024-07-14T23:34:19.287873Z",
     "iopub.status.busy": "2024-07-14T23:34:19.287687Z",
     "iopub.status.idle": "2024-07-14T23:34:19.296060Z",
     "shell.execute_reply": "2024-07-14T23:34:19.295429Z",
     "shell.execute_reply.started": "2024-07-14T23:34:19.287856Z"
    },
    "slideshow": {
     "slide_type": ""
    },
    "tags": [
     "remove-input"
    ]
   },
   "outputs": [],
   "source": [
    "# Get all currently open presubmissions\n",
    "open_presubmissions = presubmission_df[presubmission_df[\"date_closed\"].isna()]\n",
    "today = datetime.now(timezone.utc)\n",
    "open_presubmissions[\"days_open\"] = (today - open_presubmissions[\"created_at\"]).dt.days\n",
    "open_presubmissions[\"created_at\"] = open_presubmissions[\"created_at\"].dt.date\n",
    "open_presubmissions.reset_index(drop=True, inplace=True)\n",
    "\n",
    "total_open = len(open_presubmissions)\n",
    "\n",
    "# Stylize table columns\n",
    "open_presubmissions.sort_values(by=\"created_at\", ascending=False, inplace=True)\n",
    "open_presubmissions.drop(columns=[\"date_closed\"], inplace=True)"
   ]
  },
  {
   "cell_type": "markdown",
   "metadata": {
    "editable": true,
    "slideshow": {
     "slide_type": ""
    },
    "tags": [],
    "user_expressions": [
     {
      "expression": "all_presubmissions",
      "result": {
       "data": {
        "text/plain": "52"
       },
       "metadata": {},
       "status": "ok"
      }
     }
    ]
   },
   "source": [
    "## All presubmissions\n",
    "\n",
    "There are **{eval}`all_presubmissions`** total presubmissions to date, including closed presubmissions. "
   ]
  },
  {
   "cell_type": "markdown",
   "metadata": {
    "editable": true,
    "slideshow": {
     "slide_type": ""
    },
    "tags": [],
    "user_expressions": [
     {
      "expression": "len(open_presubmissions)",
      "result": {
       "data": {
        "text/plain": "3"
       },
       "metadata": {},
       "status": "ok"
      }
     }
    ]
   },
   "source": [
    "## Currently open software presubmission inquiries\n",
    "\n",
    "* It could be useful to grab the most recent comments on each\n",
    "* It would also be useful to grab the gh usernames of all people involved in the discussion and credit them. So for one i see astropy editors + alex being involved.\n",
    "\n",
    "There are **{eval}`len(open_presubmissions)` presubmission requests** currently open. \n"
   ]
  },
  {
   "cell_type": "code",
   "execution_count": 8,
   "metadata": {
    "editable": true,
    "execution": {
     "iopub.execute_input": "2024-07-14T23:34:19.296972Z",
     "iopub.status.busy": "2024-07-14T23:34:19.296737Z",
     "iopub.status.idle": "2024-07-14T23:34:19.304619Z",
     "shell.execute_reply": "2024-07-14T23:34:19.303843Z",
     "shell.execute_reply.started": "2024-07-14T23:34:19.296954Z"
    },
    "slideshow": {
     "slide_type": ""
    },
    "tags": [
     "remove-input"
    ]
   },
   "outputs": [
    {
     "data": {
      "text/html": [
       "<div>\n",
       "<style scoped>\n",
       "    .dataframe tbody tr th:only-of-type {\n",
       "        vertical-align: middle;\n",
       "    }\n",
       "\n",
       "    .dataframe tbody tr th {\n",
       "        vertical-align: top;\n",
       "    }\n",
       "\n",
       "    .dataframe thead th {\n",
       "        text-align: right;\n",
       "    }\n",
       "</style>\n",
       "<table border=\"1\" class=\"dataframe\">\n",
       "  <thead>\n",
       "    <tr style=\"text-align: right;\">\n",
       "      <th></th>\n",
       "      <th>package_name</th>\n",
       "      <th>created_at</th>\n",
       "      <th>labels</th>\n",
       "      <th>days_open</th>\n",
       "    </tr>\n",
       "  </thead>\n",
       "  <tbody>\n",
       "    <tr>\n",
       "      <th>0</th>\n",
       "      <td>gentropy</td>\n",
       "      <td>2024-05-24</td>\n",
       "      <td>[presubmission]</td>\n",
       "      <td>96</td>\n",
       "    </tr>\n",
       "    <tr>\n",
       "      <th>1</th>\n",
       "      <td>GALAssify</td>\n",
       "      <td>2024-05-24</td>\n",
       "      <td>[presubmission]</td>\n",
       "      <td>96</td>\n",
       "    </tr>\n",
       "  </tbody>\n",
       "</table>\n",
       "</div>"
      ],
      "text/plain": [
       "  package_name  created_at           labels  days_open\n",
       "0     gentropy  2024-05-24  [presubmission]         96\n",
       "1    GALAssify  2024-05-24  [presubmission]         96"
      ]
     },
     "execution_count": 8,
     "metadata": {},
     "output_type": "execute_result"
    }
   ],
   "source": [
    "# # Render table of strictly open presubmissions\n",
    "open_presubmissions"
   ]
  },
  {
   "cell_type": "code",
   "execution_count": 9,
   "metadata": {
    "editable": true,
    "execution": {
     "iopub.execute_input": "2024-07-14T23:34:19.306544Z",
     "iopub.status.busy": "2024-07-14T23:34:19.305711Z",
     "iopub.status.idle": "2024-07-14T23:34:19.317536Z",
     "shell.execute_reply": "2024-07-14T23:34:19.316721Z",
     "shell.execute_reply.started": "2024-07-14T23:34:19.306503Z"
    },
    "slideshow": {
     "slide_type": ""
    },
    "tags": [
     "remove-input"
    ]
   },
   "outputs": [],
   "source": [
    "# Static list of all editors, updated 7/13/2024\n",
    "# TODO: get this list of current editors dynamically\n",
    "all_editors = [\n",
    "    \"cmarmo\",\n",
    "    \"dhomeier\",\n",
    "    \"ocefpaf\",\n",
    "    \"NikleDave\",\n",
    "    \"SimonMolinsky\",\n",
    "    \"Batalex\",\n",
    "    \"sneakers-the-rat\",\n",
    "    \"tomalrussel\",\n",
    "    \"ctb\",\n",
    "    \"mjhajharia\",\n",
    "    \"hamogu\",\n",
    "    \"isabelizimm\",\n",
    "    \"yeelauren\",\n",
    "    \"banesullivan\",\n",
    "]\n",
    "submissions_per_editor = {}\n",
    "for editor in all_editors:\n",
    "    submissions_per_editor[editor] = 0\n",
    "\n",
    "# Get table of editors who are currently assigned to an open submission\n",
    "busy_editors = open_reviews.drop(open_reviews[open_reviews.editor == \"TBD\"].index)\n",
    "busy_editors = busy_editors[\"editor\"]\n",
    "\n",
    "# Populate dictionary of number of open submissions per editor\n",
    "for editor in busy_editors:\n",
    "    if not (editor in submissions_per_editor):\n",
    "        submissions_per_editor[editor] = 0\n",
    "        # Add new editor to current editor list\n",
    "        # for debugging only, TODO: output to error log\n",
    "        # print(\"Editor\", editor, \"has an assigned project but is not in master list of editors\")\n",
    "\n",
    "    submissions_per_editor[editor] = submissions_per_editor[editor] + 1\n",
    "\n",
    "# Render table of all editors and their number of open submissions\n",
    "editor_activity_df = pd.DataFrame(\n",
    "    list(submissions_per_editor.items()), columns=[\"editor\", \"num_submissions\"]\n",
    ")\n",
    "editor_activity_df = editor_activity_df.sort_values(by=\"num_submissions\")\n",
    "editor_activity_df.reset_index(drop=True, inplace=True)\n",
    "\n",
    "# Get counts of available and unavailable editors\n",
    "num_busy_editors = editor_activity_df[editor_activity_df[\"num_submissions\"] > 0].shape[\n",
    "    0\n",
    "]\n",
    "num_available_editors = len(editor_activity_df) - num_busy_editors"
   ]
  },
  {
   "cell_type": "markdown",
   "metadata": {
    "editable": true,
    "slideshow": {
     "slide_type": ""
    },
    "tags": [],
    "user_expressions": [
     {
      "expression": "num_available_editors",
      "result": {
       "data": {
        "text/plain": "6"
       },
       "metadata": {},
       "status": "ok"
      }
     },
     {
      "expression": "num_busy_editors",
      "result": {
       "data": {
        "text/plain": "10"
       },
       "metadata": {},
       "status": "ok"
      }
     }
    ]
   },
   "source": [
    "## Available editors\n",
    "\n",
    "There are currently **{eval}`num_available_editors` available editors** and **{eval}`num_busy_editors` editors who are assigned to a submission**."
   ]
  },
  {
   "cell_type": "code",
   "execution_count": 10,
   "metadata": {
    "editable": true,
    "execution": {
     "iopub.execute_input": "2024-07-14T23:34:19.318875Z",
     "iopub.status.busy": "2024-07-14T23:34:19.318535Z",
     "iopub.status.idle": "2024-07-14T23:34:19.328132Z",
     "shell.execute_reply": "2024-07-14T23:34:19.327269Z",
     "shell.execute_reply.started": "2024-07-14T23:34:19.318829Z"
    },
    "slideshow": {
     "slide_type": ""
    },
    "tags": [
     "remove-input"
    ]
   },
   "outputs": [
    {
     "data": {
      "text/html": [
       "<div>\n",
       "<style scoped>\n",
       "    .dataframe tbody tr th:only-of-type {\n",
       "        vertical-align: middle;\n",
       "    }\n",
       "\n",
       "    .dataframe tbody tr th {\n",
       "        vertical-align: top;\n",
       "    }\n",
       "\n",
       "    .dataframe thead th {\n",
       "        text-align: right;\n",
       "    }\n",
       "</style>\n",
       "<table border=\"1\" class=\"dataframe\">\n",
       "  <thead>\n",
       "    <tr style=\"text-align: right;\">\n",
       "      <th></th>\n",
       "      <th>editor</th>\n",
       "      <th>num_submissions</th>\n",
       "    </tr>\n",
       "  </thead>\n",
       "  <tbody>\n",
       "    <tr>\n",
       "      <th>0</th>\n",
       "      <td>ocefpaf</td>\n",
       "      <td>0</td>\n",
       "    </tr>\n",
       "    <tr>\n",
       "      <th>1</th>\n",
       "      <td>NikleDave</td>\n",
       "      <td>0</td>\n",
       "    </tr>\n",
       "    <tr>\n",
       "      <th>2</th>\n",
       "      <td>SimonMolinsky</td>\n",
       "      <td>0</td>\n",
       "    </tr>\n",
       "    <tr>\n",
       "      <th>3</th>\n",
       "      <td>banesullivan</td>\n",
       "      <td>0</td>\n",
       "    </tr>\n",
       "    <tr>\n",
       "      <th>4</th>\n",
       "      <td>tomalrussel</td>\n",
       "      <td>0</td>\n",
       "    </tr>\n",
       "    <tr>\n",
       "      <th>5</th>\n",
       "      <td>mjhajharia</td>\n",
       "      <td>0</td>\n",
       "    </tr>\n",
       "    <tr>\n",
       "      <th>6</th>\n",
       "      <td>cmarmo</td>\n",
       "      <td>1</td>\n",
       "    </tr>\n",
       "    <tr>\n",
       "      <th>7</th>\n",
       "      <td>russbiggs</td>\n",
       "      <td>1</td>\n",
       "    </tr>\n",
       "    <tr>\n",
       "      <th>8</th>\n",
       "      <td>kellyrowland</td>\n",
       "      <td>1</td>\n",
       "    </tr>\n",
       "    <tr>\n",
       "      <th>9</th>\n",
       "      <td>isabelizimm</td>\n",
       "      <td>1</td>\n",
       "    </tr>\n",
       "    <tr>\n",
       "      <th>10</th>\n",
       "      <td>ctb</td>\n",
       "      <td>1</td>\n",
       "    </tr>\n",
       "    <tr>\n",
       "      <th>11</th>\n",
       "      <td>NimaSarajpoor</td>\n",
       "      <td>1</td>\n",
       "    </tr>\n",
       "    <tr>\n",
       "      <th>12</th>\n",
       "      <td>Batalex</td>\n",
       "      <td>1</td>\n",
       "    </tr>\n",
       "    <tr>\n",
       "      <th>13</th>\n",
       "      <td>dhomeier</td>\n",
       "      <td>1</td>\n",
       "    </tr>\n",
       "    <tr>\n",
       "      <th>14</th>\n",
       "      <td>zeitsperre</td>\n",
       "      <td>1</td>\n",
       "    </tr>\n",
       "    <tr>\n",
       "      <th>15</th>\n",
       "      <td>yeelauren</td>\n",
       "      <td>2</td>\n",
       "    </tr>\n",
       "    <tr>\n",
       "      <th>16</th>\n",
       "      <td>sneakers-the-rat</td>\n",
       "      <td>2</td>\n",
       "    </tr>\n",
       "    <tr>\n",
       "      <th>17</th>\n",
       "      <td>hamogu</td>\n",
       "      <td>2</td>\n",
       "    </tr>\n",
       "  </tbody>\n",
       "</table>\n",
       "</div>"
      ],
      "text/plain": [
       "              editor  num_submissions\n",
       "0            ocefpaf                0\n",
       "1          NikleDave                0\n",
       "2      SimonMolinsky                0\n",
       "3       banesullivan                0\n",
       "4        tomalrussel                0\n",
       "5         mjhajharia                0\n",
       "6             cmarmo                1\n",
       "7          russbiggs                1\n",
       "8       kellyrowland                1\n",
       "9        isabelizimm                1\n",
       "10               ctb                1\n",
       "11     NimaSarajpoor                1\n",
       "12           Batalex                1\n",
       "13          dhomeier                1\n",
       "14        zeitsperre                1\n",
       "15         yeelauren                2\n",
       "16  sneakers-the-rat                2\n",
       "17            hamogu                2"
      ]
     },
     "execution_count": 10,
     "metadata": {},
     "output_type": "execute_result"
    }
   ],
   "source": [
    "# Display editor table\n",
    "editor_activity_df"
   ]
  },
  {
   "cell_type": "code",
   "execution_count": 11,
   "metadata": {
    "editable": true,
    "execution": {
     "iopub.execute_input": "2024-07-14T23:34:19.329510Z",
     "iopub.status.busy": "2024-07-14T23:34:19.329213Z",
     "iopub.status.idle": "2024-07-14T23:34:19.333823Z",
     "shell.execute_reply": "2024-07-14T23:34:19.333046Z",
     "shell.execute_reply.started": "2024-07-14T23:34:19.329486Z"
    },
    "slideshow": {
     "slide_type": ""
    },
    "tags": [
     "remove-input"
    ]
   },
   "outputs": [],
   "source": [
    "# Get all currently closed / approved issues\n",
    "\n",
    "# calculate time that they were in review."
   ]
  },
  {
   "cell_type": "markdown",
   "metadata": {},
   "source": [
    "## Editors load"
   ]
  },
  {
   "cell_type": "code",
   "execution_count": 12,
   "metadata": {
    "execution": {
     "iopub.execute_input": "2024-07-14T23:34:19.337215Z",
     "iopub.status.busy": "2024-07-14T23:34:19.336928Z",
     "iopub.status.idle": "2024-07-14T23:34:19.341670Z",
     "shell.execute_reply": "2024-07-14T23:34:19.340847Z",
     "shell.execute_reply.started": "2024-07-14T23:34:19.337192Z"
    },
    "tags": [
     "remove-input"
    ]
   },
   "outputs": [],
   "source": [
    "ignore_editors = [\"TBD\"]\n",
    "editors = pd.unique(reviews_df.editor)"
   ]
  },
  {
   "cell_type": "code",
   "execution_count": 13,
   "metadata": {
    "execution": {
     "iopub.execute_input": "2024-07-14T23:34:19.343171Z",
     "iopub.status.busy": "2024-07-14T23:34:19.342842Z",
     "iopub.status.idle": "2024-07-14T23:34:19.358257Z",
     "shell.execute_reply": "2024-07-14T23:34:19.357608Z",
     "shell.execute_reply.started": "2024-07-14T23:34:19.343145Z"
    },
    "tags": [
     "remove-input"
    ]
   },
   "outputs": [
    {
     "data": {
      "text/html": [
       "<div>\n",
       "<style scoped>\n",
       "    .dataframe tbody tr th:only-of-type {\n",
       "        vertical-align: middle;\n",
       "    }\n",
       "\n",
       "    .dataframe tbody tr th {\n",
       "        vertical-align: top;\n",
       "    }\n",
       "\n",
       "    .dataframe thead th {\n",
       "        text-align: right;\n",
       "    }\n",
       "</style>\n",
       "<table border=\"1\" class=\"dataframe\">\n",
       "  <thead>\n",
       "    <tr style=\"text-align: right;\">\n",
       "      <th></th>\n",
       "      <th></th>\n",
       "      <th>n_edits</th>\n",
       "    </tr>\n",
       "    <tr>\n",
       "      <th>editor</th>\n",
       "      <th>created_at</th>\n",
       "      <th></th>\n",
       "    </tr>\n",
       "  </thead>\n",
       "  <tbody>\n",
       "    <tr>\n",
       "      <th>Batalex</th>\n",
       "      <th>2024Q2</th>\n",
       "      <td>1</td>\n",
       "    </tr>\n",
       "    <tr>\n",
       "      <th>NimaSarajpoor</th>\n",
       "      <th>2024Q2</th>\n",
       "      <td>1</td>\n",
       "    </tr>\n",
       "    <tr>\n",
       "      <th>cmarmo</th>\n",
       "      <th>2024Q2</th>\n",
       "      <td>1</td>\n",
       "    </tr>\n",
       "    <tr>\n",
       "      <th>ctb</th>\n",
       "      <th>2024Q1</th>\n",
       "      <td>1</td>\n",
       "    </tr>\n",
       "    <tr>\n",
       "      <th>dhomeier</th>\n",
       "      <th>2024Q1</th>\n",
       "      <td>1</td>\n",
       "    </tr>\n",
       "    <tr>\n",
       "      <th>hamogu</th>\n",
       "      <th>2024Q2</th>\n",
       "      <td>2</td>\n",
       "    </tr>\n",
       "    <tr>\n",
       "      <th>isabelizimm</th>\n",
       "      <th>2024Q2</th>\n",
       "      <td>1</td>\n",
       "    </tr>\n",
       "    <tr>\n",
       "      <th>kellyrowland</th>\n",
       "      <th>2024Q3</th>\n",
       "      <td>1</td>\n",
       "    </tr>\n",
       "    <tr>\n",
       "      <th rowspan=\"2\" valign=\"top\">lwasser</th>\n",
       "      <th>2019Q1</th>\n",
       "      <td>1</td>\n",
       "    </tr>\n",
       "    <tr>\n",
       "      <th>2019Q4</th>\n",
       "      <td>1</td>\n",
       "    </tr>\n",
       "    <tr>\n",
       "      <th>russbiggs</th>\n",
       "      <th>2024Q2</th>\n",
       "      <td>1</td>\n",
       "    </tr>\n",
       "    <tr>\n",
       "      <th rowspan=\"2\" valign=\"top\">sneakers-the-rat</th>\n",
       "      <th>2023Q4</th>\n",
       "      <td>1</td>\n",
       "    </tr>\n",
       "    <tr>\n",
       "      <th>2024Q2</th>\n",
       "      <td>1</td>\n",
       "    </tr>\n",
       "    <tr>\n",
       "      <th>xmnlab</th>\n",
       "      <th>2021Q4</th>\n",
       "      <td>1</td>\n",
       "    </tr>\n",
       "    <tr>\n",
       "      <th rowspan=\"2\" valign=\"top\">yeelauren</th>\n",
       "      <th>2023Q3</th>\n",
       "      <td>1</td>\n",
       "    </tr>\n",
       "    <tr>\n",
       "      <th>2024Q3</th>\n",
       "      <td>1</td>\n",
       "    </tr>\n",
       "    <tr>\n",
       "      <th>zeitsperre</th>\n",
       "      <th>2024Q1</th>\n",
       "      <td>1</td>\n",
       "    </tr>\n",
       "  </tbody>\n",
       "</table>\n",
       "</div>"
      ],
      "text/plain": [
       "                             n_edits\n",
       "editor           created_at         \n",
       "Batalex          2024Q2            1\n",
       "NimaSarajpoor    2024Q2            1\n",
       "cmarmo           2024Q2            1\n",
       "ctb              2024Q1            1\n",
       "dhomeier         2024Q1            1\n",
       "hamogu           2024Q2            2\n",
       "isabelizimm      2024Q2            1\n",
       "kellyrowland     2024Q3            1\n",
       "lwasser          2019Q1            1\n",
       "                 2019Q4            1\n",
       "russbiggs        2024Q2            1\n",
       "sneakers-the-rat 2023Q4            1\n",
       "                 2024Q2            1\n",
       "xmnlab           2021Q4            1\n",
       "yeelauren        2023Q3            1\n",
       "                 2024Q3            1\n",
       "zeitsperre       2024Q1            1"
      ]
     },
     "execution_count": 13,
     "metadata": {},
     "output_type": "execute_result"
    }
   ],
   "source": [
    "n_edits = count_edits_by_quarter(reviews_df)[\"n_edits\"].to_frame()\n",
    "for editor in ignore_editors:\n",
    "    n_edits.drop(editor, inplace=True)\n",
    "n_edits"
   ]
  },
  {
   "cell_type": "code",
   "execution_count": 14,
   "metadata": {
    "execution": {
     "iopub.execute_input": "2024-07-14T23:34:19.359304Z",
     "iopub.status.busy": "2024-07-14T23:34:19.359109Z",
     "iopub.status.idle": "2024-07-14T23:34:19.364809Z",
     "shell.execute_reply": "2024-07-14T23:34:19.364050Z",
     "shell.execute_reply.started": "2024-07-14T23:34:19.359285Z"
    },
    "tags": [
     "remove-input"
    ]
   },
   "outputs": [],
   "source": [
    "# Get axes min and max values so all plots have the same scale\n",
    "\n",
    "# Get vmin and vmax for the dates\n",
    "min_date = reviews_df.created_at.min().to_period(\"Q\").start_time\n",
    "end_of_this_quarter = pd.Timestamp.today().to_period(\"Q\").end_time\n",
    "time_domain = (min_date, end_of_this_quarter)\n",
    "\n",
    "# Get vmin and vmax for the number of edits per quarter\n",
    "n_edits_domain = (0, n_edits.values.max())"
   ]
  },
  {
   "cell_type": "code",
   "execution_count": 15,
   "metadata": {
    "execution": {
     "iopub.execute_input": "2024-07-14T23:34:19.365890Z",
     "iopub.status.busy": "2024-07-14T23:34:19.365650Z",
     "iopub.status.idle": "2024-07-14T23:34:19.370025Z",
     "shell.execute_reply": "2024-07-14T23:34:19.369357Z",
     "shell.execute_reply.started": "2024-07-14T23:34:19.365873Z"
    },
    "tags": [
     "remove-input"
    ]
   },
   "outputs": [],
   "source": [
    "edits = (\n",
    "    reviews_df\n",
    "    .rename(columns=dict(created_at=\"Date\"))\n",
    "    .copy()\n",
    ")"
   ]
  },
  {
   "cell_type": "code",
   "execution_count": 16,
   "metadata": {
    "execution": {
     "iopub.execute_input": "2024-07-14T23:34:19.371982Z",
     "iopub.status.busy": "2024-07-14T23:34:19.371245Z",
     "iopub.status.idle": "2024-07-14T23:34:19.585501Z",
     "shell.execute_reply": "2024-07-14T23:34:19.584936Z",
     "shell.execute_reply.started": "2024-07-14T23:34:19.371949Z"
    },
    "tags": [
     "remove-input"
    ]
   },
   "outputs": [
    {
     "data": {
      "text/html": [
       "\n",
       "<style>\n",
       "  #altair-viz-1af172a89e4d43f5aa1e61bc7bbc397d.vega-embed {\n",
       "    width: 100%;\n",
       "    display: flex;\n",
       "  }\n",
       "\n",
       "  #altair-viz-1af172a89e4d43f5aa1e61bc7bbc397d.vega-embed details,\n",
       "  #altair-viz-1af172a89e4d43f5aa1e61bc7bbc397d.vega-embed details summary {\n",
       "    position: relative;\n",
       "  }\n",
       "</style>\n",
       "<div id=\"altair-viz-1af172a89e4d43f5aa1e61bc7bbc397d\"></div>\n",
       "<script type=\"text/javascript\">\n",
       "  var VEGA_DEBUG = (typeof VEGA_DEBUG == \"undefined\") ? {} : VEGA_DEBUG;\n",
       "  (function(spec, embedOpt){\n",
       "    let outputDiv = document.currentScript.previousElementSibling;\n",
       "    if (outputDiv.id !== \"altair-viz-1af172a89e4d43f5aa1e61bc7bbc397d\") {\n",
       "      outputDiv = document.getElementById(\"altair-viz-1af172a89e4d43f5aa1e61bc7bbc397d\");\n",
       "    }\n",
       "    const paths = {\n",
       "      \"vega\": \"https://cdn.jsdelivr.net/npm/vega@5?noext\",\n",
       "      \"vega-lib\": \"https://cdn.jsdelivr.net/npm/vega-lib?noext\",\n",
       "      \"vega-lite\": \"https://cdn.jsdelivr.net/npm/vega-lite@5.17.0?noext\",\n",
       "      \"vega-embed\": \"https://cdn.jsdelivr.net/npm/vega-embed@6?noext\",\n",
       "    };\n",
       "\n",
       "    function maybeLoadScript(lib, version) {\n",
       "      var key = `${lib.replace(\"-\", \"\")}_version`;\n",
       "      return (VEGA_DEBUG[key] == version) ?\n",
       "        Promise.resolve(paths[lib]) :\n",
       "        new Promise(function(resolve, reject) {\n",
       "          var s = document.createElement('script');\n",
       "          document.getElementsByTagName(\"head\")[0].appendChild(s);\n",
       "          s.async = true;\n",
       "          s.onload = () => {\n",
       "            VEGA_DEBUG[key] = version;\n",
       "            return resolve(paths[lib]);\n",
       "          };\n",
       "          s.onerror = () => reject(`Error loading script: ${paths[lib]}`);\n",
       "          s.src = paths[lib];\n",
       "        });\n",
       "    }\n",
       "\n",
       "    function showError(err) {\n",
       "      outputDiv.innerHTML = `<div class=\"error\" style=\"color:red;\">${err}</div>`;\n",
       "      throw err;\n",
       "    }\n",
       "\n",
       "    function displayChart(vegaEmbed) {\n",
       "      vegaEmbed(outputDiv, spec, embedOpt)\n",
       "        .catch(err => showError(`Javascript Error: ${err.message}<br>This usually means there's a typo in your chart specification. See the javascript console for the full traceback.`));\n",
       "    }\n",
       "\n",
       "    if(typeof define === \"function\" && define.amd) {\n",
       "      requirejs.config({paths});\n",
       "      require([\"vega-embed\"], displayChart, err => showError(`Error loading script: ${err.message}`));\n",
       "    } else {\n",
       "      maybeLoadScript(\"vega\", \"5\")\n",
       "        .then(() => maybeLoadScript(\"vega-lite\", \"5.17.0\"))\n",
       "        .then(() => maybeLoadScript(\"vega-embed\", \"6\"))\n",
       "        .catch(showError)\n",
       "        .then(() => displayChart(vegaEmbed));\n",
       "    }\n",
       "  })({\"config\": {\"view\": {\"continuousWidth\": 300, \"continuousHeight\": 300}}, \"vconcat\": [{\"data\": {\"name\": \"data-907b871942141b4999b851ea4d7b84c4\"}, \"mark\": {\"type\": \"bar\"}, \"encoding\": {\"tooltip\": [{\"field\": \"Date\", \"timeUnit\": \"yearquarter\", \"type\": \"temporal\"}, {\"aggregate\": \"count\", \"field\": \"package_name\", \"type\": \"nominal\"}], \"x\": {\"field\": \"Date\", \"scale\": {\"domain\": [\"2019-01-01T00:00:00\", \"2024-09-30T23:59:59.999999999\"]}, \"timeUnit\": \"yearquarter\", \"type\": \"temporal\"}, \"y\": {\"aggregate\": \"count\", \"field\": \"package_name\", \"scale\": {\"domain\": [0, 2.0]}, \"title\": \"Number of edits per quarter\", \"type\": \"nominal\"}}, \"height\": 200, \"title\": {\"text\": \"yeelauren\", \"fontSize\": 18}, \"width\": 600}, {\"data\": {\"name\": \"data-3edcffdc8417335db522ee11c293f607\"}, \"mark\": {\"type\": \"bar\"}, \"encoding\": {\"tooltip\": [{\"field\": \"Date\", \"timeUnit\": \"yearquarter\", \"type\": \"temporal\"}, {\"aggregate\": \"count\", \"field\": \"package_name\", \"type\": \"nominal\"}], \"x\": {\"field\": \"Date\", \"scale\": {\"domain\": [\"2019-01-01T00:00:00\", \"2024-09-30T23:59:59.999999999\"]}, \"timeUnit\": \"yearquarter\", \"type\": \"temporal\"}, \"y\": {\"aggregate\": \"count\", \"field\": \"package_name\", \"scale\": {\"domain\": [0, 2.0]}, \"title\": \"Number of edits per quarter\", \"type\": \"nominal\"}}, \"height\": 200, \"title\": {\"text\": \"kellyrowland\", \"fontSize\": 18}, \"width\": 600}, {\"data\": {\"name\": \"data-a4bd33b090c9df73f07253b6400964bf\"}, \"mark\": {\"type\": \"bar\"}, \"encoding\": {\"tooltip\": [{\"field\": \"Date\", \"timeUnit\": \"yearquarter\", \"type\": \"temporal\"}, {\"aggregate\": \"count\", \"field\": \"package_name\", \"type\": \"nominal\"}], \"x\": {\"field\": \"Date\", \"scale\": {\"domain\": [\"2019-01-01T00:00:00\", \"2024-09-30T23:59:59.999999999\"]}, \"timeUnit\": \"yearquarter\", \"type\": \"temporal\"}, \"y\": {\"aggregate\": \"count\", \"field\": \"package_name\", \"scale\": {\"domain\": [0, 2.0]}, \"title\": \"Number of edits per quarter\", \"type\": \"nominal\"}}, \"height\": 200, \"title\": {\"text\": \"Batalex\", \"fontSize\": 18}, \"width\": 600}, {\"data\": {\"name\": \"data-2342589a46ff50f0f5f1c99acec128f4\"}, \"mark\": {\"type\": \"bar\"}, \"encoding\": {\"tooltip\": [{\"field\": \"Date\", \"timeUnit\": \"yearquarter\", \"type\": \"temporal\"}, {\"aggregate\": \"count\", \"field\": \"package_name\", \"type\": \"nominal\"}], \"x\": {\"field\": \"Date\", \"scale\": {\"domain\": [\"2019-01-01T00:00:00\", \"2024-09-30T23:59:59.999999999\"]}, \"timeUnit\": \"yearquarter\", \"type\": \"temporal\"}, \"y\": {\"aggregate\": \"count\", \"field\": \"package_name\", \"scale\": {\"domain\": [0, 2.0]}, \"title\": \"Number of edits per quarter\", \"type\": \"nominal\"}}, \"height\": 200, \"title\": {\"text\": \"hamogu\", \"fontSize\": 18}, \"width\": 600}, {\"data\": {\"name\": \"data-f4dba97f8d0822696959c56643c5ec38\"}, \"mark\": {\"type\": \"bar\"}, \"encoding\": {\"tooltip\": [{\"field\": \"Date\", \"timeUnit\": \"yearquarter\", \"type\": \"temporal\"}, {\"aggregate\": \"count\", \"field\": \"package_name\", \"type\": \"nominal\"}], \"x\": {\"field\": \"Date\", \"scale\": {\"domain\": [\"2019-01-01T00:00:00\", \"2024-09-30T23:59:59.999999999\"]}, \"timeUnit\": \"yearquarter\", \"type\": \"temporal\"}, \"y\": {\"aggregate\": \"count\", \"field\": \"package_name\", \"scale\": {\"domain\": [0, 2.0]}, \"title\": \"Number of edits per quarter\", \"type\": \"nominal\"}}, \"height\": 200, \"title\": {\"text\": \"isabelizimm\", \"fontSize\": 18}, \"width\": 600}, {\"data\": {\"name\": \"data-3d3300090572fc4b0e21fca886e269ff\"}, \"mark\": {\"type\": \"bar\"}, \"encoding\": {\"tooltip\": [{\"field\": \"Date\", \"timeUnit\": \"yearquarter\", \"type\": \"temporal\"}, {\"aggregate\": \"count\", \"field\": \"package_name\", \"type\": \"nominal\"}], \"x\": {\"field\": \"Date\", \"scale\": {\"domain\": [\"2019-01-01T00:00:00\", \"2024-09-30T23:59:59.999999999\"]}, \"timeUnit\": \"yearquarter\", \"type\": \"temporal\"}, \"y\": {\"aggregate\": \"count\", \"field\": \"package_name\", \"scale\": {\"domain\": [0, 2.0]}, \"title\": \"Number of edits per quarter\", \"type\": \"nominal\"}}, \"height\": 200, \"title\": {\"text\": \"russbiggs\", \"fontSize\": 18}, \"width\": 600}, {\"data\": {\"name\": \"data-f8e7c718e9801e1970f336c3c79cabde\"}, \"mark\": {\"type\": \"bar\"}, \"encoding\": {\"tooltip\": [{\"field\": \"Date\", \"timeUnit\": \"yearquarter\", \"type\": \"temporal\"}, {\"aggregate\": \"count\", \"field\": \"package_name\", \"type\": \"nominal\"}], \"x\": {\"field\": \"Date\", \"scale\": {\"domain\": [\"2019-01-01T00:00:00\", \"2024-09-30T23:59:59.999999999\"]}, \"timeUnit\": \"yearquarter\", \"type\": \"temporal\"}, \"y\": {\"aggregate\": \"count\", \"field\": \"package_name\", \"scale\": {\"domain\": [0, 2.0]}, \"title\": \"Number of edits per quarter\", \"type\": \"nominal\"}}, \"height\": 200, \"title\": {\"text\": \"sneakers-the-rat\", \"fontSize\": 18}, \"width\": 600}, {\"data\": {\"name\": \"data-53b02df63da74c17b8c3d4afc3f980ca\"}, \"mark\": {\"type\": \"bar\"}, \"encoding\": {\"tooltip\": [{\"field\": \"Date\", \"timeUnit\": \"yearquarter\", \"type\": \"temporal\"}, {\"aggregate\": \"count\", \"field\": \"package_name\", \"type\": \"nominal\"}], \"x\": {\"field\": \"Date\", \"scale\": {\"domain\": [\"2019-01-01T00:00:00\", \"2024-09-30T23:59:59.999999999\"]}, \"timeUnit\": \"yearquarter\", \"type\": \"temporal\"}, \"y\": {\"aggregate\": \"count\", \"field\": \"package_name\", \"scale\": {\"domain\": [0, 2.0]}, \"title\": \"Number of edits per quarter\", \"type\": \"nominal\"}}, \"height\": 200, \"title\": {\"text\": \"NimaSarajpoor\", \"fontSize\": 18}, \"width\": 600}, {\"data\": {\"name\": \"data-dfdc49b8c6fcda85ad89cf8a046270f6\"}, \"mark\": {\"type\": \"bar\"}, \"encoding\": {\"tooltip\": [{\"field\": \"Date\", \"timeUnit\": \"yearquarter\", \"type\": \"temporal\"}, {\"aggregate\": \"count\", \"field\": \"package_name\", \"type\": \"nominal\"}], \"x\": {\"field\": \"Date\", \"scale\": {\"domain\": [\"2019-01-01T00:00:00\", \"2024-09-30T23:59:59.999999999\"]}, \"timeUnit\": \"yearquarter\", \"type\": \"temporal\"}, \"y\": {\"aggregate\": \"count\", \"field\": \"package_name\", \"scale\": {\"domain\": [0, 2.0]}, \"title\": \"Number of edits per quarter\", \"type\": \"nominal\"}}, \"height\": 200, \"title\": {\"text\": \"cmarmo\", \"fontSize\": 18}, \"width\": 600}, {\"data\": {\"name\": \"data-7d3267e1eeea0f6c450958f2f2635467\"}, \"mark\": {\"type\": \"bar\"}, \"encoding\": {\"tooltip\": [{\"field\": \"Date\", \"timeUnit\": \"yearquarter\", \"type\": \"temporal\"}, {\"aggregate\": \"count\", \"field\": \"package_name\", \"type\": \"nominal\"}], \"x\": {\"field\": \"Date\", \"scale\": {\"domain\": [\"2019-01-01T00:00:00\", \"2024-09-30T23:59:59.999999999\"]}, \"timeUnit\": \"yearquarter\", \"type\": \"temporal\"}, \"y\": {\"aggregate\": \"count\", \"field\": \"package_name\", \"scale\": {\"domain\": [0, 2.0]}, \"title\": \"Number of edits per quarter\", \"type\": \"nominal\"}}, \"height\": 200, \"title\": {\"text\": \"ctb\", \"fontSize\": 18}, \"width\": 600}, {\"data\": {\"name\": \"data-fd136cc8f1b87b16d4b98ea149bc1707\"}, \"mark\": {\"type\": \"bar\"}, \"encoding\": {\"tooltip\": [{\"field\": \"Date\", \"timeUnit\": \"yearquarter\", \"type\": \"temporal\"}, {\"aggregate\": \"count\", \"field\": \"package_name\", \"type\": \"nominal\"}], \"x\": {\"field\": \"Date\", \"scale\": {\"domain\": [\"2019-01-01T00:00:00\", \"2024-09-30T23:59:59.999999999\"]}, \"timeUnit\": \"yearquarter\", \"type\": \"temporal\"}, \"y\": {\"aggregate\": \"count\", \"field\": \"package_name\", \"scale\": {\"domain\": [0, 2.0]}, \"title\": \"Number of edits per quarter\", \"type\": \"nominal\"}}, \"height\": 200, \"title\": {\"text\": \"dhomeier\", \"fontSize\": 18}, \"width\": 600}, {\"data\": {\"name\": \"data-6db5e42ab421300339526d9a9e19b4cc\"}, \"mark\": {\"type\": \"bar\"}, \"encoding\": {\"tooltip\": [{\"field\": \"Date\", \"timeUnit\": \"yearquarter\", \"type\": \"temporal\"}, {\"aggregate\": \"count\", \"field\": \"package_name\", \"type\": \"nominal\"}], \"x\": {\"field\": \"Date\", \"scale\": {\"domain\": [\"2019-01-01T00:00:00\", \"2024-09-30T23:59:59.999999999\"]}, \"timeUnit\": \"yearquarter\", \"type\": \"temporal\"}, \"y\": {\"aggregate\": \"count\", \"field\": \"package_name\", \"scale\": {\"domain\": [0, 2.0]}, \"title\": \"Number of edits per quarter\", \"type\": \"nominal\"}}, \"height\": 200, \"title\": {\"text\": \"zeitsperre\", \"fontSize\": 18}, \"width\": 600}, {\"data\": {\"name\": \"data-0169db2d058b1af85fcd81a8684cff79\"}, \"mark\": {\"type\": \"bar\"}, \"encoding\": {\"tooltip\": [{\"field\": \"Date\", \"timeUnit\": \"yearquarter\", \"type\": \"temporal\"}, {\"aggregate\": \"count\", \"field\": \"package_name\", \"type\": \"nominal\"}], \"x\": {\"field\": \"Date\", \"scale\": {\"domain\": [\"2019-01-01T00:00:00\", \"2024-09-30T23:59:59.999999999\"]}, \"timeUnit\": \"yearquarter\", \"type\": \"temporal\"}, \"y\": {\"aggregate\": \"count\", \"field\": \"package_name\", \"scale\": {\"domain\": [0, 2.0]}, \"title\": \"Number of edits per quarter\", \"type\": \"nominal\"}}, \"height\": 200, \"title\": {\"text\": \"xmnlab\", \"fontSize\": 18}, \"width\": 600}, {\"data\": {\"name\": \"data-61432286cbf0e2bdf00067b98b0cf3ee\"}, \"mark\": {\"type\": \"bar\"}, \"encoding\": {\"tooltip\": [{\"field\": \"Date\", \"timeUnit\": \"yearquarter\", \"type\": \"temporal\"}, {\"aggregate\": \"count\", \"field\": \"package_name\", \"type\": \"nominal\"}], \"x\": {\"field\": \"Date\", \"scale\": {\"domain\": [\"2019-01-01T00:00:00\", \"2024-09-30T23:59:59.999999999\"]}, \"timeUnit\": \"yearquarter\", \"type\": \"temporal\"}, \"y\": {\"aggregate\": \"count\", \"field\": \"package_name\", \"scale\": {\"domain\": [0, 2.0]}, \"title\": \"Number of edits per quarter\", \"type\": \"nominal\"}}, \"height\": 200, \"title\": {\"text\": \"lwasser\", \"fontSize\": 18}, \"width\": 600}], \"$schema\": \"https://vega.github.io/schema/vega-lite/v5.17.0.json\", \"datasets\": {\"data-907b871942141b4999b851ea4d7b84c4\": [{\"package_name\": \"BlackMarblePy\", \"Date\": \"2024-07-18T14:15:11+00:00\", \"date_closed\": \"\", \"editor\": \"yeelauren\", \"labels\": [\"1/editor-assigned\"]}, {\"package_name\": \"GemGIS\", \"Date\": \"2023-08-08T07:11:59+00:00\", \"date_closed\": \"\", \"editor\": \"yeelauren\", \"labels\": [\"4/reviews-in-awaiting-changes\", \"\\u231b pending-maintainer-response\", \"on-hold\"]}], \"data-3edcffdc8417335db522ee11c293f607\": [{\"package_name\": \"MontePy\", \"Date\": \"2024-07-01T21:04:05+00:00\", \"date_closed\": \"\", \"editor\": \"kellyrowland\", \"labels\": [\"3/reviewers-assigned\"]}], \"data-a4bd33b090c9df73f07253b6400964bf\": [{\"package_name\": \"Great Tables\", \"Date\": \"2024-06-14T19:55:59+00:00\", \"date_closed\": \"\", \"editor\": \"Batalex\", \"labels\": [\"1/editor-assigned\"]}], \"data-2342589a46ff50f0f5f1c99acec128f4\": [{\"package_name\": \"Stingray\", \"Date\": \"2024-06-14T12:59:47+00:00\", \"date_closed\": \"\", \"editor\": \"hamogu\", \"labels\": [\"2/seeking-reviewers\", \"astropy\"]}, {\"package_name\": \"astrodata\", \"Date\": \"2024-05-13T23:48:03+00:00\", \"date_closed\": \"\", \"editor\": \"hamogu\", \"labels\": [\"3/reviewers-assigned\", \"astropy\"]}], \"data-f4dba97f8d0822696959c56643c5ec38\": [{\"package_name\": \"QuadratiK\", \"Date\": \"2024-05-13T21:23:44+00:00\", \"date_closed\": \"\", \"editor\": \"isabelizimm\", \"labels\": [\"4/reviews-in-awaiting-changes\"]}], \"data-3d3300090572fc4b0e21fca886e269ff\": [{\"package_name\": \"PyPartMC\", \"Date\": \"2024-05-03T18:22:59+00:00\", \"date_closed\": \"\", \"editor\": \"russbiggs\", \"labels\": [\"1/editor-assigned\"]}], \"data-f8e7c718e9801e1970f336c3c79cabde\": [{\"package_name\": \"CyNetDiff\", \"Date\": \"2024-04-22T03:28:38+00:00\", \"date_closed\": \"\", \"editor\": \"sneakers-the-rat\", \"labels\": [\"1/editor-assigned\"]}, {\"package_name\": \"Plenoptic\", \"Date\": \"2023-11-17T20:39:40+00:00\", \"date_closed\": \"\", \"editor\": \"sneakers-the-rat\", \"labels\": [\"3/reviewers-assigned\", \"\\u231b pending-maintainer-response\"]}], \"data-53b02df63da74c17b8c3d4afc3f980ca\": [{\"package_name\": \"AMS\", \"Date\": \"2024-04-22T01:37:56+00:00\", \"date_closed\": \"\", \"editor\": \"NimaSarajpoor\", \"labels\": [\"3/reviewers-assigned\"]}], \"data-dfdc49b8c6fcda85ad89cf8a046270f6\": [{\"package_name\": \"pooltool\", \"Date\": \"2024-04-15T21:44:43+00:00\", \"date_closed\": \"\", \"editor\": \"cmarmo\", \"labels\": [\"4/reviews-in-awaiting-changes\"]}], \"data-7d3267e1eeea0f6c450958f2f2635467\": [{\"package_name\": \"plot_phylo\", \"Date\": \"2024-02-22T11:55:59+00:00\", \"date_closed\": \"\", \"editor\": \"ctb\", \"labels\": [\"4/reviews-in-awaiting-changes\"]}], \"data-fd136cc8f1b87b16d4b98ea149bc1707\": [{\"package_name\": \"PetroFit\", \"Date\": \"2024-02-16T22:46:47+00:00\", \"date_closed\": \"\", \"editor\": \"dhomeier\", \"labels\": [\"2/seeking-reviewers\", \"astropy\"]}], \"data-6db5e42ab421300339526d9a9e19b4cc\": [{\"package_name\": \"disdrodb\", \"Date\": \"2024-01-18T17:25:28+00:00\", \"date_closed\": \"\", \"editor\": \"zeitsperre\", \"labels\": [\"1/editor-assigned\"]}], \"data-0169db2d058b1af85fcd81a8684cff79\": [{\"package_name\": \"Sevivi\", \"Date\": \"2021-12-30T13:55:10+00:00\", \"date_closed\": \"2022-09-06T14:18:26+00:00\", \"editor\": \"xmnlab\", \"labels\": [\"4/reviews-in-awaiting-changes\", \"\\u231b pending-maintainer-response\"]}], \"data-61432286cbf0e2bdf00067b98b0cf3ee\": [{\"package_name\": \"\", \"Date\": \"2019-03-22T15:49:42+00:00\", \"date_closed\": \"2022-09-01T16:33:11+00:00\", \"editor\": \"lwasser\", \"labels\": [\"4/reviews-in-awaiting-changes\", \"topic: data-retrieval\", \"incomplete-closed-review\", \"on-hold\"]}, {\"package_name\": \"ObsPy\", \"Date\": \"2019-12-12T00:42:45+00:00\", \"date_closed\": \"2022-09-01T16:38:37+00:00\", \"editor\": \"lwasser\", \"labels\": [\"0/pre-review-checks\", \"3/reviewers-assigned\", \"on-hold\"]}]}}, {\"mode\": \"vega-lite\"});\n",
       "</script>"
      ],
      "text/plain": [
       "alt.VConcatChart(...)"
      ]
     },
     "metadata": {},
     "output_type": "display_data"
    }
   ],
   "source": [
    "charts = []\n",
    "for editor in editors:\n",
    "    if editor in ignore_editors:\n",
    "        continue\n",
    "\n",
    "    chart = (\n",
    "        alt.Chart(edits.loc[edits.editor == editor])\n",
    "        .mark_bar()\n",
    "        .encode(\n",
    "            x=alt.X(\"yearquarter(Date):T\").scale(domain=time_domain),\n",
    "            y=alt.Y(\"count(package_name)\", title=\"Number of edits per quarter\").scale(\n",
    "                domain=n_edits_domain\n",
    "            ),\n",
    "            tooltip=[\"yearquarter(Date)\", \"count(package_name)\"],\n",
    "        )\n",
    "        .properties(\n",
    "            title=alt.TitleParams(text=f\"{editor}\", fontSize=18),\n",
    "            width=600,\n",
    "            height=200,\n",
    "        )\n",
    "    )\n",
    "    charts.append(chart)\n",
    "\n",
    "full_chart = alt.vconcat(*charts)\n",
    "full_chart.show()"
   ]
  }
 ],
 "metadata": {
  "kernelspec": {
   "display_name": "Python 3 (ipykernel)",
   "language": "python",
   "name": "python3"
  },
  "language_info": {
   "codemirror_mode": {
    "name": "ipython",
    "version": 3
   },
   "file_extension": ".py",
   "mimetype": "text/x-python",
   "name": "python",
   "nbconvert_exporter": "python",
   "pygments_lexer": "ipython3",
   "version": "3.11.9"
  },
  "vscode": {
   "interpreter": {
    "hash": "d7b89e158b719c02a21186c9646700ecf5a8cc5b1b6f738df9b6ffa75e5e74e4"
   }
  }
 },
 "nbformat": 4,
 "nbformat_minor": 4
}
