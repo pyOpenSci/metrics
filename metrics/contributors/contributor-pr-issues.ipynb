{
 "cells": [
  {
   "cell_type": "markdown",
   "metadata": {
    "editable": true,
    "slideshow": {
     "slide_type": ""
    },
    "tags": []
   },
   "source": [
    "---\n",
    "title: Contributor Metrics -- pyOpenSci\n",
    "subtitle: More\n",
    "license:\n",
    "  code: BSD-3\n",
    "---"
   ]
  },
  {
   "cell_type": "code",
   "execution_count": 1,
   "metadata": {
    "editable": true,
    "slideshow": {
     "slide_type": ""
    },
    "tags": [
     "remove-input"
    ]
   },
   "outputs": [
    {
     "data": {
      "text/html": [
       "<link href=\"https://fonts.googleapis.com/css2?family=Poppins:wght@400;700&display=swap\" rel=\"stylesheet\">"
      ],
      "text/plain": [
       "<IPython.core.display.HTML object>"
      ]
     },
     "metadata": {},
     "output_type": "display_data"
    }
   ],
   "source": [
    "import warnings\n",
    "from datetime import datetime\n",
    "from pathlib import Path\n",
    "import os\n",
    "\n",
    "\n",
    "import altair as alt\n",
    "import pandas as pd\n",
    "\n",
    "# This is a local module that stores the plot theme\n",
    "from pyosmetrics.plot_theme import load_poppins_font, register_and_enable_poppins_theme\n",
    "\n",
    "pd.options.mode.chained_assignment = None\n",
    "pd.options.future.infer_string = True\n",
    "\n",
    "# Suppress all warnings\n",
    "warnings.filterwarnings(\"ignore\")\n",
    "\n",
    "# Load the & register Poppins theme\n",
    "load_poppins_font()\n",
    "register_and_enable_poppins_theme()\n"
   ]
  },
  {
   "cell_type": "code",
   "execution_count": 2,
   "metadata": {
    "editable": true,
    "slideshow": {
     "slide_type": ""
    },
    "tags": [
     "remove-input"
    ]
   },
   "outputs": [],
   "source": [
    "# Get the current notebook directory\n",
    "current_dir = Path.cwd()\n",
    "parent_dir = current_dir.parent.parent\n",
    "data_dir = parent_dir / '_data'"
   ]
  },
  {
   "cell_type": "markdown",
   "metadata": {},
   "source": [
    "NOTE - THIS DATA currently displays 2018-2023. \n",
    "We will add 2024 soon."
   ]
  },
  {
   "cell_type": "code",
   "execution_count": 17,
   "metadata": {
    "editable": true,
    "slideshow": {
     "slide_type": ""
    },
    "tags": [
     "remove-input"
    ]
   },
   "outputs": [
    {
     "data": {
      "text/html": [
       "<div>\n",
       "<style scoped>\n",
       "    .dataframe tbody tr th:only-of-type {\n",
       "        vertical-align: middle;\n",
       "    }\n",
       "\n",
       "    .dataframe tbody tr th {\n",
       "        vertical-align: top;\n",
       "    }\n",
       "\n",
       "    .dataframe thead th {\n",
       "        text-align: right;\n",
       "    }\n",
       "</style>\n",
       "<table border=\"1\" class=\"dataframe\">\n",
       "  <thead>\n",
       "    <tr style=\"text-align: right;\">\n",
       "      <th></th>\n",
       "      <th>quarter</th>\n",
       "      <th>contrib_type</th>\n",
       "      <th>count</th>\n",
       "      <th>quarter_label</th>\n",
       "    </tr>\n",
       "  </thead>\n",
       "  <tbody>\n",
       "    <tr>\n",
       "      <th>0</th>\n",
       "      <td>2018Q4</td>\n",
       "      <td>staff</td>\n",
       "      <td>2</td>\n",
       "      <td>2018Q4</td>\n",
       "    </tr>\n",
       "    <tr>\n",
       "      <th>1</th>\n",
       "      <td>2019Q1</td>\n",
       "      <td>contributor</td>\n",
       "      <td>29</td>\n",
       "      <td></td>\n",
       "    </tr>\n",
       "    <tr>\n",
       "      <th>2</th>\n",
       "      <td>2019Q1</td>\n",
       "      <td>staff</td>\n",
       "      <td>1</td>\n",
       "      <td>2019Q1</td>\n",
       "    </tr>\n",
       "    <tr>\n",
       "      <th>3</th>\n",
       "      <td>2019Q2</td>\n",
       "      <td>contributor</td>\n",
       "      <td>34</td>\n",
       "      <td></td>\n",
       "    </tr>\n",
       "    <tr>\n",
       "      <th>4</th>\n",
       "      <td>2019Q2</td>\n",
       "      <td>staff</td>\n",
       "      <td>24</td>\n",
       "      <td>2019Q2</td>\n",
       "    </tr>\n",
       "  </tbody>\n",
       "</table>\n",
       "</div>"
      ],
      "text/plain": [
       "  quarter contrib_type  count quarter_label\n",
       "0  2018Q4        staff      2        2018Q4\n",
       "1  2019Q1  contributor     29              \n",
       "2  2019Q1        staff      1        2019Q1\n",
       "3  2019Q2  contributor     34              \n",
       "4  2019Q2        staff     24        2019Q2"
      ]
     },
     "execution_count": 17,
     "metadata": {},
     "output_type": "execute_result"
    }
   ],
   "source": [
    "# TODO: This captures all data because the workflow doesn't filter out 2024 (a bug). \n",
    "# Update - this might be capturing both 2023 data and not 2024! \n",
    "# We will want to update this to open both the 2018-2023 \n",
    "# and then current years in the future. For the time being, this will be good enough but will break \n",
    "# in 2025\n",
    "file_paths = [os.path.join(data_dir, \"2018_2023_all_issues_prs.csv\")]\n",
    "df = pd.read_csv(file_paths[0], parse_dates=['item_opened_by'])\n",
    "df['quarter'] = df['item_opened_by'].dt.to_period('Q')\n",
    "\n",
    "# Group by quarter and contrib_type (staff vs non-staff)\n",
    "df_quarters = df.groupby(['quarter', 'contrib_type']).size().reset_index(name='count')\n",
    "df_quarters['quarter'] = df_quarters['quarter'].astype(str)\n",
    "\n",
    "# Create a new column for filtered labels\n",
    "df_quarters['quarter_label'] = df_quarters['quarter']\n"
   ]
  },
  {
   "cell_type": "code",
   "execution_count": 19,
   "metadata": {
    "editable": true,
    "slideshow": {
     "slide_type": ""
    },
    "tags": [
     "remove-input"
    ]
   },
   "outputs": [
    {
     "data": {
      "text/html": [
       "\n",
       "<style>\n",
       "  #altair-viz-fee8868eaeb04adfb228f945a672d2ac.vega-embed {\n",
       "    width: 100%;\n",
       "    display: flex;\n",
       "  }\n",
       "\n",
       "  #altair-viz-fee8868eaeb04adfb228f945a672d2ac.vega-embed details,\n",
       "  #altair-viz-fee8868eaeb04adfb228f945a672d2ac.vega-embed details summary {\n",
       "    position: relative;\n",
       "  }\n",
       "</style>\n",
       "<div id=\"altair-viz-fee8868eaeb04adfb228f945a672d2ac\"></div>\n",
       "<script type=\"text/javascript\">\n",
       "  var VEGA_DEBUG = (typeof VEGA_DEBUG == \"undefined\") ? {} : VEGA_DEBUG;\n",
       "  (function(spec, embedOpt){\n",
       "    let outputDiv = document.currentScript.previousElementSibling;\n",
       "    if (outputDiv.id !== \"altair-viz-fee8868eaeb04adfb228f945a672d2ac\") {\n",
       "      outputDiv = document.getElementById(\"altair-viz-fee8868eaeb04adfb228f945a672d2ac\");\n",
       "    }\n",
       "    const paths = {\n",
       "      \"vega\": \"https://cdn.jsdelivr.net/npm/vega@5?noext\",\n",
       "      \"vega-lib\": \"https://cdn.jsdelivr.net/npm/vega-lib?noext\",\n",
       "      \"vega-lite\": \"https://cdn.jsdelivr.net/npm/vega-lite@5.17.0?noext\",\n",
       "      \"vega-embed\": \"https://cdn.jsdelivr.net/npm/vega-embed@6?noext\",\n",
       "    };\n",
       "\n",
       "    function maybeLoadScript(lib, version) {\n",
       "      var key = `${lib.replace(\"-\", \"\")}_version`;\n",
       "      return (VEGA_DEBUG[key] == version) ?\n",
       "        Promise.resolve(paths[lib]) :\n",
       "        new Promise(function(resolve, reject) {\n",
       "          var s = document.createElement('script');\n",
       "          document.getElementsByTagName(\"head\")[0].appendChild(s);\n",
       "          s.async = true;\n",
       "          s.onload = () => {\n",
       "            VEGA_DEBUG[key] = version;\n",
       "            return resolve(paths[lib]);\n",
       "          };\n",
       "          s.onerror = () => reject(`Error loading script: ${paths[lib]}`);\n",
       "          s.src = paths[lib];\n",
       "        });\n",
       "    }\n",
       "\n",
       "    function showError(err) {\n",
       "      outputDiv.innerHTML = `<div class=\"error\" style=\"color:red;\">${err}</div>`;\n",
       "      throw err;\n",
       "    }\n",
       "\n",
       "    function displayChart(vegaEmbed) {\n",
       "      vegaEmbed(outputDiv, spec, embedOpt)\n",
       "        .catch(err => showError(`Javascript Error: ${err.message}<br>This usually means there's a typo in your chart specification. See the javascript console for the full traceback.`));\n",
       "    }\n",
       "\n",
       "    if(typeof define === \"function\" && define.amd) {\n",
       "      requirejs.config({paths});\n",
       "      require([\"vega-embed\"], displayChart, err => showError(`Error loading script: ${err.message}`));\n",
       "    } else {\n",
       "      maybeLoadScript(\"vega\", \"5\")\n",
       "        .then(() => maybeLoadScript(\"vega-lite\", \"5.17.0\"))\n",
       "        .then(() => maybeLoadScript(\"vega-embed\", \"6\"))\n",
       "        .catch(showError)\n",
       "        .then(() => displayChart(vegaEmbed));\n",
       "    }\n",
       "  })({\"config\": {\"title\": {\"fontSize\": 20, \"font\": \"Poppins\", \"anchor\": \"middle\", \"color\": \"black\", \"fontWeight\": 400, \"dy\": -20, \"dx\": 10}, \"axis\": {\"labelFontSize\": 14, \"titleFontSize\": 14, \"titleFont\": \"Poppins\", \"labelFont\": \"Poppins\"}, \"axisX\": {\"labelAngle\": 0}, \"legend\": {\"labelFontSize\": 12, \"titleFontSize\": 14, \"titleFont\": \"Poppins\", \"labelFont\": \"Poppins\", \"legendX\": -550, \"legendY\": -30, \"orient\": \"top\", \"title\": null}, \"bar\": {\"color\": \"purple\", \"fill\": \"purple\"}, \"line\": {\"color\": \"purple\"}, \"view\": {\"height\": 300, \"width\": 600, \"padding\": {\"top\": 190, \"left\": 10, \"right\": 10, \"bottom\": 90}}}, \"data\": {\"name\": \"data-9544c157fb81120d35168c0ca164993c\"}, \"mark\": {\"type\": \"bar\"}, \"encoding\": {\"color\": {\"field\": \"contrib_type\", \"scale\": {\"range\": [\"#6a0dad\", \"#008080\"]}, \"title\": \"Contribution Type\", \"type\": \"nominal\"}, \"tooltip\": [{\"field\": \"quarter\", \"type\": \"nominal\"}, {\"field\": \"contrib_type\", \"type\": \"nominal\"}, {\"field\": \"count\", \"type\": \"quantitative\"}], \"x\": {\"axis\": {\"labelExpr\": \"datum.label\"}, \"field\": \"quarter\", \"title\": \"Quarter\", \"type\": \"ordinal\"}, \"y\": {\"field\": \"count\", \"stack\": true, \"title\": \"Count\", \"type\": \"quantitative\"}}, \"params\": [{\"name\": \"param_12\", \"select\": {\"type\": \"interval\", \"encodings\": [\"x\", \"y\"]}, \"bind\": \"scales\"}], \"title\": \"Staff vs Contributor by Quarter\", \"$schema\": \"https://vega.github.io/schema/vega-lite/v5.17.0.json\", \"datasets\": {\"data-9544c157fb81120d35168c0ca164993c\": [{\"quarter\": \"2018Q4\", \"contrib_type\": \"staff\", \"count\": 2, \"quarter_label\": \"2018Q4\"}, {\"quarter\": \"2019Q1\", \"contrib_type\": \"contributor\", \"count\": 29, \"quarter_label\": \"\"}, {\"quarter\": \"2019Q1\", \"contrib_type\": \"staff\", \"count\": 1, \"quarter_label\": \"2019Q1\"}, {\"quarter\": \"2019Q2\", \"contrib_type\": \"contributor\", \"count\": 34, \"quarter_label\": \"\"}, {\"quarter\": \"2019Q2\", \"contrib_type\": \"staff\", \"count\": 24, \"quarter_label\": \"2019Q2\"}, {\"quarter\": \"2019Q3\", \"contrib_type\": \"contributor\", \"count\": 18, \"quarter_label\": \"\"}, {\"quarter\": \"2019Q3\", \"contrib_type\": \"staff\", \"count\": 8, \"quarter_label\": \"2019Q3\"}, {\"quarter\": \"2019Q4\", \"contrib_type\": \"contributor\", \"count\": 27, \"quarter_label\": \"\"}, {\"quarter\": \"2019Q4\", \"contrib_type\": \"staff\", \"count\": 15, \"quarter_label\": \"2019Q4\"}, {\"quarter\": \"2020Q1\", \"contrib_type\": \"contributor\", \"count\": 15, \"quarter_label\": \"\"}, {\"quarter\": \"2020Q2\", \"contrib_type\": \"contributor\", \"count\": 36, \"quarter_label\": \"2020Q2\"}, {\"quarter\": \"2020Q2\", \"contrib_type\": \"staff\", \"count\": 24, \"quarter_label\": \"\"}, {\"quarter\": \"2020Q3\", \"contrib_type\": \"contributor\", \"count\": 7, \"quarter_label\": \"2020Q3\"}, {\"quarter\": \"2020Q4\", \"contrib_type\": \"contributor\", \"count\": 17, \"quarter_label\": \"\"}, {\"quarter\": \"2021Q1\", \"contrib_type\": \"contributor\", \"count\": 10, \"quarter_label\": \"2021Q1\"}, {\"quarter\": \"2021Q2\", \"contrib_type\": \"contributor\", \"count\": 17, \"quarter_label\": \"\"}, {\"quarter\": \"2021Q2\", \"contrib_type\": \"staff\", \"count\": 18, \"quarter_label\": \"2021Q2\"}, {\"quarter\": \"2021Q3\", \"contrib_type\": \"contributor\", \"count\": 21, \"quarter_label\": \"\"}, {\"quarter\": \"2021Q3\", \"contrib_type\": \"staff\", \"count\": 3, \"quarter_label\": \"2021Q3\"}, {\"quarter\": \"2021Q4\", \"contrib_type\": \"contributor\", \"count\": 4, \"quarter_label\": \"\"}, {\"quarter\": \"2021Q4\", \"contrib_type\": \"staff\", \"count\": 1, \"quarter_label\": \"2021Q4\"}, {\"quarter\": \"2022Q1\", \"contrib_type\": \"contributor\", \"count\": 9, \"quarter_label\": \"\"}, {\"quarter\": \"2022Q2\", \"contrib_type\": \"contributor\", \"count\": 3, \"quarter_label\": \"2022Q2\"}, {\"quarter\": \"2022Q2\", \"contrib_type\": \"staff\", \"count\": 2, \"quarter_label\": \"\"}, {\"quarter\": \"2022Q3\", \"contrib_type\": \"contributor\", \"count\": 18, \"quarter_label\": \"2022Q3\"}, {\"quarter\": \"2022Q3\", \"contrib_type\": \"staff\", \"count\": 59, \"quarter_label\": \"\"}, {\"quarter\": \"2022Q4\", \"contrib_type\": \"contributor\", \"count\": 35, \"quarter_label\": \"2022Q4\"}, {\"quarter\": \"2022Q4\", \"contrib_type\": \"staff\", \"count\": 130, \"quarter_label\": \"\"}, {\"quarter\": \"2023Q1\", \"contrib_type\": \"contributor\", \"count\": 64, \"quarter_label\": \"2023Q1\"}, {\"quarter\": \"2023Q1\", \"contrib_type\": \"staff\", \"count\": 107, \"quarter_label\": \"\"}, {\"quarter\": \"2023Q2\", \"contrib_type\": \"contributor\", \"count\": 81, \"quarter_label\": \"2023Q2\"}, {\"quarter\": \"2023Q2\", \"contrib_type\": \"staff\", \"count\": 113, \"quarter_label\": \"\"}, {\"quarter\": \"2023Q3\", \"contrib_type\": \"contributor\", \"count\": 129, \"quarter_label\": \"2023Q3\"}, {\"quarter\": \"2023Q3\", \"contrib_type\": \"staff\", \"count\": 106, \"quarter_label\": \"\"}, {\"quarter\": \"2023Q4\", \"contrib_type\": \"contributor\", \"count\": 59, \"quarter_label\": \"2023Q4\"}, {\"quarter\": \"2023Q4\", \"contrib_type\": \"staff\", \"count\": 104, \"quarter_label\": \"\"}]}}, {\"mode\": \"vega-lite\"});\n",
       "</script>"
      ],
      "text/plain": [
       "alt.Chart(...)"
      ]
     },
     "execution_count": 19,
     "metadata": {},
     "output_type": "execute_result"
    }
   ],
   "source": [
    "# Create the Altair chart\n",
    "\n",
    "\n",
    "\n",
    "chart = alt.Chart(df_quarters).mark_bar().encode(\n",
    "    x=alt.X('quarter:O', title='Quarter', axis=alt.Axis(labelExpr=\"datum.label\")),\n",
    "    y=alt.Y('count:Q', stack=True, title='Count'),\n",
    "    color=alt.Color('contrib_type:N', title='Contribution Type', scale=alt.Scale(range=['#6a0dad', '#008080'])),\n",
    "    tooltip=['quarter', 'contrib_type', 'count']\n",
    ").properties(\n",
    "    title='Staff vs Contributor by Quarter'\n",
    ").configure_legend(\n",
    "    orient='top',\n",
    "    title=None,\n",
    "    legendX=-550,\n",
    "    legendY=-30,\n",
    ").interactive()\n",
    "\n",
    "chart"
   ]
  }
 ],
 "metadata": {
  "kernelspec": {
   "display_name": "Python 3 (ipykernel)",
   "language": "python",
   "name": "python3"
  },
  "language_info": {
   "codemirror_mode": {
    "name": "ipython",
    "version": 3
   },
   "file_extension": ".py",
   "mimetype": "text/x-python",
   "name": "python",
   "nbconvert_exporter": "python",
   "pygments_lexer": "ipython3",
   "version": "3.11.9"
  },
  "vscode": {
   "interpreter": {
    "hash": "d7b89e158b719c02a21186c9646700ecf5a8cc5b1b6f738df9b6ffa75e5e74e4"
   }
  }
 },
 "nbformat": 4,
 "nbformat_minor": 4
}
