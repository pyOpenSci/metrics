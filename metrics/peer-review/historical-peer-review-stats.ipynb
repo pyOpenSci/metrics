{
 "cells": [
  {
   "cell_type": "markdown",
   "metadata": {
    "editable": true,
    "slideshow": {
     "slide_type": ""
    },
    "tags": []
   },
   "source": [
    "---\n",
    "title: Historical Software Peer Review -- pyOpenSci\n",
    "subtitle:  Peer Review Submission Summary Stats\n",
    "license:\n",
    "  code: BSD-3\n",
    "---"
   ]
  },
  {
   "cell_type": "code",
   "execution_count": 34,
   "metadata": {
    "editable": true,
    "slideshow": {
     "slide_type": ""
    },
    "tags": [
     "remove-input"
    ]
   },
   "outputs": [],
   "source": [
    "# Sometimes the token doesn't get updated properly in jupyter. \n",
    "# If this happens you can do a few things\n",
    "# import os\n",
    "# from dotenv import load_dotenv\n",
    "\n",
    "# load_dotenv()\n",
    "\n",
    "# print(os.getenv(\"GITHUB_TOKEN\"))\n",
    "\n",
    "# # Print all envt keys to see what token value is stored\n",
    "# for key, value in os. environ.items():\n",
    "#     print(f\"{key}: {value}\")\n",
    "\n",
    "#in bash use: export GITHUB_TOKEN=valuehere"
   ]
  },
  {
   "cell_type": "code",
   "execution_count": 33,
   "metadata": {
    "editable": true,
    "slideshow": {
     "slide_type": ""
    },
    "tags": [
     "remove-input"
    ]
   },
   "outputs": [
    {
     "data": {
      "text/html": [
       "<link href=\"https://fonts.googleapis.com/css2?family=Poppins:wght@400;700&display=swap\" rel=\"stylesheet\">"
      ],
      "text/plain": [
       "<IPython.core.display.HTML object>"
      ]
     },
     "metadata": {},
     "output_type": "display_data"
    }
   ],
   "source": [
    "\"\"\"\n",
    "This notebook collects data from the GitHub api and processes issue data. \n",
    "I suspect similar to the issue/pr notebook, that it would be better to grab \n",
    "all of this data in advance and then process it in the notebook here rather than \n",
    "always hitting the API here in this notebook. I'm running into API auth issue \n",
    "as myst is always rebuilding the notebook. \n",
    "\"\"\"\n",
    "import warnings\n",
    "from datetime import datetime\n",
    "\n",
    "import altair as alt\n",
    "import pandas as pd\n",
    "\n",
    "from pyosmeta import ProcessIssues\n",
    "from pyosmeta.github_api import GitHubAPI\n",
    "from pyosmetrics.plot_theme import load_poppins_font, register_and_enable_poppins_theme\n",
    "\n",
    "pd.options.mode.chained_assignment = None\n",
    "pd.options.future.infer_string = True\n",
    "\n",
    "# Suppress all warnings\n",
    "warnings.filterwarnings(\"ignore\")\n",
    "\n",
    "# Load & register Poppins font and theme for the page\n",
    "load_poppins_font()\n",
    "register_and_enable_poppins_theme()\n",
    "\n",
    "\n",
    "# https://github.com/ryantam626/jupyterlab_code_formatter"
   ]
  },
  {
   "cell_type": "code",
   "execution_count": 3,
   "metadata": {
    "editable": true,
    "slideshow": {
     "slide_type": ""
    },
    "tags": [
     "remove-input"
    ]
   },
   "outputs": [],
   "source": [
    "label_map = {\n",
    "    \"pre-review\": [\"New Submission!\", \"0/pre-review-checks\"],\n",
    "    \"seeking editor\": [\"0/seeking-editor\"],\n",
    "    \"under-review\": [\n",
    "        \"1/editor-assigned\",\n",
    "        \"2/seeking-reviewers\",\n",
    "        \"3/reviewers-assigned\",\n",
    "        \"4/reviews-in-awaiting-changes\",\n",
    "        \"5/awaiting-reviewer-response\",\n",
    "    ],\n",
    "    \"pyos-accepted\": [\"6/pyos-approved\"],\n",
    "    \"joss-accepted\": [\"9/joss-approved\"],\n",
    "}\n",
    "\n",
    "issue_map = {\n",
    "    \"New Submission!\": \"pre-review\",\n",
    "    \"0/pre-review-checks\": \"pre-review\",\n",
    "    \"0/seeking-editor\": \"seeking editor\",\n",
    "    \"1/editor-assigned\": \"under-review\",\n",
    "    \"2/seeking-reviewers\": \"under-review\",\n",
    "    \"3/reviewers-assigned\": \"under-review\",\n",
    "    \"4/reviews-in-awaiting-changes\": \"under-review\",\n",
    "    \"5/awaiting-reviewer-response\": \"under-review\",\n",
    "    \"6/pyOS-approved\": \"pyos-accepted\",\n",
    "    \"9/joss-approved\": \"joss-accepted\",\n",
    "}"
   ]
  },
  {
   "cell_type": "code",
   "execution_count": 4,
   "metadata": {
    "editable": true,
    "slideshow": {
     "slide_type": ""
    },
    "tags": [
     "remove-input",
     "remove-output"
    ]
   },
   "outputs": [],
   "source": [
    "# TODO: This should end up in pyos meta!!\n",
    "def set_review_status(labels, issue_map=issue_map):\n",
    "    highest_label = None\n",
    "    highest_value = -1\n",
    "\n",
    "    # Check for special conditions\n",
    "    if \"currently-out-of-scope\" in labels:\n",
    "        return \"out of scope\"\n",
    "    elif any(\n",
    "        label in labels for label in [\"⌛ pending-maintainer-response\", \"on-hold\"]\n",
    "    ):\n",
    "        return \"on hold\"\n",
    "\n",
    "    for i, label in enumerate(labels):\n",
    "        if \"/\" not in label:\n",
    "            continue\n",
    "\n",
    "        value = int(label.split(\"/\")[0])\n",
    "\n",
    "        if value > highest_value:\n",
    "            highest_label = labels[i]\n",
    "\n",
    "    # If highest_label is set, map it; otherwise, default to 'pre-review'\n",
    "    return issue_map.get(highest_label)\n",
    "\n",
    "\n",
    "current_date = datetime.today().date()\n",
    "today = current_date.strftime(\"%d %B %Y\")  # Format: YYYY-MM-DD\n"
   ]
  },
  {
   "cell_type": "markdown",
   "metadata": {
    "editable": true,
    "slideshow": {
     "slide_type": ""
    },
    "tags": [],
    "user_expressions": [
     {
      "expression": "today",
      "result": {
       "data": {
        "text/plain": "'28 August 2024'"
       },
       "metadata": {},
       "status": "ok"
      }
     }
    ]
   },
   "source": [
    "*Last updated: **{eval}`today`***"
   ]
  },
  {
   "cell_type": "code",
   "execution_count": 5,
   "metadata": {
    "editable": true,
    "slideshow": {
     "slide_type": ""
    },
    "tags": [
     "remove-input"
    ]
   },
   "outputs": [],
   "source": [
    "# Get a list of reviews submitted to us\n",
    "# This potentially doesn't include issues that were deemed out of scope...\n",
    "github_api = GitHubAPI(\n",
    "    org=\"pyopensci\",\n",
    "    repo=\"software-submission\",\n",
    "    labels=[\n",
    "        \"0/seeking-editor\",\n",
    "        \"0/pre-review-checks\",\n",
    "        \"1/editor-assigned\",\n",
    "        \"2/seeking-reviewers\",\n",
    "        \"3/reviewers-assigned\",\n",
    "        \"4/reviews-in-awaiting-changes\",\n",
    "        \"5/awaiting-reviewer-response\",\n",
    "        \"6/pyOS-approved\",\n",
    "        \"7/under-joss-review\",\n",
    "        \"8/joss-review-complete\",\n",
    "        \"9/joss-approved\",\n",
    "        \"New Submission!\",\n",
    "    ],\n",
    ")\n",
    "process_review = ProcessIssues(github_api)\n",
    "issues = process_review.get_issues()\n",
    "reviews, errors = process_review.parse_issues(issues)"
   ]
  },
  {
   "cell_type": "code",
   "execution_count": 6,
   "metadata": {
    "editable": true,
    "slideshow": {
     "slide_type": ""
    },
    "tags": [
     "remove-input"
    ]
   },
   "outputs": [],
   "source": [
    "# Get presubmissions\n",
    "github_api_pre = GitHubAPI(\n",
    "    org=\"pyopensci\",\n",
    "    repo=\"software-submission\",\n",
    "    labels=[\n",
    "        \"presubmission\",\n",
    "    ],\n",
    ")\n",
    "process_review_pre = ProcessIssues(github_api_pre)\n",
    "issues_pre = process_review_pre.get_issues()\n",
    "reviews_pre, errors = process_review_pre.parse_issues(issues_pre)"
   ]
  },
  {
   "cell_type": "code",
   "execution_count": 7,
   "metadata": {
    "editable": true,
    "slideshow": {
     "slide_type": ""
    },
    "tags": [
     "remove-input"
    ]
   },
   "outputs": [
    {
     "data": {
      "text/html": [
       "<div>\n",
       "<style scoped>\n",
       "    .dataframe tbody tr th:only-of-type {\n",
       "        vertical-align: middle;\n",
       "    }\n",
       "\n",
       "    .dataframe tbody tr th {\n",
       "        vertical-align: top;\n",
       "    }\n",
       "\n",
       "    .dataframe thead th {\n",
       "        text-align: right;\n",
       "    }\n",
       "</style>\n",
       "<table border=\"1\" class=\"dataframe\">\n",
       "  <thead>\n",
       "    <tr style=\"text-align: right;\">\n",
       "      <th></th>\n",
       "      <th>package_name</th>\n",
       "      <th>date_opened</th>\n",
       "      <th>date_closed</th>\n",
       "      <th>labels</th>\n",
       "    </tr>\n",
       "  </thead>\n",
       "  <tbody>\n",
       "    <tr>\n",
       "      <th>0</th>\n",
       "      <td>Solar Data Tools</td>\n",
       "      <td>2024-06-28 23:12:55+00:00</td>\n",
       "      <td>2024-08-19 20:43:06+00:00</td>\n",
       "      <td>[presubmission]</td>\n",
       "    </tr>\n",
       "    <tr>\n",
       "      <th>1</th>\n",
       "      <td>MontePy</td>\n",
       "      <td>2024-06-17 18:07:13+00:00</td>\n",
       "      <td>2024-07-01 21:19:03+00:00</td>\n",
       "      <td>[presubmission]</td>\n",
       "    </tr>\n",
       "    <tr>\n",
       "      <th>2</th>\n",
       "      <td>Stingray</td>\n",
       "      <td>2024-06-01 19:58:40+00:00</td>\n",
       "      <td>2024-06-22 08:12:21+00:00</td>\n",
       "      <td>[presubmission]</td>\n",
       "    </tr>\n",
       "    <tr>\n",
       "      <th>3</th>\n",
       "      <td>gentropy</td>\n",
       "      <td>2024-05-24 14:41:14+00:00</td>\n",
       "      <td>NaT</td>\n",
       "      <td>[presubmission]</td>\n",
       "    </tr>\n",
       "    <tr>\n",
       "      <th>4</th>\n",
       "      <td>GALAssify</td>\n",
       "      <td>2024-05-24 10:37:47+00:00</td>\n",
       "      <td>NaT</td>\n",
       "      <td>[presubmission]</td>\n",
       "    </tr>\n",
       "  </tbody>\n",
       "</table>\n",
       "</div>"
      ],
      "text/plain": [
       "       package_name               date_opened               date_closed  \\\n",
       "0  Solar Data Tools 2024-06-28 23:12:55+00:00 2024-08-19 20:43:06+00:00   \n",
       "1           MontePy 2024-06-17 18:07:13+00:00 2024-07-01 21:19:03+00:00   \n",
       "2          Stingray 2024-06-01 19:58:40+00:00 2024-06-22 08:12:21+00:00   \n",
       "3          gentropy 2024-05-24 14:41:14+00:00                       NaT   \n",
       "4         GALAssify 2024-05-24 10:37:47+00:00                       NaT   \n",
       "\n",
       "            labels  \n",
       "0  [presubmission]  \n",
       "1  [presubmission]  \n",
       "2  [presubmission]  \n",
       "3  [presubmission]  \n",
       "4  [presubmission]  "
      ]
     },
     "execution_count": 7,
     "metadata": {},
     "output_type": "execute_result"
    }
   ],
   "source": [
    "# All presubmissions over time\n",
    "pre_submission_table = [\n",
    "    {\n",
    "        \"package_name\": name,\n",
    "        \"date_opened\": review.created_at,\n",
    "        \"date_closed\": review.closed_at,\n",
    "        \"labels\": review.labels,\n",
    "    }\n",
    "    for name, review in reviews_pre.items()\n",
    "]\n",
    "\n",
    "pre_submission_reviews_df = pd.DataFrame(pre_submission_table)\n",
    "total_presubmissions = len(pre_submission_reviews_df)\n",
    "pre_submission_reviews_df.head()"
   ]
  },
  {
   "cell_type": "code",
   "execution_count": 8,
   "metadata": {
    "editable": true,
    "slideshow": {
     "slide_type": ""
    },
    "tags": [
     "remove-input"
    ]
   },
   "outputs": [],
   "source": [
    "# TODO: check presubmission counts!\n",
    "presub_count = pre_submission_reviews_df[\n",
    "    pre_submission_reviews_df[\"date_closed\"].isna()\n",
    "]\n",
    "presub_open_count = len(presub_count)\n",
    "\n"
   ]
  },
  {
   "cell_type": "code",
   "execution_count": 9,
   "metadata": {
    "editable": true,
    "slideshow": {
     "slide_type": ""
    },
    "tags": [
     "remove-input"
    ]
   },
   "outputs": [],
   "source": [
    "# All full reviews\n",
    "review_table = [\n",
    "    {\n",
    "        \"package_name\": name,\n",
    "        \"date_opened\": review.created_at,\n",
    "        \"date_closed\": review.closed_at,\n",
    "        \"labels\": review.labels,\n",
    "    }\n",
    "    for name, review in reviews.items()\n",
    "]\n",
    "\n",
    "reviews_df = pd.DataFrame(review_table)\n",
    "total_submissions = len(reviews_df)"
   ]
  },
  {
   "cell_type": "markdown",
   "metadata": {},
   "source": [
    "## Total scientific Python software submissions by status"
   ]
  },
  {
   "cell_type": "code",
   "execution_count": 10,
   "metadata": {
    "tags": [
     "remove-input"
    ]
   },
   "outputs": [
    {
     "data": {
      "text/html": [
       "<div>\n",
       "<style scoped>\n",
       "    .dataframe tbody tr th:only-of-type {\n",
       "        vertical-align: middle;\n",
       "    }\n",
       "\n",
       "    .dataframe tbody tr th {\n",
       "        vertical-align: top;\n",
       "    }\n",
       "\n",
       "    .dataframe thead th {\n",
       "        text-align: right;\n",
       "    }\n",
       "</style>\n",
       "<table border=\"1\" class=\"dataframe\">\n",
       "  <thead>\n",
       "    <tr style=\"text-align: right;\">\n",
       "      <th></th>\n",
       "      <th>status</th>\n",
       "      <th>count</th>\n",
       "    </tr>\n",
       "  </thead>\n",
       "  <tbody>\n",
       "    <tr>\n",
       "      <th>0</th>\n",
       "      <td>pyos-accepted</td>\n",
       "      <td>18</td>\n",
       "    </tr>\n",
       "    <tr>\n",
       "      <th>1</th>\n",
       "      <td>joss-accepted</td>\n",
       "      <td>17</td>\n",
       "    </tr>\n",
       "    <tr>\n",
       "      <th>2</th>\n",
       "      <td>on hold</td>\n",
       "      <td>14</td>\n",
       "    </tr>\n",
       "    <tr>\n",
       "      <th>3</th>\n",
       "      <td>under-review</td>\n",
       "      <td>13</td>\n",
       "    </tr>\n",
       "    <tr>\n",
       "      <th>4</th>\n",
       "      <td>seeking editor</td>\n",
       "      <td>3</td>\n",
       "    </tr>\n",
       "    <tr>\n",
       "      <th>5</th>\n",
       "      <td>out of scope</td>\n",
       "      <td>2</td>\n",
       "    </tr>\n",
       "  </tbody>\n",
       "</table>\n",
       "</div>"
      ],
      "text/plain": [
       "           status  count\n",
       "0   pyos-accepted     18\n",
       "1   joss-accepted     17\n",
       "2         on hold     14\n",
       "3    under-review     13\n",
       "4  seeking editor      3\n",
       "5    out of scope      2"
      ]
     },
     "execution_count": 10,
     "metadata": {},
     "output_type": "execute_result"
    }
   ],
   "source": [
    "reviews_df[\"status\"] = reviews_df[\"labels\"].apply(set_review_status)\n",
    "review_status_ct = reviews_df[\"status\"].value_counts().reset_index()\n",
    "review_status_ct.rename(columns={\"labels\": \"status\"}, inplace=True)\n",
    "\n",
    "review_status_ct"
   ]
  },
  {
   "cell_type": "code",
   "execution_count": 11,
   "metadata": {
    "editable": true,
    "slideshow": {
     "slide_type": ""
    },
    "tags": [
     "remove-input"
    ]
   },
   "outputs": [],
   "source": [
    "# This is less accurate because it grabs on hold issues\n",
    "active_open_reviews = reviews_df[reviews_df[\"status\"].isin([\"seeking editor\", \n",
    "                                                            \"under-review\", \n",
    "                                                            \"pre-review\"])]\n",
    "open_reviews = active_open_reviews[active_open_reviews[\"date_closed\"].isna()]\n",
    "open_count = len(open_reviews)"
   ]
  },
  {
   "cell_type": "markdown",
   "metadata": {
    "editable": true,
    "slideshow": {
     "slide_type": ""
    },
    "tags": []
   },
   "source": [
    "## Current review status \n",
    "\n",
    "Below is an overview of Python package reviews that are currently open in the \n",
    "pyOpenSci peer review process. "
   ]
  },
  {
   "cell_type": "code",
   "execution_count": 12,
   "metadata": {
    "editable": true,
    "slideshow": {
     "slide_type": ""
    },
    "tags": [
     "remove-input"
    ]
   },
   "outputs": [
    {
     "data": {
      "text/html": [
       "\n",
       "<style>\n",
       "  #altair-viz-c1245914d4da4971b89968aca589a3e6.vega-embed {\n",
       "    width: 100%;\n",
       "    display: flex;\n",
       "  }\n",
       "\n",
       "  #altair-viz-c1245914d4da4971b89968aca589a3e6.vega-embed details,\n",
       "  #altair-viz-c1245914d4da4971b89968aca589a3e6.vega-embed details summary {\n",
       "    position: relative;\n",
       "  }\n",
       "</style>\n",
       "<div id=\"altair-viz-c1245914d4da4971b89968aca589a3e6\"></div>\n",
       "<script type=\"text/javascript\">\n",
       "  var VEGA_DEBUG = (typeof VEGA_DEBUG == \"undefined\") ? {} : VEGA_DEBUG;\n",
       "  (function(spec, embedOpt){\n",
       "    let outputDiv = document.currentScript.previousElementSibling;\n",
       "    if (outputDiv.id !== \"altair-viz-c1245914d4da4971b89968aca589a3e6\") {\n",
       "      outputDiv = document.getElementById(\"altair-viz-c1245914d4da4971b89968aca589a3e6\");\n",
       "    }\n",
       "    const paths = {\n",
       "      \"vega\": \"https://cdn.jsdelivr.net/npm/vega@5?noext\",\n",
       "      \"vega-lib\": \"https://cdn.jsdelivr.net/npm/vega-lib?noext\",\n",
       "      \"vega-lite\": \"https://cdn.jsdelivr.net/npm/vega-lite@5.17.0?noext\",\n",
       "      \"vega-embed\": \"https://cdn.jsdelivr.net/npm/vega-embed@6?noext\",\n",
       "    };\n",
       "\n",
       "    function maybeLoadScript(lib, version) {\n",
       "      var key = `${lib.replace(\"-\", \"\")}_version`;\n",
       "      return (VEGA_DEBUG[key] == version) ?\n",
       "        Promise.resolve(paths[lib]) :\n",
       "        new Promise(function(resolve, reject) {\n",
       "          var s = document.createElement('script');\n",
       "          document.getElementsByTagName(\"head\")[0].appendChild(s);\n",
       "          s.async = true;\n",
       "          s.onload = () => {\n",
       "            VEGA_DEBUG[key] = version;\n",
       "            return resolve(paths[lib]);\n",
       "          };\n",
       "          s.onerror = () => reject(`Error loading script: ${paths[lib]}`);\n",
       "          s.src = paths[lib];\n",
       "        });\n",
       "    }\n",
       "\n",
       "    function showError(err) {\n",
       "      outputDiv.innerHTML = `<div class=\"error\" style=\"color:red;\">${err}</div>`;\n",
       "      throw err;\n",
       "    }\n",
       "\n",
       "    function displayChart(vegaEmbed) {\n",
       "      vegaEmbed(outputDiv, spec, embedOpt)\n",
       "        .catch(err => showError(`Javascript Error: ${err.message}<br>This usually means there's a typo in your chart specification. See the javascript console for the full traceback.`));\n",
       "    }\n",
       "\n",
       "    if(typeof define === \"function\" && define.amd) {\n",
       "      requirejs.config({paths});\n",
       "      require([\"vega-embed\"], displayChart, err => showError(`Error loading script: ${err.message}`));\n",
       "    } else {\n",
       "      maybeLoadScript(\"vega\", \"5\")\n",
       "        .then(() => maybeLoadScript(\"vega-lite\", \"5.17.0\"))\n",
       "        .then(() => maybeLoadScript(\"vega-embed\", \"6\"))\n",
       "        .catch(showError)\n",
       "        .then(() => displayChart(vegaEmbed));\n",
       "    }\n",
       "  })({\"config\": {\"title\": {\"fontSize\": 20, \"font\": \"Poppins\", \"anchor\": \"middle\", \"color\": \"black\", \"fontWeight\": 400, \"dy\": -20, \"dx\": 10}, \"axis\": {\"labelFontSize\": 14, \"titleFontSize\": 14, \"titleFont\": \"Poppins\", \"labelFont\": \"Poppins\"}, \"axisX\": {\"labelAngle\": 0}, \"legend\": {\"labelFontSize\": 12, \"titleFontSize\": 14, \"titleFont\": \"Poppins\", \"labelFont\": \"Poppins\"}, \"bar\": {\"color\": \"purple\", \"fill\": \"purple\"}, \"line\": {\"color\": \"purple\"}, \"view\": {\"height\": 300, \"width\": 600, \"padding\": {\"top\": 190, \"left\": 10, \"right\": 10, \"bottom\": 90}}}, \"data\": {\"name\": \"data-499daafd47bb4e8743cf87565b711fc7\"}, \"mark\": {\"type\": \"bar\", \"color\": \"purple\"}, \"encoding\": {\"tooltip\": [{\"field\": \"Category\", \"type\": \"nominal\"}, {\"field\": \"Count\", \"type\": \"quantitative\"}], \"x\": {\"axis\": {\"labelAngle\": 0}, \"field\": \"Category\", \"title\": \"Category\", \"type\": \"nominal\"}, \"y\": {\"axis\": {\"tickCount\": 5}, \"field\": \"Count\", \"title\": \"Count\", \"type\": \"quantitative\"}}, \"params\": [{\"name\": \"param_1\", \"select\": {\"type\": \"interval\", \"encodings\": [\"x\", \"y\"]}, \"bind\": \"scales\"}], \"title\": {\"text\": \"pyOpenSci: Current Open Reviews\"}, \"width\": 600, \"$schema\": \"https://vega.github.io/schema/vega-lite/v5.17.0.json\", \"datasets\": {\"data-499daafd47bb4e8743cf87565b711fc7\": [{\"Category\": \"Open Reviews\", \"Count\": 16}, {\"Category\": \"Pre-submission Inquiries\", \"Count\": 2}]}}, {\"mode\": \"vega-lite\"});\n",
       "</script>"
      ],
      "text/plain": [
       "alt.Chart(...)"
      ]
     },
     "metadata": {},
     "output_type": "display_data"
    }
   ],
   "source": [
    "# TODO: double check counts\n",
    "seeking_editor = open_reviews[\n",
    "    open_reviews[\"labels\"].apply(lambda x: \"0/seeking-editor\" in x)\n",
    "]\n",
    "seeking_editor_count = len(seeking_editor)\n",
    "\n",
    "data = pd.DataFrame(\n",
    "    {\n",
    "        \"Category\": [\"Open Reviews\", \"Pre-submission Inquiries\"],\n",
    "        \"Count\": [open_count, presub_open_count],\n",
    "    }\n",
    ")\n",
    "\n",
    "bar_chart = (\n",
    "    alt.Chart(data)\n",
    "    .mark_bar(color=\"purple\")\n",
    "    .encode(\n",
    "        x=alt.X(\"Category:N\", title=\"Category\", axis=alt.Axis(labelAngle=0)),\n",
    "        y=alt.Y(\"Count:Q\", title=\"Count\", axis=alt.Axis(tickCount=5)),\n",
    "        tooltip=[\"Category\", \"Count\"],\n",
    "    )\n",
    "    .properties(\n",
    "        title=alt.TitleParams(text=\"pyOpenSci: Current Open Reviews\"), width=600\n",
    "    )\n",
    "    .interactive()\n",
    ")\n",
    "\n",
    "bar_chart.show()"
   ]
  },
  {
   "cell_type": "code",
   "execution_count": 13,
   "metadata": {},
   "outputs": [],
   "source": [
    "a = 1"
   ]
  },
  {
   "cell_type": "markdown",
   "metadata": {
    "editable": true,
    "slideshow": {
     "slide_type": ""
    },
    "tags": [],
    "user_expressions": [
     {
      "expression": "open_count",
      "result": {
       "data": {
        "text/plain": "16"
       },
       "metadata": {},
       "status": "ok"
      }
     },
     {
      "expression": "presub_open_count",
      "result": {
       "data": {
        "text/plain": "2"
       },
       "metadata": {},
       "status": "ok"
      }
     },
     {
      "expression": "a",
      "result": {
       "data": {
        "text/plain": "1"
       },
       "metadata": {},
       "status": "ok"
      }
     }
    ]
   },
   "source": [
    "We currently have {eval}`open_count` packages in that are actively engaged \n",
    "our open software peer review process and \n",
    "{eval}`presub_open_count` open Python package peer review pre-submission \n",
    "requests.  {eval}`a`"
   ]
  },
  {
   "cell_type": "code",
   "execution_count": 14,
   "metadata": {
    "editable": true,
    "slideshow": {
     "slide_type": ""
    },
    "tags": [
     "remove-input"
    ]
   },
   "outputs": [],
   "source": [
    "# Set review status"
   ]
  },
  {
   "cell_type": "markdown",
   "metadata": {},
   "source": [
    "## Current review status \n",
    "\n",
    "The plot below shows the status of our current open and closed reviews. \n",
    "\n",
    "A few of these numbers are a bit off (or out of sync with our project board)\n",
    "But the numbers right now are close!"
   ]
  },
  {
   "cell_type": "code",
   "execution_count": 15,
   "metadata": {
    "editable": true,
    "slideshow": {
     "slide_type": ""
    },
    "tags": [
     "remove-input"
    ]
   },
   "outputs": [
    {
     "data": {
      "text/html": [
       "\n",
       "<style>\n",
       "  #altair-viz-5aab617d193a4c609a83cd9556806f92.vega-embed {\n",
       "    width: 100%;\n",
       "    display: flex;\n",
       "  }\n",
       "\n",
       "  #altair-viz-5aab617d193a4c609a83cd9556806f92.vega-embed details,\n",
       "  #altair-viz-5aab617d193a4c609a83cd9556806f92.vega-embed details summary {\n",
       "    position: relative;\n",
       "  }\n",
       "</style>\n",
       "<div id=\"altair-viz-5aab617d193a4c609a83cd9556806f92\"></div>\n",
       "<script type=\"text/javascript\">\n",
       "  var VEGA_DEBUG = (typeof VEGA_DEBUG == \"undefined\") ? {} : VEGA_DEBUG;\n",
       "  (function(spec, embedOpt){\n",
       "    let outputDiv = document.currentScript.previousElementSibling;\n",
       "    if (outputDiv.id !== \"altair-viz-5aab617d193a4c609a83cd9556806f92\") {\n",
       "      outputDiv = document.getElementById(\"altair-viz-5aab617d193a4c609a83cd9556806f92\");\n",
       "    }\n",
       "    const paths = {\n",
       "      \"vega\": \"https://cdn.jsdelivr.net/npm/vega@5?noext\",\n",
       "      \"vega-lib\": \"https://cdn.jsdelivr.net/npm/vega-lib?noext\",\n",
       "      \"vega-lite\": \"https://cdn.jsdelivr.net/npm/vega-lite@5.17.0?noext\",\n",
       "      \"vega-embed\": \"https://cdn.jsdelivr.net/npm/vega-embed@6?noext\",\n",
       "    };\n",
       "\n",
       "    function maybeLoadScript(lib, version) {\n",
       "      var key = `${lib.replace(\"-\", \"\")}_version`;\n",
       "      return (VEGA_DEBUG[key] == version) ?\n",
       "        Promise.resolve(paths[lib]) :\n",
       "        new Promise(function(resolve, reject) {\n",
       "          var s = document.createElement('script');\n",
       "          document.getElementsByTagName(\"head\")[0].appendChild(s);\n",
       "          s.async = true;\n",
       "          s.onload = () => {\n",
       "            VEGA_DEBUG[key] = version;\n",
       "            return resolve(paths[lib]);\n",
       "          };\n",
       "          s.onerror = () => reject(`Error loading script: ${paths[lib]}`);\n",
       "          s.src = paths[lib];\n",
       "        });\n",
       "    }\n",
       "\n",
       "    function showError(err) {\n",
       "      outputDiv.innerHTML = `<div class=\"error\" style=\"color:red;\">${err}</div>`;\n",
       "      throw err;\n",
       "    }\n",
       "\n",
       "    function displayChart(vegaEmbed) {\n",
       "      vegaEmbed(outputDiv, spec, embedOpt)\n",
       "        .catch(err => showError(`Javascript Error: ${err.message}<br>This usually means there's a typo in your chart specification. See the javascript console for the full traceback.`));\n",
       "    }\n",
       "\n",
       "    if(typeof define === \"function\" && define.amd) {\n",
       "      requirejs.config({paths});\n",
       "      require([\"vega-embed\"], displayChart, err => showError(`Error loading script: ${err.message}`));\n",
       "    } else {\n",
       "      maybeLoadScript(\"vega\", \"5\")\n",
       "        .then(() => maybeLoadScript(\"vega-lite\", \"5.17.0\"))\n",
       "        .then(() => maybeLoadScript(\"vega-embed\", \"6\"))\n",
       "        .catch(showError)\n",
       "        .then(() => displayChart(vegaEmbed));\n",
       "    }\n",
       "  })({\"config\": {\"title\": {\"fontSize\": 20, \"font\": \"Poppins\", \"anchor\": \"middle\", \"color\": \"black\", \"fontWeight\": 400, \"dy\": -20, \"dx\": 10}, \"axis\": {\"labelFontSize\": 14, \"titleFontSize\": 14, \"titleFont\": \"Poppins\", \"labelFont\": \"Poppins\"}, \"axisX\": {\"labelAngle\": 0}, \"legend\": {\"labelFontSize\": 12, \"titleFontSize\": 14, \"titleFont\": \"Poppins\", \"labelFont\": \"Poppins\"}, \"bar\": {\"color\": \"purple\", \"fill\": \"purple\"}, \"line\": {\"color\": \"purple\"}, \"view\": {\"height\": 300, \"width\": 600, \"padding\": {\"top\": 190, \"left\": 10, \"right\": 10, \"bottom\": 90}}}, \"data\": {\"name\": \"data-9990dab9fe33fb1542e979ac61bb41bd\"}, \"mark\": {\"type\": \"bar\"}, \"encoding\": {\"tooltip\": [{\"field\": \"status\", \"title\": \"Status\", \"type\": \"nominal\"}, {\"field\": \"count\", \"title\": \"Count\", \"type\": \"quantitative\"}], \"x\": {\"axis\": {\"tickCount\": 5}, \"field\": \"count\", \"scale\": {\"domain\": [0, 20]}, \"title\": \"Count\", \"type\": \"quantitative\"}, \"y\": {\"field\": \"status\", \"sort\": [\"pre-review\", \"seeking editor\", \"under-review\", \"pyos-accepted\", \"joss-accepted\", \"on-hold\", \"out-of-scope\"], \"title\": \"Review Status\", \"type\": \"nominal\"}}, \"title\": \"Count of Packages by Status\", \"width\": \"container\", \"$schema\": \"https://vega.github.io/schema/vega-lite/v5.17.0.json\", \"datasets\": {\"data-9990dab9fe33fb1542e979ac61bb41bd\": [{\"status\": \"pyos-accepted\", \"count\": 18}, {\"status\": \"joss-accepted\", \"count\": 17}, {\"status\": \"on hold\", \"count\": 14}, {\"status\": \"under-review\", \"count\": 13}, {\"status\": \"seeking editor\", \"count\": 3}, {\"status\": \"out of scope\", \"count\": 2}]}}, {\"mode\": \"vega-lite\"});\n",
       "</script>"
      ],
      "text/plain": [
       "alt.Chart(...)"
      ]
     },
     "metadata": {},
     "output_type": "display_data"
    }
   ],
   "source": [
    "chart = (\n",
    "    alt.Chart(review_status_ct)\n",
    "    .mark_bar()\n",
    "    .encode(\n",
    "        y=alt.Y(\n",
    "            \"status\",\n",
    "            title=\"Review Status\",\n",
    "            sort=[\n",
    "                \"pre-review\",\n",
    "                \"seeking editor\",\n",
    "                \"under-review\",\n",
    "                \"pyos-accepted\",\n",
    "                \"joss-accepted\",\n",
    "                \"on-hold\",\n",
    "                \"out-of-scope\",\n",
    "            ],\n",
    "        ),\n",
    "        x=alt.X(\n",
    "            \"count\",\n",
    "            axis=alt.Axis(tickCount=5),\n",
    "            title=\"Count\",\n",
    "            scale=alt.Scale(domain=[0, 20]),\n",
    "        ),\n",
    "        tooltip=[\n",
    "            alt.Tooltip(\"status:N\", title=\"Status\"),\n",
    "            alt.Tooltip(\"count:Q\", title=\"Count\"),\n",
    "        ],\n",
    "    )\n",
    "    .properties(title=\"Count of Packages by Status\", width=\"container\")\n",
    ")\n",
    "\n",
    "# Display the chart\n",
    "chart.show()"
   ]
  },
  {
   "cell_type": "code",
   "execution_count": 16,
   "metadata": {
    "editable": true,
    "slideshow": {
     "slide_type": ""
    },
    "tags": [
     "remove-input"
    ]
   },
   "outputs": [],
   "source": [
    "# This calculates status on currently open reviews\n",
    "open_reviews[\"status\"] = open_reviews[\"labels\"].apply(set_review_status)\n",
    "status_counts = open_reviews[\"status\"].value_counts().reset_index()"
   ]
  },
  {
   "cell_type": "code",
   "execution_count": 17,
   "metadata": {
    "editable": true,
    "slideshow": {
     "slide_type": ""
    },
    "tags": [
     "remove-input"
    ]
   },
   "outputs": [
    {
     "data": {
      "text/html": [
       "\n",
       "<style>\n",
       "  #altair-viz-aacae6734ca4432a93c78b81bb90b002.vega-embed {\n",
       "    width: 100%;\n",
       "    display: flex;\n",
       "  }\n",
       "\n",
       "  #altair-viz-aacae6734ca4432a93c78b81bb90b002.vega-embed details,\n",
       "  #altair-viz-aacae6734ca4432a93c78b81bb90b002.vega-embed details summary {\n",
       "    position: relative;\n",
       "  }\n",
       "</style>\n",
       "<div id=\"altair-viz-aacae6734ca4432a93c78b81bb90b002\"></div>\n",
       "<script type=\"text/javascript\">\n",
       "  var VEGA_DEBUG = (typeof VEGA_DEBUG == \"undefined\") ? {} : VEGA_DEBUG;\n",
       "  (function(spec, embedOpt){\n",
       "    let outputDiv = document.currentScript.previousElementSibling;\n",
       "    if (outputDiv.id !== \"altair-viz-aacae6734ca4432a93c78b81bb90b002\") {\n",
       "      outputDiv = document.getElementById(\"altair-viz-aacae6734ca4432a93c78b81bb90b002\");\n",
       "    }\n",
       "    const paths = {\n",
       "      \"vega\": \"https://cdn.jsdelivr.net/npm/vega@5?noext\",\n",
       "      \"vega-lib\": \"https://cdn.jsdelivr.net/npm/vega-lib?noext\",\n",
       "      \"vega-lite\": \"https://cdn.jsdelivr.net/npm/vega-lite@5.17.0?noext\",\n",
       "      \"vega-embed\": \"https://cdn.jsdelivr.net/npm/vega-embed@6?noext\",\n",
       "    };\n",
       "\n",
       "    function maybeLoadScript(lib, version) {\n",
       "      var key = `${lib.replace(\"-\", \"\")}_version`;\n",
       "      return (VEGA_DEBUG[key] == version) ?\n",
       "        Promise.resolve(paths[lib]) :\n",
       "        new Promise(function(resolve, reject) {\n",
       "          var s = document.createElement('script');\n",
       "          document.getElementsByTagName(\"head\")[0].appendChild(s);\n",
       "          s.async = true;\n",
       "          s.onload = () => {\n",
       "            VEGA_DEBUG[key] = version;\n",
       "            return resolve(paths[lib]);\n",
       "          };\n",
       "          s.onerror = () => reject(`Error loading script: ${paths[lib]}`);\n",
       "          s.src = paths[lib];\n",
       "        });\n",
       "    }\n",
       "\n",
       "    function showError(err) {\n",
       "      outputDiv.innerHTML = `<div class=\"error\" style=\"color:red;\">${err}</div>`;\n",
       "      throw err;\n",
       "    }\n",
       "\n",
       "    function displayChart(vegaEmbed) {\n",
       "      vegaEmbed(outputDiv, spec, embedOpt)\n",
       "        .catch(err => showError(`Javascript Error: ${err.message}<br>This usually means there's a typo in your chart specification. See the javascript console for the full traceback.`));\n",
       "    }\n",
       "\n",
       "    if(typeof define === \"function\" && define.amd) {\n",
       "      requirejs.config({paths});\n",
       "      require([\"vega-embed\"], displayChart, err => showError(`Error loading script: ${err.message}`));\n",
       "    } else {\n",
       "      maybeLoadScript(\"vega\", \"5\")\n",
       "        .then(() => maybeLoadScript(\"vega-lite\", \"5.17.0\"))\n",
       "        .then(() => maybeLoadScript(\"vega-embed\", \"6\"))\n",
       "        .catch(showError)\n",
       "        .then(() => displayChart(vegaEmbed));\n",
       "    }\n",
       "  })({\"config\": {\"title\": {\"fontSize\": 20, \"font\": \"Poppins\", \"anchor\": \"middle\", \"color\": \"black\", \"fontWeight\": 400, \"dy\": -20, \"dx\": 10}, \"axis\": {\"labelFontSize\": 14, \"titleFontSize\": 14, \"titleFont\": \"Poppins\", \"labelFont\": \"Poppins\"}, \"axisX\": {\"labelAngle\": 0}, \"legend\": {\"labelFontSize\": 12, \"titleFontSize\": 14, \"titleFont\": \"Poppins\", \"labelFont\": \"Poppins\"}, \"bar\": {\"color\": \"purple\", \"fill\": \"purple\"}, \"line\": {\"color\": \"purple\"}, \"view\": {\"height\": 300, \"width\": 600, \"padding\": {\"top\": 190, \"left\": 10, \"right\": 10, \"bottom\": 90}}}, \"data\": {\"name\": \"data-b4b746f713daf2b4823cf21ed5848e5d\"}, \"mark\": {\"type\": \"bar\"}, \"encoding\": {\"tooltip\": [{\"field\": \"status\", \"title\": \"Status\", \"type\": \"nominal\"}, {\"field\": \"count\", \"title\": \"Count\", \"type\": \"quantitative\"}], \"x\": {\"field\": \"status\", \"type\": \"nominal\"}, \"y\": {\"field\": \"count\", \"type\": \"quantitative\"}}, \"title\": \"Review Status for Current Reviews\", \"width\": \"container\", \"$schema\": \"https://vega.github.io/schema/vega-lite/v5.17.0.json\", \"datasets\": {\"data-b4b746f713daf2b4823cf21ed5848e5d\": [{\"status\": \"under-review\", \"count\": 13}, {\"status\": \"seeking editor\", \"count\": 3}]}}, {\"mode\": \"vega-lite\"});\n",
       "</script>"
      ],
      "text/plain": [
       "alt.Chart(...)"
      ]
     },
     "metadata": {},
     "output_type": "display_data"
    }
   ],
   "source": [
    "chart = (\n",
    "    alt.Chart(status_counts)\n",
    "    .mark_bar()\n",
    "    .encode(\n",
    "        x=alt.X(\"status\"),\n",
    "        y=\"count\",\n",
    "        tooltip=[\n",
    "            alt.Tooltip(\"status:N\", title=\"Status\"),\n",
    "            alt.Tooltip(\"count:Q\", title=\"Count\"),\n",
    "        ],\n",
    "    )\n",
    "    .properties(title=\"Review Status for Current Reviews\", width=\"container\")\n",
    ")\n",
    "\n",
    "# Display the chart\n",
    "chart.show()"
   ]
  },
  {
   "cell_type": "code",
   "execution_count": 18,
   "metadata": {
    "editable": true,
    "slideshow": {
     "slide_type": ""
    },
    "tags": [
     "remove-input"
    ]
   },
   "outputs": [],
   "source": [
    "# Should be 71 reviews and 56 presubmissions?\n",
    "# Total presubmissions - get the total number of pre-submission inquiries (all time)\n",
    "# Get presubmissions separately"
   ]
  },
  {
   "cell_type": "markdown",
   "metadata": {
    "editable": true,
    "slideshow": {
     "slide_type": ""
    },
    "tags": [],
    "user_expressions": [
     {
      "expression": "total_submissions",
      "result": {
       "data": {
        "text/plain": "67"
       },
       "metadata": {},
       "status": "ok"
      }
     }
    ]
   },
   "source": [
    "# Total Presubmissions\n",
    "\n",
    "Here we removed all issues that were help-wanted or issus with our templates that were not related to a software-review submission. As of today we have had \n",
    "\n",
    "* pyOpenSci has had **{eval}`total_submissions` total review submissions**\n"
   ]
  },
  {
   "cell_type": "markdown",
   "metadata": {
    "editable": true,
    "slideshow": {
     "slide_type": ""
    },
    "tags": []
   },
   "source": [
    "Below is a summary of total submissions per month since pyOpenSci started it's \n",
    "peer review process in 2019. We halted peer review in the fall 2022 given our \n",
    "executive director had funding to spend full time effort on the organization!\n",
    "\n",
    "We reopened in the winter of 2023. That is where you see the increase in new \n",
    "submissions begin.\n"
   ]
  },
  {
   "cell_type": "code",
   "execution_count": 19,
   "metadata": {
    "editable": true,
    "slideshow": {
     "slide_type": ""
    },
    "tags": [
     "remove-input"
    ]
   },
   "outputs": [],
   "source": [
    "# Extract year and quarter from the 'date_opened' column\n",
    "reviews_df.loc[:, \"year_quarter\"] = reviews_df[\"date_opened\"].dt.to_period(\"Q\")\n",
    "quarterly_counts = reviews_df[\"year_quarter\"].value_counts().sort_index().reset_index()\n",
    "\n",
    "quarterly_counts[\"year_quarter\"] = quarterly_counts[\"year_quarter\"].astype(str)"
   ]
  },
  {
   "cell_type": "code",
   "execution_count": 20,
   "metadata": {
    "editable": true,
    "slideshow": {
     "slide_type": ""
    },
    "tags": [
     "remove-input"
    ]
   },
   "outputs": [
    {
     "data": {
      "text/html": [
       "\n",
       "<style>\n",
       "  #altair-viz-f3a0449f97b442d28ca8efce80e1400b.vega-embed {\n",
       "    width: 100%;\n",
       "    display: flex;\n",
       "  }\n",
       "\n",
       "  #altair-viz-f3a0449f97b442d28ca8efce80e1400b.vega-embed details,\n",
       "  #altair-viz-f3a0449f97b442d28ca8efce80e1400b.vega-embed details summary {\n",
       "    position: relative;\n",
       "  }\n",
       "</style>\n",
       "<div id=\"altair-viz-f3a0449f97b442d28ca8efce80e1400b\"></div>\n",
       "<script type=\"text/javascript\">\n",
       "  var VEGA_DEBUG = (typeof VEGA_DEBUG == \"undefined\") ? {} : VEGA_DEBUG;\n",
       "  (function(spec, embedOpt){\n",
       "    let outputDiv = document.currentScript.previousElementSibling;\n",
       "    if (outputDiv.id !== \"altair-viz-f3a0449f97b442d28ca8efce80e1400b\") {\n",
       "      outputDiv = document.getElementById(\"altair-viz-f3a0449f97b442d28ca8efce80e1400b\");\n",
       "    }\n",
       "    const paths = {\n",
       "      \"vega\": \"https://cdn.jsdelivr.net/npm/vega@5?noext\",\n",
       "      \"vega-lib\": \"https://cdn.jsdelivr.net/npm/vega-lib?noext\",\n",
       "      \"vega-lite\": \"https://cdn.jsdelivr.net/npm/vega-lite@5.17.0?noext\",\n",
       "      \"vega-embed\": \"https://cdn.jsdelivr.net/npm/vega-embed@6?noext\",\n",
       "    };\n",
       "\n",
       "    function maybeLoadScript(lib, version) {\n",
       "      var key = `${lib.replace(\"-\", \"\")}_version`;\n",
       "      return (VEGA_DEBUG[key] == version) ?\n",
       "        Promise.resolve(paths[lib]) :\n",
       "        new Promise(function(resolve, reject) {\n",
       "          var s = document.createElement('script');\n",
       "          document.getElementsByTagName(\"head\")[0].appendChild(s);\n",
       "          s.async = true;\n",
       "          s.onload = () => {\n",
       "            VEGA_DEBUG[key] = version;\n",
       "            return resolve(paths[lib]);\n",
       "          };\n",
       "          s.onerror = () => reject(`Error loading script: ${paths[lib]}`);\n",
       "          s.src = paths[lib];\n",
       "        });\n",
       "    }\n",
       "\n",
       "    function showError(err) {\n",
       "      outputDiv.innerHTML = `<div class=\"error\" style=\"color:red;\">${err}</div>`;\n",
       "      throw err;\n",
       "    }\n",
       "\n",
       "    function displayChart(vegaEmbed) {\n",
       "      vegaEmbed(outputDiv, spec, embedOpt)\n",
       "        .catch(err => showError(`Javascript Error: ${err.message}<br>This usually means there's a typo in your chart specification. See the javascript console for the full traceback.`));\n",
       "    }\n",
       "\n",
       "    if(typeof define === \"function\" && define.amd) {\n",
       "      requirejs.config({paths});\n",
       "      require([\"vega-embed\"], displayChart, err => showError(`Error loading script: ${err.message}`));\n",
       "    } else {\n",
       "      maybeLoadScript(\"vega\", \"5\")\n",
       "        .then(() => maybeLoadScript(\"vega-lite\", \"5.17.0\"))\n",
       "        .then(() => maybeLoadScript(\"vega-embed\", \"6\"))\n",
       "        .catch(showError)\n",
       "        .then(() => displayChart(vegaEmbed));\n",
       "    }\n",
       "  })({\"config\": {\"title\": {\"fontSize\": 20, \"font\": \"Poppins\", \"anchor\": \"middle\", \"color\": \"black\", \"fontWeight\": 400, \"dy\": -20, \"dx\": 10}, \"axis\": {\"labelFontSize\": 14, \"titleFontSize\": 14, \"titleFont\": \"Poppins\", \"labelFont\": \"Poppins\"}, \"axisX\": {\"labelAngle\": 0}, \"legend\": {\"labelFontSize\": 12, \"titleFontSize\": 14, \"titleFont\": \"Poppins\", \"labelFont\": \"Poppins\"}, \"bar\": {\"color\": \"purple\", \"fill\": \"purple\"}, \"line\": {\"color\": \"purple\"}, \"view\": {\"height\": 300, \"width\": 600, \"padding\": {\"top\": 190, \"left\": 10, \"right\": 10, \"bottom\": 90}}}, \"data\": {\"name\": \"data-c04bbb5eaca01672e3ecf6f5fd2088c9\"}, \"mark\": {\"type\": \"bar\", \"color\": \"purple\"}, \"encoding\": {\"tooltip\": [{\"field\": \"year_quarter\", \"title\": \"Quarter\", \"type\": \"ordinal\"}, {\"field\": \"count\", \"title\": \"Number of Issues\", \"type\": \"quantitative\"}], \"x\": {\"axis\": {\"labelAngle\": 0, \"labelExpr\": \"datum.label == '2019Q1' ? '2019 Q1' : \\n                datum.label == '2020Q1' ? '2020 Q1' : \\n                datum.label == '2021Q1' ? '2021 Q1' : \\n                datum.label == '2022Q1' ? '2022 Q1' :\\n                datum.label == '2023Q1' ? '2023 Q1' :\\n                datum.label == '2024Q1' ? '2024 Q1' :\\n                '' \"}, \"field\": \"year_quarter\", \"title\": \"Year-Quarter\", \"type\": \"ordinal\"}, \"y\": {\"axis\": {\"tickCount\": 4, \"tickMinStep\": 4}, \"field\": \"count\", \"scale\": {\"domain\": [0, 12]}, \"title\": \"Number of Submissions\", \"type\": \"quantitative\"}}, \"height\": 400, \"title\": \"Number of Submissions by Quarter per Year\", \"width\": \"container\", \"$schema\": \"https://vega.github.io/schema/vega-lite/v5.17.0.json\", \"datasets\": {\"data-c04bbb5eaca01672e3ecf6f5fd2088c9\": [{\"year_quarter\": \"2019Q1\", \"count\": 1}, {\"year_quarter\": \"2019Q2\", \"count\": 2}, {\"year_quarter\": \"2019Q3\", \"count\": 1}, {\"year_quarter\": \"2019Q4\", \"count\": 1}, {\"year_quarter\": \"2020Q1\", \"count\": 2}, {\"year_quarter\": \"2020Q2\", \"count\": 1}, {\"year_quarter\": \"2020Q3\", \"count\": 2}, {\"year_quarter\": \"2021Q1\", \"count\": 1}, {\"year_quarter\": \"2021Q2\", \"count\": 1}, {\"year_quarter\": \"2021Q3\", \"count\": 2}, {\"year_quarter\": \"2021Q4\", \"count\": 2}, {\"year_quarter\": \"2022Q2\", \"count\": 2}, {\"year_quarter\": \"2022Q3\", \"count\": 1}, {\"year_quarter\": \"2022Q4\", \"count\": 1}, {\"year_quarter\": \"2023Q1\", \"count\": 7}, {\"year_quarter\": \"2023Q2\", \"count\": 5}, {\"year_quarter\": \"2023Q3\", \"count\": 6}, {\"year_quarter\": \"2023Q4\", \"count\": 6}, {\"year_quarter\": \"2024Q1\", \"count\": 8}, {\"year_quarter\": \"2024Q2\", \"count\": 11}, {\"year_quarter\": \"2024Q3\", \"count\": 4}]}}, {\"mode\": \"vega-lite\"});\n",
       "</script>"
      ],
      "text/plain": [
       "alt.Chart(...)"
      ]
     },
     "metadata": {},
     "output_type": "display_data"
    }
   ],
   "source": [
    "axis_labels = \"\"\"datum.label == '2019Q1' ? '2019 Q1' : \n",
    "                datum.label == '2020Q1' ? '2020 Q1' : \n",
    "                datum.label == '2021Q1' ? '2021 Q1' : \n",
    "                datum.label == '2022Q1' ? '2022 Q1' :\n",
    "                datum.label == '2023Q1' ? '2023 Q1' :\n",
    "                datum.label == '2024Q1' ? '2024 Q1' :\n",
    "                '' \"\"\"\n",
    "chart = (\n",
    "    alt.Chart(quarterly_counts)\n",
    "    .mark_bar(color=\"purple\")\n",
    "    .encode(\n",
    "        x=alt.X(\n",
    "            \"year_quarter:O\",\n",
    "            title=\"Year-Quarter\",\n",
    "            axis=alt.Axis(\n",
    "                labelAngle=0,\n",
    "                labelExpr=axis_labels,\n",
    "            ),\n",
    "        ),\n",
    "        y=alt.Y(\n",
    "            \"count:Q\",\n",
    "            title=\"Number of Submissions\",\n",
    "            axis=alt.Axis(tickCount=4, tickMinStep=4),\n",
    "            scale=alt.Scale(domain=[0, 12]),\n",
    "        ),\n",
    "        tooltip=[\n",
    "            alt.Tooltip(\"year_quarter:O\", title=\"Quarter\"),\n",
    "            alt.Tooltip(\"count:Q\", title=\"Number of Issues\"),\n",
    "        ],\n",
    "    )\n",
    "    .properties(\n",
    "        title=\"Number of Submissions by Quarter per Year\",\n",
    "        width=\"container\",\n",
    "        height=400,\n",
    "    )\n",
    ")\n",
    "\n",
    "chart.show()"
   ]
  },
  {
   "cell_type": "code",
   "execution_count": 21,
   "metadata": {
    "editable": true,
    "slideshow": {
     "slide_type": ""
    },
    "tags": [
     "remove-input"
    ]
   },
   "outputs": [],
   "source": [
    "# Group issues by year and get counts\n",
    "annual_issues = reviews_df.copy()\n",
    "\n",
    "# Create a new column 'year' by extracting the year from the 'date_opened' column\n",
    "annual_issues.loc[:, \"year\"] = annual_issues[\"date_opened\"].dt.year"
   ]
  },
  {
   "cell_type": "code",
   "execution_count": 22,
   "metadata": {
    "editable": true,
    "slideshow": {
     "slide_type": ""
    },
    "tags": [
     "remove-input"
    ]
   },
   "outputs": [],
   "source": [
    "# Add year / month\n",
    "annual_issues[\"year_month\"] = annual_issues[\"date_opened\"].dt.to_period(\"M\")\n",
    "counts_month_year = annual_issues.groupby(\"year_month\").size().reset_index(name=\"count\")"
   ]
  },
  {
   "cell_type": "code",
   "execution_count": 23,
   "metadata": {
    "editable": true,
    "slideshow": {
     "slide_type": ""
    },
    "tags": [
     "remove-input"
    ]
   },
   "outputs": [],
   "source": [
    "# Create a complete range of year_month periods\n",
    "# Note i use this below - don't have to recalculate\n",
    "all_month_years = pd.period_range(\n",
    "    start=counts_month_year[\"year_month\"].min(),\n",
    "    end=counts_month_year[\"year_month\"].max(),\n",
    "    freq=\"M\",\n",
    ")\n",
    "\n",
    "issues_by_year = (\n",
    "    annual_issues.groupby(\"year\")\n",
    "    .size()\n",
    "    .reset_index(name=\"count\")\n",
    "    .sort_values(by=\"year\", ascending=False)\n",
    "    .reset_index(drop=True)\n",
    ")"
   ]
  },
  {
   "cell_type": "markdown",
   "metadata": {},
   "source": [
    "Similarly you can see the growth in issues submitted to pyOpenSci thanks to \n",
    "both Sloan and CZI funding in the chart below. As of August 2024, we have \n",
    "almost surpassed total peer review submissions submitted in 2023. "
   ]
  },
  {
   "cell_type": "code",
   "execution_count": 24,
   "metadata": {
    "editable": true,
    "slideshow": {
     "slide_type": ""
    },
    "tags": [
     "remove-input"
    ]
   },
   "outputs": [
    {
     "data": {
      "text/html": [
       "\n",
       "<style>\n",
       "  #altair-viz-8117fa609e4e4de0bf41bda1d2338aa3.vega-embed {\n",
       "    width: 100%;\n",
       "    display: flex;\n",
       "  }\n",
       "\n",
       "  #altair-viz-8117fa609e4e4de0bf41bda1d2338aa3.vega-embed details,\n",
       "  #altair-viz-8117fa609e4e4de0bf41bda1d2338aa3.vega-embed details summary {\n",
       "    position: relative;\n",
       "  }\n",
       "</style>\n",
       "<div id=\"altair-viz-8117fa609e4e4de0bf41bda1d2338aa3\"></div>\n",
       "<script type=\"text/javascript\">\n",
       "  var VEGA_DEBUG = (typeof VEGA_DEBUG == \"undefined\") ? {} : VEGA_DEBUG;\n",
       "  (function(spec, embedOpt){\n",
       "    let outputDiv = document.currentScript.previousElementSibling;\n",
       "    if (outputDiv.id !== \"altair-viz-8117fa609e4e4de0bf41bda1d2338aa3\") {\n",
       "      outputDiv = document.getElementById(\"altair-viz-8117fa609e4e4de0bf41bda1d2338aa3\");\n",
       "    }\n",
       "    const paths = {\n",
       "      \"vega\": \"https://cdn.jsdelivr.net/npm/vega@5?noext\",\n",
       "      \"vega-lib\": \"https://cdn.jsdelivr.net/npm/vega-lib?noext\",\n",
       "      \"vega-lite\": \"https://cdn.jsdelivr.net/npm/vega-lite@5.17.0?noext\",\n",
       "      \"vega-embed\": \"https://cdn.jsdelivr.net/npm/vega-embed@6?noext\",\n",
       "    };\n",
       "\n",
       "    function maybeLoadScript(lib, version) {\n",
       "      var key = `${lib.replace(\"-\", \"\")}_version`;\n",
       "      return (VEGA_DEBUG[key] == version) ?\n",
       "        Promise.resolve(paths[lib]) :\n",
       "        new Promise(function(resolve, reject) {\n",
       "          var s = document.createElement('script');\n",
       "          document.getElementsByTagName(\"head\")[0].appendChild(s);\n",
       "          s.async = true;\n",
       "          s.onload = () => {\n",
       "            VEGA_DEBUG[key] = version;\n",
       "            return resolve(paths[lib]);\n",
       "          };\n",
       "          s.onerror = () => reject(`Error loading script: ${paths[lib]}`);\n",
       "          s.src = paths[lib];\n",
       "        });\n",
       "    }\n",
       "\n",
       "    function showError(err) {\n",
       "      outputDiv.innerHTML = `<div class=\"error\" style=\"color:red;\">${err}</div>`;\n",
       "      throw err;\n",
       "    }\n",
       "\n",
       "    function displayChart(vegaEmbed) {\n",
       "      vegaEmbed(outputDiv, spec, embedOpt)\n",
       "        .catch(err => showError(`Javascript Error: ${err.message}<br>This usually means there's a typo in your chart specification. See the javascript console for the full traceback.`));\n",
       "    }\n",
       "\n",
       "    if(typeof define === \"function\" && define.amd) {\n",
       "      requirejs.config({paths});\n",
       "      require([\"vega-embed\"], displayChart, err => showError(`Error loading script: ${err.message}`));\n",
       "    } else {\n",
       "      maybeLoadScript(\"vega\", \"5\")\n",
       "        .then(() => maybeLoadScript(\"vega-lite\", \"5.17.0\"))\n",
       "        .then(() => maybeLoadScript(\"vega-embed\", \"6\"))\n",
       "        .catch(showError)\n",
       "        .then(() => displayChart(vegaEmbed));\n",
       "    }\n",
       "  })({\"config\": {\"title\": {\"fontSize\": 20, \"font\": \"Poppins\", \"anchor\": \"middle\", \"color\": \"black\", \"fontWeight\": 400, \"dy\": -20, \"dx\": 10}, \"axis\": {\"labelFontSize\": 14, \"titleFontSize\": 14, \"titleFont\": \"Poppins\", \"labelFont\": \"Poppins\"}, \"axisX\": {\"labelAngle\": 0}, \"legend\": {\"labelFontSize\": 12, \"titleFontSize\": 14, \"titleFont\": \"Poppins\", \"labelFont\": \"Poppins\"}, \"bar\": {\"color\": \"purple\", \"fill\": \"purple\"}, \"line\": {\"color\": \"purple\"}, \"view\": {\"height\": 300, \"width\": 600, \"padding\": {\"top\": 190, \"left\": 10, \"right\": 10, \"bottom\": 90}}}, \"data\": {\"name\": \"data-04d0e0d3153a2097ffae33cb9b474095\"}, \"mark\": {\"type\": \"bar\", \"color\": \"purple\"}, \"encoding\": {\"tooltip\": [{\"field\": \"year\", \"type\": \"quantitative\"}, {\"field\": \"count\", \"type\": \"quantitative\"}], \"x\": {\"axis\": {\"labelAngle\": 0, \"labelFontSize\": 14, \"titleFontSize\": 18}, \"field\": \"year\", \"sort\": {\"field\": \"year\", \"order\": \"ascending\"}, \"type\": \"ordinal\"}, \"y\": {\"axis\": {\"labelFontSize\": 14, \"tickCount\": 5, \"titleFontSize\": 18}, \"field\": \"count\", \"type\": \"quantitative\"}}, \"title\": {\"text\": \"pyOpenSci -- Number of Issues by Year\", \"fontSize\": 24}, \"width\": 600, \"$schema\": \"https://vega.github.io/schema/vega-lite/v5.17.0.json\", \"datasets\": {\"data-04d0e0d3153a2097ffae33cb9b474095\": [{\"year\": 2024, \"count\": 23}, {\"year\": 2023, \"count\": 24}, {\"year\": 2022, \"count\": 4}, {\"year\": 2021, \"count\": 6}, {\"year\": 2020, \"count\": 5}, {\"year\": 2019, \"count\": 5}]}}, {\"mode\": \"vega-lite\"});\n",
       "</script>"
      ],
      "text/plain": [
       "alt.Chart(...)"
      ]
     },
     "metadata": {},
     "output_type": "display_data"
    }
   ],
   "source": [
    "# Create an Altair bar chart\n",
    "chart = (\n",
    "    alt.Chart(issues_by_year)\n",
    "    .mark_bar(color=\"purple\")\n",
    "    .encode(\n",
    "        x=alt.X(\n",
    "            \"year:O\",\n",
    "            axis=alt.Axis(labelAngle=0, labelFontSize=14, titleFontSize=18),\n",
    "            sort=alt.EncodingSortField(field=\"year\", order=\"ascending\"),\n",
    "        ),\n",
    "        y=alt.Y(\n",
    "            \"count:Q\",\n",
    "            axis=alt.Axis(labelFontSize=14, titleFontSize=18, tickCount=5),\n",
    "        ),\n",
    "        tooltip=[\"year\", \"count\"],\n",
    "    )\n",
    "    .properties(\n",
    "        title=alt.TitleParams(\n",
    "            text=\"pyOpenSci -- Number of Issues by Year\", fontSize=24\n",
    "        ),\n",
    "        width=600,\n",
    "    )\n",
    ")\n",
    "\n",
    "chart.show()"
   ]
  },
  {
   "cell_type": "code",
   "execution_count": 25,
   "metadata": {
    "editable": true,
    "jupyter": {
     "source_hidden": true
    },
    "slideshow": {
     "slide_type": ""
    },
    "tags": [
     "remove-input"
    ]
   },
   "outputs": [],
   "source": [
    "# Get fill in months with no issues with a value of 0\n",
    "month_year_counts = (\n",
    "    counts_month_year.set_index(\"year_month\")\n",
    "    .reindex(all_month_years, fill_value=0)\n",
    "    .rename_axis(\"year_month\")\n",
    "    .reset_index()\n",
    ")"
   ]
  },
  {
   "cell_type": "markdown",
   "metadata": {
    "editable": true,
    "slideshow": {
     "slide_type": ""
    },
    "tags": []
   },
   "source": [
    "# Summary: issues by month / year\n",
    "\n",
    "Below you can see scientific Python peer review issues submitted by month since 2019. "
   ]
  },
  {
   "cell_type": "code",
   "execution_count": 26,
   "metadata": {
    "editable": true,
    "slideshow": {
     "slide_type": ""
    },
    "tags": [
     "remove-input"
    ]
   },
   "outputs": [],
   "source": [
    "# Split year_month into separate year and month columns\n",
    "month_year_counts[\"year\"] = month_year_counts[\"year_month\"].dt.year\n",
    "month_year_counts[\"month\"] = month_year_counts[\"year_month\"].dt.strftime(\"%b\")\n",
    "month_year_counts[\"month_cat\"] = pd.Categorical(\n",
    "    month_year_counts[\"month\"],\n",
    "    categories=[\n",
    "        \"Jan\",\n",
    "        \"Feb\",\n",
    "        \"Mar\",\n",
    "        \"Apr\",\n",
    "        \"May\",\n",
    "        \"Jun\",\n",
    "        \"Jul\",\n",
    "        \"Aug\",\n",
    "        \"Sep\",\n",
    "        \"Oct\",\n",
    "        \"Nov\",\n",
    "        \"Dec\",\n",
    "    ],\n",
    "    ordered=True,\n",
    ")\n",
    "month_year_counts = month_year_counts.drop(columns=[\"year_month\"])"
   ]
  },
  {
   "cell_type": "markdown",
   "metadata": {},
   "source": [
    "## Peer review cadence -- slower months \n",
    "\n",
    "Historically since 2019 July and December  have been slower months. These could be ideal times for us to take a peer review breather, not accept new reviews, and catch up on business and documentation items. "
   ]
  },
  {
   "cell_type": "code",
   "execution_count": 27,
   "metadata": {
    "editable": true,
    "slideshow": {
     "slide_type": ""
    },
    "tags": [
     "remove-input"
    ]
   },
   "outputs": [
    {
     "data": {
      "text/html": [
       "\n",
       "<style>\n",
       "  #altair-viz-eedd8993f3e14c0bb6d3be4257b23fb2.vega-embed {\n",
       "    width: 100%;\n",
       "    display: flex;\n",
       "  }\n",
       "\n",
       "  #altair-viz-eedd8993f3e14c0bb6d3be4257b23fb2.vega-embed details,\n",
       "  #altair-viz-eedd8993f3e14c0bb6d3be4257b23fb2.vega-embed details summary {\n",
       "    position: relative;\n",
       "  }\n",
       "</style>\n",
       "<div id=\"altair-viz-eedd8993f3e14c0bb6d3be4257b23fb2\"></div>\n",
       "<script type=\"text/javascript\">\n",
       "  var VEGA_DEBUG = (typeof VEGA_DEBUG == \"undefined\") ? {} : VEGA_DEBUG;\n",
       "  (function(spec, embedOpt){\n",
       "    let outputDiv = document.currentScript.previousElementSibling;\n",
       "    if (outputDiv.id !== \"altair-viz-eedd8993f3e14c0bb6d3be4257b23fb2\") {\n",
       "      outputDiv = document.getElementById(\"altair-viz-eedd8993f3e14c0bb6d3be4257b23fb2\");\n",
       "    }\n",
       "    const paths = {\n",
       "      \"vega\": \"https://cdn.jsdelivr.net/npm/vega@5?noext\",\n",
       "      \"vega-lib\": \"https://cdn.jsdelivr.net/npm/vega-lib?noext\",\n",
       "      \"vega-lite\": \"https://cdn.jsdelivr.net/npm/vega-lite@5.17.0?noext\",\n",
       "      \"vega-embed\": \"https://cdn.jsdelivr.net/npm/vega-embed@6?noext\",\n",
       "    };\n",
       "\n",
       "    function maybeLoadScript(lib, version) {\n",
       "      var key = `${lib.replace(\"-\", \"\")}_version`;\n",
       "      return (VEGA_DEBUG[key] == version) ?\n",
       "        Promise.resolve(paths[lib]) :\n",
       "        new Promise(function(resolve, reject) {\n",
       "          var s = document.createElement('script');\n",
       "          document.getElementsByTagName(\"head\")[0].appendChild(s);\n",
       "          s.async = true;\n",
       "          s.onload = () => {\n",
       "            VEGA_DEBUG[key] = version;\n",
       "            return resolve(paths[lib]);\n",
       "          };\n",
       "          s.onerror = () => reject(`Error loading script: ${paths[lib]}`);\n",
       "          s.src = paths[lib];\n",
       "        });\n",
       "    }\n",
       "\n",
       "    function showError(err) {\n",
       "      outputDiv.innerHTML = `<div class=\"error\" style=\"color:red;\">${err}</div>`;\n",
       "      throw err;\n",
       "    }\n",
       "\n",
       "    function displayChart(vegaEmbed) {\n",
       "      vegaEmbed(outputDiv, spec, embedOpt)\n",
       "        .catch(err => showError(`Javascript Error: ${err.message}<br>This usually means there's a typo in your chart specification. See the javascript console for the full traceback.`));\n",
       "    }\n",
       "\n",
       "    if(typeof define === \"function\" && define.amd) {\n",
       "      requirejs.config({paths});\n",
       "      require([\"vega-embed\"], displayChart, err => showError(`Error loading script: ${err.message}`));\n",
       "    } else {\n",
       "      maybeLoadScript(\"vega\", \"5\")\n",
       "        .then(() => maybeLoadScript(\"vega-lite\", \"5.17.0\"))\n",
       "        .then(() => maybeLoadScript(\"vega-embed\", \"6\"))\n",
       "        .catch(showError)\n",
       "        .then(() => displayChart(vegaEmbed));\n",
       "    }\n",
       "  })({\"config\": {\"title\": {\"fontSize\": 20, \"font\": \"Poppins\", \"anchor\": \"middle\", \"color\": \"black\", \"fontWeight\": 400, \"dy\": -20, \"dx\": 10}, \"axis\": {\"labelFontSize\": 14, \"titleFontSize\": 14, \"titleFont\": \"Poppins\", \"labelFont\": \"Poppins\", \"labelAngle\": 0}, \"axisX\": {\"labelAngle\": 0}, \"legend\": {\"labelFontSize\": 12, \"titleFontSize\": 14, \"titleFont\": \"Poppins\", \"labelFont\": \"Poppins\"}, \"bar\": {\"color\": \"purple\", \"fill\": \"purple\"}, \"line\": {\"color\": \"purple\"}, \"view\": {\"height\": 300, \"width\": 600, \"padding\": {\"top\": 190, \"left\": 10, \"right\": 10, \"bottom\": 90}}}, \"data\": {\"name\": \"data-f92dd110cd4a30899465687cb7c58613\"}, \"mark\": {\"type\": \"bar\"}, \"encoding\": {\"tooltip\": [{\"field\": \"month\", \"type\": \"nominal\"}, {\"field\": \"count\", \"type\": \"quantitative\"}], \"x\": {\"field\": \"month\", \"sort\": [\"Jan\", \"Feb\", \"Mar\", \"Apr\", \"May\", \"Jun\", \"Jul\", \"Aug\", \"Sep\", \"Oct\", \"Nov\", \"Dec\"], \"type\": \"nominal\"}, \"y\": {\"field\": \"count\", \"type\": \"quantitative\"}}, \"height\": 400, \"title\": \"Total Counts per Month (2019-2024)\", \"width\": \"container\", \"$schema\": \"https://vega.github.io/schema/vega-lite/v5.17.0.json\", \"datasets\": {\"data-f92dd110cd4a30899465687cb7c58613\": [{\"month\": \"Jan\", \"count\": 6}, {\"month\": \"Feb\", \"count\": 7}, {\"month\": \"Mar\", \"count\": 6}, {\"month\": \"Apr\", \"count\": 8}, {\"month\": \"May\", \"count\": 10}, {\"month\": \"Jun\", \"count\": 4}, {\"month\": \"Jul\", \"count\": 7}, {\"month\": \"Aug\", \"count\": 7}, {\"month\": \"Sep\", \"count\": 2}, {\"month\": \"Oct\", \"count\": 3}, {\"month\": \"Nov\", \"count\": 3}, {\"month\": \"Dec\", \"count\": 4}]}}, {\"mode\": \"vega-lite\"});\n",
       "</script>"
      ],
      "text/plain": [
       "alt.Chart(...)"
      ]
     },
     "metadata": {},
     "output_type": "display_data"
    }
   ],
   "source": [
    "month_year_counts\n",
    "\n",
    "# Summarize total counts per month\n",
    "monthly_counts = (\n",
    "    month_year_counts.groupby(\"month\")[\"count\"]\n",
    "    .sum()\n",
    "    .reindex(\n",
    "        [\n",
    "            \"Jan\",\n",
    "            \"Feb\",\n",
    "            \"Mar\",\n",
    "            \"Apr\",\n",
    "            \"May\",\n",
    "            \"Jun\",\n",
    "            \"Jul\",\n",
    "            \"Aug\",\n",
    "            \"Sep\",\n",
    "            \"Oct\",\n",
    "            \"Nov\",\n",
    "            \"Dec\",\n",
    "        ],\n",
    "        fill_value=0,\n",
    "    )\n",
    "    .reset_index()\n",
    ")\n",
    "\n",
    "# Create the Altair plot\n",
    "chart = (\n",
    "    alt.Chart(monthly_counts)\n",
    "    .mark_bar()\n",
    "    .encode(\n",
    "        x=alt.X(\n",
    "            \"month\",\n",
    "            sort=[\n",
    "                \"Jan\",\n",
    "                \"Feb\",\n",
    "                \"Mar\",\n",
    "                \"Apr\",\n",
    "                \"May\",\n",
    "                \"Jun\",\n",
    "                \"Jul\",\n",
    "                \"Aug\",\n",
    "                \"Sep\",\n",
    "                \"Oct\",\n",
    "                \"Nov\",\n",
    "                \"Dec\",\n",
    "            ],\n",
    "        ),\n",
    "        y=\"count\",\n",
    "        tooltip=[\"month\", \"count\"],\n",
    "    )\n",
    "    .properties(title=\"Total Counts per Month (2019-2024)\", width=\"container\", height=400)\n",
    "    .configure_axis(labelAngle=0)\n",
    ")\n",
    "\n",
    "chart.show()"
   ]
  },
  {
   "cell_type": "markdown",
   "metadata": {},
   "source": [
    "# Issues opened by month / year"
   ]
  },
  {
   "cell_type": "markdown",
   "metadata": {
    "editable": true,
    "slideshow": {
     "slide_type": ""
    },
    "tags": []
   },
   "source": [
    "# Number of Issues per Month Since 2019\n",
    "\n",
    "Below is a cumulative sum representation of all of our peer review issues submitted to date. You can see that there is a significant uptick of issues submitted that began when we were able to utilize our funding and have a full time staff person (the Executive Director) onboard. "
   ]
  },
  {
   "cell_type": "code",
   "execution_count": 28,
   "metadata": {
    "editable": true,
    "slideshow": {
     "slide_type": ""
    },
    "tags": [
     "remove-input"
    ]
   },
   "outputs": [],
   "source": [
    "# Set 'date_opened' column as index / add month and year cols for grouping\n",
    "monthly_issues = reviews_df.copy()\n",
    "monthly_issues[\"month\"] = monthly_issues[\"date_opened\"].dt.month\n",
    "monthly_issues[\"year\"] = monthly_issues[\"date_opened\"].dt.year\n",
    "# Get monthly counts\n",
    "monthly_issues_index = monthly_issues.copy()\n",
    "\n",
    "monthly_issues_index.set_index(\n",
    "    monthly_issues_index[\"date_opened\"].dt.to_period(\"M\").dt.strftime(\"%Y-%m\"),\n",
    "    inplace=True,\n",
    ")\n",
    "\n",
    "# Group by the new index (month-year) and count the number of issues for each month-year\n",
    "monthly_counts = monthly_issues_index.groupby(level=0).size()"
   ]
  },
  {
   "cell_type": "code",
   "execution_count": 29,
   "metadata": {
    "editable": true,
    "slideshow": {
     "slide_type": ""
    },
    "tags": [
     "remove-input"
    ]
   },
   "outputs": [],
   "source": [
    "# Create a df for every month/year combo in our dataset - this ensures a date for every\n",
    "# month even if some months are missing\n",
    "all_month_years = pd.date_range(\n",
    "    start=monthly_issues.date_opened.min().strftime(\"%Y-%m\"),\n",
    "    end=monthly_issues.date_opened.max().strftime(\"%Y-%m\"),\n",
    "    freq=\"MS\",\n",
    ").to_period(\"M\")"
   ]
  },
  {
   "cell_type": "code",
   "execution_count": 30,
   "metadata": {
    "editable": true,
    "slideshow": {
     "slide_type": ""
    },
    "tags": [
     "remove-input"
    ]
   },
   "outputs": [],
   "source": [
    "final_monthly = monthly_counts.copy()\n",
    "# Ensure the index is of type periodIndex to support reindexing\n",
    "final_monthly.index = pd.PeriodIndex(final_monthly.index, freq=\"M\")\n",
    "final_monthly = final_monthly.reindex(all_month_years, fill_value=0).to_frame(\n",
    "    name=\"issue_count\"\n",
    ")\n",
    "\n",
    "# Calculate cumulative sum of issue count\n",
    "final_monthly[\"cumulative_count\"] = final_monthly[\"issue_count\"].cumsum()\n",
    "final_monthly.reset_index(inplace=True, names=\"date\")\n",
    "final_monthly[\"date\"] = final_monthly[\"date\"].dt.to_timestamp()"
   ]
  },
  {
   "cell_type": "code",
   "execution_count": 31,
   "metadata": {
    "editable": true,
    "slideshow": {
     "slide_type": ""
    },
    "tags": [
     "remove-input"
    ]
   },
   "outputs": [
    {
     "data": {
      "text/html": [
       "\n",
       "<style>\n",
       "  #altair-viz-b0fb8a63d5f940b0bf537e6ee69a2724.vega-embed {\n",
       "    width: 100%;\n",
       "    display: flex;\n",
       "  }\n",
       "\n",
       "  #altair-viz-b0fb8a63d5f940b0bf537e6ee69a2724.vega-embed details,\n",
       "  #altair-viz-b0fb8a63d5f940b0bf537e6ee69a2724.vega-embed details summary {\n",
       "    position: relative;\n",
       "  }\n",
       "</style>\n",
       "<div id=\"altair-viz-b0fb8a63d5f940b0bf537e6ee69a2724\"></div>\n",
       "<script type=\"text/javascript\">\n",
       "  var VEGA_DEBUG = (typeof VEGA_DEBUG == \"undefined\") ? {} : VEGA_DEBUG;\n",
       "  (function(spec, embedOpt){\n",
       "    let outputDiv = document.currentScript.previousElementSibling;\n",
       "    if (outputDiv.id !== \"altair-viz-b0fb8a63d5f940b0bf537e6ee69a2724\") {\n",
       "      outputDiv = document.getElementById(\"altair-viz-b0fb8a63d5f940b0bf537e6ee69a2724\");\n",
       "    }\n",
       "    const paths = {\n",
       "      \"vega\": \"https://cdn.jsdelivr.net/npm/vega@5?noext\",\n",
       "      \"vega-lib\": \"https://cdn.jsdelivr.net/npm/vega-lib?noext\",\n",
       "      \"vega-lite\": \"https://cdn.jsdelivr.net/npm/vega-lite@5.17.0?noext\",\n",
       "      \"vega-embed\": \"https://cdn.jsdelivr.net/npm/vega-embed@6?noext\",\n",
       "    };\n",
       "\n",
       "    function maybeLoadScript(lib, version) {\n",
       "      var key = `${lib.replace(\"-\", \"\")}_version`;\n",
       "      return (VEGA_DEBUG[key] == version) ?\n",
       "        Promise.resolve(paths[lib]) :\n",
       "        new Promise(function(resolve, reject) {\n",
       "          var s = document.createElement('script');\n",
       "          document.getElementsByTagName(\"head\")[0].appendChild(s);\n",
       "          s.async = true;\n",
       "          s.onload = () => {\n",
       "            VEGA_DEBUG[key] = version;\n",
       "            return resolve(paths[lib]);\n",
       "          };\n",
       "          s.onerror = () => reject(`Error loading script: ${paths[lib]}`);\n",
       "          s.src = paths[lib];\n",
       "        });\n",
       "    }\n",
       "\n",
       "    function showError(err) {\n",
       "      outputDiv.innerHTML = `<div class=\"error\" style=\"color:red;\">${err}</div>`;\n",
       "      throw err;\n",
       "    }\n",
       "\n",
       "    function displayChart(vegaEmbed) {\n",
       "      vegaEmbed(outputDiv, spec, embedOpt)\n",
       "        .catch(err => showError(`Javascript Error: ${err.message}<br>This usually means there's a typo in your chart specification. See the javascript console for the full traceback.`));\n",
       "    }\n",
       "\n",
       "    if(typeof define === \"function\" && define.amd) {\n",
       "      requirejs.config({paths});\n",
       "      require([\"vega-embed\"], displayChart, err => showError(`Error loading script: ${err.message}`));\n",
       "    } else {\n",
       "      maybeLoadScript(\"vega\", \"5\")\n",
       "        .then(() => maybeLoadScript(\"vega-lite\", \"5.17.0\"))\n",
       "        .then(() => maybeLoadScript(\"vega-embed\", \"6\"))\n",
       "        .catch(showError)\n",
       "        .then(() => displayChart(vegaEmbed));\n",
       "    }\n",
       "  })({\"config\": {\"title\": {\"fontSize\": 20, \"font\": \"Poppins\", \"anchor\": \"middle\", \"color\": \"black\", \"fontWeight\": 400, \"dy\": -20, \"dx\": 10}, \"axis\": {\"labelFontSize\": 14, \"titleFontSize\": 14, \"titleFont\": \"Poppins\", \"labelFont\": \"Poppins\"}, \"axisX\": {\"labelAngle\": 0}, \"legend\": {\"labelFontSize\": 12, \"titleFontSize\": 14, \"titleFont\": \"Poppins\", \"labelFont\": \"Poppins\"}, \"bar\": {\"color\": \"purple\", \"fill\": \"purple\"}, \"line\": {\"color\": \"purple\"}, \"view\": {\"height\": 300, \"width\": 600, \"padding\": {\"top\": 190, \"left\": 10, \"right\": 10, \"bottom\": 90}}}, \"layer\": [{\"data\": {\"name\": \"data-5ec083e9eaf1cb10bed45116c65ec596\"}, \"mark\": {\"type\": \"line\", \"color\": \"purple\", \"strokeWidth\": 8}, \"encoding\": {\"tooltip\": [{\"field\": \"date\", \"title\": \"Month\", \"type\": \"temporal\"}, {\"field\": \"cumulative_count\", \"title\": \"Number of Issues\", \"type\": \"quantitative\"}], \"x\": {\"axis\": {\"format\": \"%b-%Y\", \"tickCount\": \"year\", \"title\": \"Month\"}, \"field\": \"date\", \"type\": \"temporal\"}, \"y\": {\"axis\": {\"tickCount\": 10, \"title\": \"Number of Issues\"}, \"field\": \"cumulative_count\", \"type\": \"quantitative\"}}, \"title\": {\"text\": \"Cumulative Review Submissions Over Time\"}}, {\"data\": {\"name\": \"data-885435433e90c9e36bd36f19a234dabd\"}, \"mark\": {\"type\": \"text\", \"align\": \"left\", \"color\": \"black\", \"dx\": 5, \"dy\": -10, \"font\": \"Poppins\", \"fontSize\": 12}, \"encoding\": {\"text\": {\"field\": \"label\", \"type\": \"nominal\"}, \"x\": {\"field\": \"date\", \"type\": \"temporal\"}, \"y\": {\"field\": \"cumulative_count\", \"type\": \"quantitative\"}}}, {\"data\": {\"name\": \"data-967c9fd2600aa1f4ef471e2361e60d17\"}, \"mark\": {\"type\": \"point\", \"angle\": 0, \"color\": \"black\", \"shape\": \"triangle\", \"size\": 50}, \"encoding\": {\"x\": {\"field\": \"date\", \"type\": \"temporal\"}, \"y\": {\"field\": \"cumulative_count\", \"type\": \"quantitative\"}}}], \"height\": 400, \"width\": 600, \"$schema\": \"https://vega.github.io/schema/vega-lite/v5.17.0.json\", \"datasets\": {\"data-5ec083e9eaf1cb10bed45116c65ec596\": [{\"date\": \"2019-03-01T00:00:00\", \"issue_count\": 1, \"cumulative_count\": 1}, {\"date\": \"2019-04-01T00:00:00\", \"issue_count\": 0, \"cumulative_count\": 1}, {\"date\": \"2019-05-01T00:00:00\", \"issue_count\": 2, \"cumulative_count\": 3}, {\"date\": \"2019-06-01T00:00:00\", \"issue_count\": 0, \"cumulative_count\": 3}, {\"date\": \"2019-07-01T00:00:00\", \"issue_count\": 0, \"cumulative_count\": 3}, {\"date\": \"2019-08-01T00:00:00\", \"issue_count\": 1, \"cumulative_count\": 4}, {\"date\": \"2019-09-01T00:00:00\", \"issue_count\": 0, \"cumulative_count\": 4}, {\"date\": \"2019-10-01T00:00:00\", \"issue_count\": 0, \"cumulative_count\": 4}, {\"date\": \"2019-11-01T00:00:00\", \"issue_count\": 0, \"cumulative_count\": 4}, {\"date\": \"2019-12-01T00:00:00\", \"issue_count\": 1, \"cumulative_count\": 5}, {\"date\": \"2020-01-01T00:00:00\", \"issue_count\": 1, \"cumulative_count\": 6}, {\"date\": \"2020-02-01T00:00:00\", \"issue_count\": 1, \"cumulative_count\": 7}, {\"date\": \"2020-03-01T00:00:00\", \"issue_count\": 0, \"cumulative_count\": 7}, {\"date\": \"2020-04-01T00:00:00\", \"issue_count\": 0, \"cumulative_count\": 7}, {\"date\": \"2020-05-01T00:00:00\", \"issue_count\": 1, \"cumulative_count\": 8}, {\"date\": \"2020-06-01T00:00:00\", \"issue_count\": 0, \"cumulative_count\": 8}, {\"date\": \"2020-07-01T00:00:00\", \"issue_count\": 2, \"cumulative_count\": 10}, {\"date\": \"2020-08-01T00:00:00\", \"issue_count\": 0, \"cumulative_count\": 10}, {\"date\": \"2020-09-01T00:00:00\", \"issue_count\": 0, \"cumulative_count\": 10}, {\"date\": \"2020-10-01T00:00:00\", \"issue_count\": 0, \"cumulative_count\": 10}, {\"date\": \"2020-11-01T00:00:00\", \"issue_count\": 0, \"cumulative_count\": 10}, {\"date\": \"2020-12-01T00:00:00\", \"issue_count\": 0, \"cumulative_count\": 10}, {\"date\": \"2021-01-01T00:00:00\", \"issue_count\": 1, \"cumulative_count\": 11}, {\"date\": \"2021-02-01T00:00:00\", \"issue_count\": 0, \"cumulative_count\": 11}, {\"date\": \"2021-03-01T00:00:00\", \"issue_count\": 0, \"cumulative_count\": 11}, {\"date\": \"2021-04-01T00:00:00\", \"issue_count\": 1, \"cumulative_count\": 12}, {\"date\": \"2021-05-01T00:00:00\", \"issue_count\": 0, \"cumulative_count\": 12}, {\"date\": \"2021-06-01T00:00:00\", \"issue_count\": 0, \"cumulative_count\": 12}, {\"date\": \"2021-07-01T00:00:00\", \"issue_count\": 1, \"cumulative_count\": 13}, {\"date\": \"2021-08-01T00:00:00\", \"issue_count\": 1, \"cumulative_count\": 14}, {\"date\": \"2021-09-01T00:00:00\", \"issue_count\": 0, \"cumulative_count\": 14}, {\"date\": \"2021-10-01T00:00:00\", \"issue_count\": 0, \"cumulative_count\": 14}, {\"date\": \"2021-11-01T00:00:00\", \"issue_count\": 1, \"cumulative_count\": 15}, {\"date\": \"2021-12-01T00:00:00\", \"issue_count\": 1, \"cumulative_count\": 16}, {\"date\": \"2022-01-01T00:00:00\", \"issue_count\": 0, \"cumulative_count\": 16}, {\"date\": \"2022-02-01T00:00:00\", \"issue_count\": 0, \"cumulative_count\": 16}, {\"date\": \"2022-03-01T00:00:00\", \"issue_count\": 0, \"cumulative_count\": 16}, {\"date\": \"2022-04-01T00:00:00\", \"issue_count\": 1, \"cumulative_count\": 17}, {\"date\": \"2022-05-01T00:00:00\", \"issue_count\": 0, \"cumulative_count\": 17}, {\"date\": \"2022-06-01T00:00:00\", \"issue_count\": 1, \"cumulative_count\": 18}, {\"date\": \"2022-07-01T00:00:00\", \"issue_count\": 0, \"cumulative_count\": 18}, {\"date\": \"2022-08-01T00:00:00\", \"issue_count\": 0, \"cumulative_count\": 18}, {\"date\": \"2022-09-01T00:00:00\", \"issue_count\": 1, \"cumulative_count\": 19}, {\"date\": \"2022-10-01T00:00:00\", \"issue_count\": 0, \"cumulative_count\": 19}, {\"date\": \"2022-11-01T00:00:00\", \"issue_count\": 0, \"cumulative_count\": 19}, {\"date\": \"2022-12-01T00:00:00\", \"issue_count\": 1, \"cumulative_count\": 20}, {\"date\": \"2023-01-01T00:00:00\", \"issue_count\": 2, \"cumulative_count\": 22}, {\"date\": \"2023-02-01T00:00:00\", \"issue_count\": 2, \"cumulative_count\": 24}, {\"date\": \"2023-03-01T00:00:00\", \"issue_count\": 3, \"cumulative_count\": 27}, {\"date\": \"2023-04-01T00:00:00\", \"issue_count\": 2, \"cumulative_count\": 29}, {\"date\": \"2023-05-01T00:00:00\", \"issue_count\": 2, \"cumulative_count\": 31}, {\"date\": \"2023-06-01T00:00:00\", \"issue_count\": 1, \"cumulative_count\": 32}, {\"date\": \"2023-07-01T00:00:00\", \"issue_count\": 2, \"cumulative_count\": 34}, {\"date\": \"2023-08-01T00:00:00\", \"issue_count\": 3, \"cumulative_count\": 37}, {\"date\": \"2023-09-01T00:00:00\", \"issue_count\": 1, \"cumulative_count\": 38}, {\"date\": \"2023-10-01T00:00:00\", \"issue_count\": 3, \"cumulative_count\": 41}, {\"date\": \"2023-11-01T00:00:00\", \"issue_count\": 2, \"cumulative_count\": 43}, {\"date\": \"2023-12-01T00:00:00\", \"issue_count\": 1, \"cumulative_count\": 44}, {\"date\": \"2024-01-01T00:00:00\", \"issue_count\": 2, \"cumulative_count\": 46}, {\"date\": \"2024-02-01T00:00:00\", \"issue_count\": 4, \"cumulative_count\": 50}, {\"date\": \"2024-03-01T00:00:00\", \"issue_count\": 2, \"cumulative_count\": 52}, {\"date\": \"2024-04-01T00:00:00\", \"issue_count\": 4, \"cumulative_count\": 56}, {\"date\": \"2024-05-01T00:00:00\", \"issue_count\": 5, \"cumulative_count\": 61}, {\"date\": \"2024-06-01T00:00:00\", \"issue_count\": 2, \"cumulative_count\": 63}, {\"date\": \"2024-07-01T00:00:00\", \"issue_count\": 2, \"cumulative_count\": 65}, {\"date\": \"2024-08-01T00:00:00\", \"issue_count\": 2, \"cumulative_count\": 67}], \"data-885435433e90c9e36bd36f19a234dabd\": [{\"date\": \"2023-01-01T00:00:00\", \"cumulative_count\": 16, \"label\": \"Full Time Funding\"}], \"data-967c9fd2600aa1f4ef471e2361e60d17\": [{\"date\": \"2023-01-01T00:00:00\", \"cumulative_count\": 20}]}}, {\"mode\": \"vega-lite\"});\n",
       "</script>"
      ],
      "text/plain": [
       "alt.LayerChart(...)"
      ]
     },
     "metadata": {},
     "output_type": "display_data"
    }
   ],
   "source": [
    "# Create an Altair line plot\n",
    "chart = (\n",
    "    alt.Chart(final_monthly)\n",
    "    .mark_line(color=\"purple\", strokeWidth=8)\n",
    "    .encode(\n",
    "        x=alt.X(\n",
    "            \"date:T\",\n",
    "            axis=alt.Axis(\n",
    "                title=\"Month\",\n",
    "                format=\"%b-%Y\",\n",
    "                tickCount=\"year\",\n",
    "            ),\n",
    "        ),\n",
    "        y=alt.Y(\n",
    "            \"cumulative_count:Q\",\n",
    "            axis=alt.Axis(\n",
    "                title=\"Number of Issues\",\n",
    "                #tickMinStep=10,  # Not sure why altair isn't recognizing\n",
    "                tickCount=10,\n",
    "            ),\n",
    "        ),\n",
    "        tooltip=[\n",
    "            alt.Tooltip(\"date:T\", title=\"Month\"),\n",
    "            alt.Tooltip(\"cumulative_count:Q\", title=\"Number of Issues\"),\n",
    "        ],\n",
    "    )\n",
    "    .properties(\n",
    "        title=alt.TitleParams(\n",
    "            text=\"Cumulative Review Submissions Over Time\",\n",
    "        ),\n",
    "        width=600,\n",
    "        height=400,\n",
    "    )\n",
    ")\n",
    "\n",
    "label = (\n",
    "    alt.Chart(\n",
    "        pd.DataFrame(\n",
    "            {\n",
    "                \"date\": [\n",
    "                    pd.Timestamp(\"2023-01-01\")\n",
    "                ],  # Specific x-axis location (January 2023)\n",
    "                \"cumulative_count\": [16],\n",
    "                \"label\": [\"Full Time Funding\"],\n",
    "            }\n",
    "        )\n",
    "    )\n",
    "    .mark_text(align=\"left\", dx=5, dy=-10, color=\"black\", fontSize=12, font=\"Poppins\")\n",
    "    .encode(x=\"date:T\", y=\"cumulative_count:Q\", text=\"label:N\")\n",
    ")\n",
    "\n",
    "# Adding an arrow using mark_rule and mark_point\n",
    "arrow = (\n",
    "    alt.Chart(\n",
    "        pd.DataFrame(\n",
    "            {\n",
    "                \"date\": [pd.Timestamp(\"2023-01-01\")],\n",
    "                \"cumulative_count\": [\n",
    "                    20\n",
    "                ],  # Adjust y-axis location to position the arrow\n",
    "            }\n",
    "        )\n",
    "    )\n",
    "    .mark_point(shape=\"triangle\", angle=0, size=50, color=\"black\")\n",
    "    .encode(x=\"date:T\", y=\"cumulative_count:Q\")\n",
    ")\n",
    "\n",
    "# Combine the chart and the label\n",
    "final_chart = chart + label + arrow\n",
    "\n",
    "# Show the final chart\n",
    "final_chart.show()\n",
    "\n",
    "# Show the chart\n",
    "# chart.show()"
   ]
  }
 ],
 "metadata": {
  "kernelspec": {
   "display_name": "Python 3 (ipykernel)",
   "language": "python",
   "name": "python3"
  },
  "language_info": {
   "codemirror_mode": {
    "name": "ipython",
    "version": 3
   },
   "file_extension": ".py",
   "mimetype": "text/x-python",
   "name": "python",
   "nbconvert_exporter": "python",
   "pygments_lexer": "ipython3",
   "version": "3.11.9"
  },
  "vscode": {
   "interpreter": {
    "hash": "d7b89e158b719c02a21186c9646700ecf5a8cc5b1b6f738df9b6ffa75e5e74e4"
   }
  }
 },
 "nbformat": 4,
 "nbformat_minor": 4
}
