{
 "cells": [
  {
   "cell_type": "markdown",
   "metadata": {
    "editable": true,
    "slideshow": {
     "slide_type": ""
    },
    "tags": []
   },
   "source": [
    "---\n",
    "title: Current Software Review Stats\n",
    "subtitle: pyOpenSci Peer Review Summary Stats\n",
    "license:\n",
    "  code: BSD-3-Clause\n",
    "---\n",
    "\n",
    "This is a workflow that collects all GitHub issues associated with our reviews."
   ]
  },
  {
   "cell_type": "code",
   "execution_count": 1,
   "metadata": {
    "editable": true,
    "slideshow": {
     "slide_type": ""
    },
    "tags": [
     "remove-input"
    ]
   },
   "outputs": [],
   "source": [
    "# https://github.com/ryantam626/jupyterlab_code_formatter\n",
    "# TODO: calculate days open in the script that grabs the data!!\n",
    "import os\n",
    "import warnings\n",
    "from datetime import datetime, timezone\n",
    "\n",
    "import altair as alt\n",
    "import pandas as pd\n",
    "import pytz\n",
    "from pyosmeta import ProcessIssues\n",
    "from pyosmeta.github_api import GitHubAPI\n",
    "\n",
    "from pyosmetrics.functions import count_edits_by_quarter\n",
    "\n",
    "# Suppress all warnings\n",
    "warnings.filterwarnings(\"ignore\")\n",
    "# Make tables nicer\n",
    "pd.set_option(\"display.max_colwidth\", None)\n",
    "today = datetime.now(timezone.utc)"
   ]
  },
  {
   "cell_type": "code",
   "execution_count": 2,
   "metadata": {
    "editable": true,
    "lines_to_next_cell": 2,
    "slideshow": {
     "slide_type": ""
    },
    "tags": [
     "remove-input"
    ]
   },
   "outputs": [],
   "source": [
    "# Get all current reviews\n",
    "reviews = pd.read_csv(\n",
    "    \"../../_data/review_submissions.csv\",\n",
    "    parse_dates=[\"date_opened\", \"date_closed\", \"last_comment_date\"],\n",
    ")\n",
    "reviews[\"date_opened\"] = reviews[\"date_opened\"]\n",
    "reviews[\"last_comment_date\"] = reviews[\"last_comment_date\"]\n",
    "reviews = reviews.rename(\n",
    "    columns={\n",
    "        \"package_name\": \"Name\",\n",
    "        \"date_opened\": \"Date Opened\",\n",
    "        \"date_closed\": \"Date Closed\",\n",
    "        \"issue_num\": \"Issue\",\n",
    "        \"description\": \"Description\",\n",
    "        \"categories\": \"Categories\",\n",
    "        \"last_comment_date\": \"Last Comment\",\n",
    "        \"last_comment_user\": \"Last User to Comment\",\n",
    "    }\n",
    ")"
   ]
  },
  {
   "cell_type": "code",
   "execution_count": 3,
   "metadata": {
    "editable": true,
    "slideshow": {
     "slide_type": ""
    },
    "tags": [
     "remove-input"
    ]
   },
   "outputs": [],
   "source": [
    "open_reviews = reviews[reviews[\"Date Closed\"].isna()]\n",
    "open_reviews.drop(columns=[\"Date Closed\",\"Unnamed: 0\"], inplace=True)\n",
    "total_open = len(open_reviews)"
   ]
  },
  {
   "cell_type": "code",
   "execution_count": 4,
   "metadata": {
    "editable": true,
    "slideshow": {
     "slide_type": ""
    },
    "tags": [
     "remove-input"
    ]
   },
   "outputs": [],
   "source": [
    "open_reviews[\"Days Open\"] = (today - open_reviews[\"Date Opened\"]).dt.days\n",
    "open_reviews[\"Date Opened\"] = open_reviews[\"Date Opened\"].dt.date\n",
    "open_reviews[\"Last Comment\"] = open_reviews[\"Last Comment\"].dt.date"
   ]
  },
  {
   "cell_type": "code",
   "execution_count": 5,
   "metadata": {
    "editable": true,
    "slideshow": {
     "slide_type": ""
    },
    "tags": []
   },
   "outputs": [
    {
     "data": {
      "text/plain": [
       "0                  TBD\n",
       "1                  TBD\n",
       "2                  TBD\n",
       "3                  TBD\n",
       "4                  TBD\n",
       "5                  TBD\n",
       "6                  TBD\n",
       "7                  TBD\n",
       "8                  TBD\n",
       "9           tkoyama010\n",
       "10              cmarmo\n",
       "12           yeelauren\n",
       "13        kellyrowland\n",
       "14             Batalex\n",
       "16              cmarmo\n",
       "17              hamogu\n",
       "18         isabelizimm\n",
       "19              cmarmo\n",
       "20                 TBD\n",
       "21                 TBD\n",
       "22       NimaSarajpoor\n",
       "24                 TBD\n",
       "27                 ctb\n",
       "28            dhomeier\n",
       "30          zeitsperre\n",
       "33    sneakers-the-rat\n",
       "37         isabelizimm\n",
       "40           yeelauren\n",
       "Name: editor, dtype: object"
      ]
     },
     "execution_count": 5,
     "metadata": {},
     "output_type": "execute_result"
    }
   ],
   "source": [
    "open_reviews[\"editor\"]"
   ]
  },
  {
   "cell_type": "markdown",
   "metadata": {
    "editable": true,
    "slideshow": {
     "slide_type": ""
    },
    "tags": [],
    "user_expressions": [
     {
      "expression": "total_open",
      "result": {
       "data": {
        "text/plain": "3"
       },
       "metadata": {},
       "status": "ok"
      }
     }
    ]
   },
   "source": [
    "## Current open reviews & total days open\n",
    "\n",
    "pyOpenSci currently has **{eval}`total_open`** total open submissions."
   ]
  },
  {
   "cell_type": "markdown",
   "metadata": {
    "editable": true,
    "slideshow": {
     "slide_type": ""
    },
    "tags": []
   },
   "source": [
    "## Packages that need editors\n",
    "\n",
    "The packages below need an editor before the review can begin."
   ]
  },
  {
   "cell_type": "code",
   "execution_count": 6,
   "metadata": {
    "editable": true,
    "lines_to_next_cell": 2,
    "slideshow": {
     "slide_type": ""
    },
    "tags": [
     "remove-input"
    ]
   },
   "outputs": [],
   "source": [
    "seeking_editor = open_reviews[\n",
    "    open_reviews[\"labels\"].str.contains(\"0/seeking-editor\", na=False)\n",
    "].copy()\n",
    "seeking_editor.drop(\n",
    "    columns=[ \"labels\", \"status\"], inplace=True\n",
    ")\n",
    "seeking_editor.reset_index(drop=True, inplace=True)"
   ]
  },
  {
   "cell_type": "code",
   "execution_count": 7,
   "metadata": {
    "editable": true,
    "slideshow": {
     "slide_type": ""
    },
    "tags": [
     "remove-input"
    ]
   },
   "outputs": [
    {
     "data": {
      "text/html": [
       "<style type=\"text/css\">\n",
       "#T_e3734_row0_col0, #T_e3734_row0_col1, #T_e3734_row0_col2, #T_e3734_row0_col3, #T_e3734_row0_col4, #T_e3734_row0_col5, #T_e3734_row0_col6, #T_e3734_row0_col7, #T_e3734_row0_col8, #T_e3734_row0_col9, #T_e3734_row1_col0, #T_e3734_row1_col1, #T_e3734_row1_col2, #T_e3734_row1_col3, #T_e3734_row1_col4, #T_e3734_row1_col5, #T_e3734_row1_col6, #T_e3734_row1_col7, #T_e3734_row1_col8, #T_e3734_row1_col9, #T_e3734_row2_col0, #T_e3734_row2_col1, #T_e3734_row2_col2, #T_e3734_row2_col3, #T_e3734_row2_col4, #T_e3734_row2_col5, #T_e3734_row2_col6, #T_e3734_row2_col7, #T_e3734_row2_col8, #T_e3734_row2_col9, #T_e3734_row3_col0, #T_e3734_row3_col1, #T_e3734_row3_col2, #T_e3734_row3_col3, #T_e3734_row3_col4, #T_e3734_row3_col5, #T_e3734_row3_col6, #T_e3734_row3_col7, #T_e3734_row3_col8, #T_e3734_row3_col9, #T_e3734_row4_col0, #T_e3734_row4_col1, #T_e3734_row4_col2, #T_e3734_row4_col3, #T_e3734_row4_col4, #T_e3734_row4_col5, #T_e3734_row4_col6, #T_e3734_row4_col7, #T_e3734_row4_col8, #T_e3734_row4_col9, #T_e3734_row5_col0, #T_e3734_row5_col1, #T_e3734_row5_col2, #T_e3734_row5_col3, #T_e3734_row5_col4, #T_e3734_row5_col5, #T_e3734_row5_col6, #T_e3734_row5_col7, #T_e3734_row5_col8, #T_e3734_row5_col9, #T_e3734_row6_col0, #T_e3734_row6_col1, #T_e3734_row6_col2, #T_e3734_row6_col3, #T_e3734_row6_col4, #T_e3734_row6_col5, #T_e3734_row6_col6, #T_e3734_row6_col7, #T_e3734_row6_col8, #T_e3734_row6_col9 {\n",
       "  text-align: left;\n",
       "  white-space: normal;\n",
       "}\n",
       "</style>\n",
       "<table id=\"T_e3734\">\n",
       "  <thead>\n",
       "    <tr>\n",
       "      <th class=\"blank level0\" >&nbsp;</th>\n",
       "      <th id=\"T_e3734_level0_col0\" class=\"col_heading level0 col0\" >Name</th>\n",
       "      <th id=\"T_e3734_level0_col1\" class=\"col_heading level0 col1\" >editor</th>\n",
       "      <th id=\"T_e3734_level0_col2\" class=\"col_heading level0 col2\" >eic</th>\n",
       "      <th id=\"T_e3734_level0_col3\" class=\"col_heading level0 col3\" >Date Opened</th>\n",
       "      <th id=\"T_e3734_level0_col4\" class=\"col_heading level0 col4\" >Issue</th>\n",
       "      <th id=\"T_e3734_level0_col5\" class=\"col_heading level0 col5\" >Description</th>\n",
       "      <th id=\"T_e3734_level0_col6\" class=\"col_heading level0 col6\" >Categories</th>\n",
       "      <th id=\"T_e3734_level0_col7\" class=\"col_heading level0 col7\" >Last Comment</th>\n",
       "      <th id=\"T_e3734_level0_col8\" class=\"col_heading level0 col8\" >Last User to Comment</th>\n",
       "      <th id=\"T_e3734_level0_col9\" class=\"col_heading level0 col9\" >Days Open</th>\n",
       "    </tr>\n",
       "  </thead>\n",
       "  <tbody>\n",
       "    <tr>\n",
       "      <th id=\"T_e3734_level0_row0\" class=\"row_heading level0 row0\" >0</th>\n",
       "      <td id=\"T_e3734_row0_col0\" class=\"data row0 col0\" >pymultifit</td>\n",
       "      <td id=\"T_e3734_row0_col1\" class=\"data row0 col1\" >TBD</td>\n",
       "      <td id=\"T_e3734_row0_col2\" class=\"data row0 col2\" >coatless</td>\n",
       "      <td id=\"T_e3734_row0_col3\" class=\"data row0 col3\" >2025-01-21</td>\n",
       "      <td id=\"T_e3734_row0_col4\" class=\"data row0 col4\" >233</td>\n",
       "      <td id=\"T_e3734_row0_col5\" class=\"data row0 col5\" >A python library for fitting data with multiple models.</td>\n",
       "      <td id=\"T_e3734_row0_col6\" class=\"data row0 col6\" >['data-processing-munging']</td>\n",
       "      <td id=\"T_e3734_row0_col7\" class=\"data row0 col7\" >2025-01-31</td>\n",
       "      <td id=\"T_e3734_row0_col8\" class=\"data row0 col8\" >syedalimohsinbukhari</td>\n",
       "      <td id=\"T_e3734_row0_col9\" class=\"data row0 col9\" >16</td>\n",
       "    </tr>\n",
       "    <tr>\n",
       "      <th id=\"T_e3734_level0_row1\" class=\"row_heading level0 row1\" >1</th>\n",
       "      <td id=\"T_e3734_row1_col0\" class=\"data row1 col0\" >BlockingPy</td>\n",
       "      <td id=\"T_e3734_row1_col1\" class=\"data row1 col1\" >TBD</td>\n",
       "      <td id=\"T_e3734_row1_col2\" class=\"data row1 col2\" >coatless</td>\n",
       "      <td id=\"T_e3734_row1_col3\" class=\"data row1 col3\" >2025-01-09</td>\n",
       "      <td id=\"T_e3734_row1_col4\" class=\"data row1 col4\" >232</td>\n",
       "      <td id=\"T_e3734_row1_col5\" class=\"data row1 col5\" >Blocking records for record linkage and deduplication with Approximate Nearest Neighbor algorithms.;</td>\n",
       "      <td id=\"T_e3734_row1_col6\" class=\"data row1 col6\" >['data-processing-munging']</td>\n",
       "      <td id=\"T_e3734_row1_col7\" class=\"data row1 col7\" >2025-01-21</td>\n",
       "      <td id=\"T_e3734_row1_col8\" class=\"data row1 col8\" >T-Strojny</td>\n",
       "      <td id=\"T_e3734_row1_col9\" class=\"data row1 col9\" >28</td>\n",
       "    </tr>\n",
       "    <tr>\n",
       "      <th id=\"T_e3734_level0_row2\" class=\"row_heading level0 row2\" >2</th>\n",
       "      <td id=\"T_e3734_row2_col0\" class=\"data row2 col0\" >PIVA</td>\n",
       "      <td id=\"T_e3734_row2_col1\" class=\"data row2 col1\" >TBD</td>\n",
       "      <td id=\"T_e3734_row2_col2\" class=\"data row2 col2\" >coatless</td>\n",
       "      <td id=\"T_e3734_row2_col3\" class=\"data row2 col3\" >2025-01-04</td>\n",
       "      <td id=\"T_e3734_row2_col4\" class=\"data row2 col4\" >231</td>\n",
       "      <td id=\"T_e3734_row2_col5\" class=\"data row2 col5\" >Visualization and analysis toolkit for experimental data from Angle-Resolved Photoemission Spectroscopy (ARPES)</td>\n",
       "      <td id=\"T_e3734_row2_col6\" class=\"data row2 col6\" >['data-extraction', 'data-visualization']</td>\n",
       "      <td id=\"T_e3734_row2_col7\" class=\"data row2 col7\" >2025-01-23</td>\n",
       "      <td id=\"T_e3734_row2_col8\" class=\"data row2 col8\" >coatless</td>\n",
       "      <td id=\"T_e3734_row2_col9\" class=\"data row2 col9\" >33</td>\n",
       "    </tr>\n",
       "    <tr>\n",
       "      <th id=\"T_e3734_level0_row3\" class=\"row_heading level0 row3\" >3</th>\n",
       "      <td id=\"T_e3734_row3_col0\" class=\"data row3 col0\" >GREOPy</td>\n",
       "      <td id=\"T_e3734_row3_col1\" class=\"data row3 col1\" >TBD</td>\n",
       "      <td id=\"T_e3734_row3_col2\" class=\"data row3 col2\" >coatless</td>\n",
       "      <td id=\"T_e3734_row3_col3\" class=\"data row3 col3\" >2024-12-21</td>\n",
       "      <td id=\"T_e3734_row3_col4\" class=\"data row3 col4\" >227</td>\n",
       "      <td id=\"T_e3734_row3_col5\" class=\"data row3 col5\" >Calculate relativistic light rays sent by an emitter to a receiver in the presence of a gravitational field.</td>\n",
       "      <td id=\"T_e3734_row3_col6\" class=\"data row3 col6\" >['data-processing-munging']</td>\n",
       "      <td id=\"T_e3734_row3_col7\" class=\"data row3 col7\" >2025-01-31</td>\n",
       "      <td id=\"T_e3734_row3_col8\" class=\"data row3 col8\" >coatless</td>\n",
       "      <td id=\"T_e3734_row3_col9\" class=\"data row3 col9\" >47</td>\n",
       "    </tr>\n",
       "    <tr>\n",
       "      <th id=\"T_e3734_level0_row4\" class=\"row_heading level0 row4\" >4</th>\n",
       "      <td id=\"T_e3734_row4_col0\" class=\"data row4 col0\" >GALAssify</td>\n",
       "      <td id=\"T_e3734_row4_col1\" class=\"data row4 col1\" >TBD</td>\n",
       "      <td id=\"T_e3734_row4_col2\" class=\"data row4 col2\" >SimonMolinsky</td>\n",
       "      <td id=\"T_e3734_row4_col3\" class=\"data row4 col3\" >2024-09-30</td>\n",
       "      <td id=\"T_e3734_row4_col4\" class=\"data row4 col4\" >214</td>\n",
       "      <td id=\"T_e3734_row4_col5\" class=\"data row4 col5\" >A Python package for visually classifying astronomical objects</td>\n",
       "      <td id=\"T_e3734_row4_col6\" class=\"data row4 col6\" >['data-validation-testing', 'data-visualization']</td>\n",
       "      <td id=\"T_e3734_row4_col7\" class=\"data row4 col7\" >2024-12-02</td>\n",
       "      <td id=\"T_e3734_row4_col8\" class=\"data row4 col8\" >SimonMolinsky</td>\n",
       "      <td id=\"T_e3734_row4_col9\" class=\"data row4 col9\" >129</td>\n",
       "    </tr>\n",
       "    <tr>\n",
       "      <th id=\"T_e3734_level0_row5\" class=\"row_heading level0 row5\" >5</th>\n",
       "      <td id=\"T_e3734_row5_col0\" class=\"data row5 col0\" >neonutilities</td>\n",
       "      <td id=\"T_e3734_row5_col1\" class=\"data row5 col1\" >TBD</td>\n",
       "      <td id=\"T_e3734_row5_col2\" class=\"data row5 col2\" >cmarmo</td>\n",
       "      <td id=\"T_e3734_row5_col3\" class=\"data row5 col3\" >2024-09-25</td>\n",
       "      <td id=\"T_e3734_row5_col4\" class=\"data row5 col4\" >213</td>\n",
       "      <td id=\"T_e3734_row5_col5\" class=\"data row5 col5\" >neonutilities is a package for accessing and wrangling data generated and published by the National Ecological Observatory Network.</td>\n",
       "      <td id=\"T_e3734_row5_col6\" class=\"data row5 col6\" >['data-retrieval', 'data-processing-munging']</td>\n",
       "      <td id=\"T_e3734_row5_col7\" class=\"data row5 col7\" >2024-12-09</td>\n",
       "      <td id=\"T_e3734_row5_col8\" class=\"data row5 col8\" >cklunch</td>\n",
       "      <td id=\"T_e3734_row5_col9\" class=\"data row5 col9\" >134</td>\n",
       "    </tr>\n",
       "    <tr>\n",
       "      <th id=\"T_e3734_level0_row6\" class=\"row_heading level0 row6\" >6</th>\n",
       "      <td id=\"T_e3734_row6_col0\" class=\"data row6 col0\" >disdrodb</td>\n",
       "      <td id=\"T_e3734_row6_col1\" class=\"data row6 col1\" >zeitsperre</td>\n",
       "      <td id=\"T_e3734_row6_col2\" class=\"data row6 col2\" >isabelizimm</td>\n",
       "      <td id=\"T_e3734_row6_col3\" class=\"data row6 col3\" >2024-01-18</td>\n",
       "      <td id=\"T_e3734_row6_col4\" class=\"data row6 col4\" >156</td>\n",
       "      <td id=\"T_e3734_row6_col5\" class=\"data row6 col5\" >disdrodb -  A software for the decentralized archiving and standardization of global disdrometer data</td>\n",
       "      <td id=\"T_e3734_row6_col6\" class=\"data row6 col6\" >['data-retrieval', 'data-processing-munging', 'data-deposition']</td>\n",
       "      <td id=\"T_e3734_row6_col7\" class=\"data row6 col7\" >2025-02-06</td>\n",
       "      <td id=\"T_e3734_row6_col8\" class=\"data row6 col8\" >lwasser</td>\n",
       "      <td id=\"T_e3734_row6_col9\" class=\"data row6 col9\" >385</td>\n",
       "    </tr>\n",
       "  </tbody>\n",
       "</table>\n"
      ],
      "text/plain": [
       "<pandas.io.formats.style.Styler at 0x12873a3d0>"
      ]
     },
     "execution_count": 7,
     "metadata": {},
     "output_type": "execute_result"
    }
   ],
   "source": [
    "seeking_editor.style.set_properties(\n",
    "    **{\"text-align\": \"left\", \"white-space\": \"normal\"}\n",
    ")"
   ]
  },
  {
   "cell_type": "markdown",
   "metadata": {
    "editable": true,
    "slideshow": {
     "slide_type": ""
    },
    "tags": []
   },
   "source": [
    "## Seeking reviewers\n",
    "\n",
    "These are reviews that are paused because we are searching for reviewers. "
   ]
  },
  {
   "cell_type": "code",
   "execution_count": 8,
   "metadata": {
    "editable": true,
    "slideshow": {
     "slide_type": ""
    },
    "tags": [
     "remove-input"
    ]
   },
   "outputs": [
    {
     "data": {
      "text/html": [
       "<div>\n",
       "<style scoped>\n",
       "    .dataframe tbody tr th:only-of-type {\n",
       "        vertical-align: middle;\n",
       "    }\n",
       "\n",
       "    .dataframe tbody tr th {\n",
       "        vertical-align: top;\n",
       "    }\n",
       "\n",
       "    .dataframe thead th {\n",
       "        text-align: right;\n",
       "    }\n",
       "</style>\n",
       "<table border=\"1\" class=\"dataframe\">\n",
       "  <thead>\n",
       "    <tr style=\"text-align: right;\">\n",
       "      <th></th>\n",
       "      <th>Name</th>\n",
       "      <th>editor</th>\n",
       "      <th>eic</th>\n",
       "      <th>Date Opened</th>\n",
       "      <th>labels</th>\n",
       "      <th>Issue</th>\n",
       "      <th>Description</th>\n",
       "      <th>Categories</th>\n",
       "      <th>status</th>\n",
       "      <th>Last Comment</th>\n",
       "      <th>Last User to Comment</th>\n",
       "      <th>Days Open</th>\n",
       "    </tr>\n",
       "  </thead>\n",
       "  <tbody>\n",
       "    <tr>\n",
       "      <th>10</th>\n",
       "      <td>Solar Data Tools</td>\n",
       "      <td>cmarmo</td>\n",
       "      <td>cmarmo</td>\n",
       "      <td>2024-08-17</td>\n",
       "      <td>['2/seeking-reviewers']</td>\n",
       "      <td>210</td>\n",
       "      <td>Library of tools for analyzing photovoltaic power time-series data.</td>\n",
       "      <td>['data-retrieval', 'data-extraction', 'data-processing-munging', 'data-visualization']</td>\n",
       "      <td>under-review</td>\n",
       "      <td>2025-02-04</td>\n",
       "      <td>cmarmo</td>\n",
       "      <td>173</td>\n",
       "    </tr>\n",
       "  </tbody>\n",
       "</table>\n",
       "</div>"
      ],
      "text/plain": [
       "                Name  editor     eic Date Opened                   labels  \\\n",
       "10  Solar Data Tools  cmarmo  cmarmo  2024-08-17  ['2/seeking-reviewers']   \n",
       "\n",
       "    Issue  \\\n",
       "10    210   \n",
       "\n",
       "                                                            Description  \\\n",
       "10  Library of tools for analyzing photovoltaic power time-series data.   \n",
       "\n",
       "                                                                                Categories  \\\n",
       "10  ['data-retrieval', 'data-extraction', 'data-processing-munging', 'data-visualization']   \n",
       "\n",
       "          status Last Comment Last User to Comment  Days Open  \n",
       "10  under-review   2025-02-04               cmarmo        173  "
      ]
     },
     "execution_count": 8,
     "metadata": {},
     "output_type": "execute_result"
    }
   ],
   "source": [
    "seeking_reviewers = open_reviews[\n",
    "    open_reviews[\"labels\"].str.contains(\"2/seeking-reviewers\", na=False)\n",
    "].copy()\n",
    "seeking_reviewers"
   ]
  },
  {
   "cell_type": "code",
   "execution_count": 9,
   "metadata": {
    "editable": true,
    "slideshow": {
     "slide_type": ""
    },
    "tags": [
     "remove-input"
    ]
   },
   "outputs": [],
   "source": [
    "presubmissions = pd.read_csv(\n",
    "    \"../../_data/review_presubmissions.csv\",\n",
    "    parse_dates=[\"date_opened\", \"date_closed\", \"last_comment_date\"],\n",
    ")\n",
    "presubmissions[\"date_opened\"] = presubmissions[\"date_opened\"]\n",
    "presubmissions[\"last_comment_date\"] = presubmissions[\"last_comment_date\"]\n",
    "presubmissions = presubmissions.rename(\n",
    "    columns={\n",
    "        \"package_name\": \"Name\",\n",
    "        \"date_opened\": \"Date Opened\",\n",
    "        \"date_closed\": \"Date Closed\",\n",
    "        \"issue_num\": \"Issue\",\n",
    "        \"description\": \"Description\",\n",
    "        \"categories\": \"Categories\",\n",
    "        \"last_comment_date\": \"Last Comment\",\n",
    "        \"last_comment_user\": \"Last User to Comment\",\n",
    "    }\n",
    ")\n",
    "\n",
    "all_presubmissions = len(presubmissions)"
   ]
  },
  {
   "cell_type": "code",
   "execution_count": 10,
   "metadata": {
    "editable": true,
    "slideshow": {
     "slide_type": ""
    },
    "tags": [
     "remove-input"
    ]
   },
   "outputs": [],
   "source": [
    "# Get all currently open presubmissions\n",
    "open_presubmissions = presubmissions[presubmissions[\"Date Closed\"].isna()]\n",
    "today = datetime.now(timezone.utc)\n",
    "open_presubmissions[\"days_open\"] = (\n",
    "    today - open_presubmissions[\"Date Opened\"]\n",
    ").dt.days\n",
    "open_presubmissions[\"Date Opened\"] = open_presubmissions[\"Date Opened\"].dt.date\n",
    "open_presubmissions[\"Date Opened\"] = open_presubmissions[\"Last Comment\"].dt.date\n",
    "open_presubmissions.reset_index(drop=True, inplace=True)\n",
    "\n",
    "total_open = len(open_presubmissions)\n",
    "\n",
    "# Cleanup\n",
    "open_presubmissions.sort_values(by=\"Date Opened\", ascending=False, inplace=True)\n",
    "open_presubmissions.drop(columns=[\"Date Closed\", \"Unnamed: 0\", \"editor\"], inplace=True)"
   ]
  },
  {
   "cell_type": "markdown",
   "metadata": {
    "editable": true,
    "slideshow": {
     "slide_type": ""
    },
    "tags": [],
    "user_expressions": [
     {
      "expression": "all_presubmissions",
      "result": {
       "data": {
        "text/plain": "61"
       },
       "metadata": {},
       "status": "ok"
      }
     }
    ]
   },
   "source": [
    "## All presubmissions\n",
    "\n",
    "There are **{eval}`all_presubmissions`** total presubmissions to date, including closed presubmissions."
   ]
  },
  {
   "cell_type": "markdown",
   "metadata": {
    "editable": true,
    "slideshow": {
     "slide_type": ""
    },
    "tags": [],
    "user_expressions": [
     {
      "expression": "len(open_presubmissions)",
      "result": {
       "data": {
        "text/plain": "3"
       },
       "metadata": {},
       "status": "ok"
      }
     }
    ]
   },
   "source": [
    "## Currently open software presubmission inquiries\n",
    "\n",
    "* It could be useful to grab the most recent comments on each\n",
    "* It would also be useful to grab the gh usernames of all people involved in the discussion and credit them. So for one i see astropy editors + alex being involved.\n",
    "\n",
    "There are **{eval}`len(open_presubmissions)` presubmission requests** currently open.\n"
   ]
  },
  {
   "cell_type": "code",
   "execution_count": 11,
   "metadata": {
    "editable": true,
    "slideshow": {
     "slide_type": ""
    },
    "tags": [
     "remove-input"
    ]
   },
   "outputs": [
    {
     "data": {
      "text/html": [
       "<div>\n",
       "<style scoped>\n",
       "    .dataframe tbody tr th:only-of-type {\n",
       "        vertical-align: middle;\n",
       "    }\n",
       "\n",
       "    .dataframe tbody tr th {\n",
       "        vertical-align: top;\n",
       "    }\n",
       "\n",
       "    .dataframe thead th {\n",
       "        text-align: right;\n",
       "    }\n",
       "</style>\n",
       "<table border=\"1\" class=\"dataframe\">\n",
       "  <thead>\n",
       "    <tr style=\"text-align: right;\">\n",
       "      <th></th>\n",
       "      <th>Name</th>\n",
       "      <th>eic</th>\n",
       "      <th>Date Opened</th>\n",
       "      <th>labels</th>\n",
       "      <th>Issue</th>\n",
       "      <th>Description</th>\n",
       "      <th>Categories</th>\n",
       "      <th>status</th>\n",
       "      <th>Last Comment</th>\n",
       "      <th>Last User to Comment</th>\n",
       "      <th>days_open</th>\n",
       "    </tr>\n",
       "  </thead>\n",
       "  <tbody>\n",
       "    <tr>\n",
       "      <th>1</th>\n",
       "      <td>VARGRAM</td>\n",
       "      <td>coatless</td>\n",
       "      <td>2025-02-06</td>\n",
       "      <td>['presubmission', '⌛ pending-maintainer-response']</td>\n",
       "      <td>225</td>\n",
       "      <td>A Python visualization tool for genomic surveillance</td>\n",
       "      <td>['data-processing-munging', 'data-visualization']</td>\n",
       "      <td>presubmission</td>\n",
       "      <td>2025-02-06 09:22:06+00:00</td>\n",
       "      <td>cjpalpallatoc</td>\n",
       "      <td>51</td>\n",
       "    </tr>\n",
       "    <tr>\n",
       "      <th>0</th>\n",
       "      <td>Litrepl</td>\n",
       "      <td>coatless</td>\n",
       "      <td>2025-02-05</td>\n",
       "      <td>['presubmission', 'currently-out-of-scope']</td>\n",
       "      <td>226</td>\n",
       "      <td>A tool for code snippet evaluation in Markdown/LaTeX documents.</td>\n",
       "      <td>['workflow-automation']</td>\n",
       "      <td>presubmission</td>\n",
       "      <td>2025-02-05 08:00:21+00:00</td>\n",
       "      <td>coatless</td>\n",
       "      <td>50</td>\n",
       "    </tr>\n",
       "    <tr>\n",
       "      <th>2</th>\n",
       "      <td>c4dynamics</td>\n",
       "      <td>coatless</td>\n",
       "      <td>2025-02-05</td>\n",
       "      <td>['presubmission', '⌛ pending-maintainer-response']</td>\n",
       "      <td>224</td>\n",
       "      <td>Python framework for algorithms of dynamic systems</td>\n",
       "      <td>[]</td>\n",
       "      <td>presubmission</td>\n",
       "      <td>2025-02-05 07:38:25+00:00</td>\n",
       "      <td>coatless</td>\n",
       "      <td>52</td>\n",
       "    </tr>\n",
       "  </tbody>\n",
       "</table>\n",
       "</div>"
      ],
      "text/plain": [
       "         Name       eic Date Opened  \\\n",
       "1     VARGRAM  coatless  2025-02-06   \n",
       "0     Litrepl  coatless  2025-02-05   \n",
       "2  c4dynamics  coatless  2025-02-05   \n",
       "\n",
       "                                               labels  Issue  \\\n",
       "1  ['presubmission', '⌛ pending-maintainer-response']    225   \n",
       "0         ['presubmission', 'currently-out-of-scope']    226   \n",
       "2  ['presubmission', '⌛ pending-maintainer-response']    224   \n",
       "\n",
       "                                                       Description  \\\n",
       "1             A Python visualization tool for genomic surveillance   \n",
       "0  A tool for code snippet evaluation in Markdown/LaTeX documents.   \n",
       "2               Python framework for algorithms of dynamic systems   \n",
       "\n",
       "                                          Categories         status  \\\n",
       "1  ['data-processing-munging', 'data-visualization']  presubmission   \n",
       "0                            ['workflow-automation']  presubmission   \n",
       "2                                                 []  presubmission   \n",
       "\n",
       "               Last Comment Last User to Comment  days_open  \n",
       "1 2025-02-06 09:22:06+00:00        cjpalpallatoc         51  \n",
       "0 2025-02-05 08:00:21+00:00             coatless         50  \n",
       "2 2025-02-05 07:38:25+00:00             coatless         52  "
      ]
     },
     "execution_count": 11,
     "metadata": {},
     "output_type": "execute_result"
    }
   ],
   "source": [
    "open_presubmissions"
   ]
  },
  {
   "cell_type": "markdown",
   "metadata": {},
   "source": [
    "## Editorial team status"
   ]
  },
  {
   "cell_type": "code",
   "execution_count": 12,
   "metadata": {
    "editable": true,
    "slideshow": {
     "slide_type": ""
    },
    "tags": [
     "remove-input"
    ]
   },
   "outputs": [
    {
     "data": {
      "text/html": [
       "<div>\n",
       "<style scoped>\n",
       "    .dataframe tbody tr th:only-of-type {\n",
       "        vertical-align: middle;\n",
       "    }\n",
       "\n",
       "    .dataframe tbody tr th {\n",
       "        vertical-align: top;\n",
       "    }\n",
       "\n",
       "    .dataframe thead th {\n",
       "        text-align: right;\n",
       "    }\n",
       "</style>\n",
       "<table border=\"1\" class=\"dataframe\">\n",
       "  <thead>\n",
       "    <tr style=\"text-align: right;\">\n",
       "      <th></th>\n",
       "      <th>editor</th>\n",
       "    </tr>\n",
       "  </thead>\n",
       "  <tbody>\n",
       "    <tr>\n",
       "      <th>0</th>\n",
       "      <td>cmarmo</td>\n",
       "    </tr>\n",
       "    <tr>\n",
       "      <th>1</th>\n",
       "      <td>dhomeier</td>\n",
       "    </tr>\n",
       "    <tr>\n",
       "      <th>2</th>\n",
       "      <td>ocefpaf</td>\n",
       "    </tr>\n",
       "    <tr>\n",
       "      <th>3</th>\n",
       "      <td>NikleDave</td>\n",
       "    </tr>\n",
       "    <tr>\n",
       "      <th>4</th>\n",
       "      <td>SimonMolinsky</td>\n",
       "    </tr>\n",
       "    <tr>\n",
       "      <th>5</th>\n",
       "      <td>Batalex</td>\n",
       "    </tr>\n",
       "    <tr>\n",
       "      <th>6</th>\n",
       "      <td>sneakers-the-rat</td>\n",
       "    </tr>\n",
       "    <tr>\n",
       "      <th>7</th>\n",
       "      <td>tomalrussel</td>\n",
       "    </tr>\n",
       "    <tr>\n",
       "      <th>8</th>\n",
       "      <td>ctb</td>\n",
       "    </tr>\n",
       "    <tr>\n",
       "      <th>9</th>\n",
       "      <td>mjhajharia</td>\n",
       "    </tr>\n",
       "    <tr>\n",
       "      <th>10</th>\n",
       "      <td>hamogu</td>\n",
       "    </tr>\n",
       "    <tr>\n",
       "      <th>11</th>\n",
       "      <td>isabelizimm</td>\n",
       "    </tr>\n",
       "    <tr>\n",
       "      <th>12</th>\n",
       "      <td>yeelauren</td>\n",
       "    </tr>\n",
       "    <tr>\n",
       "      <th>13</th>\n",
       "      <td>banesullivan</td>\n",
       "    </tr>\n",
       "  </tbody>\n",
       "</table>\n",
       "</div>"
      ],
      "text/plain": [
       "              editor\n",
       "0             cmarmo\n",
       "1           dhomeier\n",
       "2            ocefpaf\n",
       "3          NikleDave\n",
       "4      SimonMolinsky\n",
       "5            Batalex\n",
       "6   sneakers-the-rat\n",
       "7        tomalrussel\n",
       "8                ctb\n",
       "9         mjhajharia\n",
       "10            hamogu\n",
       "11       isabelizimm\n",
       "12         yeelauren\n",
       "13      banesullivan"
      ]
     },
     "execution_count": 12,
     "metadata": {},
     "output_type": "execute_result"
    }
   ],
   "source": [
    "# Static list of all editors, updated 7/13/2024\n",
    "# Let's pull this list from unique people above who are active. \n",
    "# TODO: get this list of current editors dynamically\n",
    "all_editors = [\n",
    "    \"cmarmo\",\n",
    "    \"dhomeier\",\n",
    "    \"ocefpaf\",\n",
    "    \"NikleDave\",\n",
    "    \"SimonMolinsky\",\n",
    "    \"Batalex\",\n",
    "    \"sneakers-the-rat\",\n",
    "    \"tomalrussel\",\n",
    "    \"ctb\",\n",
    "    \"mjhajharia\",\n",
    "    \"hamogu\",\n",
    "    \"isabelizimm\",\n",
    "    \"yeelauren\",\n",
    "    \"banesullivan\",\n",
    "]\n",
    "all_editors_df = pd.DataFrame({\"editor\": all_editors})\n",
    "all_editors_df"
   ]
  },
  {
   "cell_type": "code",
   "execution_count": 13,
   "metadata": {
    "editable": true,
    "slideshow": {
     "slide_type": ""
    },
    "tags": []
   },
   "outputs": [
    {
     "data": {
      "text/html": [
       "<div>\n",
       "<style scoped>\n",
       "    .dataframe tbody tr th:only-of-type {\n",
       "        vertical-align: middle;\n",
       "    }\n",
       "\n",
       "    .dataframe tbody tr th {\n",
       "        vertical-align: top;\n",
       "    }\n",
       "\n",
       "    .dataframe thead th {\n",
       "        text-align: right;\n",
       "    }\n",
       "</style>\n",
       "<table border=\"1\" class=\"dataframe\">\n",
       "  <thead>\n",
       "    <tr style=\"text-align: right;\">\n",
       "      <th></th>\n",
       "      <th>editor</th>\n",
       "      <th>count</th>\n",
       "    </tr>\n",
       "  </thead>\n",
       "  <tbody>\n",
       "    <tr>\n",
       "      <th>0</th>\n",
       "      <td>cmarmo</td>\n",
       "      <td>3</td>\n",
       "    </tr>\n",
       "    <tr>\n",
       "      <th>1</th>\n",
       "      <td>isabelizimm</td>\n",
       "      <td>2</td>\n",
       "    </tr>\n",
       "    <tr>\n",
       "      <th>2</th>\n",
       "      <td>yeelauren</td>\n",
       "      <td>2</td>\n",
       "    </tr>\n",
       "    <tr>\n",
       "      <th>3</th>\n",
       "      <td>Batalex</td>\n",
       "      <td>1</td>\n",
       "    </tr>\n",
       "    <tr>\n",
       "      <th>4</th>\n",
       "      <td>NimaSarajpoor</td>\n",
       "      <td>1</td>\n",
       "    </tr>\n",
       "    <tr>\n",
       "      <th>5</th>\n",
       "      <td>ctb</td>\n",
       "      <td>1</td>\n",
       "    </tr>\n",
       "    <tr>\n",
       "      <th>6</th>\n",
       "      <td>dhomeier</td>\n",
       "      <td>1</td>\n",
       "    </tr>\n",
       "    <tr>\n",
       "      <th>7</th>\n",
       "      <td>hamogu</td>\n",
       "      <td>1</td>\n",
       "    </tr>\n",
       "    <tr>\n",
       "      <th>8</th>\n",
       "      <td>kellyrowland</td>\n",
       "      <td>1</td>\n",
       "    </tr>\n",
       "    <tr>\n",
       "      <th>9</th>\n",
       "      <td>sneakers-the-rat</td>\n",
       "      <td>1</td>\n",
       "    </tr>\n",
       "    <tr>\n",
       "      <th>10</th>\n",
       "      <td>tkoyama010</td>\n",
       "      <td>1</td>\n",
       "    </tr>\n",
       "    <tr>\n",
       "      <th>11</th>\n",
       "      <td>zeitsperre</td>\n",
       "      <td>1</td>\n",
       "    </tr>\n",
       "  </tbody>\n",
       "</table>\n",
       "</div>"
      ],
      "text/plain": [
       "              editor  count\n",
       "0             cmarmo      3\n",
       "1        isabelizimm      2\n",
       "2          yeelauren      2\n",
       "3            Batalex      1\n",
       "4      NimaSarajpoor      1\n",
       "5                ctb      1\n",
       "6           dhomeier      1\n",
       "7             hamogu      1\n",
       "8       kellyrowland      1\n",
       "9   sneakers-the-rat      1\n",
       "10        tkoyama010      1\n",
       "11        zeitsperre      1"
      ]
     },
     "execution_count": 13,
     "metadata": {},
     "output_type": "execute_result"
    }
   ],
   "source": [
    "# Create table of editors who are currently assigned to an open submission\n",
    "busy_editors = open_reviews.loc[open_reviews.editor != \"TBD\", [\"editor\"]].value_counts().reset_index()\n",
    "busy_editors"
   ]
  },
  {
   "cell_type": "code",
   "execution_count": 14,
   "metadata": {
    "editable": true,
    "slideshow": {
     "slide_type": ""
    },
    "tags": []
   },
   "outputs": [],
   "source": [
    "all_editor_activity = all_editors_df.merge(busy_editors, on=\"editor\", how=\"outer\").fillna(0)\n",
    "\n",
    "all_editor_activity[\"count\"]= all_editor_activity[\"count\"].astype(int)\n",
    "all_editor_activity.sort_values(by=\"count\", inplace=True)\n",
    "all_editor_activity = all_editor_activity.reset_index(drop=True)"
   ]
  },
  {
   "cell_type": "markdown",
   "metadata": {},
   "source": [
    "### Who is currently available? \n",
    "\n",
    "Below are editors that currently do not have submissions assigned to them."
   ]
  },
  {
   "cell_type": "code",
   "execution_count": 15,
   "metadata": {
    "editable": true,
    "slideshow": {
     "slide_type": ""
    },
    "tags": [
     "remove-input"
    ]
   },
   "outputs": [
    {
     "data": {
      "text/html": [
       "<div>\n",
       "<style scoped>\n",
       "    .dataframe tbody tr th:only-of-type {\n",
       "        vertical-align: middle;\n",
       "    }\n",
       "\n",
       "    .dataframe tbody tr th {\n",
       "        vertical-align: top;\n",
       "    }\n",
       "\n",
       "    .dataframe thead th {\n",
       "        text-align: right;\n",
       "    }\n",
       "</style>\n",
       "<table border=\"1\" class=\"dataframe\">\n",
       "  <thead>\n",
       "    <tr style=\"text-align: right;\">\n",
       "      <th></th>\n",
       "      <th>editor</th>\n",
       "      <th>count</th>\n",
       "    </tr>\n",
       "  </thead>\n",
       "  <tbody>\n",
       "    <tr>\n",
       "      <th>0</th>\n",
       "      <td>NikleDave</td>\n",
       "      <td>0</td>\n",
       "    </tr>\n",
       "    <tr>\n",
       "      <th>1</th>\n",
       "      <td>tomalrussel</td>\n",
       "      <td>0</td>\n",
       "    </tr>\n",
       "    <tr>\n",
       "      <th>2</th>\n",
       "      <td>SimonMolinsky</td>\n",
       "      <td>0</td>\n",
       "    </tr>\n",
       "    <tr>\n",
       "      <th>3</th>\n",
       "      <td>banesullivan</td>\n",
       "      <td>0</td>\n",
       "    </tr>\n",
       "    <tr>\n",
       "      <th>4</th>\n",
       "      <td>ocefpaf</td>\n",
       "      <td>0</td>\n",
       "    </tr>\n",
       "    <tr>\n",
       "      <th>5</th>\n",
       "      <td>mjhajharia</td>\n",
       "      <td>0</td>\n",
       "    </tr>\n",
       "  </tbody>\n",
       "</table>\n",
       "</div>"
      ],
      "text/plain": [
       "          editor  count\n",
       "0      NikleDave      0\n",
       "1    tomalrussel      0\n",
       "2  SimonMolinsky      0\n",
       "3   banesullivan      0\n",
       "4        ocefpaf      0\n",
       "5     mjhajharia      0"
      ]
     },
     "execution_count": 15,
     "metadata": {},
     "output_type": "execute_result"
    }
   ],
   "source": [
    "# Get counts of available and unavailable editors\n",
    "available_editors = all_editor_activity[all_editor_activity[\"count\"] == 0]\n",
    "all_busy_editors = all_editor_activity[all_editor_activity[\"count\"] != 0]\n",
    "\n",
    "num_available_editors = len(available_editors)\n",
    "available_editors"
   ]
  },
  {
   "cell_type": "markdown",
   "metadata": {
    "editable": true,
    "slideshow": {
     "slide_type": ""
    },
    "tags": [],
    "user_expressions": [
     {
      "expression": "len(available_editors)",
      "result": {
       "data": {
        "text/plain": "6"
       },
       "metadata": {},
       "status": "ok"
      }
     },
     {
      "expression": "len(all_busy_editors)",
      "result": {
       "data": {
        "text/plain": "12"
       },
       "metadata": {},
       "status": "ok"
      }
     }
    ]
   },
   "source": [
    "## Available editors\n",
    "\n",
    "There are currently **{eval}`len(available_editors)` available editors** and **{eval}`len(all_busy_editors)` editors who are assigned to atleast one software review**."
   ]
  },
  {
   "cell_type": "code",
   "execution_count": 17,
   "metadata": {
    "editable": true,
    "slideshow": {
     "slide_type": ""
    },
    "tags": [
     "remove-input"
    ]
   },
   "outputs": [
    {
     "data": {
      "text/html": [
       "<div>\n",
       "<style scoped>\n",
       "    .dataframe tbody tr th:only-of-type {\n",
       "        vertical-align: middle;\n",
       "    }\n",
       "\n",
       "    .dataframe tbody tr th {\n",
       "        vertical-align: top;\n",
       "    }\n",
       "\n",
       "    .dataframe thead th {\n",
       "        text-align: right;\n",
       "    }\n",
       "</style>\n",
       "<table border=\"1\" class=\"dataframe\">\n",
       "  <thead>\n",
       "    <tr style=\"text-align: right;\">\n",
       "      <th></th>\n",
       "      <th>editor</th>\n",
       "      <th>count</th>\n",
       "    </tr>\n",
       "  </thead>\n",
       "  <tbody>\n",
       "    <tr>\n",
       "      <th>0</th>\n",
       "      <td>NikleDave</td>\n",
       "      <td>0</td>\n",
       "    </tr>\n",
       "    <tr>\n",
       "      <th>1</th>\n",
       "      <td>tomalrussel</td>\n",
       "      <td>0</td>\n",
       "    </tr>\n",
       "    <tr>\n",
       "      <th>2</th>\n",
       "      <td>SimonMolinsky</td>\n",
       "      <td>0</td>\n",
       "    </tr>\n",
       "    <tr>\n",
       "      <th>3</th>\n",
       "      <td>banesullivan</td>\n",
       "      <td>0</td>\n",
       "    </tr>\n",
       "    <tr>\n",
       "      <th>4</th>\n",
       "      <td>ocefpaf</td>\n",
       "      <td>0</td>\n",
       "    </tr>\n",
       "    <tr>\n",
       "      <th>5</th>\n",
       "      <td>mjhajharia</td>\n",
       "      <td>0</td>\n",
       "    </tr>\n",
       "    <tr>\n",
       "      <th>6</th>\n",
       "      <td>Batalex</td>\n",
       "      <td>1</td>\n",
       "    </tr>\n",
       "    <tr>\n",
       "      <th>7</th>\n",
       "      <td>tkoyama010</td>\n",
       "      <td>1</td>\n",
       "    </tr>\n",
       "    <tr>\n",
       "      <th>8</th>\n",
       "      <td>sneakers-the-rat</td>\n",
       "      <td>1</td>\n",
       "    </tr>\n",
       "    <tr>\n",
       "      <th>9</th>\n",
       "      <td>kellyrowland</td>\n",
       "      <td>1</td>\n",
       "    </tr>\n",
       "    <tr>\n",
       "      <th>10</th>\n",
       "      <td>hamogu</td>\n",
       "      <td>1</td>\n",
       "    </tr>\n",
       "    <tr>\n",
       "      <th>11</th>\n",
       "      <td>dhomeier</td>\n",
       "      <td>1</td>\n",
       "    </tr>\n",
       "    <tr>\n",
       "      <th>12</th>\n",
       "      <td>ctb</td>\n",
       "      <td>1</td>\n",
       "    </tr>\n",
       "    <tr>\n",
       "      <th>13</th>\n",
       "      <td>NimaSarajpoor</td>\n",
       "      <td>1</td>\n",
       "    </tr>\n",
       "    <tr>\n",
       "      <th>14</th>\n",
       "      <td>zeitsperre</td>\n",
       "      <td>1</td>\n",
       "    </tr>\n",
       "    <tr>\n",
       "      <th>15</th>\n",
       "      <td>yeelauren</td>\n",
       "      <td>2</td>\n",
       "    </tr>\n",
       "    <tr>\n",
       "      <th>16</th>\n",
       "      <td>isabelizimm</td>\n",
       "      <td>2</td>\n",
       "    </tr>\n",
       "    <tr>\n",
       "      <th>17</th>\n",
       "      <td>cmarmo</td>\n",
       "      <td>3</td>\n",
       "    </tr>\n",
       "  </tbody>\n",
       "</table>\n",
       "</div>"
      ],
      "text/plain": [
       "              editor  count\n",
       "0          NikleDave      0\n",
       "1        tomalrussel      0\n",
       "2      SimonMolinsky      0\n",
       "3       banesullivan      0\n",
       "4            ocefpaf      0\n",
       "5         mjhajharia      0\n",
       "6            Batalex      1\n",
       "7         tkoyama010      1\n",
       "8   sneakers-the-rat      1\n",
       "9       kellyrowland      1\n",
       "10            hamogu      1\n",
       "11          dhomeier      1\n",
       "12               ctb      1\n",
       "13     NimaSarajpoor      1\n",
       "14        zeitsperre      1\n",
       "15         yeelauren      2\n",
       "16       isabelizimm      2\n",
       "17            cmarmo      3"
      ]
     },
     "execution_count": 17,
     "metadata": {},
     "output_type": "execute_result"
    }
   ],
   "source": [
    "# Display editor table\n",
    "all_editor_activity"
   ]
  },
  {
   "cell_type": "code",
   "execution_count": null,
   "metadata": {
    "editable": true,
    "slideshow": {
     "slide_type": ""
    },
    "tags": [
     "remove-input"
    ]
   },
   "outputs": [],
   "source": [
    "# TODO: calculate time that they were in review."
   ]
  },
  {
   "cell_type": "markdown",
   "metadata": {
    "editable": true,
    "slideshow": {
     "slide_type": ""
    },
    "tags": []
   },
   "source": [
    "## Editors load\n",
    "\n",
    "Next, we look at the load of each editor over time to get a sense of their time demands. \n",
    "\n",
    "NOTE: The data below represents all editors over time, not just currently active editors"
   ]
  },
  {
   "cell_type": "code",
   "execution_count": 18,
   "metadata": {
    "editable": true,
    "slideshow": {
     "slide_type": ""
    },
    "tags": [
     "remove-input"
    ]
   },
   "outputs": [
    {
     "data": {
      "text/plain": [
       "['tkoyama010',\n",
       " 'cmarmo',\n",
       " 'banesullivan',\n",
       " 'yeelauren',\n",
       " 'kellyrowland',\n",
       " 'Batalex',\n",
       " 'hamogu',\n",
       " 'isabelizimm',\n",
       " 'NimaSarajpoor',\n",
       " 'dhomeier',\n",
       " 'ctb',\n",
       " 'zeitsperre',\n",
       " 'ocefpaf',\n",
       " 'sneakers-the-rat',\n",
       " 'SimonMolinsky',\n",
       " 'tomalrussell',\n",
       " 'snacktavish',\n",
       " 'arianesasso',\n",
       " 'mjhajharia',\n",
       " 'NickleDave',\n",
       " 'jbencook',\n",
       " 'jlpalomino',\n",
       " 'luizirber']"
      ]
     },
     "execution_count": 18,
     "metadata": {},
     "output_type": "execute_result"
    }
   ],
   "source": [
    "# Get a list of all editors over time that have supported pyOpenSci\n",
    "ignore_editors = [\"TBD\"]\n",
    "# ignore lwasser and xmnlab to bring min date to a more recent date\n",
    "ignore_editors += [\"lwasser\", \"xmnlab\"]\n",
    "editors = [\n",
    "    editor\n",
    "    for editor in pd.unique(reviews.editor)\n",
    "    if editor not in ignore_editors\n",
    "]\n",
    "editors"
   ]
  },
  {
   "cell_type": "code",
   "execution_count": 19,
   "metadata": {
    "editable": true,
    "slideshow": {
     "slide_type": ""
    },
    "tags": []
   },
   "outputs": [
    {
     "ename": "KeyError",
     "evalue": "'n_edits'",
     "output_type": "error",
     "traceback": [
      "\u001b[0;31m---------------------------------------------------------------------------\u001b[0m",
      "\u001b[0;31mKeyError\u001b[0m                                  Traceback (most recent call last)",
      "File \u001b[0;32m~/mambaforge/envs/pyos-myst/lib/python3.11/site-packages/pandas/core/indexes/base.py:3805\u001b[0m, in \u001b[0;36mIndex.get_loc\u001b[0;34m(self, key)\u001b[0m\n\u001b[1;32m   3804\u001b[0m \u001b[38;5;28;01mtry\u001b[39;00m:\n\u001b[0;32m-> 3805\u001b[0m     \u001b[38;5;28;01mreturn\u001b[39;00m \u001b[38;5;28;43mself\u001b[39;49m\u001b[38;5;241;43m.\u001b[39;49m\u001b[43m_engine\u001b[49m\u001b[38;5;241;43m.\u001b[39;49m\u001b[43mget_loc\u001b[49m\u001b[43m(\u001b[49m\u001b[43mcasted_key\u001b[49m\u001b[43m)\u001b[49m\n\u001b[1;32m   3806\u001b[0m \u001b[38;5;28;01mexcept\u001b[39;00m \u001b[38;5;167;01mKeyError\u001b[39;00m \u001b[38;5;28;01mas\u001b[39;00m err:\n",
      "File \u001b[0;32mindex.pyx:167\u001b[0m, in \u001b[0;36mpandas._libs.index.IndexEngine.get_loc\u001b[0;34m()\u001b[0m\n",
      "File \u001b[0;32mindex.pyx:196\u001b[0m, in \u001b[0;36mpandas._libs.index.IndexEngine.get_loc\u001b[0;34m()\u001b[0m\n",
      "File \u001b[0;32mpandas/_libs/hashtable_class_helper.pxi:7081\u001b[0m, in \u001b[0;36mpandas._libs.hashtable.PyObjectHashTable.get_item\u001b[0;34m()\u001b[0m\n",
      "File \u001b[0;32mpandas/_libs/hashtable_class_helper.pxi:7089\u001b[0m, in \u001b[0;36mpandas._libs.hashtable.PyObjectHashTable.get_item\u001b[0;34m()\u001b[0m\n",
      "\u001b[0;31mKeyError\u001b[0m: 'n_edits'",
      "\nThe above exception was the direct cause of the following exception:\n",
      "\u001b[0;31mKeyError\u001b[0m                                  Traceback (most recent call last)",
      "Cell \u001b[0;32mIn[19], line 1\u001b[0m\n\u001b[0;32m----> 1\u001b[0m n_edits \u001b[38;5;241m=\u001b[39m \u001b[43mcount_edits_by_quarter\u001b[49m\u001b[43m(\u001b[49m\u001b[43mreviews\u001b[49m\u001b[43m)\u001b[49m\u001b[43m[\u001b[49m\u001b[38;5;124;43m\"\u001b[39;49m\u001b[38;5;124;43mn_edits\u001b[39;49m\u001b[38;5;124;43m\"\u001b[39;49m\u001b[43m]\u001b[49m\u001b[38;5;241m.\u001b[39mto_frame()\n",
      "File \u001b[0;32m~/mambaforge/envs/pyos-myst/lib/python3.11/site-packages/pandas/core/frame.py:4102\u001b[0m, in \u001b[0;36mDataFrame.__getitem__\u001b[0;34m(self, key)\u001b[0m\n\u001b[1;32m   4100\u001b[0m \u001b[38;5;28;01mif\u001b[39;00m \u001b[38;5;28mself\u001b[39m\u001b[38;5;241m.\u001b[39mcolumns\u001b[38;5;241m.\u001b[39mnlevels \u001b[38;5;241m>\u001b[39m \u001b[38;5;241m1\u001b[39m:\n\u001b[1;32m   4101\u001b[0m     \u001b[38;5;28;01mreturn\u001b[39;00m \u001b[38;5;28mself\u001b[39m\u001b[38;5;241m.\u001b[39m_getitem_multilevel(key)\n\u001b[0;32m-> 4102\u001b[0m indexer \u001b[38;5;241m=\u001b[39m \u001b[38;5;28;43mself\u001b[39;49m\u001b[38;5;241;43m.\u001b[39;49m\u001b[43mcolumns\u001b[49m\u001b[38;5;241;43m.\u001b[39;49m\u001b[43mget_loc\u001b[49m\u001b[43m(\u001b[49m\u001b[43mkey\u001b[49m\u001b[43m)\u001b[49m\n\u001b[1;32m   4103\u001b[0m \u001b[38;5;28;01mif\u001b[39;00m is_integer(indexer):\n\u001b[1;32m   4104\u001b[0m     indexer \u001b[38;5;241m=\u001b[39m [indexer]\n",
      "File \u001b[0;32m~/mambaforge/envs/pyos-myst/lib/python3.11/site-packages/pandas/core/indexes/base.py:3812\u001b[0m, in \u001b[0;36mIndex.get_loc\u001b[0;34m(self, key)\u001b[0m\n\u001b[1;32m   3807\u001b[0m     \u001b[38;5;28;01mif\u001b[39;00m \u001b[38;5;28misinstance\u001b[39m(casted_key, \u001b[38;5;28mslice\u001b[39m) \u001b[38;5;129;01mor\u001b[39;00m (\n\u001b[1;32m   3808\u001b[0m         \u001b[38;5;28misinstance\u001b[39m(casted_key, abc\u001b[38;5;241m.\u001b[39mIterable)\n\u001b[1;32m   3809\u001b[0m         \u001b[38;5;129;01mand\u001b[39;00m \u001b[38;5;28many\u001b[39m(\u001b[38;5;28misinstance\u001b[39m(x, \u001b[38;5;28mslice\u001b[39m) \u001b[38;5;28;01mfor\u001b[39;00m x \u001b[38;5;129;01min\u001b[39;00m casted_key)\n\u001b[1;32m   3810\u001b[0m     ):\n\u001b[1;32m   3811\u001b[0m         \u001b[38;5;28;01mraise\u001b[39;00m InvalidIndexError(key)\n\u001b[0;32m-> 3812\u001b[0m     \u001b[38;5;28;01mraise\u001b[39;00m \u001b[38;5;167;01mKeyError\u001b[39;00m(key) \u001b[38;5;28;01mfrom\u001b[39;00m \u001b[38;5;21;01merr\u001b[39;00m\n\u001b[1;32m   3813\u001b[0m \u001b[38;5;28;01mexcept\u001b[39;00m \u001b[38;5;167;01mTypeError\u001b[39;00m:\n\u001b[1;32m   3814\u001b[0m     \u001b[38;5;66;03m# If we have a listlike key, _check_indexing_error will raise\u001b[39;00m\n\u001b[1;32m   3815\u001b[0m     \u001b[38;5;66;03m#  InvalidIndexError. Otherwise we fall through and re-raise\u001b[39;00m\n\u001b[1;32m   3816\u001b[0m     \u001b[38;5;66;03m#  the TypeError.\u001b[39;00m\n\u001b[1;32m   3817\u001b[0m     \u001b[38;5;28mself\u001b[39m\u001b[38;5;241m.\u001b[39m_check_indexing_error(key)\n",
      "\u001b[0;31mKeyError\u001b[0m: 'n_edits'"
     ]
    }
   ],
   "source": [
    "n_edits = count_edits_by_quarter(reviews)[\"n_edits\"].to_frame()\n"
   ]
  },
  {
   "cell_type": "code",
   "execution_count": null,
   "metadata": {
    "editable": true,
    "scrolled": true,
    "slideshow": {
     "slide_type": ""
    },
    "tags": [
     "remove-input"
    ]
   },
   "outputs": [],
   "source": [
    "for editor in ignore_editors:\n",
    "    n_edits.drop(editor, inplace=True)\n",
    "n_edits"
   ]
  },
  {
   "cell_type": "code",
   "execution_count": null,
   "metadata": {
    "tags": [
     "remove-input"
    ]
   },
   "outputs": [],
   "source": [
    "edits = reviews_df.rename(columns=dict(created_at=\"Date\")).copy()"
   ]
  },
  {
   "cell_type": "code",
   "execution_count": null,
   "metadata": {
    "editable": true,
    "slideshow": {
     "slide_type": ""
    },
    "tags": [
     "remove-input"
    ]
   },
   "outputs": [],
   "source": [
    "charts = [\n",
    "    alt.Chart(edits.loc[edits.editor == editor])\n",
    "    .mark_bar(color=\"purple\")\n",
    "    .encode(\n",
    "        x=alt.X(\"yearquarter(Date):T\"),\n",
    "        y=alt.Y(\"count(package_name)\", title=\"Number of edits per quarter\"),\n",
    "        tooltip=[\"yearquarter(Date)\", \"count(package_name)\"],\n",
    "    )\n",
    "    .properties(\n",
    "        title=alt.TitleParams(\n",
    "            text=f\"{editor}\",\n",
    "            fontSize=18,\n",
    "            orient=\"right\",\n",
    "            angle=0,\n",
    "            align=\"right\",\n",
    "        ),\n",
    "        width=600,\n",
    "        height=200,\n",
    "    )\n",
    "    for editor in editors\n",
    "]\n",
    "\n",
    "full_chart = alt.vconcat(*charts).resolve_scale(x=\"shared\", y=\"shared\")\n",
    "full_chart.show()"
   ]
  }
 ],
 "metadata": {
  "jupytext": {
   "formats": "ipynb,py:percent"
  },
  "kernelspec": {
   "display_name": "Python 3 (ipykernel)",
   "language": "python",
   "name": "python3"
  },
  "language_info": {
   "codemirror_mode": {
    "name": "ipython",
    "version": 3
   },
   "file_extension": ".py",
   "mimetype": "text/x-python",
   "name": "python",
   "nbconvert_exporter": "python",
   "pygments_lexer": "ipython3",
   "version": "3.11.9"
  }
 },
 "nbformat": 4,
 "nbformat_minor": 4
}
