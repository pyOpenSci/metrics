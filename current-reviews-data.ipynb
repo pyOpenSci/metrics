{
 "cells": [
  {
   "cell_type": "markdown",
   "metadata": {
    "editable": true,
    "slideshow": {
     "slide_type": ""
    },
    "tags": []
   },
   "source": [
    "---\n",
    "title: pyOpenSci Current Software Review Stats\n",
    "subtitle: pyOpenSci Peer Review Summary Stats\n",
    "author:\n",
    "  - name: Leah Wasser\n",
    "    affiliations: pyOpenSci\n",
    "    orcid: 0000-0002-7859-8394\n",
    "    email: leah@pyopensci.org\n",
    "license:\n",
    "  code: MIT\n",
    "date: 2024/06/20\n",
    "---\n",
    "\n",
    "\n",
    "* https://github.com/ryantam626/jupyterlab_code_formatter\n",
    "\n",
    "This is a workflow that colates all GitHub issues associated with our reviews. "
   ]
  },
  {
   "cell_type": "markdown",
   "metadata": {
    "editable": true,
    "slideshow": {
     "slide_type": ""
    },
    "tags": []
   },
   "source": [
    "Questions i have\n",
    "\n",
    "* How to add figure captions and alt text\n",
    "* "
   ]
  },
  {
   "cell_type": "code",
   "execution_count": 1,
   "metadata": {
    "editable": true,
    "slideshow": {
     "slide_type": ""
    },
    "tags": [
     "remove-input"
    ]
   },
   "outputs": [],
   "source": [
    "import warnings\n",
    "from datetime import datetime, timezone\n",
    "\n",
    "import altair as alt\n",
    "import pandas as pd\n",
    "import pytz\n",
    "from pyosmeta import ProcessIssues\n",
    "from pyosmeta.github_api import GitHubAPI\n",
    "\n",
    "# Suppress all warnings\n",
    "warnings.filterwarnings(\"ignore\")"
   ]
  },
  {
   "cell_type": "code",
   "execution_count": 2,
   "metadata": {
    "editable": true,
    "slideshow": {
     "slide_type": ""
    },
    "tags": [
     "remove-input"
    ]
   },
   "outputs": [],
   "source": [
    "# Open Reviews"
   ]
  },
  {
   "cell_type": "code",
   "execution_count": 3,
   "metadata": {
    "editable": true,
    "slideshow": {
     "slide_type": ""
    },
    "tags": [
     "remove-input"
    ]
   },
   "outputs": [],
   "source": [
    "# Get a list of reviews submitted to us\n",
    "# This potentially doesn't include issues that were deemed out of scope...\n",
    "github_api = GitHubAPI(\n",
    "    org=\"pyopensci\",\n",
    "    repo=\"software-submission\",\n",
    "    labels=[\n",
    "        \"0/seeking-editor\",\n",
    "        \"1/editor-assigned\",\n",
    "        \"2/seeking-reviewers\",\n",
    "        \"3/reviewers-assigned\",\n",
    "        \"4/reviews-in-awaiting-changes\",\n",
    "        \"5/awaiting-reviewer-response\",\n",
    "        \"7/under-joss-review\",\n",
    "        \"8/joss-review-complete\",\n",
    "        \"New Submission!\",\n",
    "    ],\n",
    ")\n",
    "process_review = ProcessIssues(github_api)\n",
    "issues = process_review.get_issues()\n",
    "reviews, errors = process_review.parse_issues(issues)\n",
    "review_table = [\n",
    "    {\n",
    "        \"package_name\": name,\n",
    "        \"created_at\": review.created_at,\n",
    "        \"date_closed\": review.closed_at,\n",
    "        \"editor\": review.editor.github_username,\n",
    "        # \"editor\": review.editor.name,\n",
    "        \"labels\": review.labels,\n",
    "    }\n",
    "    for name, review in reviews.items()\n",
    "]"
   ]
  },
  {
   "cell_type": "markdown",
   "metadata": {
    "editable": true,
    "slideshow": {
     "slide_type": ""
    },
    "tags": []
   },
   "source": [
    "### Summary -- TODO: calculate reviews in active review, reviews in pre-review, reviews in JOSS\n",
    "pyOpenSci currently has **{eval}`total_open`** total open submissions.\n",
    "\n",
    "* x of these are in active review\n",
    "* x of these are in pre-review\n",
    "* x of these are being submitted to JOSS\n",
    "* x of these have been approvved and are a part of our ecosystem \n",
    "\n",
    "\n",
    "## Current open reviews & total days open\n"
   ]
  },
  {
   "cell_type": "code",
   "execution_count": 4,
   "metadata": {
    "editable": true,
    "slideshow": {
     "slide_type": ""
    },
    "tags": [
     "remove-input"
    ]
   },
   "outputs": [
    {
     "data": {
      "text/html": [
       "<div>\n",
       "<style scoped>\n",
       "    .dataframe tbody tr th:only-of-type {\n",
       "        vertical-align: middle;\n",
       "    }\n",
       "\n",
       "    .dataframe tbody tr th {\n",
       "        vertical-align: top;\n",
       "    }\n",
       "\n",
       "    .dataframe thead th {\n",
       "        text-align: right;\n",
       "    }\n",
       "</style>\n",
       "<table border=\"1\" class=\"dataframe\">\n",
       "  <thead>\n",
       "    <tr style=\"text-align: right;\">\n",
       "      <th></th>\n",
       "      <th>package_name</th>\n",
       "      <th>created_at</th>\n",
       "      <th>editor</th>\n",
       "      <th>labels</th>\n",
       "      <th>days_open</th>\n",
       "    </tr>\n",
       "  </thead>\n",
       "  <tbody>\n",
       "    <tr>\n",
       "      <th>0</th>\n",
       "      <td>MontePy</td>\n",
       "      <td>2024-07-01</td>\n",
       "      <td>TBD</td>\n",
       "      <td>[0/pre-review-checks, New Submission!]</td>\n",
       "      <td>12</td>\n",
       "    </tr>\n",
       "    <tr>\n",
       "      <th>1</th>\n",
       "      <td>Great Tables</td>\n",
       "      <td>2024-06-14</td>\n",
       "      <td>TBD</td>\n",
       "      <td>[0/seeking-editor]</td>\n",
       "      <td>29</td>\n",
       "    </tr>\n",
       "    <tr>\n",
       "      <th>2</th>\n",
       "      <td>Stingray</td>\n",
       "      <td>2024-06-14</td>\n",
       "      <td>hamogu</td>\n",
       "      <td>[2/seeking-reviewers, astropy]</td>\n",
       "      <td>29</td>\n",
       "    </tr>\n",
       "    <tr>\n",
       "      <th>3</th>\n",
       "      <td>Fluidimage</td>\n",
       "      <td>2024-05-30</td>\n",
       "      <td>TBD</td>\n",
       "      <td>[0/seeking-editor]</td>\n",
       "      <td>44</td>\n",
       "    </tr>\n",
       "    <tr>\n",
       "      <th>4</th>\n",
       "      <td>astrodata</td>\n",
       "      <td>2024-05-13</td>\n",
       "      <td>hamogu</td>\n",
       "      <td>[3/reviewers-assigned, astropy]</td>\n",
       "      <td>61</td>\n",
       "    </tr>\n",
       "    <tr>\n",
       "      <th>5</th>\n",
       "      <td>QuadratiK</td>\n",
       "      <td>2024-05-13</td>\n",
       "      <td>isabelizimm</td>\n",
       "      <td>[1/editor-assigned]</td>\n",
       "      <td>61</td>\n",
       "    </tr>\n",
       "    <tr>\n",
       "      <th>6</th>\n",
       "      <td>PyPartMC</td>\n",
       "      <td>2024-05-03</td>\n",
       "      <td>TBD</td>\n",
       "      <td>[0/seeking-editor]</td>\n",
       "      <td>71</td>\n",
       "    </tr>\n",
       "    <tr>\n",
       "      <th>7</th>\n",
       "      <td>ANDES</td>\n",
       "      <td>2024-04-22</td>\n",
       "      <td>TBD</td>\n",
       "      <td>[0/pre-review-checks, New Submission!, on-hold]</td>\n",
       "      <td>82</td>\n",
       "    </tr>\n",
       "    <tr>\n",
       "      <th>8</th>\n",
       "      <td>CyNetDiff</td>\n",
       "      <td>2024-04-22</td>\n",
       "      <td>sneakers-the-rat</td>\n",
       "      <td>[1/editor-assigned]</td>\n",
       "      <td>83</td>\n",
       "    </tr>\n",
       "    <tr>\n",
       "      <th>9</th>\n",
       "      <td>AMS</td>\n",
       "      <td>2024-04-22</td>\n",
       "      <td>TBD</td>\n",
       "      <td>[2/seeking-reviewers, 1/editor-assigned]</td>\n",
       "      <td>83</td>\n",
       "    </tr>\n",
       "    <tr>\n",
       "      <th>10</th>\n",
       "      <td>pooltool</td>\n",
       "      <td>2024-04-15</td>\n",
       "      <td>cmarmo</td>\n",
       "      <td>[2/seeking-reviewers, 1/editor-assigned]</td>\n",
       "      <td>89</td>\n",
       "    </tr>\n",
       "    <tr>\n",
       "      <th>12</th>\n",
       "      <td>CovPlan</td>\n",
       "      <td>2024-03-25</td>\n",
       "      <td>TBD</td>\n",
       "      <td>[0/pre-review-checks, ⌛ pending-maintainer-res...</td>\n",
       "      <td>110</td>\n",
       "    </tr>\n",
       "    <tr>\n",
       "      <th>13</th>\n",
       "      <td>plot_phylo</td>\n",
       "      <td>2024-02-22</td>\n",
       "      <td>ctb</td>\n",
       "      <td>[2/seeking-reviewers, 3/reviewers-assigned, 1/...</td>\n",
       "      <td>142</td>\n",
       "    </tr>\n",
       "    <tr>\n",
       "      <th>14</th>\n",
       "      <td>PetroFit</td>\n",
       "      <td>2024-02-16</td>\n",
       "      <td>dhomeier</td>\n",
       "      <td>[2/seeking-reviewers, 1/editor-assigned, astropy]</td>\n",
       "      <td>148</td>\n",
       "    </tr>\n",
       "    <tr>\n",
       "      <th>15</th>\n",
       "      <td>harmonize-wq</td>\n",
       "      <td>2024-02-08</td>\n",
       "      <td>Batalex</td>\n",
       "      <td>[4/reviews-in-awaiting-changes, on-hold]</td>\n",
       "      <td>156</td>\n",
       "    </tr>\n",
       "    <tr>\n",
       "      <th>16</th>\n",
       "      <td>disdrodb</td>\n",
       "      <td>2024-01-18</td>\n",
       "      <td>zeitsperre</td>\n",
       "      <td>[1/editor-assigned]</td>\n",
       "      <td>177</td>\n",
       "    </tr>\n",
       "    <tr>\n",
       "      <th>17</th>\n",
       "      <td>Plenoptic</td>\n",
       "      <td>2023-11-17</td>\n",
       "      <td>sneakers-the-rat</td>\n",
       "      <td>[3/reviewers-assigned, ⌛ pending-maintainer-re...</td>\n",
       "      <td>239</td>\n",
       "    </tr>\n",
       "    <tr>\n",
       "      <th>18</th>\n",
       "      <td>sourmash</td>\n",
       "      <td>2023-08-14</td>\n",
       "      <td>snacktavish Emily Jane McTavish</td>\n",
       "      <td>[6/pyOS-approved, 7/under-joss-review]</td>\n",
       "      <td>334</td>\n",
       "    </tr>\n",
       "    <tr>\n",
       "      <th>19</th>\n",
       "      <td>GemGIS</td>\n",
       "      <td>2023-08-08</td>\n",
       "      <td>yeelauren</td>\n",
       "      <td>[4/reviews-in-awaiting-changes, ⌛ pending-main...</td>\n",
       "      <td>340</td>\n",
       "    </tr>\n",
       "  </tbody>\n",
       "</table>\n",
       "</div>"
      ],
      "text/plain": [
       "    package_name  created_at                           editor  \\\n",
       "0        MontePy  2024-07-01                              TBD   \n",
       "1   Great Tables  2024-06-14                              TBD   \n",
       "2       Stingray  2024-06-14                           hamogu   \n",
       "3     Fluidimage  2024-05-30                              TBD   \n",
       "4      astrodata  2024-05-13                           hamogu   \n",
       "5      QuadratiK  2024-05-13                      isabelizimm   \n",
       "6       PyPartMC  2024-05-03                              TBD   \n",
       "7          ANDES  2024-04-22                              TBD   \n",
       "8      CyNetDiff  2024-04-22                 sneakers-the-rat   \n",
       "9            AMS  2024-04-22                              TBD   \n",
       "10      pooltool  2024-04-15                           cmarmo   \n",
       "12       CovPlan  2024-03-25                              TBD   \n",
       "13    plot_phylo  2024-02-22                              ctb   \n",
       "14      PetroFit  2024-02-16                         dhomeier   \n",
       "15  harmonize-wq  2024-02-08                          Batalex   \n",
       "16      disdrodb  2024-01-18                       zeitsperre   \n",
       "17     Plenoptic  2023-11-17                 sneakers-the-rat   \n",
       "18      sourmash  2023-08-14  snacktavish Emily Jane McTavish   \n",
       "19        GemGIS  2023-08-08                        yeelauren   \n",
       "\n",
       "                                               labels  days_open  \n",
       "0              [0/pre-review-checks, New Submission!]         12  \n",
       "1                                  [0/seeking-editor]         29  \n",
       "2                      [2/seeking-reviewers, astropy]         29  \n",
       "3                                  [0/seeking-editor]         44  \n",
       "4                     [3/reviewers-assigned, astropy]         61  \n",
       "5                                 [1/editor-assigned]         61  \n",
       "6                                  [0/seeking-editor]         71  \n",
       "7     [0/pre-review-checks, New Submission!, on-hold]         82  \n",
       "8                                 [1/editor-assigned]         83  \n",
       "9            [2/seeking-reviewers, 1/editor-assigned]         83  \n",
       "10           [2/seeking-reviewers, 1/editor-assigned]         89  \n",
       "12  [0/pre-review-checks, ⌛ pending-maintainer-res...        110  \n",
       "13  [2/seeking-reviewers, 3/reviewers-assigned, 1/...        142  \n",
       "14  [2/seeking-reviewers, 1/editor-assigned, astropy]        148  \n",
       "15           [4/reviews-in-awaiting-changes, on-hold]        156  \n",
       "16                                [1/editor-assigned]        177  \n",
       "17  [3/reviewers-assigned, ⌛ pending-maintainer-re...        239  \n",
       "18             [6/pyOS-approved, 7/under-joss-review]        334  \n",
       "19  [4/reviews-in-awaiting-changes, ⌛ pending-main...        340  "
      ]
     },
     "execution_count": 4,
     "metadata": {},
     "output_type": "execute_result"
    }
   ],
   "source": [
    "reviews_df = pd.DataFrame(review_table)\n",
    "open_reviews = reviews_df[reviews_df[\"date_closed\"].isna()]\n",
    "\n",
    "today = datetime.now(timezone.utc)\n",
    "open_reviews[\"days_open\"] = (today - open_reviews[\"created_at\"]).dt.days\n",
    "open_reviews.drop(columns=[\"date_closed\"], inplace=True)\n",
    "open_reviews[\"created_at\"] = open_reviews[\"created_at\"].dt.date\n",
    "open_reviews"
   ]
  },
  {
   "cell_type": "code",
   "execution_count": 5,
   "metadata": {
    "editable": true,
    "slideshow": {
     "slide_type": ""
    },
    "tags": [
     "remove-input"
    ]
   },
   "outputs": [],
   "source": [
    "# Get Presubmission inquiries\n",
    "gh_presubmissions = GitHubAPI(\n",
    "    org=\"pyopensci\", repo=\"software-submission\", labels=[\"presubmission\"]\n",
    ")\n",
    "process_review = ProcessIssues(gh_presubmissions)\n",
    "pre_issues = process_review.get_issues()\n",
    "pre_submissions, errors = process_review.parse_issues(pre_issues)\n",
    "pre_submission_table = [\n",
    "    {\n",
    "        \"package_name\": name,\n",
    "        \"created_at\": review.created_at,\n",
    "        \"date_closed\": review.closed_at,\n",
    "        \"labels\": review.labels,\n",
    "    }\n",
    "    for name, review in pre_submissions.items()\n",
    "]"
   ]
  },
  {
   "cell_type": "code",
   "execution_count": 6,
   "metadata": {
    "editable": true,
    "slideshow": {
     "slide_type": ""
    },
    "tags": [
     "remove-input"
    ]
   },
   "outputs": [],
   "source": [
    "presubmission_df = pd.DataFrame(pre_submission_table)\n",
    "all_presubmissions = len(presubmission_df)"
   ]
  },
  {
   "cell_type": "markdown",
   "metadata": {
    "user_expressions": [
     {
      "expression": "all_presubmissions",
      "result": {
       "data": {
        "text/plain": "52"
       },
       "metadata": {},
       "status": "ok"
      }
     }
    ]
   },
   "source": [
    "## All presubmissions\n",
    "\n",
    "There are **{eval}`all_presubmissions`** total presubmissions to date, including closed presubmissions. "
   ]
  },
  {
   "cell_type": "code",
   "execution_count": 15,
   "metadata": {
    "editable": true,
    "slideshow": {
     "slide_type": ""
    },
    "tags": [
     "remove-input"
    ]
   },
   "outputs": [],
   "source": [
    "# Get all currently open presubmissions\n",
    "open_presubmissions = presubmission_df[presubmission_df[\"date_closed\"].isna()]\n",
    "today = datetime.now(timezone.utc)\n",
    "open_presubmissions[\"days_open\"] = (today - open_presubmissions[\"created_at\"]).dt.days\n",
    "open_presubmissions[\"created_at\"] = open_presubmissions[\"created_at\"].dt.date\n",
    "open_presubmissions.reset_index(drop=True, inplace=True)\n",
    "\n",
    "total_open = len(open_presubmissions)\n",
    "\n",
    "# Stylize table columns\n",
    "open_presubmissions.sort_values(by=\"created_at\", ascending=False, inplace=True)\n",
    "open_presubmissions.drop(columns=[\"date_closed\"], inplace=True)"
   ]
  },
  {
   "cell_type": "markdown",
   "metadata": {
    "editable": true,
    "slideshow": {
     "slide_type": ""
    },
    "tags": [],
    "user_expressions": [
     {
      "expression": "total_open",
      "result": {
       "data": {
        "text/plain": "3"
       },
       "metadata": {},
       "status": "ok"
      }
     }
    ]
   },
   "source": [
    "## Currently open software presubmission inquiries\n",
    "\n",
    "* It could be useful to grab the most recent comments on each\n",
    "* It would also be useful to grab the gh usernames of all people involved in the discussion and credit them. So for one i see astropy editors + alex being involved.\n",
    "\n",
    "There are **{eval}`total_open` presubmission requests** currently open. "
   ]
  },
  {
   "cell_type": "code",
   "execution_count": 8,
   "metadata": {
    "tags": [
     "remove-input"
    ]
   },
   "outputs": [
    {
     "data": {
      "text/html": [
       "<style type=\"text/css\">\n",
       "</style>\n",
       "<table id=\"T_9497b\">\n",
       "  <thead>\n",
       "    <tr>\n",
       "      <th class=\"blank level0\" >&nbsp;</th>\n",
       "      <th id=\"T_9497b_level0_col0\" class=\"col_heading level0 col0\" >package_name</th>\n",
       "      <th id=\"T_9497b_level0_col1\" class=\"col_heading level0 col1\" >created_at</th>\n",
       "      <th id=\"T_9497b_level0_col3\" class=\"col_heading level0 col3\" >labels</th>\n",
       "      <th id=\"T_9497b_level0_col4\" class=\"col_heading level0 col4\" >days_open</th>\n",
       "    </tr>\n",
       "  </thead>\n",
       "  <tbody>\n",
       "    <tr>\n",
       "      <th id=\"T_9497b_level0_row0\" class=\"row_heading level0 row0\" >0</th>\n",
       "      <td id=\"T_9497b_row0_col0\" class=\"data row0 col0\" >Solar Data Tools</td>\n",
       "      <td id=\"T_9497b_row0_col1\" class=\"data row0 col1\" >2024-06-28</td>\n",
       "      <td id=\"T_9497b_row0_col3\" class=\"data row0 col3\" >['presubmission']</td>\n",
       "      <td id=\"T_9497b_row0_col4\" class=\"data row0 col4\" >15</td>\n",
       "    </tr>\n",
       "    <tr>\n",
       "      <th id=\"T_9497b_level0_row1\" class=\"row_heading level0 row1\" >1</th>\n",
       "      <td id=\"T_9497b_row1_col0\" class=\"data row1 col0\" >gentropy</td>\n",
       "      <td id=\"T_9497b_row1_col1\" class=\"data row1 col1\" >2024-05-24</td>\n",
       "      <td id=\"T_9497b_row1_col3\" class=\"data row1 col3\" >['presubmission']</td>\n",
       "      <td id=\"T_9497b_row1_col4\" class=\"data row1 col4\" >50</td>\n",
       "    </tr>\n",
       "    <tr>\n",
       "      <th id=\"T_9497b_level0_row2\" class=\"row_heading level0 row2\" >2</th>\n",
       "      <td id=\"T_9497b_row2_col0\" class=\"data row2 col0\" >GALAssify</td>\n",
       "      <td id=\"T_9497b_row2_col1\" class=\"data row2 col1\" >2024-05-24</td>\n",
       "      <td id=\"T_9497b_row2_col3\" class=\"data row2 col3\" >['presubmission']</td>\n",
       "      <td id=\"T_9497b_row2_col4\" class=\"data row2 col4\" >50</td>\n",
       "    </tr>\n",
       "  </tbody>\n",
       "</table>\n"
      ],
      "text/plain": [
       "<pandas.io.formats.style.Styler at 0x13eec29d0>"
      ]
     },
     "execution_count": 8,
     "metadata": {},
     "output_type": "execute_result"
    }
   ],
   "source": [
    "# Render table of strictly open presubmissions\n",
    "open_presubmissions"
   ]
  },
  {
   "cell_type": "markdown",
   "metadata": {
    "editable": true,
    "slideshow": {
     "slide_type": ""
    },
    "tags": [],
    "user_expressions": [
     {
      "expression": "total_open",
      "result": {
       "data": {
        "text/plain": "3"
       },
       "metadata": {},
       "status": "ok"
      }
     }
    ]
   },
   "source": [
    "## Current open software review submissions \n",
    "\n",
    "Next we explore the currently open issues.\n",
    "\n"
   ]
  },
  {
   "cell_type": "markdown",
   "metadata": {},
   "source": [
    "## Available editors"
   ]
  },
  {
   "cell_type": "code",
   "execution_count": 9,
   "metadata": {
    "editable": true,
    "slideshow": {
     "slide_type": ""
    },
    "tags": [
     "remove-input"
    ]
   },
   "outputs": [],
   "source": [
    "# Static list of all editors, updated 7/13/2024\n",
    "# TODO: get this list of current editors dynamically\n",
    "all_editors = [\n",
    "    \"cmarmo\",\n",
    "    \"dhomeier\",\n",
    "    \"ocefpaf\",\n",
    "    \"NikleDave\",\n",
    "    \"SimonMolinsky\",\n",
    "    \"Batalex\",\n",
    "    \"sneakers-the-rat\",\n",
    "    \"tomalrussel\",\n",
    "    \"ctb\",\n",
    "    \"mjhajharia\",\n",
    "    \"hamogu\",\n",
    "    \"isabelizimm\",\n",
    "    \"yeelauren\",\n",
    "    \"banesullivan\",\n",
    "]\n",
    "submissions_per_editor = {}\n",
    "for editor in all_editors:\n",
    "    submissions_per_editor[editor] = 0\n",
    "\n",
    "# Get table of editors who are currently assigned to an open submission\n",
    "busy_editors = open_reviews.drop(open_reviews[open_reviews.editor == \"TBD\"].index)\n",
    "busy_editors = busy_editors[\"editor\"]\n",
    "\n",
    "# Populate dictionary of number of open submissions per editor\n",
    "for editor in busy_editors:\n",
    "    if not (editor in submissions_per_editor):\n",
    "        submissions_per_editor[editor] = 0\n",
    "        # Add new editor to current editor list\n",
    "        # for debugging only, TODO: output to error log\n",
    "        # print(\"Editor\", editor, \"has an assigned project but is not in master list of editors\")\n",
    "\n",
    "    submissions_per_editor[editor] = submissions_per_editor[editor] + 1\n",
    "\n",
    "# Render table of all editors and their number of open submissions\n",
    "editor_activity_df = pd.DataFrame(\n",
    "    list(submissions_per_editor.items()), columns=[\"editor\", \"num_submissions\"]\n",
    ")\n",
    "editor_activity_df = editor_activity_df.sort_values(by=\"num_submissions\")\n",
    "editor_activity_df.reset_index(drop=True, inplace=True)\n",
    "\n",
    "# Get counts of available and unavailable editors\n",
    "num_busy_editors = editor_activity_df[editor_activity_df[\"num_submissions\"] > 0].shape[\n",
    "    0\n",
    "]\n",
    "num_available_editors = len(editor_activity_df) - num_busy_editors"
   ]
  },
  {
   "cell_type": "markdown",
   "metadata": {
    "user_expressions": [
     {
      "expression": "num_available_editors",
      "result": {
       "data": {
        "text/plain": "6"
       },
       "metadata": {},
       "status": "ok"
      }
     },
     {
      "expression": "num_busy_editors",
      "result": {
       "data": {
        "text/plain": "10"
       },
       "metadata": {},
       "status": "ok"
      }
     }
    ]
   },
   "source": [
    "There are currently **{eval}`num_available_editors` available editors** and **{eval}`num_busy_editors` editors who are assigned to a submission**.\n"
   ]
  },
  {
   "cell_type": "code",
   "execution_count": 10,
   "metadata": {
    "tags": [
     "remove-input"
    ]
   },
   "outputs": [
    {
     "data": {
      "text/html": [
       "<div>\n",
       "<style scoped>\n",
       "    .dataframe tbody tr th:only-of-type {\n",
       "        vertical-align: middle;\n",
       "    }\n",
       "\n",
       "    .dataframe tbody tr th {\n",
       "        vertical-align: top;\n",
       "    }\n",
       "\n",
       "    .dataframe thead th {\n",
       "        text-align: right;\n",
       "    }\n",
       "</style>\n",
       "<table border=\"1\" class=\"dataframe\">\n",
       "  <thead>\n",
       "    <tr style=\"text-align: right;\">\n",
       "      <th></th>\n",
       "      <th>editor</th>\n",
       "      <th>num_submissions</th>\n",
       "    </tr>\n",
       "  </thead>\n",
       "  <tbody>\n",
       "    <tr>\n",
       "      <th>0</th>\n",
       "      <td>ocefpaf</td>\n",
       "      <td>0</td>\n",
       "    </tr>\n",
       "    <tr>\n",
       "      <th>1</th>\n",
       "      <td>NikleDave</td>\n",
       "      <td>0</td>\n",
       "    </tr>\n",
       "    <tr>\n",
       "      <th>2</th>\n",
       "      <td>SimonMolinsky</td>\n",
       "      <td>0</td>\n",
       "    </tr>\n",
       "    <tr>\n",
       "      <th>3</th>\n",
       "      <td>tomalrussel</td>\n",
       "      <td>0</td>\n",
       "    </tr>\n",
       "    <tr>\n",
       "      <th>4</th>\n",
       "      <td>mjhajharia</td>\n",
       "      <td>0</td>\n",
       "    </tr>\n",
       "    <tr>\n",
       "      <th>5</th>\n",
       "      <td>banesullivan</td>\n",
       "      <td>0</td>\n",
       "    </tr>\n",
       "    <tr>\n",
       "      <th>6</th>\n",
       "      <td>cmarmo</td>\n",
       "      <td>1</td>\n",
       "    </tr>\n",
       "    <tr>\n",
       "      <th>7</th>\n",
       "      <td>dhomeier</td>\n",
       "      <td>1</td>\n",
       "    </tr>\n",
       "    <tr>\n",
       "      <th>8</th>\n",
       "      <td>Batalex</td>\n",
       "      <td>1</td>\n",
       "    </tr>\n",
       "    <tr>\n",
       "      <th>9</th>\n",
       "      <td>ctb</td>\n",
       "      <td>1</td>\n",
       "    </tr>\n",
       "    <tr>\n",
       "      <th>10</th>\n",
       "      <td>isabelizimm</td>\n",
       "      <td>1</td>\n",
       "    </tr>\n",
       "    <tr>\n",
       "      <th>11</th>\n",
       "      <td>yeelauren</td>\n",
       "      <td>1</td>\n",
       "    </tr>\n",
       "    <tr>\n",
       "      <th>12</th>\n",
       "      <td>zeitsperre</td>\n",
       "      <td>1</td>\n",
       "    </tr>\n",
       "    <tr>\n",
       "      <th>13</th>\n",
       "      <td>snacktavish Emily Jane McTavish</td>\n",
       "      <td>1</td>\n",
       "    </tr>\n",
       "    <tr>\n",
       "      <th>14</th>\n",
       "      <td>sneakers-the-rat</td>\n",
       "      <td>2</td>\n",
       "    </tr>\n",
       "    <tr>\n",
       "      <th>15</th>\n",
       "      <td>hamogu</td>\n",
       "      <td>2</td>\n",
       "    </tr>\n",
       "  </tbody>\n",
       "</table>\n",
       "</div>"
      ],
      "text/plain": [
       "                             editor  num_submissions\n",
       "0                           ocefpaf                0\n",
       "1                         NikleDave                0\n",
       "2                     SimonMolinsky                0\n",
       "3                       tomalrussel                0\n",
       "4                        mjhajharia                0\n",
       "5                      banesullivan                0\n",
       "6                            cmarmo                1\n",
       "7                          dhomeier                1\n",
       "8                           Batalex                1\n",
       "9                               ctb                1\n",
       "10                      isabelizimm                1\n",
       "11                        yeelauren                1\n",
       "12                       zeitsperre                1\n",
       "13  snacktavish Emily Jane McTavish                1\n",
       "14                 sneakers-the-rat                2\n",
       "15                           hamogu                2"
      ]
     },
     "execution_count": 10,
     "metadata": {},
     "output_type": "execute_result"
    }
   ],
   "source": [
    "# Display editor table\n",
    "editor_activity_df"
   ]
  },
  {
   "cell_type": "code",
   "execution_count": 11,
   "metadata": {
    "editable": true,
    "slideshow": {
     "slide_type": ""
    },
    "tags": []
   },
   "outputs": [],
   "source": [
    "# Get all currently closed / approved issues\n",
    "\n",
    "# calculate time that they were in review."
   ]
  }
 ],
 "metadata": {
  "kernelspec": {
   "display_name": "Python 3 (ipykernel)",
   "language": "python",
   "name": "python3"
  },
  "language_info": {
   "codemirror_mode": {
    "name": "ipython",
    "version": 3
   },
   "file_extension": ".py",
   "mimetype": "text/x-python",
   "name": "python",
   "nbconvert_exporter": "python",
   "pygments_lexer": "ipython3",
   "version": "3.11.9"
  },
  "vscode": {
   "interpreter": {
    "hash": "d7b89e158b719c02a21186c9646700ecf5a8cc5b1b6f738df9b6ffa75e5e74e4"
   }
  }
 },
 "nbformat": 4,
 "nbformat_minor": 4
}
